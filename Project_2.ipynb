{
  "nbformat": 4,
  "nbformat_minor": 0,
  "metadata": {
    "colab": {
      "name": "Fintech Project 2 Notebook",
      "provenance": [],
      "collapsed_sections": [],
      "include_colab_link": true
    },
    "kernelspec": {
      "name": "python3",
      "display_name": "Python 3",
      "language": "python"
    },
    "language_info": {
      "name": "python",
      "version": "3.7.9"
    }
  },
  "cells": [
    {
      "cell_type": "markdown",
      "metadata": {
        "id": "view-in-github",
        "colab_type": "text"
      },
      "source": [
        "<a href=\"https://colab.research.google.com/github/lfarlima/Project-2/blob/main/Project_2.ipynb\" target=\"_parent\"><img src=\"https://colab.research.google.com/assets/colab-badge.svg\" alt=\"Open In Colab\"/></a>"
      ]
    },
    {
      "cell_type": "markdown",
      "metadata": {
        "id": "JaVkHMLGVW4u"
      },
      "source": [
        "##Imports and Dependencies "
      ]
    },
    {
      "cell_type": "code",
      "metadata": {
        "id": "Rs2pBM-Sunff",
        "colab": {
          "base_uri": "https://localhost:8080/"
        },
        "outputId": "6612843c-f4b5-4ac5-faf9-5c057ecc2757"
      },
      "source": [
        "!pip install yfinance"
      ],
      "execution_count": null,
      "outputs": [
        {
          "output_type": "stream",
          "text": [
            "Collecting yfinance\n",
            "  Downloading https://files.pythonhosted.org/packages/a7/ee/315752b9ef281ba83c62aa7ec2e2074f85223da6e7e74efb4d3e11c0f510/yfinance-0.1.59.tar.gz\n",
            "Requirement already satisfied: pandas>=0.24 in /usr/local/lib/python3.7/dist-packages (from yfinance) (1.1.5)\n",
            "Requirement already satisfied: numpy>=1.15 in /usr/local/lib/python3.7/dist-packages (from yfinance) (1.19.5)\n",
            "Requirement already satisfied: requests>=2.20 in /usr/local/lib/python3.7/dist-packages (from yfinance) (2.23.0)\n",
            "Requirement already satisfied: multitasking>=0.0.7 in /usr/local/lib/python3.7/dist-packages (from yfinance) (0.0.9)\n",
            "Collecting lxml>=4.5.1\n",
            "\u001b[?25l  Downloading https://files.pythonhosted.org/packages/cf/4d/6537313bf58fe22b508f08cf3eb86b29b6f9edf68e00454224539421073b/lxml-4.6.3-cp37-cp37m-manylinux1_x86_64.whl (5.5MB)\n",
            "\u001b[K     |████████████████████████████████| 5.5MB 12.5MB/s \n",
            "\u001b[?25hRequirement already satisfied: python-dateutil>=2.7.3 in /usr/local/lib/python3.7/dist-packages (from pandas>=0.24->yfinance) (2.8.1)\n",
            "Requirement already satisfied: pytz>=2017.2 in /usr/local/lib/python3.7/dist-packages (from pandas>=0.24->yfinance) (2018.9)\n",
            "Requirement already satisfied: idna<3,>=2.5 in /usr/local/lib/python3.7/dist-packages (from requests>=2.20->yfinance) (2.10)\n",
            "Requirement already satisfied: urllib3!=1.25.0,!=1.25.1,<1.26,>=1.21.1 in /usr/local/lib/python3.7/dist-packages (from requests>=2.20->yfinance) (1.24.3)\n",
            "Requirement already satisfied: certifi>=2017.4.17 in /usr/local/lib/python3.7/dist-packages (from requests>=2.20->yfinance) (2020.12.5)\n",
            "Requirement already satisfied: chardet<4,>=3.0.2 in /usr/local/lib/python3.7/dist-packages (from requests>=2.20->yfinance) (3.0.4)\n",
            "Requirement already satisfied: six>=1.5 in /usr/local/lib/python3.7/dist-packages (from python-dateutil>=2.7.3->pandas>=0.24->yfinance) (1.15.0)\n",
            "Building wheels for collected packages: yfinance\n",
            "  Building wheel for yfinance (setup.py) ... \u001b[?25l\u001b[?25hdone\n",
            "  Created wheel for yfinance: filename=yfinance-0.1.59-py2.py3-none-any.whl size=23442 sha256=98ae46499a4a77664d2b2938cd0b82cc471ec644f547dc0c3a89ebe725969fde\n",
            "  Stored in directory: /root/.cache/pip/wheels/f8/2a/0f/4b5a86e1d52e451757eb6bc17fd899629f0925c777741b6d04\n",
            "Successfully built yfinance\n",
            "Installing collected packages: lxml, yfinance\n",
            "  Found existing installation: lxml 4.2.6\n",
            "    Uninstalling lxml-4.2.6:\n",
            "      Successfully uninstalled lxml-4.2.6\n",
            "Successfully installed lxml-4.6.3 yfinance-0.1.59\n"
          ],
          "name": "stdout"
        }
      ]
    },
    {
      "cell_type": "code",
      "metadata": {
        "id": "66LePzZ6-uEa",
        "colab": {
          "base_uri": "https://localhost:8080/"
        },
        "outputId": "bf2d3e49-e39c-4c43-a0f7-4ece379d47ab"
      },
      "source": [
        "!pip install ibm_watson"
      ],
      "execution_count": null,
      "outputs": [
        {
          "output_type": "stream",
          "text": [
            "Collecting ibm_watson\n",
            "\u001b[?25l  Downloading https://files.pythonhosted.org/packages/9b/88/395d7d52df29f321ae1150cf9b5a71cef8611570230502597c427bc1e9d9/ibm-watson-5.1.0.tar.gz (382kB)\n",
            "\u001b[K     |████████████████████████████████| 389kB 8.2MB/s \n",
            "\u001b[?25hRequirement already satisfied: requests<3.0,>=2.0 in /usr/local/lib/python3.7/dist-packages (from ibm_watson) (2.23.0)\n",
            "Requirement already satisfied: python_dateutil>=2.5.3 in /usr/local/lib/python3.7/dist-packages (from ibm_watson) (2.8.1)\n",
            "Collecting websocket-client==0.48.0\n",
            "\u001b[?25l  Downloading https://files.pythonhosted.org/packages/8a/a1/72ef9aa26cfe1a75cee09fc1957e4723add9de098c15719416a1ee89386b/websocket_client-0.48.0-py2.py3-none-any.whl (198kB)\n",
            "\u001b[K     |████████████████████████████████| 204kB 14.2MB/s \n",
            "\u001b[?25hCollecting ibm_cloud_sdk_core>=3.3.6\n",
            "  Downloading https://files.pythonhosted.org/packages/dd/24/ba1f1ac7e6dad5efe88362fe9fcf548f7104daf3ed4ec2333b2ae35a7a21/ibm-cloud-sdk-core-3.9.0.tar.gz\n",
            "Requirement already satisfied: certifi>=2017.4.17 in /usr/local/lib/python3.7/dist-packages (from requests<3.0,>=2.0->ibm_watson) (2020.12.5)\n",
            "Requirement already satisfied: chardet<4,>=3.0.2 in /usr/local/lib/python3.7/dist-packages (from requests<3.0,>=2.0->ibm_watson) (3.0.4)\n",
            "Requirement already satisfied: urllib3!=1.25.0,!=1.25.1,<1.26,>=1.21.1 in /usr/local/lib/python3.7/dist-packages (from requests<3.0,>=2.0->ibm_watson) (1.24.3)\n",
            "Requirement already satisfied: idna<3,>=2.5 in /usr/local/lib/python3.7/dist-packages (from requests<3.0,>=2.0->ibm_watson) (2.10)\n",
            "Requirement already satisfied: six>=1.5 in /usr/local/lib/python3.7/dist-packages (from python_dateutil>=2.5.3->ibm_watson) (1.15.0)\n",
            "Collecting PyJWT<3.0.0,>=2.0.1\n",
            "  Downloading https://files.pythonhosted.org/packages/b4/9b/8850f99027ed029af6828199cc87179eaccbbf1f9e6e373e7f0177d32dad/PyJWT-2.0.1-py3-none-any.whl\n",
            "Building wheels for collected packages: ibm-watson, ibm-cloud-sdk-core\n",
            "  Building wheel for ibm-watson (setup.py) ... \u001b[?25l\u001b[?25hdone\n",
            "  Created wheel for ibm-watson: filename=ibm_watson-5.1.0-cp37-none-any.whl size=375439 sha256=218509c8cbf4fad51e9b4b57b96c686714954aa30552d8ca01e9490bfa433b18\n",
            "  Stored in directory: /root/.cache/pip/wheels/49/6d/cf/1d91261b96363da78bf9b02699fd2262e6b5dad179500690c1\n",
            "  Building wheel for ibm-cloud-sdk-core (setup.py) ... \u001b[?25l\u001b[?25hdone\n",
            "  Created wheel for ibm-cloud-sdk-core: filename=ibm_cloud_sdk_core-3.9.0-cp37-none-any.whl size=59612 sha256=38e04d735a3cf508bcf08efe19acc6a4628465eb46b66b3548abe02bf6f967fc\n",
            "  Stored in directory: /root/.cache/pip/wheels/a2/23/f2/ae9db79b4234ed0fc74bf00bc97bcd16440ab2764c5f443167\n",
            "Successfully built ibm-watson ibm-cloud-sdk-core\n",
            "Installing collected packages: websocket-client, PyJWT, ibm-cloud-sdk-core, ibm-watson\n",
            "Successfully installed PyJWT-2.0.1 ibm-cloud-sdk-core-3.9.0 ibm-watson-5.1.0 websocket-client-0.48.0\n"
          ],
          "name": "stdout"
        }
      ]
    },
    {
      "cell_type": "code",
      "metadata": {
        "id": "T5ra-jqchjzO",
        "colab": {
          "base_uri": "https://localhost:8080/"
        },
        "outputId": "572c69e7-0efa-466b-8328-bc649f4b154c"
      },
      "source": [
        "#imports\n",
        "import os\n",
        "import pandas as pd\n",
        "import matplotlib.pyplot as plt\n",
        "import numpy as np\n",
        "import nltk\n",
        "from nltk.sentiment.vader import SentimentIntensityAnalyzer\n",
        "analyzer=SentimentIntensityAnalyzer\n",
        "\n",
        "import yfinance as yf # Stock data\n",
        "from numpy.random import seed\n",
        "seed (1)\n",
        "from tensorflow import random\n",
        "random.set_seed(2)\n",
        "\n",
        "from nltk.corpus import stopwords, reuters\n",
        "from nltk.tokenize import word_tokenize\n",
        "from nltk.stem import WordNetLemmatizer\n",
        "from wordcloud import WordCloud, STOPWORDS\n",
        "import matplotlib.pyplot as plt\n",
        "import json\n",
        "from pandas import json_normalize\n",
        "\n",
        "# Code to download corpora\n",
        "import nltk\n",
        "nltk.download('wordnet')\n",
        "nltk.download('reuters')\n",
        "nltk.download('stopwords')\n",
        "nltk.download('punkt')\n",
        "\n",
        "\n",
        "lemmatizer = WordNetLemmatizer()\n",
        "\n",
        "api_key = \"0ef1c61926f54984abcca4338225fd66\"\n",
        "\n",
        "# Download/Update the VADER Lexicon\n",
        "nltk.download('vader_lexicon')\n",
        "\n",
        "# Initialize the VADER sentiment analyzer\n",
        "analyzer = SentimentIntensityAnalyzer()\n",
        "\n",
        "# Get the Tone Analyzer API Key and URL\n",
        "tone_api = \"zFumggLvdanjWjbKKqYfOetZc3Nu1PAaVJHVmc5FRt8t\"\n",
        "\n",
        "tone_url = \"https://api.us-south.tone-analyzer.watson.cloud.ibm.com/instances/300fde5a-3dd1-4864-8a3d-1b8b626f35a9\"\n",
        "\n",
        "# Initialize Tone Analyser Client\n",
        "# Create authentication object\n",
        "from ibm_cloud_sdk_core.authenticators import IAMAuthenticator\n",
        "authenticator = IAMAuthenticator(tone_api)\n",
        "from ibm_watson import ToneAnalyzerV3\n",
        "\n",
        "# Create tone_analyzer instance\n",
        "tone_analyzer = ToneAnalyzerV3(\n",
        "    version=\"2017-09-21\",\n",
        "    authenticator=authenticator\n",
        ")\n",
        "\n",
        "# Set the service endpoint\n",
        "tone_analyzer.set_service_url(tone_url)"
      ],
      "execution_count": null,
      "outputs": [
        {
          "output_type": "stream",
          "text": [
            "[nltk_data] Downloading package wordnet to /root/nltk_data...\n",
            "[nltk_data]   Package wordnet is already up-to-date!\n",
            "[nltk_data] Downloading package reuters to /root/nltk_data...\n",
            "[nltk_data]   Package reuters is already up-to-date!\n",
            "[nltk_data] Downloading package stopwords to /root/nltk_data...\n",
            "[nltk_data]   Package stopwords is already up-to-date!\n",
            "[nltk_data] Downloading package punkt to /root/nltk_data...\n",
            "[nltk_data]   Package punkt is already up-to-date!\n",
            "[nltk_data] Downloading package vader_lexicon to /root/nltk_data...\n",
            "[nltk_data]   Package vader_lexicon is already up-to-date!\n"
          ],
          "name": "stdout"
        }
      ]
    },
    {
      "cell_type": "markdown",
      "metadata": {
        "id": "qRKKpH4gkKjZ"
      },
      "source": [
        "## Twitter Tweet's VADER sentiment analysis "
      ]
    },
    {
      "cell_type": "code",
      "metadata": {
        "id": "zsnkthtwiIW1"
      },
      "source": [
        "## This section is for proof of work. Not meant to be run\n",
        "\n",
        "# pip install nest_asyncio\n",
        "\n",
        "# pip install --upgrade git+https://github.com/twintproject/twint.git@origin/master#egg=twint\n",
        "\n",
        "# import twint\n",
        "# import nest_asyncio\n",
        "# nest_asyncio.apply()\n",
        "# c= twint.Config()\n",
        "# c.Search= \"$DOT\" or \"DOT.X\"\n",
        "# c.Since= \"2020-09-29\"\n",
        "# c.Until = '2021-04-04'\n",
        "# # c.Limit= 1000\n",
        "# c.Lang= \"en\"\n",
        "# c.Store_csv= True\n",
        "# c.Output= \"Search.csv\"\n",
        "\n",
        "# twint.run.Search(c)\n",
        "\n",
        "\n",
        "# df = pd.read_csv('Search.csv', encoding=\"utf-8-sig\")\n",
        "# df= df[[\"id\", \"created_at\", \"tweet\", \"language\"]]\n",
        "# df=df.loc[df[\"language\"]==\"en\"]\n",
        "# df=df.rename(columns={\"id\": \"ID\", \"created_at\": \"Date\", \"tweet\": \"Tweet\"})\n",
        "# df=df.drop([\"language\"], axis=1)\n",
        "# #need to standardize time \n",
        "# # df=df.set_index(\"Date\")\n",
        "# df.shape"
      ],
      "execution_count": null,
      "outputs": []
    },
    {
      "cell_type": "code",
      "metadata": {
        "id": "kFJ5gAXxgjqt",
        "colab": {
          "base_uri": "https://localhost:8080/"
        },
        "outputId": "a28d3e2f-6d6d-4663-d3aa-614e4d36e370"
      },
      "source": [
        "## NEED TO UPLOAD FILES INSTEAD\n",
        "# import local csv to colab\n",
        "# from google.colab import files\n",
        "# uploaded = files.upload()\n",
        "\n",
        "\n",
        "#Meant to be used for jupyter notebook \n",
        "pltr_twitter_df = pd.read_csv('/content/pltr_twitter_df.csv', parse_dates=True, infer_datetime_format=True)"
      ],
      "execution_count": 35,
      "outputs": [
        {
          "output_type": "stream",
          "text": [
            "/usr/local/lib/python3.7/dist-packages/IPython/core/interactiveshell.py:2718: DtypeWarning: Columns (1) have mixed types.Specify dtype option on import or set low_memory=False.\n",
            "  interactivity=interactivity, compiler=compiler, result=result)\n"
          ],
          "name": "stderr"
        }
      ]
    },
    {
      "cell_type": "code",
      "metadata": {
        "id": "iErUOtzFlXU_",
        "colab": {
          "base_uri": "https://localhost:8080/",
          "height": 204
        },
        "outputId": "28f51c33-55d1-4c89-af9c-5c30ac82395f"
      },
      "source": [
        "pltr_twitter_df=pltr_twitter_df.sort_values(‘Date’)\n",
        "pltr_twitter_df[‘Date’] = pd.to_datetime(pltr_twitter_df[‘Date’]).dt.date\n",
        "pltr_twitter_df.head()"
      ],
      "execution_count": null,
      "outputs": [
        {
          "output_type": "execute_result",
          "data": {
            "text/html": [
              "<div>\n",
              "<style scoped>\n",
              "    .dataframe tbody tr th:only-of-type {\n",
              "        vertical-align: middle;\n",
              "    }\n",
              "\n",
              "    .dataframe tbody tr th {\n",
              "        vertical-align: top;\n",
              "    }\n",
              "\n",
              "    .dataframe thead th {\n",
              "        text-align: right;\n",
              "    }\n",
              "</style>\n",
              "<table border=\"1\" class=\"dataframe\">\n",
              "  <thead>\n",
              "    <tr style=\"text-align: right;\">\n",
              "      <th></th>\n",
              "      <th>Date</th>\n",
              "      <th>ID</th>\n",
              "      <th>Tweet</th>\n",
              "    </tr>\n",
              "  </thead>\n",
              "  <tbody>\n",
              "    <tr>\n",
              "      <th>304526</th>\n",
              "      <td>2020-09-29 00:10:04 UTC</td>\n",
              "      <td>1310733546969952256</td>\n",
              "      <td>Don’t forget buy $PLTR tomorrow. Don’t sleep</td>\n",
              "    </tr>\n",
              "    <tr>\n",
              "      <th>304525</th>\n",
              "      <td>2020-09-29 00:48:23 UTC</td>\n",
              "      <td>1310743188496429058</td>\n",
              "      <td>Why? Why do they have to keep giving us new in...</td>\n",
              "    </tr>\n",
              "    <tr>\n",
              "      <th>304524</th>\n",
              "      <td>2020-09-29 00:53:35 UTC</td>\n",
              "      <td>1310744498633351168</td>\n",
              "      <td>Got $PLTR on my radar tomorrow. It's a growing...</td>\n",
              "    </tr>\n",
              "    <tr>\n",
              "      <th>304523</th>\n",
              "      <td>2020-09-29 01:16:41 UTC</td>\n",
              "      <td>1310750312328699905</td>\n",
              "      <td>The data-mining-software company Palantir Tech...</td>\n",
              "    </tr>\n",
              "    <tr>\n",
              "      <th>304522</th>\n",
              "      <td>2020-09-29 01:32:08 UTC</td>\n",
              "      <td>1310754200381423618</td>\n",
              "      <td>What you need to know about about Palantir lis...</td>\n",
              "    </tr>\n",
              "  </tbody>\n",
              "</table>\n",
              "</div>"
            ],
            "text/plain": [
              "                           Date  ...                                              Tweet\n",
              "304526  2020-09-29 00:10:04 UTC  ...       Don’t forget buy $PLTR tomorrow. Don’t sleep\n",
              "304525  2020-09-29 00:48:23 UTC  ...  Why? Why do they have to keep giving us new in...\n",
              "304524  2020-09-29 00:53:35 UTC  ...  Got $PLTR on my radar tomorrow. It's a growing...\n",
              "304523  2020-09-29 01:16:41 UTC  ...  The data-mining-software company Palantir Tech...\n",
              "304522  2020-09-29 01:32:08 UTC  ...  What you need to know about about Palantir lis...\n",
              "\n",
              "[5 rows x 3 columns]"
            ]
          },
          "metadata": {
            "tags": []
          },
          "execution_count": 13
        }
      ]
    },
    {
      "cell_type": "code",
      "metadata": {
        "id": "1VpZBawplgKD"
      },
      "source": [
        "# Function to calculate sentiment based on compound score\n",
        "def get_sentiment(score):\n",
        "    \"\"\"\n",
        "    Calculates the sentiment based on the compound score.\n",
        "    \"\"\"\n",
        "    result = 0  # Neutral by default\n",
        "    if score >= 0.05:  # Positive\n",
        "        result = 1\n",
        "    elif score <= -0.05:  # Negative\n",
        "        result = -1\n",
        "    return result"
      ],
      "execution_count": null,
      "outputs": []
    },
    {
      "cell_type": "code",
      "metadata": {
        "id": "5fvvRErflkCz"
      },
      "source": [
        "pltr_twtr_sentiments = []\n",
        "\n",
        "for index, row in pltr_twitter_df.iterrows():\n",
        "    try:\n",
        "        text = row[\"Tweet\"]\n",
        "        date = row[\"Date\"]\n",
        "        sentiment = analyzer.polarity_scores(text)\n",
        "        compound = sentiment[\"compound\"]\n",
        "        pos = sentiment[\"pos\"]\n",
        "        neu = sentiment[\"neu\"]\n",
        "        neg = sentiment[\"neg\"]\n",
        "        pol=  get_sentiment(compound)\n",
        "        \n",
        "        pltr_twtr_sentiments.append({\n",
        "            \"text\": text,\n",
        "            \"date\": date,\n",
        "            \"compound\": compound,\n",
        "            \"positive\": pos,\n",
        "            \"negative\": neg,\n",
        "            \"neutral\": neu,\n",
        "            \"Polarity Score\":pol\n",
        "            \n",
        "        })\n",
        "        \n",
        "    except AttributeError:\n",
        "        pass\n",
        "\n"
      ],
      "execution_count": null,
      "outputs": []
    },
    {
      "cell_type": "code",
      "metadata": {
        "id": "QfL5wXD6lne5",
        "outputId": "33de3271-0b9d-4393-d047-8a4916a2d887"
      },
      "source": [
        "pltr_twitter_sentiment_df = pd.DataFrame(pltr_twtr_sentiments)\n",
        "\n",
        "pltr_twitter_sentiment_df=pltr_twitter_sentiment_df.sort_values('date')\n",
        "pltr_twitter_sentiment_df=pltr_twitter_sentiment_df.set_index('date')\n",
        "pltr_twitter_sentiment_df.head()"
      ],
      "execution_count": null,
      "outputs": [
        {
          "output_type": "execute_result",
          "data": {
            "text/plain": [
              "                         Polarity Score  compound  negative  neutral  \\\n",
              "date                                                                   \n",
              "2020-09-29 00:10:04 UTC              -1   -0.2263     0.241    0.759   \n",
              "2020-09-29 00:48:23 UTC               1    0.6747     0.000    0.873   \n",
              "2020-09-29 00:53:35 UTC               1    0.5848     0.000    0.895   \n",
              "2020-09-29 01:16:41 UTC               0    0.0000     0.053    0.894   \n",
              "2020-09-29 01:32:08 UTC               0    0.0000     0.000    1.000   \n",
              "\n",
              "                         positive  \\\n",
              "date                                \n",
              "2020-09-29 00:10:04 UTC     0.000   \n",
              "2020-09-29 00:48:23 UTC     0.127   \n",
              "2020-09-29 00:53:35 UTC     0.105   \n",
              "2020-09-29 01:16:41 UTC     0.053   \n",
              "2020-09-29 01:32:08 UTC     0.000   \n",
              "\n",
              "                                                                      text  \n",
              "date                                                                        \n",
              "2020-09-29 00:10:04 UTC       Don’t forget buy $PLTR tomorrow. Don’t sleep  \n",
              "2020-09-29 00:48:23 UTC  Why? Why do they have to keep giving us new in...  \n",
              "2020-09-29 00:53:35 UTC  Got $PLTR on my radar tomorrow. It's a growing...  \n",
              "2020-09-29 01:16:41 UTC  The data-mining-software company Palantir Tech...  \n",
              "2020-09-29 01:32:08 UTC  What you need to know about about Palantir lis...  "
            ],
            "text/html": [
              "<div>\n",
              "<style scoped>\n",
              "    .dataframe tbody tr th:only-of-type {\n",
              "        vertical-align: middle;\n",
              "    }\n",
              "\n",
              "    .dataframe tbody tr th {\n",
              "        vertical-align: top;\n",
              "    }\n",
              "\n",
              "    .dataframe thead th {\n",
              "        text-align: right;\n",
              "    }\n",
              "</style>\n",
              "<table border=\"1\" class=\"dataframe\">\n",
              "  <thead>\n",
              "    <tr style=\"text-align: right;\">\n",
              "      <th></th>\n",
              "      <th>Polarity Score</th>\n",
              "      <th>compound</th>\n",
              "      <th>negative</th>\n",
              "      <th>neutral</th>\n",
              "      <th>positive</th>\n",
              "      <th>text</th>\n",
              "    </tr>\n",
              "    <tr>\n",
              "      <th>date</th>\n",
              "      <th></th>\n",
              "      <th></th>\n",
              "      <th></th>\n",
              "      <th></th>\n",
              "      <th></th>\n",
              "      <th></th>\n",
              "    </tr>\n",
              "  </thead>\n",
              "  <tbody>\n",
              "    <tr>\n",
              "      <th>2020-09-29 00:10:04 UTC</th>\n",
              "      <td>-1</td>\n",
              "      <td>-0.2263</td>\n",
              "      <td>0.241</td>\n",
              "      <td>0.759</td>\n",
              "      <td>0.000</td>\n",
              "      <td>Don’t forget buy $PLTR tomorrow. Don’t sleep</td>\n",
              "    </tr>\n",
              "    <tr>\n",
              "      <th>2020-09-29 00:48:23 UTC</th>\n",
              "      <td>1</td>\n",
              "      <td>0.6747</td>\n",
              "      <td>0.000</td>\n",
              "      <td>0.873</td>\n",
              "      <td>0.127</td>\n",
              "      <td>Why? Why do they have to keep giving us new in...</td>\n",
              "    </tr>\n",
              "    <tr>\n",
              "      <th>2020-09-29 00:53:35 UTC</th>\n",
              "      <td>1</td>\n",
              "      <td>0.5848</td>\n",
              "      <td>0.000</td>\n",
              "      <td>0.895</td>\n",
              "      <td>0.105</td>\n",
              "      <td>Got $PLTR on my radar tomorrow. It's a growing...</td>\n",
              "    </tr>\n",
              "    <tr>\n",
              "      <th>2020-09-29 01:16:41 UTC</th>\n",
              "      <td>0</td>\n",
              "      <td>0.0000</td>\n",
              "      <td>0.053</td>\n",
              "      <td>0.894</td>\n",
              "      <td>0.053</td>\n",
              "      <td>The data-mining-software company Palantir Tech...</td>\n",
              "    </tr>\n",
              "    <tr>\n",
              "      <th>2020-09-29 01:32:08 UTC</th>\n",
              "      <td>0</td>\n",
              "      <td>0.0000</td>\n",
              "      <td>0.000</td>\n",
              "      <td>1.000</td>\n",
              "      <td>0.000</td>\n",
              "      <td>What you need to know about about Palantir lis...</td>\n",
              "    </tr>\n",
              "  </tbody>\n",
              "</table>\n",
              "</div>"
            ]
          },
          "metadata": {
            "tags": []
          },
          "execution_count": 27
        }
      ]
    },
    {
      "cell_type": "code",
      "metadata": {
        "id": "14-YB6xMlzKY",
        "colab": {
          "base_uri": "https://localhost:8080/",
          "height": 204
        },
        "outputId": "71aecd19-3f92-4383-ccfb-f8d38538b20e"
      },
      "source": [
        "# import pltr_twitter_sentiment_df csv to colab\n",
        "\n",
        "pltr_twitter_sentiment_df = pd.read_csv('pltr_twitter_sentiment_df.csv')\n",
        "pltr_twitter_sentiment_df.head(5)\n"
      ],
      "execution_count": null,
      "outputs": [
        {
          "output_type": "execute_result",
          "data": {
            "text/html": [
              "<div>\n",
              "<style scoped>\n",
              "    .dataframe tbody tr th:only-of-type {\n",
              "        vertical-align: middle;\n",
              "    }\n",
              "\n",
              "    .dataframe tbody tr th {\n",
              "        vertical-align: top;\n",
              "    }\n",
              "\n",
              "    .dataframe thead th {\n",
              "        text-align: right;\n",
              "    }\n",
              "</style>\n",
              "<table border=\"1\" class=\"dataframe\">\n",
              "  <thead>\n",
              "    <tr style=\"text-align: right;\">\n",
              "      <th></th>\n",
              "      <th>date</th>\n",
              "      <th>text</th>\n",
              "      <th>compound</th>\n",
              "      <th>positive</th>\n",
              "      <th>negative</th>\n",
              "      <th>neutral</th>\n",
              "      <th>Polarity Score</th>\n",
              "    </tr>\n",
              "  </thead>\n",
              "  <tbody>\n",
              "    <tr>\n",
              "      <th>0</th>\n",
              "      <td>2020-09-29 00:10:04 UTC</td>\n",
              "      <td>Don’t forget buy $PLTR tomorrow. Don’t sleep</td>\n",
              "      <td>-0.2263</td>\n",
              "      <td>0.000</td>\n",
              "      <td>0.241</td>\n",
              "      <td>0.759</td>\n",
              "      <td>-1</td>\n",
              "    </tr>\n",
              "    <tr>\n",
              "      <th>1</th>\n",
              "      <td>2020-09-29 00:48:23 UTC</td>\n",
              "      <td>Why? Why do they have to keep giving us new in...</td>\n",
              "      <td>0.6747</td>\n",
              "      <td>0.127</td>\n",
              "      <td>0.000</td>\n",
              "      <td>0.873</td>\n",
              "      <td>1</td>\n",
              "    </tr>\n",
              "    <tr>\n",
              "      <th>2</th>\n",
              "      <td>2020-09-29 00:53:35 UTC</td>\n",
              "      <td>Got $PLTR on my radar tomorrow. It's a growing...</td>\n",
              "      <td>0.5848</td>\n",
              "      <td>0.105</td>\n",
              "      <td>0.000</td>\n",
              "      <td>0.895</td>\n",
              "      <td>1</td>\n",
              "    </tr>\n",
              "    <tr>\n",
              "      <th>3</th>\n",
              "      <td>2020-09-29 01:16:41 UTC</td>\n",
              "      <td>The data-mining-software company Palantir Tech...</td>\n",
              "      <td>0.0000</td>\n",
              "      <td>0.053</td>\n",
              "      <td>0.053</td>\n",
              "      <td>0.894</td>\n",
              "      <td>0</td>\n",
              "    </tr>\n",
              "    <tr>\n",
              "      <th>4</th>\n",
              "      <td>2020-09-29 01:32:08 UTC</td>\n",
              "      <td>What you need to know about about Palantir lis...</td>\n",
              "      <td>0.0000</td>\n",
              "      <td>0.000</td>\n",
              "      <td>0.000</td>\n",
              "      <td>1.000</td>\n",
              "      <td>0</td>\n",
              "    </tr>\n",
              "  </tbody>\n",
              "</table>\n",
              "</div>"
            ],
            "text/plain": [
              "                      date  ... Polarity Score\n",
              "0  2020-09-29 00:10:04 UTC  ...             -1\n",
              "1  2020-09-29 00:48:23 UTC  ...              1\n",
              "2  2020-09-29 00:53:35 UTC  ...              1\n",
              "3  2020-09-29 01:16:41 UTC  ...              0\n",
              "4  2020-09-29 01:32:08 UTC  ...              0\n",
              "\n",
              "[5 rows x 7 columns]"
            ]
          },
          "metadata": {
            "tags": []
          },
          "execution_count": 25
        }
      ]
    },
    {
      "cell_type": "code",
      "metadata": {
        "id": "p3RZ0UIK8Cp3"
      },
      "source": [
        "### CALCULATE AVERAGE BY DATE"
      ],
      "execution_count": null,
      "outputs": []
    },
    {
      "cell_type": "code",
      "metadata": {
        "id": "gijTbZCXl21O",
        "outputId": "8633d197-c4ca-463a-f549-cd7b31f6937d"
      },
      "source": [
        "# Graph tallied Polarity Score \n",
        "pltr_twitter_sentiment_df.groupby('Polarity Score').size().plot(kind='bar')"
      ],
      "execution_count": null,
      "outputs": [
        {
          "output_type": "execute_result",
          "data": {
            "text/plain": [
              "<AxesSubplot:xlabel='Polarity Score'>"
            ]
          },
          "metadata": {
            "tags": []
          },
          "execution_count": 42
        }
      ]
    },
    {
      "cell_type": "markdown",
      "metadata": {
        "id": "BQs6NKuliK8g"
      },
      "source": [
        "## Pull data from Newsapi and run VADER analysis"
      ]
    },
    {
      "cell_type": "code",
      "metadata": {
        "id": "ehZvPpnDilMU"
      },
      "source": [
        "# ## THIS IS FOR PROOF OF WORK. DOES NOT RUN ON COLAB\n",
        "\n",
        "# pltr_headlines = newsapi.get_everything(\n",
        "#     q=\"PLTR\",\n",
        "#     language=\"en\",\n",
        "#     page_size=10,\n",
        "#     sort_by=\"relevancy\",\n",
        "#     from_param=\"2021-02-29\"\n",
        "# )\n",
        "\n",
        "# pltr_headlines"
      ],
      "execution_count": null,
      "outputs": []
    },
    {
      "cell_type": "code",
      "metadata": {
        "id": "kI66fxdMithr",
        "outputId": "43db6a19-01aa-4387-eb26-095d5dd88d0a"
      },
      "source": [
        " # Transform the response dictionary to a DataFrame\n",
        "pltr_newsapi_df = pd.DataFrame.from_dict(pltr_headlines[\"articles\"])\n",
        "pltr_newsapi_df.head()"
      ],
      "execution_count": null,
      "outputs": [
        {
          "output_type": "execute_result",
          "data": {
            "text/plain": [
              "             author                                            content  \\\n",
              "0     Emily Graffeo  Shares of Palantir gained 3.47% early Monday a...   \n",
              "1  Associated Press  Palantir Technologies has secured an $89.9 mil...   \n",
              "2       Mike Murphy  Billionaire venture capitalist Peter Thiel is ...   \n",
              "3  Shanthi Rexaline  Lets talk volatility. The NASDAQ kicked off th...   \n",
              "4   Steven Fiorillo  Photo by Sundry Photography/iStock Editorial v...   \n",
              "\n",
              "                                         description           publishedAt  \\\n",
              "0  Summary List PlacementShares of Palantir gaine...  2021-04-05T13:16:57Z   \n",
              "1  Israel carried out a missile attack near the S...  2021-04-07T22:42:22Z   \n",
              "2  Billionaire venture capitalist Peter Thiel is ...  2021-04-07T23:22:00Z   \n",
              "3  Palantir Technologies Inc. (NASDAQ: PLTR) shar...  2021-03-11T14:10:32Z   \n",
              "4  Palantir continues to expand its partnership w...  2021-04-09T13:00:00Z   \n",
              "\n",
              "                                              source  \\\n",
              "0  {'id': 'business-insider', 'name': 'Business I...   \n",
              "1        {'id': None, 'name': 'Yahoo Entertainment'}   \n",
              "2                {'id': None, 'name': 'MarketWatch'}   \n",
              "3        {'id': None, 'name': 'Yahoo Entertainment'}   \n",
              "4              {'id': None, 'name': 'Seeking Alpha'}   \n",
              "\n",
              "                                               title  \\\n",
              "0  Palantir jumps after securing 5-year contract ...   \n",
              "1  Syria: Israeli strikes near capital Damascus w...   \n",
              "2  Key Words: China may be using bitcoin as ‘fina...   \n",
              "3  Palantir Strikes Long-Term Partnership With Fr...   \n",
              "4  Palantir: Ark Is Buying, I Am Buying, New Cont...   \n",
              "\n",
              "                                                 url  \\\n",
              "0  https://www.businessinsider.com/palantir-stock...   \n",
              "1  https://news.yahoo.com/syria-israel-fired-miss...   \n",
              "2  https://www.marketwatch.com/story/china-may-be...   \n",
              "3  https://finance.yahoo.com/news/palantir-strike...   \n",
              "4  https://seekingalpha.com/article/4418273-palan...   \n",
              "\n",
              "                                          urlToImage  \n",
              "0  https://i.insider.com/605213680347cb00184b63a3...  \n",
              "1  https://s.yimg.com/cv/apiv2/social/images/yaho...  \n",
              "2           https://images.mktw.net/im-322102/social  \n",
              "3  https://s.yimg.com/uu/api/res/1.2/_NHYYjPEJy0H...  \n",
              "4  https://static.seekingalpha.com/cdn/s3/uploads...  "
            ],
            "text/html": [
              "<div>\n",
              "<style scoped>\n",
              "    .dataframe tbody tr th:only-of-type {\n",
              "        vertical-align: middle;\n",
              "    }\n",
              "\n",
              "    .dataframe tbody tr th {\n",
              "        vertical-align: top;\n",
              "    }\n",
              "\n",
              "    .dataframe thead th {\n",
              "        text-align: right;\n",
              "    }\n",
              "</style>\n",
              "<table border=\"1\" class=\"dataframe\">\n",
              "  <thead>\n",
              "    <tr style=\"text-align: right;\">\n",
              "      <th></th>\n",
              "      <th>author</th>\n",
              "      <th>content</th>\n",
              "      <th>description</th>\n",
              "      <th>publishedAt</th>\n",
              "      <th>source</th>\n",
              "      <th>title</th>\n",
              "      <th>url</th>\n",
              "      <th>urlToImage</th>\n",
              "    </tr>\n",
              "  </thead>\n",
              "  <tbody>\n",
              "    <tr>\n",
              "      <th>0</th>\n",
              "      <td>Emily Graffeo</td>\n",
              "      <td>Shares of Palantir gained 3.47% early Monday a...</td>\n",
              "      <td>Summary List PlacementShares of Palantir gaine...</td>\n",
              "      <td>2021-04-05T13:16:57Z</td>\n",
              "      <td>{'id': 'business-insider', 'name': 'Business I...</td>\n",
              "      <td>Palantir jumps after securing 5-year contract ...</td>\n",
              "      <td>https://www.businessinsider.com/palantir-stock...</td>\n",
              "      <td>https://i.insider.com/605213680347cb00184b63a3...</td>\n",
              "    </tr>\n",
              "    <tr>\n",
              "      <th>1</th>\n",
              "      <td>Associated Press</td>\n",
              "      <td>Palantir Technologies has secured an $89.9 mil...</td>\n",
              "      <td>Israel carried out a missile attack near the S...</td>\n",
              "      <td>2021-04-07T22:42:22Z</td>\n",
              "      <td>{'id': None, 'name': 'Yahoo Entertainment'}</td>\n",
              "      <td>Syria: Israeli strikes near capital Damascus w...</td>\n",
              "      <td>https://news.yahoo.com/syria-israel-fired-miss...</td>\n",
              "      <td>https://s.yimg.com/cv/apiv2/social/images/yaho...</td>\n",
              "    </tr>\n",
              "    <tr>\n",
              "      <th>2</th>\n",
              "      <td>Mike Murphy</td>\n",
              "      <td>Billionaire venture capitalist Peter Thiel is ...</td>\n",
              "      <td>Billionaire venture capitalist Peter Thiel is ...</td>\n",
              "      <td>2021-04-07T23:22:00Z</td>\n",
              "      <td>{'id': None, 'name': 'MarketWatch'}</td>\n",
              "      <td>Key Words: China may be using bitcoin as ‘fina...</td>\n",
              "      <td>https://www.marketwatch.com/story/china-may-be...</td>\n",
              "      <td>https://images.mktw.net/im-322102/social</td>\n",
              "    </tr>\n",
              "    <tr>\n",
              "      <th>3</th>\n",
              "      <td>Shanthi Rexaline</td>\n",
              "      <td>Lets talk volatility. The NASDAQ kicked off th...</td>\n",
              "      <td>Palantir Technologies Inc. (NASDAQ: PLTR) shar...</td>\n",
              "      <td>2021-03-11T14:10:32Z</td>\n",
              "      <td>{'id': None, 'name': 'Yahoo Entertainment'}</td>\n",
              "      <td>Palantir Strikes Long-Term Partnership With Fr...</td>\n",
              "      <td>https://finance.yahoo.com/news/palantir-strike...</td>\n",
              "      <td>https://s.yimg.com/uu/api/res/1.2/_NHYYjPEJy0H...</td>\n",
              "    </tr>\n",
              "    <tr>\n",
              "      <th>4</th>\n",
              "      <td>Steven Fiorillo</td>\n",
              "      <td>Photo by Sundry Photography/iStock Editorial v...</td>\n",
              "      <td>Palantir continues to expand its partnership w...</td>\n",
              "      <td>2021-04-09T13:00:00Z</td>\n",
              "      <td>{'id': None, 'name': 'Seeking Alpha'}</td>\n",
              "      <td>Palantir: Ark Is Buying, I Am Buying, New Cont...</td>\n",
              "      <td>https://seekingalpha.com/article/4418273-palan...</td>\n",
              "      <td>https://static.seekingalpha.com/cdn/s3/uploads...</td>\n",
              "    </tr>\n",
              "  </tbody>\n",
              "</table>\n",
              "</div>"
            ]
          },
          "metadata": {
            "tags": []
          },
          "execution_count": 30
        }
      ]
    },
    {
      "cell_type": "code",
      "metadata": {
        "id": "2BX4KddTiyqj"
      },
      "source": [
        "pltr_sentiments = []\n",
        "\n",
        "for article in pltr_headlines[\"articles\"]:\n",
        "    try:\n",
        "        text = article[\"content\"]\n",
        "        date = article[\"publishedAt\"][:10]\n",
        "        sentiment = analyzer.polarity_scores(text)\n",
        "        compound = sentiment[\"compound\"]\n",
        "        pos = sentiment[\"pos\"]\n",
        "        neu = sentiment[\"neu\"]\n",
        "        neg = sentiment[\"neg\"]\n",
        "        pol=  get_sentiment(compound)\n",
        "        \n",
        "        pltr_sentiments.append({\n",
        "            \"text\": text,\n",
        "            \"date\": date,\n",
        "            \"compound\": compound,\n",
        "            \"positive\": pos,\n",
        "            \"negative\": neg,\n",
        "            \"neutral\": neu,\n",
        "            \"Polarity Score\":pol\n",
        "            \n",
        "        })\n",
        "        \n",
        "    except AttributeError:\n",
        "        pass"
      ],
      "execution_count": null,
      "outputs": []
    },
    {
      "cell_type": "code",
      "metadata": {
        "id": "y3r_hmfrjfgN",
        "outputId": "d024d33d-378c-446a-c808-7f70790845a2"
      },
      "source": [
        "# Create DataFrame\n",
        "pltr_newsapi_sentiment_df = pd.DataFrame(pltr_sentiments)\n",
        "\n",
        "# Reorder DataFrame columns\n",
        "cols = [\"date\", \"text\", \"compound\", \"positive\", \"negative\", \"neutral\",'Polarity Score']\n",
        "pltr_newsapi_sentiment_df = pltr_newsapi_sentiment_df[cols]\n",
        "pltr_newsapi_sentiment_df.sort_values('date')\n",
        "pltr_newsapi_sentiment_df.set_index('date')\n",
        "pltr_newsapi_sentiment_df.head()"
      ],
      "execution_count": null,
      "outputs": [
        {
          "output_type": "execute_result",
          "data": {
            "text/plain": [
              "         date                                               text  compound  \\\n",
              "0  2021-04-05  Shares of Palantir gained 3.47% early Monday a...    0.8176   \n",
              "1  2021-04-07  Palantir Technologies has secured an $89.9 mil...    0.7430   \n",
              "2  2021-04-07  Billionaire venture capitalist Peter Thiel is ...   -0.5267   \n",
              "3  2021-03-11  Lets talk volatility. The NASDAQ kicked off th...    0.0000   \n",
              "4  2021-04-09  Photo by Sundry Photography/iStock Editorial v...    0.2960   \n",
              "\n",
              "   positive  negative  neutral  Polarity Score  \n",
              "0     0.275     0.000    0.725               1  \n",
              "1     0.207     0.000    0.793               1  \n",
              "2     0.000     0.132    0.868              -1  \n",
              "3     0.000     0.000    1.000               0  \n",
              "4     0.064     0.000    0.936               1  "
            ],
            "text/html": [
              "<div>\n",
              "<style scoped>\n",
              "    .dataframe tbody tr th:only-of-type {\n",
              "        vertical-align: middle;\n",
              "    }\n",
              "\n",
              "    .dataframe tbody tr th {\n",
              "        vertical-align: top;\n",
              "    }\n",
              "\n",
              "    .dataframe thead th {\n",
              "        text-align: right;\n",
              "    }\n",
              "</style>\n",
              "<table border=\"1\" class=\"dataframe\">\n",
              "  <thead>\n",
              "    <tr style=\"text-align: right;\">\n",
              "      <th></th>\n",
              "      <th>date</th>\n",
              "      <th>text</th>\n",
              "      <th>compound</th>\n",
              "      <th>positive</th>\n",
              "      <th>negative</th>\n",
              "      <th>neutral</th>\n",
              "      <th>Polarity Score</th>\n",
              "    </tr>\n",
              "  </thead>\n",
              "  <tbody>\n",
              "    <tr>\n",
              "      <th>0</th>\n",
              "      <td>2021-04-05</td>\n",
              "      <td>Shares of Palantir gained 3.47% early Monday a...</td>\n",
              "      <td>0.8176</td>\n",
              "      <td>0.275</td>\n",
              "      <td>0.000</td>\n",
              "      <td>0.725</td>\n",
              "      <td>1</td>\n",
              "    </tr>\n",
              "    <tr>\n",
              "      <th>1</th>\n",
              "      <td>2021-04-07</td>\n",
              "      <td>Palantir Technologies has secured an $89.9 mil...</td>\n",
              "      <td>0.7430</td>\n",
              "      <td>0.207</td>\n",
              "      <td>0.000</td>\n",
              "      <td>0.793</td>\n",
              "      <td>1</td>\n",
              "    </tr>\n",
              "    <tr>\n",
              "      <th>2</th>\n",
              "      <td>2021-04-07</td>\n",
              "      <td>Billionaire venture capitalist Peter Thiel is ...</td>\n",
              "      <td>-0.5267</td>\n",
              "      <td>0.000</td>\n",
              "      <td>0.132</td>\n",
              "      <td>0.868</td>\n",
              "      <td>-1</td>\n",
              "    </tr>\n",
              "    <tr>\n",
              "      <th>3</th>\n",
              "      <td>2021-03-11</td>\n",
              "      <td>Lets talk volatility. The NASDAQ kicked off th...</td>\n",
              "      <td>0.0000</td>\n",
              "      <td>0.000</td>\n",
              "      <td>0.000</td>\n",
              "      <td>1.000</td>\n",
              "      <td>0</td>\n",
              "    </tr>\n",
              "    <tr>\n",
              "      <th>4</th>\n",
              "      <td>2021-04-09</td>\n",
              "      <td>Photo by Sundry Photography/iStock Editorial v...</td>\n",
              "      <td>0.2960</td>\n",
              "      <td>0.064</td>\n",
              "      <td>0.000</td>\n",
              "      <td>0.936</td>\n",
              "      <td>1</td>\n",
              "    </tr>\n",
              "  </tbody>\n",
              "</table>\n",
              "</div>"
            ]
          },
          "metadata": {
            "tags": []
          },
          "execution_count": 39
        }
      ]
    },
    {
      "cell_type": "code",
      "metadata": {
        "id": "611lBkqE73Qn"
      },
      "source": [
        "### CALCULATE AVERAGE BY DATE"
      ],
      "execution_count": null,
      "outputs": []
    },
    {
      "cell_type": "code",
      "metadata": {
        "id": "e5-iGnA0joVY",
        "outputId": "6800958a-e1ae-4446-8b7d-e9a0440c2b7d"
      },
      "source": [
        "# Graph tallied Polarity Score \n",
        "pltr_newsapi_sentiment_df.groupby('Polarity Score').size().plot(kind='bar')"
      ],
      "execution_count": null,
      "outputs": [
        {
          "output_type": "execute_result",
          "data": {
            "text/plain": [
              "<AxesSubplot:xlabel='Polarity Score'>"
            ]
          },
          "metadata": {
            "tags": []
          },
          "execution_count": 44
        }
      ]
    },
    {
      "cell_type": "code",
      "metadata": {
        "id": "AWhDvNPA9Asb"
      },
      "source": [
        "## Add another combined df here \n",
        "\n",
        "# combined_sent_df = pd.read_csv('/content/pltr_twitter_df.csv')"
      ],
      "execution_count": null,
      "outputs": []
    },
    {
      "cell_type": "markdown",
      "metadata": {
        "id": "lir7mM_hnHBJ"
      },
      "source": [
        "## VADER Sentiments WordCloud "
      ]
    },
    {
      "cell_type": "code",
      "metadata": {
        "id": "Kq89oq4ymhfy"
      },
      "source": [
        "df = pltr_twitter_sentiment_df[\"Polarity Score\"]  ## WHAT IS THIS LINE FOR???\n",
        "#pltr_twitter_sentiment_df[pltr_twitter_sentiment_df[\"Polarity Score\"]=='-1']\n",
        "words = ' '.join(pltr_twitter_sentiment_df['text'])\n",
        "cleaned_word = \" \".join([word for word in words.split()\n",
        "                            if 'http' not in word\n",
        "                                and not word.startswith('@')\n",
        "                                and word != 'RT'\n",
        "                            ])\n",
        "stopwords = set(STOPWORDS)\n",
        "stopwords.add(\"PLTR\")\n",
        "stopwords.add(\"Palantir\")\n",
        "\n",
        "wordcloud = WordCloud(stopwords=stopwords,\n",
        "                      background_color='black',\n",
        "                      width=3000,\n",
        "                      height=2500\n",
        "                     ).generate(cleaned_word)"
      ],
      "execution_count": null,
      "outputs": []
    },
    {
      "cell_type": "code",
      "metadata": {
        "id": "I31cg1Psmhhk",
        "outputId": "27142cd4-8193-4162-fb52-3dbe30c7135a"
      },
      "source": [
        "plt.figure(1,figsize=(12, 12))\n",
        "plt.imshow(wordcloud)\n",
        "plt.axis('off')\n",
        "plt.show()"
      ],
      "execution_count": null,
      "outputs": [
        {
          "output_type": "display_data",
          "data": {
            "text/plain": [
              "<Figure size 432x288 with 1 Axes>"
            ],
            "image/svg+xml": "<?xml version=\"1.0\" encoding=\"utf-8\" standalone=\"no\"?>\n<!DOCTYPE svg PUBLIC \"-//W3C//DTD SVG 1.1//EN\"\n  \"http://www.w3.org/Graphics/SVG/1.1/DTD/svg11.dtd\">\n<!-- Created with matplotlib (https://matplotlib.org/) -->\n<svg height=\"231.84pt\" version=\"1.1\" viewBox=\"0 0 14.660928 231.84\" width=\"14.660928pt\" xmlns=\"http://www.w3.org/2000/svg\" xmlns:xlink=\"http://www.w3.org/1999/xlink\">\n <metadata>\n  <rdf:RDF xmlns:cc=\"http://creativecommons.org/ns#\" xmlns:dc=\"http://purl.org/dc/elements/1.1/\" xmlns:rdf=\"http://www.w3.org/1999/02/22-rdf-syntax-ns#\">\n   <cc:Work>\n    <dc:type rdf:resource=\"http://purl.org/dc/dcmitype/StillImage\"/>\n    <dc:date>2021-04-10T10:55:24.495710</dc:date>\n    <dc:format>image/svg+xml</dc:format>\n    <dc:creator>\n     <cc:Agent>\n      <dc:title>Matplotlib v3.3.2, https://matplotlib.org/</dc:title>\n     </cc:Agent>\n    </dc:creator>\n   </cc:Work>\n  </rdf:RDF>\n </metadata>\n <defs>\n  <style type=\"text/css\">*{stroke-linecap:butt;stroke-linejoin:round;}</style>\n </defs>\n <g id=\"figure_1\">\n  <g id=\"patch_1\">\n   <path d=\"M 0 231.84 \nL 14.660928 231.84 \nL 14.660928 0 \nL 0 0 \nz\n\" style=\"fill:none;\"/>\n  </g>\n  <g id=\"axes_1\">\n   <g clip-path=\"url(#paf4b7f81d2)\">\n    <image height=\"218\" id=\"image42e8810315\" transform=\"scale(1 -1)translate(0 -218)\" width=\"1\" x=\"7.2\" xlink:href=\"data:image/png;base64,\niVBORw0KGgoAAAANSUhEUgAAAAEAAADaCAYAAABn7ChlAAAAOklEQVR4nO3QwQmAMAAEwcmZoAH7r1V8GKtQQfKZ97IwAu/R1iJbD0s1fFDwU2or0vfIeVyYYyePcwOZPwjhoW5YZQAAAABJRU5ErkJggg==\" y=\"-6.64\"/>\n   </g>\n   <g id=\"patch_2\">\n    <path clip-path=\"url(#paf4b7f81d2)\" d=\"M 7.221744 7.243488 \nL 7.265232 7.243488 \nL 7.265232 5266.682208 \nL 7.221744 5266.682208 \nz\n\" style=\"fill:#1f77b4;\"/>\n   </g>\n   <g id=\"patch_3\">\n    <path clip-path=\"url(#paf4b7f81d2)\" d=\"M 7.30872 7.243488 \nL 7.352208 7.243488 \nL 7.352208 14257.56528 \nL 7.30872 14257.56528 \nz\n\" style=\"fill:#1f77b4;\"/>\n   </g>\n   <g id=\"patch_4\">\n    <path clip-path=\"url(#paf4b7f81d2)\" d=\"M 7.395696 7.243488 \nL 7.439184 7.243488 \nL 7.439184 18900.518112 \nL 7.395696 18900.518112 \nz\n\" style=\"fill:#1f77b4;\"/>\n   </g>\n   <g id=\"patch_5\">\n    <path clip-path=\"url(#paf4b7f81d2)\" d=\"M 7.221744 7.243488 \nL 7.265232 7.243488 \nL 7.265232 7.330464 \nL 7.221744 7.330464 \nz\n\" style=\"fill:#1f77b4;\"/>\n   </g>\n   <g id=\"patch_6\">\n    <path clip-path=\"url(#paf4b7f81d2)\" d=\"M 7.30872 7.243488 \nL 7.352208 7.243488 \nL 7.352208 7.504416 \nL 7.30872 7.504416 \nz\n\" style=\"fill:#1f77b4;\"/>\n   </g>\n   <g id=\"patch_7\">\n    <path clip-path=\"url(#paf4b7f81d2)\" d=\"M 7.395696 7.243488 \nL 7.439184 7.243488 \nL 7.439184 7.765344 \nL 7.395696 7.765344 \nz\n\" style=\"fill:#1f77b4;\"/>\n   </g>\n   <g id=\"patch_8\">\n    <path clip-path=\"url(#paf4b7f81d2)\" d=\"M 7.221744 7.243488 \nL 7.265232 7.243488 \nL 7.265232 5266.682208 \nL 7.221744 5266.682208 \nz\n\" style=\"fill:#1f77b4;\"/>\n   </g>\n   <g id=\"patch_9\">\n    <path clip-path=\"url(#paf4b7f81d2)\" d=\"M 7.30872 7.243488 \nL 7.352208 7.243488 \nL 7.352208 14257.56528 \nL 7.30872 14257.56528 \nz\n\" style=\"fill:#1f77b4;\"/>\n   </g>\n   <g id=\"patch_10\">\n    <path clip-path=\"url(#paf4b7f81d2)\" d=\"M 7.395696 7.243488 \nL 7.439184 7.243488 \nL 7.439184 18900.518112 \nL 7.395696 18900.518112 \nz\n\" style=\"fill:#1f77b4;\"/>\n   </g>\n   <g id=\"patch_11\">\n    <path clip-path=\"url(#paf4b7f81d2)\" d=\"M 7.221744 7.243488 \nL 7.265232 7.243488 \nL 7.265232 7.330464 \nL 7.221744 7.330464 \nz\n\" style=\"fill:#1f77b4;\"/>\n   </g>\n   <g id=\"patch_12\">\n    <path clip-path=\"url(#paf4b7f81d2)\" d=\"M 7.30872 7.243488 \nL 7.352208 7.243488 \nL 7.352208 7.504416 \nL 7.30872 7.504416 \nz\n\" style=\"fill:#1f77b4;\"/>\n   </g>\n   <g id=\"patch_13\">\n    <path clip-path=\"url(#paf4b7f81d2)\" d=\"M 7.395696 7.243488 \nL 7.439184 7.243488 \nL 7.439184 7.765344 \nL 7.395696 7.765344 \nz\n\" style=\"fill:#1f77b4;\"/>\n   </g>\n  </g>\n </g>\n <defs>\n  <clipPath id=\"paf4b7f81d2\">\n   <rect height=\"217.44\" width=\"0.260928\" x=\"7.2\" y=\"7.2\"/>\n  </clipPath>\n </defs>\n</svg>\n",
            "image/png": "[encoded data removed]"
          },
          "metadata": {
            "tags": []
          }
        }
      ]
    },
    {
      "cell_type": "code",
      "metadata": {
        "id": "zJcerPc6_HYI"
      },
      "source": [
        "### NEWSAPI WORDCLOUD"
      ],
      "execution_count": null,
      "outputs": []
    },
    {
      "cell_type": "code",
      "metadata": {
        "id": "XkMm0SGVmhj_"
      },
      "source": [
        "# Do we use cumulative return of compound or polarity????\n",
        "# c_return= (1 + pltr_twitter_sentiment_df['compound']).cumprod()\n",
        "# c_return.head()\n",
        "\n",
        "# pltr_twitter_sentiment_df.plot(kind='line', x='date', y='compound')"
      ],
      "execution_count": null,
      "outputs": []
    },
    {
      "cell_type": "markdown",
      "metadata": {
        "id": "mBGshdrtAMhw"
      },
      "source": [
        "## VADER COMBINED DATAFRAME"
      ]
    },
    {
      "cell_type": "code",
      "metadata": {
        "id": "W_eJ8T_7AS5h",
        "colab": {
          "base_uri": "https://localhost:8080/",
          "height": 164
        },
        "outputId": "30c8586a-ea4d-4e88-ae16-260ceccd4dd2"
      },
      "source": [
        "## WE NEED TO DOUBLE CHECK THIS\n",
        "pltr_sent_df= pd.concat([pltr_twitter_sentiment_df, pltr_newsapi_sentiment_df], axis='columns' join=\"inner\", ignore_index=True)"
      ],
      "execution_count": null,
      "outputs": [
        {
          "output_type": "error",
          "ename": "SyntaxError",
          "evalue": "ignored",
          "traceback": [
            "\u001b[0;36m  File \u001b[0;32m\"<ipython-input-21-f29eeed10e75>\"\u001b[0;36m, line \u001b[0;32m1\u001b[0m\n\u001b[0;31m    pltr_combined_sent_df= pd.concat([pltr_twitter_sentiment_df, pltr_newsapi_sentiment_df], axis='columns' join=\"inner\", ignore_index=True)\u001b[0m\n\u001b[0m                                                                                                               ^\u001b[0m\n\u001b[0;31mSyntaxError\u001b[0m\u001b[0;31m:\u001b[0m invalid syntax\n"
          ]
        }
      ]
    },
    {
      "cell_type": "markdown",
      "metadata": {
        "id": "z209Xl2k_nwH"
      },
      "source": [
        "## IBM WATSON TONE ANALYSIS - TWITTER AND NEWSAPI"
      ]
    },
    {
      "cell_type": "code",
      "metadata": {
        "id": "UFNz5iOB_00u"
      },
      "source": [
        "# CALCULATE DAILY POLARITY SCORES\n",
        "# COMBINE INTO PLTR_TONE_DF\n",
        "## pltr_combined_tone_df= pd.concat([pltr_twitter_tone_df, pltr_newsapi_tone_df], join=\"0\", ignore_index=True)\n",
        "\n",
        "\n"
      ],
      "execution_count": null,
      "outputs": []
    },
    {
      "cell_type": "code",
      "metadata": {
        "id": "33nkmBpzgfhE"
      },
      "source": [
        "# Define text to analyze\n",
        "text = df[\"text\"]\n",
        "\n",
        "# Analyze the text's tone with the 'tone()' method.\n",
        "tone_analysis = tone_analyzer.tone(\n",
        "    {\"text\": text},\n",
        "    content_type=\"application/json\",\n",
        "    content_language=\"en\",\n",
        "    accept_language=\"en\",\n",
        ").get_result()\n",
        "\n",
        "# Display tone analysis results\n",
        "print(json.dumps(tone_analysis, indent=2)) "
      ],
      "execution_count": null,
      "outputs": []
    },
    {
      "cell_type": "code",
      "metadata": {
        "id": "LG3pD416g0NQ"
      },
      "source": [
        "# Document Tones\n",
        "doc_tone_df = json_normalize(data=tone_analysis[\"document_tone\"], record_path=[\"tones\"])\n",
        "doc_tone_df"
      ],
      "execution_count": null,
      "outputs": []
    },
    {
      "cell_type": "code",
      "metadata": {
        "id": "XSswsB4Yg_Mo"
      },
      "source": [
        " # Sentences Tones\n",
        "sentences_tone_df = json_normalize(\n",
        "    data=tone_analysis[\"sentences_tone\"],\n",
        "    record_path=[\"tones\"],\n",
        "    meta=[\"sentence_id\", \"text\"],\n",
        ")\n",
        "sentences_tone_df"
      ],
      "execution_count": null,
      "outputs": []
    },
    {
      "cell_type": "markdown",
      "metadata": {
        "id": "N_8KmdzToSQY"
      },
      "source": [
        "## Yahoo Finance Stock API "
      ]
    },
    {
      "cell_type": "code",
      "metadata": {
        "id": "n8aSHqmfoWk2",
        "colab": {
          "base_uri": "https://localhost:8080/",
          "height": 235
        },
        "outputId": "1a945cf3-6c3b-46b8-967f-f6c3ed2ae26f"
      },
      "source": [
        "# Load PLTR stock closing prices from YFinance\n",
        "pltr_yf = yf.download('PLTR',\n",
        "                       start='2020-01-01',\n",
        "                       end='2021-05-31',\n",
        "                       progress=False,\n",
        "                       index_col ='Date',\n",
        "                       infer_datetime_format= True,\n",
        "                       parse_dates = True,\n",
        "                       interval='1d'\n",
        "\n",
        ")\n",
        "pltr_yf_df = pd.DataFrame(pltr_yf)\n",
        "pltr_yf_df.head()\n",
        "\n"
      ],
      "execution_count": null,
      "outputs": [
        {
          "output_type": "execute_result",
          "data": {
            "text/html": [
              "<div>\n",
              "<style scoped>\n",
              "    .dataframe tbody tr th:only-of-type {\n",
              "        vertical-align: middle;\n",
              "    }\n",
              "\n",
              "    .dataframe tbody tr th {\n",
              "        vertical-align: top;\n",
              "    }\n",
              "\n",
              "    .dataframe thead th {\n",
              "        text-align: right;\n",
              "    }\n",
              "</style>\n",
              "<table border=\"1\" class=\"dataframe\">\n",
              "  <thead>\n",
              "    <tr style=\"text-align: right;\">\n",
              "      <th></th>\n",
              "      <th>Open</th>\n",
              "      <th>High</th>\n",
              "      <th>Low</th>\n",
              "      <th>Close</th>\n",
              "      <th>Adj Close</th>\n",
              "      <th>Volume</th>\n",
              "    </tr>\n",
              "    <tr>\n",
              "      <th>Date</th>\n",
              "      <th></th>\n",
              "      <th></th>\n",
              "      <th></th>\n",
              "      <th></th>\n",
              "      <th></th>\n",
              "      <th></th>\n",
              "    </tr>\n",
              "  </thead>\n",
              "  <tbody>\n",
              "    <tr>\n",
              "      <th>2020-09-30</th>\n",
              "      <td>10.00</td>\n",
              "      <td>11.41</td>\n",
              "      <td>9.11</td>\n",
              "      <td>9.50</td>\n",
              "      <td>9.50</td>\n",
              "      <td>338584400</td>\n",
              "    </tr>\n",
              "    <tr>\n",
              "      <th>2020-10-01</th>\n",
              "      <td>9.69</td>\n",
              "      <td>10.10</td>\n",
              "      <td>9.23</td>\n",
              "      <td>9.46</td>\n",
              "      <td>9.46</td>\n",
              "      <td>124297600</td>\n",
              "    </tr>\n",
              "    <tr>\n",
              "      <th>2020-10-02</th>\n",
              "      <td>9.06</td>\n",
              "      <td>9.28</td>\n",
              "      <td>8.94</td>\n",
              "      <td>9.20</td>\n",
              "      <td>9.20</td>\n",
              "      <td>55018300</td>\n",
              "    </tr>\n",
              "    <tr>\n",
              "      <th>2020-10-05</th>\n",
              "      <td>9.43</td>\n",
              "      <td>9.49</td>\n",
              "      <td>8.92</td>\n",
              "      <td>9.03</td>\n",
              "      <td>9.03</td>\n",
              "      <td>36316900</td>\n",
              "    </tr>\n",
              "    <tr>\n",
              "      <th>2020-10-06</th>\n",
              "      <td>9.04</td>\n",
              "      <td>10.18</td>\n",
              "      <td>8.90</td>\n",
              "      <td>9.90</td>\n",
              "      <td>9.90</td>\n",
              "      <td>90864000</td>\n",
              "    </tr>\n",
              "  </tbody>\n",
              "</table>\n",
              "</div>"
            ],
            "text/plain": [
              "             Open   High   Low  Close  Adj Close     Volume\n",
              "Date                                                       \n",
              "2020-09-30  10.00  11.41  9.11   9.50       9.50  338584400\n",
              "2020-10-01   9.69  10.10  9.23   9.46       9.46  124297600\n",
              "2020-10-02   9.06   9.28  8.94   9.20       9.20   55018300\n",
              "2020-10-05   9.43   9.49  8.92   9.03       9.03   36316900\n",
              "2020-10-06   9.04  10.18  8.90   9.90       9.90   90864000"
            ]
          },
          "metadata": {
            "tags": []
          },
          "execution_count": 26
        }
      ]
    },
    {
      "cell_type": "markdown",
      "metadata": {
        "id": "pyxN5H15BdjM"
      },
      "source": [
        "## WHICH MODEL PRODUCES BETTER RESULTS? VADER v WATSON\n"
      ]
    },
    {
      "cell_type": "markdown",
      "metadata": {
        "id": "wOpNdWDHoaD5"
      },
      "source": [
        "##Graph Sentiment score and Stock Price"
      ]
    },
    {
      "cell_type": "code",
      "metadata": {
        "id": "PoeRLUPKogmt",
        "colab": {
          "base_uri": "https://localhost:8080/",
          "height": 295
        },
        "outputId": "69d7471b-c4fe-4e29-e020-76bf91e28f0b"
      },
      "source": [
        "pltr_yf_df[\"Close\"].plot() "
      ],
      "execution_count": null,
      "outputs": [
        {
          "output_type": "execute_result",
          "data": {
            "text/plain": [
              "<matplotlib.axes._subplots.AxesSubplot at 0x7f3f7d941f90>"
            ]
          },
          "metadata": {
            "tags": []
          },
          "execution_count": 27
        },
        {
          "output_type": "display_data",
          "data": {
            "image/png": "[encoded data removed]",
            "text/plain": [
              "<Figure size 432x288 with 1 Axes>"
            ]
          },
          "metadata": {
            "tags": [],
            "needs_background": "light"
          }
        }
      ]
    },
    {
      "cell_type": "code",
      "metadata": {
        "id": "IJXfLaXy9fHL"
      },
      "source": [
        "## COMBINE CLOSING PRICES WITH DAILY POLARITY SCORES (VADER)\n",
        "\n",
        "# pltr_combined_df = Close + Polarity Scores (Index = Date)\n",
        "\n",
        "\n",
        "## CHECK CORRELATIONS OF COMPOUND / POS / NEG / NEUTRAL / POLARITY SCORES (VADER)"
      ],
      "execution_count": null,
      "outputs": []
    },
    {
      "cell_type": "markdown",
      "metadata": {
        "id": "0ZJfZkp2BHRZ"
      },
      "source": [
        "##Graph Tone analysis score and Stock Price"
      ]
    },
    {
      "cell_type": "code",
      "metadata": {
        "id": "srcoB4sxBNbC"
      },
      "source": [
        "## COMBINE CLOSING PRICES WITH DAILY POLARITY SCORES (WATSON)\n",
        "\n",
        "# pltr_combined_df = Close + Polarity Scores (Index = Date)\n",
        "\n",
        "\n",
        "## CHECK CORRELATIONS OF COMPOUND / POS / NEG / NEUTRAL / POLARITY SCORES (WATSON)"
      ],
      "execution_count": null,
      "outputs": []
    },
    {
      "cell_type": "markdown",
      "metadata": {
        "id": "MFb2LKehoqft"
      },
      "source": [
        "## ML and LSTM Model "
      ]
    },
    {
      "cell_type": "code",
      "metadata": {
        "id": "ziIT84NHtK4j"
      },
      "source": [
        "# Data Preprocessing for Twitter df \n",
        "\n",
        "# Creating the X and y vectors\n",
        "X = pltr_combined_df[\"Close\"].values # VADER v WATSON - which model do we use here?\n",
        "y = pltr_combined_df[\"Polarity Score\"].values"
      ],
      "execution_count": null,
      "outputs": []
    },
    {
      "cell_type": "code",
      "metadata": {
        "id": "QoCv0o-xtK4j"
      },
      "source": [
        " # Import Keras modules for data encoding\n",
        "# from tensorflow.keras.preprocessing.text import Tokenizer\n",
        "from tensorflow.keras.preprocessing.sequence import pad_sequences"
      ],
      "execution_count": null,
      "outputs": []
    },
    {
      "cell_type": "code",
      "metadata": {
        "id": "SvlccPYhtK4n"
      },
      "source": [
        " # Padding sequences\n",
        "X_pad = pad_sequences(X_seq, maxlen=140, padding=\"post\")"
      ],
      "execution_count": null,
      "outputs": []
    },
    {
      "cell_type": "code",
      "metadata": {
        "id": "QTFc9UhstK4o"
      },
      "source": [
        " # Creating training, validation, and testing sets\n",
        "from sklearn.model_selection import train_test_split\n",
        "\n",
        "X_train, X_test, y_train, y_test = train_test_split(X_pad, y, random_state=0)\n"
      ],
      "execution_count": null,
      "outputs": []
    },
    {
      "cell_type": "code",
      "metadata": {
        "id": "MXjGbagBtK4o"
      },
      "source": [
        " # Import Keras modules for model creation\n",
        "from tensorflow.keras.models import Sequential\n",
        "from tensorflow.keras.layers import Embedding, LSTM, Dense"
      ],
      "execution_count": null,
      "outputs": []
    },
    {
      "cell_type": "code",
      "metadata": {
        "id": "5jJ2HTNatK4o"
      },
      "source": [
        "# Model set-up\n",
        "vocabulary_size = len(tokenizer.word_counts.keys()) + 1\n",
        "max_words = 140\n",
        "embedding_size = 64 "
      ],
      "execution_count": null,
      "outputs": []
    },
    {
      "cell_type": "code",
      "metadata": {
        "id": "v-XVhFSJtK4p"
      },
      "source": [
        " # Define the LSTM RNN model\n",
        "model = Sequential()\n",
        "\n",
        "# Layer 1\n",
        "model.add(Embedding(vocabulary_size, embedding_size, input_length=max_words))\n",
        "\n",
        "# Layer 2\n",
        "model.add(LSTM(units=280))\n",
        "\n",
        "# Output layer\n",
        "model.add(Dense(1, activation=\"sigmoid\"))"
      ],
      "execution_count": null,
      "outputs": []
    },
    {
      "cell_type": "code",
      "metadata": {
        "id": "Bkk2GAj4tK4p"
      },
      "source": [
        "# Compile the model\n",
        "model.compile(\n",
        "    loss=\"binary_crossentropy\",\n",
        "    optimizer=\"adam\"\n",
        ")"
      ],
      "execution_count": null,
      "outputs": []
    },
    {
      "cell_type": "code",
      "metadata": {
        "id": "A_HBGEAGtK4p",
        "outputId": "c2df8bd8-44f7-4dd6-aac0-7666a8553a88"
      },
      "source": [
        " # Summarize the model\n",
        "model.summary()"
      ],
      "execution_count": null,
      "outputs": [
        {
          "output_type": "stream",
          "text": [
            "Model: \"sequential\"\n",
            "_________________________________________________________________\n",
            "Layer (type)                 Output Shape              Param #   \n",
            "=================================================================\n",
            "embedding (Embedding)        (None, 140, 64)           7667008   \n",
            "_________________________________________________________________\n",
            "lstm (LSTM)                  (None, 280)               386400    \n",
            "_________________________________________________________________\n",
            "dense (Dense)                (None, 1)                 281       \n",
            "=================================================================\n",
            "Total params: 8,053,689\n",
            "Trainable params: 8,053,689\n",
            "Non-trainable params: 0\n",
            "_________________________________________________________________\n"
          ],
          "name": "stdout"
        }
      ]
    },
    {
      "cell_type": "code",
      "metadata": {
        "id": "KGB1VjW-tK4p",
        "outputId": "d4d8255d-8f6b-4565-e260-b976eb26f129"
      },
      "source": [
        "# Training the model\n",
        "batch_size = 1000\n",
        "model.fit(\n",
        "    X_train,\n",
        "    y_train,\n",
        "    epochs=3, ## REDUCED EPOCHS FOR TESTING PURPOSES ONLY\n",
        "    batch_size=batch_size,\n",
        "    verbose=1,\n",
        ")"
      ],
      "execution_count": null,
      "outputs": [
        {
          "output_type": "stream",
          "text": [
            "Epoch 1/10\n",
            "332/332 [==============================] - 976s 3s/step - loss: 0.6574\n",
            "Epoch 2/10\n",
            "332/332 [==============================] - 952s 3s/step - loss: 0.6513\n",
            "Epoch 3/10\n",
            "332/332 [==============================] - 957s 3s/step - loss: 0.6500\n",
            "Epoch 4/10\n",
            "332/332 [==============================] - 1348s 4s/step - loss: 0.6506\n",
            "Epoch 5/10\n",
            " 59/332 [====>.........................] - ETA: 13:30 - loss: 0.6479"
          ],
          "name": "stdout"
        },
        {
          "output_type": "error",
          "ename": "KeyboardInterrupt",
          "evalue": "",
          "traceback": [
            "\u001b[0;31m---------------------------------------------------------------------------\u001b[0m",
            "\u001b[0;31mKeyboardInterrupt\u001b[0m                         Traceback (most recent call last)",
            "\u001b[0;32m<ipython-input-63-7e0ee8fa78a3>\u001b[0m in \u001b[0;36m<module>\u001b[0;34m\u001b[0m\n\u001b[1;32m      6\u001b[0m     \u001b[0mepochs\u001b[0m\u001b[0;34m=\u001b[0m\u001b[0;36m10\u001b[0m\u001b[0;34m,\u001b[0m\u001b[0;34m\u001b[0m\u001b[0;34m\u001b[0m\u001b[0m\n\u001b[1;32m      7\u001b[0m     \u001b[0mbatch_size\u001b[0m\u001b[0;34m=\u001b[0m\u001b[0mbatch_size\u001b[0m\u001b[0;34m,\u001b[0m\u001b[0;34m\u001b[0m\u001b[0;34m\u001b[0m\u001b[0m\n\u001b[0;32m----> 8\u001b[0;31m     \u001b[0mverbose\u001b[0m\u001b[0;34m=\u001b[0m\u001b[0;36m1\u001b[0m\u001b[0;34m,\u001b[0m\u001b[0;34m\u001b[0m\u001b[0;34m\u001b[0m\u001b[0m\n\u001b[0m\u001b[1;32m      9\u001b[0m )\n",
            "\u001b[0;32m/opt/anaconda3/envs/dev/lib/python3.7/site-packages/tensorflow/python/keras/engine/training.py\u001b[0m in \u001b[0;36mfit\u001b[0;34m(self, x, y, batch_size, epochs, verbose, callbacks, validation_split, validation_data, shuffle, class_weight, sample_weight, initial_epoch, steps_per_epoch, validation_steps, validation_batch_size, validation_freq, max_queue_size, workers, use_multiprocessing)\u001b[0m\n\u001b[1;32m   1098\u001b[0m                 _r=1):\n\u001b[1;32m   1099\u001b[0m               \u001b[0mcallbacks\u001b[0m\u001b[0;34m.\u001b[0m\u001b[0mon_train_batch_begin\u001b[0m\u001b[0;34m(\u001b[0m\u001b[0mstep\u001b[0m\u001b[0;34m)\u001b[0m\u001b[0;34m\u001b[0m\u001b[0;34m\u001b[0m\u001b[0m\n\u001b[0;32m-> 1100\u001b[0;31m               \u001b[0mtmp_logs\u001b[0m \u001b[0;34m=\u001b[0m \u001b[0mself\u001b[0m\u001b[0;34m.\u001b[0m\u001b[0mtrain_function\u001b[0m\u001b[0;34m(\u001b[0m\u001b[0miterator\u001b[0m\u001b[0;34m)\u001b[0m\u001b[0;34m\u001b[0m\u001b[0;34m\u001b[0m\u001b[0m\n\u001b[0m\u001b[1;32m   1101\u001b[0m               \u001b[0;32mif\u001b[0m \u001b[0mdata_handler\u001b[0m\u001b[0;34m.\u001b[0m\u001b[0mshould_sync\u001b[0m\u001b[0;34m:\u001b[0m\u001b[0;34m\u001b[0m\u001b[0;34m\u001b[0m\u001b[0m\n\u001b[1;32m   1102\u001b[0m                 \u001b[0mcontext\u001b[0m\u001b[0;34m.\u001b[0m\u001b[0masync_wait\u001b[0m\u001b[0;34m(\u001b[0m\u001b[0;34m)\u001b[0m\u001b[0;34m\u001b[0m\u001b[0;34m\u001b[0m\u001b[0m\n",
            "\u001b[0;32m/opt/anaconda3/envs/dev/lib/python3.7/site-packages/tensorflow/python/eager/def_function.py\u001b[0m in \u001b[0;36m__call__\u001b[0;34m(self, *args, **kwds)\u001b[0m\n\u001b[1;32m    826\u001b[0m     \u001b[0mtracing_count\u001b[0m \u001b[0;34m=\u001b[0m \u001b[0mself\u001b[0m\u001b[0;34m.\u001b[0m\u001b[0mexperimental_get_tracing_count\u001b[0m\u001b[0;34m(\u001b[0m\u001b[0;34m)\u001b[0m\u001b[0;34m\u001b[0m\u001b[0;34m\u001b[0m\u001b[0m\n\u001b[1;32m    827\u001b[0m     \u001b[0;32mwith\u001b[0m \u001b[0mtrace\u001b[0m\u001b[0;34m.\u001b[0m\u001b[0mTrace\u001b[0m\u001b[0;34m(\u001b[0m\u001b[0mself\u001b[0m\u001b[0;34m.\u001b[0m\u001b[0m_name\u001b[0m\u001b[0;34m)\u001b[0m \u001b[0;32mas\u001b[0m \u001b[0mtm\u001b[0m\u001b[0;34m:\u001b[0m\u001b[0;34m\u001b[0m\u001b[0;34m\u001b[0m\u001b[0m\n\u001b[0;32m--> 828\u001b[0;31m       \u001b[0mresult\u001b[0m \u001b[0;34m=\u001b[0m \u001b[0mself\u001b[0m\u001b[0;34m.\u001b[0m\u001b[0m_call\u001b[0m\u001b[0;34m(\u001b[0m\u001b[0;34m*\u001b[0m\u001b[0margs\u001b[0m\u001b[0;34m,\u001b[0m \u001b[0;34m**\u001b[0m\u001b[0mkwds\u001b[0m\u001b[0;34m)\u001b[0m\u001b[0;34m\u001b[0m\u001b[0;34m\u001b[0m\u001b[0m\n\u001b[0m\u001b[1;32m    829\u001b[0m       \u001b[0mcompiler\u001b[0m \u001b[0;34m=\u001b[0m \u001b[0;34m\"xla\"\u001b[0m \u001b[0;32mif\u001b[0m \u001b[0mself\u001b[0m\u001b[0;34m.\u001b[0m\u001b[0m_experimental_compile\u001b[0m \u001b[0;32melse\u001b[0m \u001b[0;34m\"nonXla\"\u001b[0m\u001b[0;34m\u001b[0m\u001b[0;34m\u001b[0m\u001b[0m\n\u001b[1;32m    830\u001b[0m       \u001b[0mnew_tracing_count\u001b[0m \u001b[0;34m=\u001b[0m \u001b[0mself\u001b[0m\u001b[0;34m.\u001b[0m\u001b[0mexperimental_get_tracing_count\u001b[0m\u001b[0;34m(\u001b[0m\u001b[0;34m)\u001b[0m\u001b[0;34m\u001b[0m\u001b[0;34m\u001b[0m\u001b[0m\n",
            "\u001b[0;32m/opt/anaconda3/envs/dev/lib/python3.7/site-packages/tensorflow/python/eager/def_function.py\u001b[0m in \u001b[0;36m_call\u001b[0;34m(self, *args, **kwds)\u001b[0m\n\u001b[1;32m    853\u001b[0m       \u001b[0;31m# In this case we have created variables on the first call, so we run the\u001b[0m\u001b[0;34m\u001b[0m\u001b[0;34m\u001b[0m\u001b[0;34m\u001b[0m\u001b[0m\n\u001b[1;32m    854\u001b[0m       \u001b[0;31m# defunned version which is guaranteed to never create variables.\u001b[0m\u001b[0;34m\u001b[0m\u001b[0;34m\u001b[0m\u001b[0;34m\u001b[0m\u001b[0m\n\u001b[0;32m--> 855\u001b[0;31m       \u001b[0;32mreturn\u001b[0m \u001b[0mself\u001b[0m\u001b[0;34m.\u001b[0m\u001b[0m_stateless_fn\u001b[0m\u001b[0;34m(\u001b[0m\u001b[0;34m*\u001b[0m\u001b[0margs\u001b[0m\u001b[0;34m,\u001b[0m \u001b[0;34m**\u001b[0m\u001b[0mkwds\u001b[0m\u001b[0;34m)\u001b[0m  \u001b[0;31m# pylint: disable=not-callable\u001b[0m\u001b[0;34m\u001b[0m\u001b[0;34m\u001b[0m\u001b[0m\n\u001b[0m\u001b[1;32m    856\u001b[0m     \u001b[0;32melif\u001b[0m \u001b[0mself\u001b[0m\u001b[0;34m.\u001b[0m\u001b[0m_stateful_fn\u001b[0m \u001b[0;32mis\u001b[0m \u001b[0;32mnot\u001b[0m \u001b[0;32mNone\u001b[0m\u001b[0;34m:\u001b[0m\u001b[0;34m\u001b[0m\u001b[0;34m\u001b[0m\u001b[0m\n\u001b[1;32m    857\u001b[0m       \u001b[0;31m# Release the lock early so that multiple threads can perform the call\u001b[0m\u001b[0;34m\u001b[0m\u001b[0;34m\u001b[0m\u001b[0;34m\u001b[0m\u001b[0m\n",
            "\u001b[0;32m/opt/anaconda3/envs/dev/lib/python3.7/site-packages/tensorflow/python/eager/function.py\u001b[0m in \u001b[0;36m__call__\u001b[0;34m(self, *args, **kwargs)\u001b[0m\n\u001b[1;32m   2941\u001b[0m        filtered_flat_args) = self._maybe_define_function(args, kwargs)\n\u001b[1;32m   2942\u001b[0m     return graph_function._call_flat(\n\u001b[0;32m-> 2943\u001b[0;31m         filtered_flat_args, captured_inputs=graph_function.captured_inputs)  # pylint: disable=protected-access\n\u001b[0m\u001b[1;32m   2944\u001b[0m \u001b[0;34m\u001b[0m\u001b[0m\n\u001b[1;32m   2945\u001b[0m   \u001b[0;34m@\u001b[0m\u001b[0mproperty\u001b[0m\u001b[0;34m\u001b[0m\u001b[0;34m\u001b[0m\u001b[0m\n",
            "\u001b[0;32m/opt/anaconda3/envs/dev/lib/python3.7/site-packages/tensorflow/python/eager/function.py\u001b[0m in \u001b[0;36m_call_flat\u001b[0;34m(self, args, captured_inputs, cancellation_manager)\u001b[0m\n\u001b[1;32m   1917\u001b[0m       \u001b[0;31m# No tape is watching; skip to running the function.\u001b[0m\u001b[0;34m\u001b[0m\u001b[0;34m\u001b[0m\u001b[0;34m\u001b[0m\u001b[0m\n\u001b[1;32m   1918\u001b[0m       return self._build_call_outputs(self._inference_function.call(\n\u001b[0;32m-> 1919\u001b[0;31m           ctx, args, cancellation_manager=cancellation_manager))\n\u001b[0m\u001b[1;32m   1920\u001b[0m     forward_backward = self._select_forward_and_backward_functions(\n\u001b[1;32m   1921\u001b[0m         \u001b[0margs\u001b[0m\u001b[0;34m,\u001b[0m\u001b[0;34m\u001b[0m\u001b[0;34m\u001b[0m\u001b[0m\n",
            "\u001b[0;32m/opt/anaconda3/envs/dev/lib/python3.7/site-packages/tensorflow/python/eager/function.py\u001b[0m in \u001b[0;36mcall\u001b[0;34m(self, ctx, args, cancellation_manager)\u001b[0m\n\u001b[1;32m    558\u001b[0m               \u001b[0minputs\u001b[0m\u001b[0;34m=\u001b[0m\u001b[0margs\u001b[0m\u001b[0;34m,\u001b[0m\u001b[0;34m\u001b[0m\u001b[0;34m\u001b[0m\u001b[0m\n\u001b[1;32m    559\u001b[0m               \u001b[0mattrs\u001b[0m\u001b[0;34m=\u001b[0m\u001b[0mattrs\u001b[0m\u001b[0;34m,\u001b[0m\u001b[0;34m\u001b[0m\u001b[0;34m\u001b[0m\u001b[0m\n\u001b[0;32m--> 560\u001b[0;31m               ctx=ctx)\n\u001b[0m\u001b[1;32m    561\u001b[0m         \u001b[0;32melse\u001b[0m\u001b[0;34m:\u001b[0m\u001b[0;34m\u001b[0m\u001b[0;34m\u001b[0m\u001b[0m\n\u001b[1;32m    562\u001b[0m           outputs = execute.execute_with_cancellation(\n",
            "\u001b[0;32m/opt/anaconda3/envs/dev/lib/python3.7/site-packages/tensorflow/python/eager/execute.py\u001b[0m in \u001b[0;36mquick_execute\u001b[0;34m(op_name, num_outputs, inputs, attrs, ctx, name)\u001b[0m\n\u001b[1;32m     58\u001b[0m     \u001b[0mctx\u001b[0m\u001b[0;34m.\u001b[0m\u001b[0mensure_initialized\u001b[0m\u001b[0;34m(\u001b[0m\u001b[0;34m)\u001b[0m\u001b[0;34m\u001b[0m\u001b[0;34m\u001b[0m\u001b[0m\n\u001b[1;32m     59\u001b[0m     tensors = pywrap_tfe.TFE_Py_Execute(ctx._handle, device_name, op_name,\n\u001b[0;32m---> 60\u001b[0;31m                                         inputs, attrs, num_outputs)\n\u001b[0m\u001b[1;32m     61\u001b[0m   \u001b[0;32mexcept\u001b[0m \u001b[0mcore\u001b[0m\u001b[0;34m.\u001b[0m\u001b[0m_NotOkStatusException\u001b[0m \u001b[0;32mas\u001b[0m \u001b[0me\u001b[0m\u001b[0;34m:\u001b[0m\u001b[0;34m\u001b[0m\u001b[0;34m\u001b[0m\u001b[0m\n\u001b[1;32m     62\u001b[0m     \u001b[0;32mif\u001b[0m \u001b[0mname\u001b[0m \u001b[0;32mis\u001b[0m \u001b[0;32mnot\u001b[0m \u001b[0;32mNone\u001b[0m\u001b[0;34m:\u001b[0m\u001b[0;34m\u001b[0m\u001b[0;34m\u001b[0m\u001b[0m\n",
            "\u001b[0;31mKeyboardInterrupt\u001b[0m: "
          ]
        }
      ]
    },
    {
      "cell_type": "code",
      "metadata": {
        "id": "qKwYs_a5bIRL"
      },
      "source": [
        " # Predict classes using the testing data. (bath_size the smaller the better)\n",
        "y_rnn_pred = model.predict_classes(X_test_rnn, batch_size=1000)"
      ],
      "execution_count": null,
      "outputs": []
    },
    {
      "cell_type": "markdown",
      "metadata": {
        "id": "JLsXnd3BbX-C"
      },
      "source": [
        "## Accuracy and Model Comparison"
      ]
    },
    {
      "cell_type": "code",
      "metadata": {
        "id": "chPc0yCKbb4m"
      },
      "source": [
        "# Accuracy\n",
        "from sklearn.metrics import accuracy_score\n",
        "\n",
        "print(\"RNN LSTM Accuracy %.2f\" % (accuracy_score(y_test_rnn, y_rnn_pred)))"
      ],
      "execution_count": null,
      "outputs": []
    },
    {
      "cell_type": "code",
      "metadata": {
        "id": "rYiGRXKrbkKP"
      },
      "source": [
        "#  Confusion Matrix\n",
        "\n",
        " from sklearn.metrics import confusion_matrix\n",
        "\n",
        " # Confusion matrtix metrics from the RNN LSTM model\n",
        "tn_rnn, fp_rnn, fn_rnn, tp_rnn = confusion_matrix(y_test_rnn, y_rnn_pred).ravel()\n",
        "\n",
        "# Dataframe to display confusion matrix from the RNN LSTM model\n",
        "cm_rnn_df = pd.DataFrame(\n",
        "    {\n",
        "        \"Positive(1)\": [f\"TP={tp_rnn}\", f\"FP={fp_rnn}\"],\n",
        "        \"Negative(0)\": [f\"FN={fn_rnn}\", f\"TN={tn_rnn}\"],\n",
        "    },\n",
        "    index=[\"Positive(1)\", \"Negative(0)\"],\n",
        ")\n",
        "cm_rnn_df.index.name = \"Actual\"\n",
        "cm_rnn_df.columns.name = \"Predicted\"\n",
        "print(\"Confusion Matrix from the RNN LSTM Model\")\n",
        "display(cm_rnn_df)"
      ],
      "execution_count": null,
      "outputs": []
    },
    {
      "cell_type": "markdown",
      "metadata": {
        "id": "A-OaSuPQb100"
      },
      "source": [
        "## Classification Report "
      ]
    },
    {
      "cell_type": "code",
      "metadata": {
        "id": "KClrEQmgb4iK"
      },
      "source": [
        "# Import the classification_report method from sklearn\n",
        "from sklearn.metrics import classification_report\n",
        "\n",
        "# Display classification report for the RNN LSTM Model\n",
        "print(\"Classification Report for the RNN LSTM Model\")\n",
        "print(classification_report(y_rnn_pred, y_test_rnn))"
      ],
      "execution_count": null,
      "outputs": []
    },
    {
      "cell_type": "markdown",
      "metadata": {
        "id": "1kFB5sXmcJrA"
      },
      "source": [
        "## Plotting the ROC Curve"
      ]
    },
    {
      "cell_type": "code",
      "metadata": {
        "id": "DPeRemAAcMAH"
      },
      "source": [
        " # Import the roc_curve and auc metrics from sklearn\n",
        "from sklearn.metrics import roc_curve, auc\n",
        "\n",
        " # Making predictions to feed the roc_curve module\n",
        "test_predictions_rnn = model.predict(X_test_rnn, batch_size=1000)"
      ],
      "execution_count": null,
      "outputs": []
    },
    {
      "cell_type": "code",
      "metadata": {
        "id": "P9FCywljceHz"
      },
      "source": [
        " # Data for ROC Curve - RNN LSTM Model\n",
        "fpr_test_rnn, tpr_test_rnn, thresholds_test_rnn = roc_curve(y_test_rnn, test_predictions_rnn)"
      ],
      "execution_count": null,
      "outputs": []
    },
    {
      "cell_type": "code",
      "metadata": {
        "id": "3m3N1oGWcfP9"
      },
      "source": [
        "# AUC for the RNN LSTM Model\n",
        "auc_test_rnn = auc(fpr_test_rnn, tpr_test_rnn)\n",
        "auc_test_rnn = round(auc_test_rnn, 4)"
      ],
      "execution_count": null,
      "outputs": []
    },
    {
      "cell_type": "code",
      "metadata": {
        "id": "VHmGY0lMckoI"
      },
      "source": [
        "roc_df_test_rnn = pd.DataFrame({\"FPR Test\": fpr_test_rnn, \"TPR Test\": tpr_test_rnn,})"
      ],
      "execution_count": null,
      "outputs": []
    },
    {
      "cell_type": "code",
      "metadata": {
        "id": "NY4KPaf_coIq"
      },
      "source": [
        "roc_df_test_rnn.plot(\n",
        "    x=\"FPR Test\",\n",
        "    y=\"TPR Test\",\n",
        "    color=\"blue\",\n",
        "    style=\"--\",\n",
        "    xlim=([-0.05, 1.05]),\n",
        "    title=f\"Test ROC Curve (AUC={auc_test_rnn})\",\n",
        ")"
      ],
      "execution_count": null,
      "outputs": []
    },
    {
      "cell_type": "markdown",
      "metadata": {
        "id": "o6SEqtqLewwM"
      },
      "source": [
        "##  Making Predictions"
      ]
    },
    {
      "cell_type": "code",
      "metadata": {
        "id": "goWj6Gt6e2GF"
      },
      "source": [
        "# Make some predictions\n",
        "predicted = model.predict(X_test)\n",
        "\n",
        " # Recover the original prices instead of the scaled version\n",
        "predicted_prices = scaler.inverse_transform(predicted)\n",
        "real_prices = scaler.inverse_transform(y_test.reshape(-1, 1))"
      ],
      "execution_count": null,
      "outputs": []
    },
    {
      "cell_type": "code",
      "metadata": {
        "id": "3CdmdzNPfD6n"
      },
      "source": [
        "# Create a DataFrame of Real and Predicted values\n",
        "stocks = pd.DataFrame({\n",
        "    \"Real\": real_prices.ravel(),\n",
        "    \"Predicted\": predicted_prices.ravel()\n",
        "    }, index = df.index[-len(real_prices): ])\n",
        "stocks.head()"
      ],
      "execution_count": null,
      "outputs": []
    },
    {
      "cell_type": "code",
      "metadata": {
        "id": "JWet213JfGm9"
      },
      "source": [
        "# Plot the real vs predicted prices as a line chart\n",
        "stocks.plot()"
      ],
      "execution_count": null,
      "outputs": []
    }
  ]
}