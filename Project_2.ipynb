{
  "nbformat": 4,
  "nbformat_minor": 0,
  "metadata": {
    "colab": {
      "name": "Fintech Project 2 Notebook",
      "provenance": [],
      "collapsed_sections": [],
      "include_colab_link": true
    },
    "kernelspec": {
      "display_name": "Python 3",
      "language": "python",
      "name": "python3"
    },
    "language_info": {
      "codemirror_mode": {
        "name": "ipython",
        "version": 3
      },
      "file_extension": ".py",
      "mimetype": "text/x-python",
      "name": "python",
      "nbconvert_exporter": "python",
      "pygments_lexer": "ipython3",
      "version": "3.8.3"
    },
    "metadata": {
      "interpreter": {
        "hash": "aee8b7b246df8f9039afb4144a1f6fd8d2ca17a180786b69acc140d282b71a49"
      }
    }
  },
  "cells": [
    {
      "cell_type": "markdown",
      "metadata": {
        "id": "view-in-github",
        "colab_type": "text"
      },
      "source": [
        "<a href=\"https://colab.research.google.com/github/lfarlima/Project-2/blob/main/Project_2.ipynb\" target=\"_parent\"><img src=\"https://colab.research.google.com/assets/colab-badge.svg\" alt=\"Open In Colab\"/></a>"
      ]
    },
    {
      "cell_type": "markdown",
      "metadata": {
        "id": "JaVkHMLGVW4u"
      },
      "source": [
        "##Imports and Dependencies "
      ]
    },
    {
      "cell_type": "code",
      "metadata": {
        "colab": {
          "base_uri": "https://localhost:8080/"
        },
        "id": "T5ra-jqchjzO",
        "outputId": "572c69e7-0efa-466b-8328-bc649f4b154c"
      },
      "source": [
        "#imports\n",
        "import os\n",
        "import pandas as pd\n",
        "import matplotlib.pyplot as plt\n",
        "import numpy as np\n",
        "import nltk\n",
        "from nltk.sentiment.vader import SentimentIntensityAnalyzer\n",
        "analyzer=SentimentIntensityAnalyzer\n",
        "from datetime import datetime, date, time, timezone\n",
        "import yfinance as yf # Stock data\n",
        "from numpy.random import seed\n",
        "seed (1)\n",
        "from tensorflow import random\n",
        "random.set_seed(2)\n",
        "import newsapi as NewsApiClient\n",
        "import warnings\n",
        "warnings.filterwarnings('ignore')\n",
        "\n",
        "## NLTK IMPORTS\n",
        "from nltk.corpus import stopwords, reuters\n",
        "from nltk.tokenize import word_tokenize\n",
        "from nltk.stem import WordNetLemmatizer\n",
        "from wordcloud import WordCloud, STOPWORDS\n",
        "\n",
        "# Code to download corpora\n",
        "import nltk\n",
        "nltk.download('wordnet')\n",
        "nltk.download('reuters')\n",
        "nltk.download('stopwords')\n",
        "nltk.download('punkt')\n",
        "\n",
        "\n",
        "lemmatizer = WordNetLemmatizer()\n",
        "\n",
        "api_key = \"0ef1c61926f54984abcca4338225fd66\"\n",
        "\n",
        "# Download/Update the VADER Lexicon\n",
        "nltk.download('vader_lexicon')\n",
        "\n",
        "# Initialize the VADER sentiment analyzer\n",
        "analyzer = SentimentIntensityAnalyzer()\n",
        "\n",
        "## IBM WATSON IMPORTS\n",
        "import json\n",
        "from pandas import json_normalize\n",
        "from ibm_watson import ToneAnalyzerV3\n",
        "from ibm_cloud_sdk_core.authenticators import IAMAuthenticator\n",
        "from dotenv import load_dotenv\n",
        "load_dotenv()\n",
        "\n",
        "tone_api = \"zFumggLvdanjWjbKKqYfOetZc3Nu1PAaVJHVmc5FRt8t\"\n",
        "\n",
        "tone_url = \"https://api.us-south.tone-analyzer.watson.cloud.ibm.com/instances/300fde5a-3dd1-4864-8a3d-1b8b626f35a9\"\n",
        "\n",
        "# Initialize Tone Analyser Client\n",
        "# Create authentication object\n",
        "from ibm_cloud_sdk_core.authenticators import IAMAuthenticator\n",
        "authenticator = IAMAuthenticator(tone_api)\n",
        "from ibm_watson import ToneAnalyzerV3\n",
        "\n",
        "# Create tone_analyzer instance\n",
        "tone_analyzer = ToneAnalyzerV3(\n",
        "    version=\"2017-09-21\",\n",
        "    authenticator=authenticator\n",
        ")\n",
        "\n",
        "# Set the service endpoint\n",
        "tone_analyzer.set_service_url(tone_url)"
      ],
      "execution_count": null,
      "outputs": [
        {
          "output_type": "stream",
          "text": [
            "[nltk_data] Downloading package wordnet to\n",
            "[nltk_data]     /Users/vinayanupindi/nltk_data...\n",
            "[nltk_data]   Package wordnet is already up-to-date!\n",
            "[nltk_data] Downloading package reuters to\n",
            "[nltk_data]     /Users/vinayanupindi/nltk_data...\n",
            "[nltk_data]   Package reuters is already up-to-date!\n",
            "[nltk_data] Downloading package stopwords to\n",
            "[nltk_data]     /Users/vinayanupindi/nltk_data...\n",
            "[nltk_data]   Package stopwords is already up-to-date!\n",
            "[nltk_data] Downloading package punkt to\n",
            "[nltk_data]     /Users/vinayanupindi/nltk_data...\n",
            "[nltk_data]   Package punkt is already up-to-date!\n",
            "[nltk_data] Downloading package vader_lexicon to\n",
            "[nltk_data]     /Users/vinayanupindi/nltk_data...\n",
            "[nltk_data]   Package vader_lexicon is already up-to-date!\n"
          ],
          "name": "stderr"
        }
      ]
    },
    {
      "cell_type": "markdown",
      "metadata": {
        "id": "qRKKpH4gkKjZ"
      },
      "source": [
        "## Twitter Tweet's VADER sentiment analysis "
      ]
    },
    {
      "cell_type": "code",
      "metadata": {
        "id": "sgeOR3GuSrQJ",
        "outputId": "d0216fce-6810-42c5-83c9-e3d57a926136"
      },
      "source": [
        "api_key = '0ef1c61926f54984abcca4338225fd66'\n",
        "newsapi = NewsApiClient(api_key=api_key)"
      ],
      "execution_count": null,
      "outputs": [
        {
          "output_type": "error",
          "ename": "TypeError",
          "evalue": "'module' object is not callable",
          "traceback": [
            "\u001b[0;31m---------------------------------------------------------------------------\u001b[0m",
            "\u001b[0;31mTypeError\u001b[0m                                 Traceback (most recent call last)",
            "\u001b[0;32m<ipython-input-7-5ad738618a11>\u001b[0m in \u001b[0;36m<module>\u001b[0;34m\u001b[0m\n\u001b[1;32m      1\u001b[0m \u001b[0mapi_key\u001b[0m \u001b[0;34m=\u001b[0m \u001b[0;34m'0ef1c61926f54984abcca4338225fd66'\u001b[0m\u001b[0;34m\u001b[0m\u001b[0;34m\u001b[0m\u001b[0m\n\u001b[0;32m----> 2\u001b[0;31m \u001b[0mnewsapi\u001b[0m \u001b[0;34m=\u001b[0m \u001b[0mNewsApiClient\u001b[0m\u001b[0;34m(\u001b[0m\u001b[0mapi_key\u001b[0m\u001b[0;34m=\u001b[0m\u001b[0mapi_key\u001b[0m\u001b[0;34m)\u001b[0m\u001b[0;34m\u001b[0m\u001b[0;34m\u001b[0m\u001b[0m\n\u001b[0m",
            "\u001b[0;31mTypeError\u001b[0m: 'module' object is not callable"
          ]
        }
      ]
    },
    {
      "cell_type": "code",
      "metadata": {
        "id": "zsnkthtwiIW1"
      },
      "source": [
        "## This section is for proof of work. Not meant to be run\n",
        "\n",
        "# pip install nest_asyncio\n",
        "\n",
        "# pip install --upgrade git+https://github.com/twintproject/twint.git@origin/master#egg=twint\n",
        "\n",
        "# import twint\n",
        "# import nest_asyncio\n",
        "# nest_asyncio.apply()\n",
        "# c= twint.Config()\n",
        "# c.Search= \"$PLTR\" or \"Palantir\"\n",
        "# c.Since= \"2020-09-29\"\n",
        "# c.Until = '2021-04-04'\n",
        "# # c.Limit= 1000\n",
        "# c.Lang= \"en\"\n",
        "# c.Store_csv= True\n",
        "# c.Output= \"Search.csv\"\n",
        "\n",
        "# twint.run.Search(c)\n",
        "\n",
        "\n",
        "# df = pd.read_csv('Search.csv', encoding=\"utf-8-sig\")\n",
        "# df= df[[\"id\", \"created_at\", \"tweet\", \"language\"]]\n",
        "# df=df.loc[df[\"language\"]==\"en\"]\n",
        "# df=df.rename(columns={\"id\": \"ID\", \"created_at\": \"Date\", \"tweet\": \"Tweet\"})\n",
        "# df=df.drop([\"language\"], axis=1)\n",
        "# #need to standardize time \n",
        "# # df=df.set_index(\"Date\")\n",
        "# df.shape"
      ],
      "execution_count": null,
      "outputs": []
    },
    {
      "cell_type": "code",
      "metadata": {
        "colab": {
          "base_uri": "https://localhost:8080/"
        },
        "id": "kFJ5gAXxgjqt",
        "outputId": "a28d3e2f-6d6d-4663-d3aa-614e4d36e370"
      },
      "source": [
        "#Open CSV file of scraped Twitter posts for PLTR stock \n",
        "pltr_twitter_df = pd.read_csv('pltr_twitter_df.csv', parse_dates=True, infer_datetime_format=True)"
      ],
      "execution_count": null,
      "outputs": [
        {
          "output_type": "stream",
          "text": [
            "/opt/anaconda3/lib/python3.8/site-packages/IPython/core/interactiveshell.py:3071: DtypeWarning: Columns (1) have mixed types.Specify dtype option on import or set low_memory=False.\n",
            "  has_raised = await self.run_ast_nodes(code_ast.body, cell_name,\n"
          ],
          "name": "stderr"
        }
      ]
    },
    {
      "cell_type": "code",
      "metadata": {
        "id": "iErUOtzFlXU_"
      },
      "source": [
        "#\n",
        "pltr_twitter_df=pltr_twitter_df.sort_values('Date')\n",
        "pltr_twitter_df['Date'] = pd.to_datetime(pltr_twitter_df['Date']).dt.date\n",
        "pltr_twitter_df=pltr_twitter_df.drop_duplicates()\n",
        "pltr_twitter_df=pltr_twitter_df.dropna()"
      ],
      "execution_count": null,
      "outputs": []
    },
    {
      "cell_type": "code",
      "metadata": {
        "id": "1VpZBawplgKD"
      },
      "source": [
        "# Function to calculate sentiment based on compound score\n",
        "def get_sentiment(score):\n",
        "    \"\"\"\n",
        "    Calculates the sentiment based on the compound score.\n",
        "    \"\"\"\n",
        "    result = 0  # Neutral by default\n",
        "    if score >= 0.05:  # Positive\n",
        "        result = 1\n",
        "    elif score <= -0.05:  # Negative\n",
        "        result = -1\n",
        "    return result"
      ],
      "execution_count": null,
      "outputs": []
    },
    {
      "cell_type": "code",
      "metadata": {
        "id": "5fvvRErflkCz"
      },
      "source": [
        "## FOR PROOF OF WORK\n",
        "\n",
        "# pltr_twtr_sentiments = []\n",
        "\n",
        "# for index, row in pltr_twitter_df.iterrows():\n",
        "#     try:\n",
        "#         text = row[\"Tweet\"]\n",
        "#         date = row[\"Date\"]\n",
        "#         sentiment = analyzer.polarity_scores(text)\n",
        "#         compound = sentiment[\"compound\"]\n",
        "#         pos = sentiment[\"pos\"]\n",
        "#         neu = sentiment[\"neu\"]\n",
        "#         neg = sentiment[\"neg\"]\n",
        "#         pol=  get_sentiment(compound)\n",
        "        \n",
        "#         pltr_twtr_sentiments.append({\n",
        "#             \"text\": text,\n",
        "#             \"date\": date,\n",
        "#             \"compound\": compound,\n",
        "#             \"positive\": pos,\n",
        "#             \"negative\": neg,\n",
        "#             \"neutral\": neu,\n",
        "#             \"Polarity Score\":pol\n",
        "            \n",
        "#         })\n",
        "        \n",
        "#     except AttributeError:\n",
        "#         pass\n",
        "\n"
      ],
      "execution_count": null,
      "outputs": []
    },
    {
      "cell_type": "code",
      "metadata": {
        "id": "QfL5wXD6lne5",
        "outputId": "33de3271-0b9d-4393-d047-8a4916a2d887"
      },
      "source": [
        "pltr_twitter_sentiment_df = pd.read_csv('pltr_twitter_sentiment_df.csv', parse_dates=True, infer_datetime_format=True)\n",
        "pltr_twitter_sentiment_df.drop_duplicates(inplace=True)\n",
        "pltr_twitter_sentiment_df"
      ],
      "execution_count": null,
      "outputs": [
        {
          "output_type": "execute_result",
          "data": {
            "text/html": [
              "<div>\n",
              "<style scoped>\n",
              "    .dataframe tbody tr th:only-of-type {\n",
              "        vertical-align: middle;\n",
              "    }\n",
              "\n",
              "    .dataframe tbody tr th {\n",
              "        vertical-align: top;\n",
              "    }\n",
              "\n",
              "    .dataframe thead th {\n",
              "        text-align: right;\n",
              "    }\n",
              "</style>\n",
              "<table border=\"1\" class=\"dataframe\">\n",
              "  <thead>\n",
              "    <tr style=\"text-align: right;\">\n",
              "      <th></th>\n",
              "      <th>date</th>\n",
              "      <th>text</th>\n",
              "      <th>compound</th>\n",
              "      <th>positive</th>\n",
              "      <th>negative</th>\n",
              "      <th>neutral</th>\n",
              "      <th>Polarity Score</th>\n",
              "    </tr>\n",
              "  </thead>\n",
              "  <tbody>\n",
              "    <tr>\n",
              "      <th>0</th>\n",
              "      <td>2020-09-29 00:10:04 UTC</td>\n",
              "      <td>Don’t forget buy $PLTR tomorrow. Don’t sleep</td>\n",
              "      <td>-0.2263</td>\n",
              "      <td>0.000</td>\n",
              "      <td>0.241</td>\n",
              "      <td>0.759</td>\n",
              "      <td>-1</td>\n",
              "    </tr>\n",
              "    <tr>\n",
              "      <th>1</th>\n",
              "      <td>2020-09-29 00:48:23 UTC</td>\n",
              "      <td>Why? Why do they have to keep giving us new in...</td>\n",
              "      <td>0.6747</td>\n",
              "      <td>0.127</td>\n",
              "      <td>0.000</td>\n",
              "      <td>0.873</td>\n",
              "      <td>1</td>\n",
              "    </tr>\n",
              "    <tr>\n",
              "      <th>2</th>\n",
              "      <td>2020-09-29 00:53:35 UTC</td>\n",
              "      <td>Got $PLTR on my radar tomorrow. It's a growing...</td>\n",
              "      <td>0.5848</td>\n",
              "      <td>0.105</td>\n",
              "      <td>0.000</td>\n",
              "      <td>0.895</td>\n",
              "      <td>1</td>\n",
              "    </tr>\n",
              "    <tr>\n",
              "      <th>3</th>\n",
              "      <td>2020-09-29 01:16:41 UTC</td>\n",
              "      <td>The data-mining-software company Palantir Tech...</td>\n",
              "      <td>0.0000</td>\n",
              "      <td>0.053</td>\n",
              "      <td>0.053</td>\n",
              "      <td>0.894</td>\n",
              "      <td>0</td>\n",
              "    </tr>\n",
              "    <tr>\n",
              "      <th>4</th>\n",
              "      <td>2020-09-29 01:32:08 UTC</td>\n",
              "      <td>What you need to know about about Palantir lis...</td>\n",
              "      <td>0.0000</td>\n",
              "      <td>0.000</td>\n",
              "      <td>0.000</td>\n",
              "      <td>1.000</td>\n",
              "      <td>0</td>\n",
              "    </tr>\n",
              "    <tr>\n",
              "      <th>...</th>\n",
              "      <td>...</td>\n",
              "      <td>...</td>\n",
              "      <td>...</td>\n",
              "      <td>...</td>\n",
              "      <td>...</td>\n",
              "      <td>...</td>\n",
              "      <td>...</td>\n",
              "    </tr>\n",
              "    <tr>\n",
              "      <th>441521</th>\n",
              "      <td>2021-04-03 23:46:50 UTC</td>\n",
              "      <td>Watchlist:  1. $NNOX 2. $SOS 3. $BAC 4. $PLTR ...</td>\n",
              "      <td>0.5374</td>\n",
              "      <td>0.108</td>\n",
              "      <td>0.000</td>\n",
              "      <td>0.892</td>\n",
              "      <td>1</td>\n",
              "    </tr>\n",
              "    <tr>\n",
              "      <th>441524</th>\n",
              "      <td>2021-04-03 23:48:55 UTC</td>\n",
              "      <td>$PLTR could get a boost with $FB leaking user ...</td>\n",
              "      <td>0.4019</td>\n",
              "      <td>0.213</td>\n",
              "      <td>0.000</td>\n",
              "      <td>0.787</td>\n",
              "      <td>1</td>\n",
              "    </tr>\n",
              "    <tr>\n",
              "      <th>441527</th>\n",
              "      <td>2021-04-03 23:55:58 UTC</td>\n",
              "      <td>@thetradingchick Didn’t know you were in $PLTR...</td>\n",
              "      <td>0.6049</td>\n",
              "      <td>0.183</td>\n",
              "      <td>0.000</td>\n",
              "      <td>0.817</td>\n",
              "      <td>1</td>\n",
              "    </tr>\n",
              "    <tr>\n",
              "      <th>441530</th>\n",
              "      <td>2021-04-03 23:57:57 UTC</td>\n",
              "      <td>@GeniusStocks @alexcutler247 @gurgavin @SpacBo...</td>\n",
              "      <td>0.2732</td>\n",
              "      <td>0.080</td>\n",
              "      <td>0.000</td>\n",
              "      <td>0.920</td>\n",
              "      <td>1</td>\n",
              "    </tr>\n",
              "    <tr>\n",
              "      <th>441533</th>\n",
              "      <td>2021-04-03 23:59:27 UTC</td>\n",
              "      <td>$PLTR Bullish count leading into Demo day, bea...</td>\n",
              "      <td>0.5994</td>\n",
              "      <td>0.196</td>\n",
              "      <td>0.000</td>\n",
              "      <td>0.804</td>\n",
              "      <td>1</td>\n",
              "    </tr>\n",
              "  </tbody>\n",
              "</table>\n",
              "<p>136203 rows × 7 columns</p>\n",
              "</div>"
            ],
            "text/plain": [
              "                           date  \\\n",
              "0       2020-09-29 00:10:04 UTC   \n",
              "1       2020-09-29 00:48:23 UTC   \n",
              "2       2020-09-29 00:53:35 UTC   \n",
              "3       2020-09-29 01:16:41 UTC   \n",
              "4       2020-09-29 01:32:08 UTC   \n",
              "...                         ...   \n",
              "441521  2021-04-03 23:46:50 UTC   \n",
              "441524  2021-04-03 23:48:55 UTC   \n",
              "441527  2021-04-03 23:55:58 UTC   \n",
              "441530  2021-04-03 23:57:57 UTC   \n",
              "441533  2021-04-03 23:59:27 UTC   \n",
              "\n",
              "                                                     text  compound  positive  \\\n",
              "0            Don’t forget buy $PLTR tomorrow. Don’t sleep   -0.2263     0.000   \n",
              "1       Why? Why do they have to keep giving us new in...    0.6747     0.127   \n",
              "2       Got $PLTR on my radar tomorrow. It's a growing...    0.5848     0.105   \n",
              "3       The data-mining-software company Palantir Tech...    0.0000     0.053   \n",
              "4       What you need to know about about Palantir lis...    0.0000     0.000   \n",
              "...                                                   ...       ...       ...   \n",
              "441521  Watchlist:  1. $NNOX 2. $SOS 3. $BAC 4. $PLTR ...    0.5374     0.108   \n",
              "441524  $PLTR could get a boost with $FB leaking user ...    0.4019     0.213   \n",
              "441527  @thetradingchick Didn’t know you were in $PLTR...    0.6049     0.183   \n",
              "441530  @GeniusStocks @alexcutler247 @gurgavin @SpacBo...    0.2732     0.080   \n",
              "441533  $PLTR Bullish count leading into Demo day, bea...    0.5994     0.196   \n",
              "\n",
              "        negative  neutral  Polarity Score  \n",
              "0          0.241    0.759              -1  \n",
              "1          0.000    0.873               1  \n",
              "2          0.000    0.895               1  \n",
              "3          0.053    0.894               0  \n",
              "4          0.000    1.000               0  \n",
              "...          ...      ...             ...  \n",
              "441521     0.000    0.892               1  \n",
              "441524     0.000    0.787               1  \n",
              "441527     0.000    0.817               1  \n",
              "441530     0.000    0.920               1  \n",
              "441533     0.000    0.804               1  \n",
              "\n",
              "[136203 rows x 7 columns]"
            ]
          },
          "metadata": {
            "tags": []
          },
          "execution_count": 213
        }
      ]
    },
    {
      "cell_type": "code",
      "metadata": {
        "id": "3qHojTjmSrQL",
        "outputId": "3e0535df-08c4-4b4f-a591-e9f33ca5d787"
      },
      "source": [
        "pltr_twitter_sentiment_df=pltr_twitter_sentiment_df.sort_values('date')\n",
        "pltr_twitter_sentiment_df['date'] = pd.to_datetime(pltr_twitter_sentiment_df['date']).dt.date\n",
        "pltr_twitter_sentiment_df.set_index('date',inplace=True)\n",
        "pltr_twitter_sentiment_df.info()"
      ],
      "execution_count": null,
      "outputs": [
        {
          "output_type": "stream",
          "text": [
            "<class 'pandas.core.frame.DataFrame'>\n",
            "Index: 136203 entries, 2020-09-29 to 2021-04-03\n",
            "Data columns (total 6 columns):\n",
            " #   Column          Non-Null Count   Dtype  \n",
            "---  ------          --------------   -----  \n",
            " 0   text            136203 non-null  object \n",
            " 1   compound        136203 non-null  float64\n",
            " 2   positive        136203 non-null  float64\n",
            " 3   negative        136203 non-null  float64\n",
            " 4   neutral         136203 non-null  float64\n",
            " 5   Polarity Score  136203 non-null  int64  \n",
            "dtypes: float64(4), int64(1), object(1)\n",
            "memory usage: 7.3+ MB\n"
          ],
          "name": "stdout"
        }
      ]
    },
    {
      "cell_type": "code",
      "metadata": {
        "id": "14-YB6xMlzKY"
      },
      "source": [
        "# import pltr_twitter_sentiment_df csv to colab\n",
        "# pltr_twitter_sentiment_df = pd.DataFrame(pltr_twtr_sentiments)\n",
        "# pltr_twitter_sentiment_df.info()\n"
      ],
      "execution_count": null,
      "outputs": []
    },
    {
      "cell_type": "code",
      "metadata": {
        "id": "RsTazbyYSrQL",
        "outputId": "881ab4ab-1664-4cb7-a1e2-3fc09b8c7805"
      },
      "source": [
        "#CALCULATE AVERAGE\n",
        "twitter_sent_avg = pltr_twitter_sentiment_df.groupby('date', as_index=True, sort=True)['compound','positive','negative','neutral','Polarity Score'].mean()\n",
        "twitter_sent_avg.info()\n",
        "twitter_sent_avg"
      ],
      "execution_count": null,
      "outputs": [
        {
          "output_type": "stream",
          "text": [
            "<ipython-input-210-2ac96c9d7101>:2: FutureWarning: Indexing with multiple keys (implicitly converted to a tuple of keys) will be deprecated, use a list instead.\n",
            "  twitter_sent_avg = pltr_twitter_sentiment_df.groupby('date', as_index=True, sort=True)['compound','positive','negative','neutral','Polarity Score'].mean()\n"
          ],
          "name": "stderr"
        },
        {
          "output_type": "stream",
          "text": [
            "<class 'pandas.core.frame.DataFrame'>\n",
            "Index: 187 entries, 2020-09-29 to 2021-04-03\n",
            "Data columns (total 5 columns):\n",
            " #   Column          Non-Null Count  Dtype  \n",
            "---  ------          --------------  -----  \n",
            " 0   compound        187 non-null    float64\n",
            " 1   positive        187 non-null    float64\n",
            " 2   negative        187 non-null    float64\n",
            " 3   neutral         187 non-null    float64\n",
            " 4   Polarity Score  187 non-null    float64\n",
            "dtypes: float64(5)\n",
            "memory usage: 8.8+ KB\n"
          ],
          "name": "stdout"
        },
        {
          "output_type": "execute_result",
          "data": {
            "text/html": [
              "<div>\n",
              "<style scoped>\n",
              "    .dataframe tbody tr th:only-of-type {\n",
              "        vertical-align: middle;\n",
              "    }\n",
              "\n",
              "    .dataframe tbody tr th {\n",
              "        vertical-align: top;\n",
              "    }\n",
              "\n",
              "    .dataframe thead th {\n",
              "        text-align: right;\n",
              "    }\n",
              "</style>\n",
              "<table border=\"1\" class=\"dataframe\">\n",
              "  <thead>\n",
              "    <tr style=\"text-align: right;\">\n",
              "      <th></th>\n",
              "      <th>compound</th>\n",
              "      <th>positive</th>\n",
              "      <th>negative</th>\n",
              "      <th>neutral</th>\n",
              "      <th>Polarity Score</th>\n",
              "    </tr>\n",
              "    <tr>\n",
              "      <th>date</th>\n",
              "      <th></th>\n",
              "      <th></th>\n",
              "      <th></th>\n",
              "      <th></th>\n",
              "      <th></th>\n",
              "    </tr>\n",
              "  </thead>\n",
              "  <tbody>\n",
              "    <tr>\n",
              "      <th>2020-09-29</th>\n",
              "      <td>0.187965</td>\n",
              "      <td>0.081554</td>\n",
              "      <td>0.022790</td>\n",
              "      <td>0.895682</td>\n",
              "      <td>0.338462</td>\n",
              "    </tr>\n",
              "    <tr>\n",
              "      <th>2020-09-30</th>\n",
              "      <td>0.147594</td>\n",
              "      <td>0.094543</td>\n",
              "      <td>0.034711</td>\n",
              "      <td>0.870748</td>\n",
              "      <td>0.272287</td>\n",
              "    </tr>\n",
              "    <tr>\n",
              "      <th>2020-10-01</th>\n",
              "      <td>0.009902</td>\n",
              "      <td>0.080625</td>\n",
              "      <td>0.063405</td>\n",
              "      <td>0.855963</td>\n",
              "      <td>0.101329</td>\n",
              "    </tr>\n",
              "    <tr>\n",
              "      <th>2020-10-02</th>\n",
              "      <td>-0.000485</td>\n",
              "      <td>0.084356</td>\n",
              "      <td>0.061115</td>\n",
              "      <td>0.854532</td>\n",
              "      <td>0.108974</td>\n",
              "    </tr>\n",
              "    <tr>\n",
              "      <th>2020-10-03</th>\n",
              "      <td>0.181690</td>\n",
              "      <td>0.104110</td>\n",
              "      <td>0.034606</td>\n",
              "      <td>0.861284</td>\n",
              "      <td>0.422018</td>\n",
              "    </tr>\n",
              "    <tr>\n",
              "      <th>...</th>\n",
              "      <td>...</td>\n",
              "      <td>...</td>\n",
              "      <td>...</td>\n",
              "      <td>...</td>\n",
              "      <td>...</td>\n",
              "    </tr>\n",
              "    <tr>\n",
              "      <th>2021-03-30</th>\n",
              "      <td>0.192123</td>\n",
              "      <td>0.098475</td>\n",
              "      <td>0.038478</td>\n",
              "      <td>0.863038</td>\n",
              "      <td>0.326988</td>\n",
              "    </tr>\n",
              "    <tr>\n",
              "      <th>2021-03-31</th>\n",
              "      <td>0.237148</td>\n",
              "      <td>0.111827</td>\n",
              "      <td>0.026785</td>\n",
              "      <td>0.861372</td>\n",
              "      <td>0.414039</td>\n",
              "    </tr>\n",
              "    <tr>\n",
              "      <th>2021-04-01</th>\n",
              "      <td>0.214208</td>\n",
              "      <td>0.095592</td>\n",
              "      <td>0.029560</td>\n",
              "      <td>0.874848</td>\n",
              "      <td>0.386782</td>\n",
              "    </tr>\n",
              "    <tr>\n",
              "      <th>2021-04-02</th>\n",
              "      <td>0.224100</td>\n",
              "      <td>0.084557</td>\n",
              "      <td>0.026934</td>\n",
              "      <td>0.888493</td>\n",
              "      <td>0.376648</td>\n",
              "    </tr>\n",
              "    <tr>\n",
              "      <th>2021-04-03</th>\n",
              "      <td>0.272008</td>\n",
              "      <td>0.119094</td>\n",
              "      <td>0.021998</td>\n",
              "      <td>0.858915</td>\n",
              "      <td>0.477124</td>\n",
              "    </tr>\n",
              "  </tbody>\n",
              "</table>\n",
              "<p>187 rows × 5 columns</p>\n",
              "</div>"
            ],
            "text/plain": [
              "            compound  positive  negative   neutral  Polarity Score\n",
              "date                                                              \n",
              "2020-09-29  0.187965  0.081554  0.022790  0.895682        0.338462\n",
              "2020-09-30  0.147594  0.094543  0.034711  0.870748        0.272287\n",
              "2020-10-01  0.009902  0.080625  0.063405  0.855963        0.101329\n",
              "2020-10-02 -0.000485  0.084356  0.061115  0.854532        0.108974\n",
              "2020-10-03  0.181690  0.104110  0.034606  0.861284        0.422018\n",
              "...              ...       ...       ...       ...             ...\n",
              "2021-03-30  0.192123  0.098475  0.038478  0.863038        0.326988\n",
              "2021-03-31  0.237148  0.111827  0.026785  0.861372        0.414039\n",
              "2021-04-01  0.214208  0.095592  0.029560  0.874848        0.386782\n",
              "2021-04-02  0.224100  0.084557  0.026934  0.888493        0.376648\n",
              "2021-04-03  0.272008  0.119094  0.021998  0.858915        0.477124\n",
              "\n",
              "[187 rows x 5 columns]"
            ]
          },
          "metadata": {
            "tags": []
          },
          "execution_count": 210
        }
      ]
    },
    {
      "cell_type": "code",
      "metadata": {
        "id": "gijTbZCXl21O",
        "outputId": "8633d197-c4ca-463a-f549-cd7b31f6937d"
      },
      "source": [
        "# Graph tallied Polarity Score \n",
        "pltr_twitter_sentiment_df.groupby('Polarity Score').size().plot(kind='scatter')"
      ],
      "execution_count": null,
      "outputs": [
        {
          "output_type": "error",
          "ename": "ValueError",
          "evalue": "plot kind scatter can only be used for data frames",
          "traceback": [
            "\u001b[0;31m---------------------------------------------------------------------------\u001b[0m",
            "\u001b[0;31mValueError\u001b[0m                                Traceback (most recent call last)",
            "\u001b[0;32m<ipython-input-297-2d55de975bc1>\u001b[0m in \u001b[0;36m<module>\u001b[0;34m\u001b[0m\n\u001b[1;32m      1\u001b[0m \u001b[0;31m# Graph tallied Polarity Score\u001b[0m\u001b[0;34m\u001b[0m\u001b[0;34m\u001b[0m\u001b[0;34m\u001b[0m\u001b[0m\n\u001b[0;32m----> 2\u001b[0;31m \u001b[0mpltr_twitter_sentiment_df\u001b[0m\u001b[0;34m.\u001b[0m\u001b[0mgroupby\u001b[0m\u001b[0;34m(\u001b[0m\u001b[0;34m'Polarity Score'\u001b[0m\u001b[0;34m)\u001b[0m\u001b[0;34m.\u001b[0m\u001b[0msize\u001b[0m\u001b[0;34m(\u001b[0m\u001b[0;34m)\u001b[0m\u001b[0;34m.\u001b[0m\u001b[0mplot\u001b[0m\u001b[0;34m(\u001b[0m\u001b[0mkind\u001b[0m\u001b[0;34m=\u001b[0m\u001b[0;34m'scatter'\u001b[0m\u001b[0;34m)\u001b[0m\u001b[0;34m\u001b[0m\u001b[0;34m\u001b[0m\u001b[0m\n\u001b[0m",
            "\u001b[0;32m/opt/anaconda3/lib/python3.8/site-packages/pandas/plotting/_core.py\u001b[0m in \u001b[0;36m__call__\u001b[0;34m(self, *args, **kwargs)\u001b[0m\n\u001b[1;32m    792\u001b[0m                 \u001b[0;32mreturn\u001b[0m \u001b[0mplot_backend\u001b[0m\u001b[0;34m.\u001b[0m\u001b[0mplot\u001b[0m\u001b[0;34m(\u001b[0m\u001b[0mdata\u001b[0m\u001b[0;34m,\u001b[0m \u001b[0mx\u001b[0m\u001b[0;34m=\u001b[0m\u001b[0mx\u001b[0m\u001b[0;34m,\u001b[0m \u001b[0my\u001b[0m\u001b[0;34m=\u001b[0m\u001b[0my\u001b[0m\u001b[0;34m,\u001b[0m \u001b[0mkind\u001b[0m\u001b[0;34m=\u001b[0m\u001b[0mkind\u001b[0m\u001b[0;34m,\u001b[0m \u001b[0;34m**\u001b[0m\u001b[0mkwargs\u001b[0m\u001b[0;34m)\u001b[0m\u001b[0;34m\u001b[0m\u001b[0;34m\u001b[0m\u001b[0m\n\u001b[1;32m    793\u001b[0m             \u001b[0;32melse\u001b[0m\u001b[0;34m:\u001b[0m\u001b[0;34m\u001b[0m\u001b[0;34m\u001b[0m\u001b[0m\n\u001b[0;32m--> 794\u001b[0;31m                 \u001b[0;32mraise\u001b[0m \u001b[0mValueError\u001b[0m\u001b[0;34m(\u001b[0m\u001b[0;34mf\"plot kind {kind} can only be used for data frames\"\u001b[0m\u001b[0;34m)\u001b[0m\u001b[0;34m\u001b[0m\u001b[0;34m\u001b[0m\u001b[0m\n\u001b[0m\u001b[1;32m    795\u001b[0m         \u001b[0;32melif\u001b[0m \u001b[0mkind\u001b[0m \u001b[0;32min\u001b[0m \u001b[0mself\u001b[0m\u001b[0;34m.\u001b[0m\u001b[0m_series_kinds\u001b[0m\u001b[0;34m:\u001b[0m\u001b[0;34m\u001b[0m\u001b[0;34m\u001b[0m\u001b[0m\n\u001b[1;32m    796\u001b[0m             \u001b[0;32mif\u001b[0m \u001b[0misinstance\u001b[0m\u001b[0;34m(\u001b[0m\u001b[0mdata\u001b[0m\u001b[0;34m,\u001b[0m \u001b[0mABCDataFrame\u001b[0m\u001b[0;34m)\u001b[0m\u001b[0;34m:\u001b[0m\u001b[0;34m\u001b[0m\u001b[0;34m\u001b[0m\u001b[0m\n",
            "\u001b[0;31mValueError\u001b[0m: plot kind scatter can only be used for data frames"
          ]
        }
      ]
    },
    {
      "cell_type": "markdown",
      "metadata": {
        "id": "BQs6NKuliK8g"
      },
      "source": [
        "## Pull data from Newsapi and run VADER analysis"
      ]
    },
    {
      "cell_type": "code",
      "metadata": {
        "id": "ehZvPpnDilMU",
        "outputId": "45d6b1ee-ae41-45a0-ea91-3d6ac02ba6cd"
      },
      "source": [
        "# ## THIS IS FOR PROOF OF WORK. DOES NOT RUN ON COLAB\n",
        "\n",
        "pltr_headlines = newsapi.get_everything(\n",
        "    q=\"PLTR\",\n",
        "    language=\"en\",\n",
        "    page_size=10,\n",
        "    sort_by=\"relevancy\",\n",
        "    from_param=\"2021-02-29\"\n",
        ")\n",
        "\n",
        "pltr_newsapi_df = pd.DataFrame.from_dict(pltr_headlines[\"articles\"])\n",
        "pltr_newsapi_df.head()"
      ],
      "execution_count": null,
      "outputs": [
        {
          "output_type": "error",
          "ename": "AttributeError",
          "evalue": "module 'newsapi' has no attribute 'get_everything'",
          "traceback": [
            "\u001b[0;31m---------------------------------------------------------------------------\u001b[0m",
            "\u001b[0;31mAttributeError\u001b[0m                            Traceback (most recent call last)",
            "\u001b[0;32m<ipython-input-201-d85bc1c039f3>\u001b[0m in \u001b[0;36m<module>\u001b[0;34m\u001b[0m\n\u001b[1;32m      1\u001b[0m \u001b[0;31m# ## THIS IS FOR PROOF OF WORK. DOES NOT RUN ON COLAB\u001b[0m\u001b[0;34m\u001b[0m\u001b[0;34m\u001b[0m\u001b[0;34m\u001b[0m\u001b[0m\n\u001b[1;32m      2\u001b[0m \u001b[0;34m\u001b[0m\u001b[0m\n\u001b[0;32m----> 3\u001b[0;31m pltr_headlines = NewsApiClient.get_everything(\n\u001b[0m\u001b[1;32m      4\u001b[0m     \u001b[0mq\u001b[0m\u001b[0;34m=\u001b[0m\u001b[0;34m\"PLTR\"\u001b[0m\u001b[0;34m,\u001b[0m\u001b[0;34m\u001b[0m\u001b[0;34m\u001b[0m\u001b[0m\n\u001b[1;32m      5\u001b[0m     \u001b[0mlanguage\u001b[0m\u001b[0;34m=\u001b[0m\u001b[0;34m\"en\"\u001b[0m\u001b[0;34m,\u001b[0m\u001b[0;34m\u001b[0m\u001b[0;34m\u001b[0m\u001b[0m\n",
            "\u001b[0;31mAttributeError\u001b[0m: module 'newsapi' has no attribute 'get_everything'"
          ]
        }
      ]
    },
    {
      "cell_type": "code",
      "metadata": {
        "id": "kI66fxdMithr",
        "outputId": "43db6a19-01aa-4387-eb26-095d5dd88d0a"
      },
      "source": [
        " # Transform the response dictionary to a DataFrame\n",
        "pltr_newsapi_df = pd.read_csv('Newsapi.csv')\n",
        "\n",
        "pltr_newsapi_df.head()"
      ],
      "execution_count": null,
      "outputs": [
        {
          "output_type": "execute_result",
          "data": {
            "text/html": [
              "<div>\n",
              "<style scoped>\n",
              "    .dataframe tbody tr th:only-of-type {\n",
              "        vertical-align: middle;\n",
              "    }\n",
              "\n",
              "    .dataframe tbody tr th {\n",
              "        vertical-align: top;\n",
              "    }\n",
              "\n",
              "    .dataframe thead th {\n",
              "        text-align: right;\n",
              "    }\n",
              "</style>\n",
              "<table border=\"1\" class=\"dataframe\">\n",
              "  <thead>\n",
              "    <tr style=\"text-align: right;\">\n",
              "      <th></th>\n",
              "      <th>Unnamed: 0</th>\n",
              "      <th>source</th>\n",
              "      <th>author</th>\n",
              "      <th>title</th>\n",
              "      <th>description</th>\n",
              "      <th>url</th>\n",
              "      <th>urlToImage</th>\n",
              "      <th>publishedAt</th>\n",
              "      <th>content</th>\n",
              "    </tr>\n",
              "  </thead>\n",
              "  <tbody>\n",
              "    <tr>\n",
              "      <th>0</th>\n",
              "      <td>0</td>\n",
              "      <td>{'id': None, 'name': 'Benzinga'}</td>\n",
              "      <td>Tyler Bundy</td>\n",
              "      <td>Palantir Stock Trades Higher: A Technical Anal...</td>\n",
              "      <td>Palantir Technology Inc. (NYSE:PLTR) shares we...</td>\n",
              "      <td>https://www.benzinga.com/trading-ideas/long-id...</td>\n",
              "      <td>https://cdn2.benzinga.com/files/imagecache/og_...</td>\n",
              "      <td>2021-03-25T19:06:00Z</td>\n",
              "      <td>Palantir Technology Inc. (NYSE:PLTR) shares we...</td>\n",
              "    </tr>\n",
              "    <tr>\n",
              "      <th>1</th>\n",
              "      <td>1</td>\n",
              "      <td>{'id': 'business-insider', 'name': 'Business I...</td>\n",
              "      <td>Emily Graffeo</td>\n",
              "      <td>Palantir jumps after securing 5-year contract ...</td>\n",
              "      <td>Summary List PlacementShares of Palantir gaine...</td>\n",
              "      <td>https://www.businessinsider.com/palantir-stock...</td>\n",
              "      <td>https://i.insider.com/605213680347cb00184b63a3...</td>\n",
              "      <td>2021-04-05T13:16:57Z</td>\n",
              "      <td>Shares of Palantir gained 3.47% early Monday a...</td>\n",
              "    </tr>\n",
              "    <tr>\n",
              "      <th>2</th>\n",
              "      <td>2</td>\n",
              "      <td>{'id': 'reuters', 'name': 'Reuters'}</td>\n",
              "      <td>Reuters Staff</td>\n",
              "      <td>Former Credit Suisse exec backed SPAC to take ...</td>\n",
              "      <td>Sarcos Robotics Inc said on Tuesday it will go...</td>\n",
              "      <td>https://www.reuters.com/article/us-sarcos-m-a-...</td>\n",
              "      <td>https://s1.reutersmedia.net/resources_v2/image...</td>\n",
              "      <td>2021-04-06T10:53:00Z</td>\n",
              "      <td>By Reuters Staff\\r\\n(Reuters) - Sarcos Robotic...</td>\n",
              "    </tr>\n",
              "    <tr>\n",
              "      <th>3</th>\n",
              "      <td>3</td>\n",
              "      <td>{'id': None, 'name': 'Slashdot.org'}</td>\n",
              "      <td>BeauHD</td>\n",
              "      <td>Coinbase Sets Direct Listing For April 14</td>\n",
              "      <td>Coinbase, the largest U.S. cryptocurrency exch...</td>\n",
              "      <td>https://slashdot.org/story/21/04/01/2124242/co...</td>\n",
              "      <td>https://a.fsdn.com/sd/topics/bitcoin_64.png</td>\n",
              "      <td>2021-04-02T01:25:00Z</td>\n",
              "      <td>The company's registration statement for the l...</td>\n",
              "    </tr>\n",
              "    <tr>\n",
              "      <th>4</th>\n",
              "      <td>4</td>\n",
              "      <td>{'id': 'reuters', 'name': 'Reuters'}</td>\n",
              "      <td>Reuters Staff</td>\n",
              "      <td>Breakingviews - Capital Calls - Cellebrite goo...</td>\n",
              "      <td>SOMETHING TO CELLEBRITE. Controversy over cops...</td>\n",
              "      <td>https://www.reuters.com/article/us-global-fina...</td>\n",
              "      <td>https://static.reuters.com/resources/r/?m=02&amp;d...</td>\n",
              "      <td>2021-04-08T19:41:00Z</td>\n",
              "      <td>By Reuters Staff\\r\\nA Cellebrite forensic devi...</td>\n",
              "    </tr>\n",
              "  </tbody>\n",
              "</table>\n",
              "</div>"
            ],
            "text/plain": [
              "   Unnamed: 0                                             source  \\\n",
              "0           0                   {'id': None, 'name': 'Benzinga'}   \n",
              "1           1  {'id': 'business-insider', 'name': 'Business I...   \n",
              "2           2               {'id': 'reuters', 'name': 'Reuters'}   \n",
              "3           3               {'id': None, 'name': 'Slashdot.org'}   \n",
              "4           4               {'id': 'reuters', 'name': 'Reuters'}   \n",
              "\n",
              "          author                                              title  \\\n",
              "0    Tyler Bundy  Palantir Stock Trades Higher: A Technical Anal...   \n",
              "1  Emily Graffeo  Palantir jumps after securing 5-year contract ...   \n",
              "2  Reuters Staff  Former Credit Suisse exec backed SPAC to take ...   \n",
              "3         BeauHD          Coinbase Sets Direct Listing For April 14   \n",
              "4  Reuters Staff  Breakingviews - Capital Calls - Cellebrite goo...   \n",
              "\n",
              "                                         description  \\\n",
              "0  Palantir Technology Inc. (NYSE:PLTR) shares we...   \n",
              "1  Summary List PlacementShares of Palantir gaine...   \n",
              "2  Sarcos Robotics Inc said on Tuesday it will go...   \n",
              "3  Coinbase, the largest U.S. cryptocurrency exch...   \n",
              "4  SOMETHING TO CELLEBRITE. Controversy over cops...   \n",
              "\n",
              "                                                 url  \\\n",
              "0  https://www.benzinga.com/trading-ideas/long-id...   \n",
              "1  https://www.businessinsider.com/palantir-stock...   \n",
              "2  https://www.reuters.com/article/us-sarcos-m-a-...   \n",
              "3  https://slashdot.org/story/21/04/01/2124242/co...   \n",
              "4  https://www.reuters.com/article/us-global-fina...   \n",
              "\n",
              "                                          urlToImage           publishedAt  \\\n",
              "0  https://cdn2.benzinga.com/files/imagecache/og_...  2021-03-25T19:06:00Z   \n",
              "1  https://i.insider.com/605213680347cb00184b63a3...  2021-04-05T13:16:57Z   \n",
              "2  https://s1.reutersmedia.net/resources_v2/image...  2021-04-06T10:53:00Z   \n",
              "3        https://a.fsdn.com/sd/topics/bitcoin_64.png  2021-04-02T01:25:00Z   \n",
              "4  https://static.reuters.com/resources/r/?m=02&d...  2021-04-08T19:41:00Z   \n",
              "\n",
              "                                             content  \n",
              "0  Palantir Technology Inc. (NYSE:PLTR) shares we...  \n",
              "1  Shares of Palantir gained 3.47% early Monday a...  \n",
              "2  By Reuters Staff\\r\\n(Reuters) - Sarcos Robotic...  \n",
              "3  The company's registration statement for the l...  \n",
              "4  By Reuters Staff\\r\\nA Cellebrite forensic devi...  "
            ]
          },
          "metadata": {
            "tags": []
          },
          "execution_count": 67
        }
      ]
    },
    {
      "cell_type": "code",
      "metadata": {
        "id": "2BX4KddTiyqj"
      },
      "source": [
        "#Create for loop to iterate every article and do VADER Sentiment analysis \n",
        "pltr_sentiments = []\n",
        "\n",
        "for index, row in pltr_newsapi_df.iterrows():\n",
        "    try:\n",
        "        text = row[\"content\"]\n",
        "        date = row[\"publishedAt\"]\n",
        "        sentiment = analyzer.polarity_scores(text)\n",
        "        compound = sentiment[\"compound\"]\n",
        "        pos = sentiment[\"pos\"]\n",
        "        neu = sentiment[\"neu\"]\n",
        "        neg = sentiment[\"neg\"]\n",
        "        pol=  get_sentiment(compound)\n",
        "        \n",
        "        pltr_sentiments.append({\n",
        "            \"text\": text,\n",
        "            \"date\": date,\n",
        "            \"compound\": compound,\n",
        "            \"positive\": pos,\n",
        "            \"negative\": neg,\n",
        "            \"neutral\": neu,\n",
        "            \"Polarity Score\":pol\n",
        "            \n",
        "        })\n",
        "        \n",
        "    except AttributeError:\n",
        "        pass"
      ],
      "execution_count": null,
      "outputs": []
    },
    {
      "cell_type": "code",
      "metadata": {
        "id": "71JdmyiBSrQN",
        "outputId": "8e6e6bf5-173c-4fe5-b857-994beb9daf35"
      },
      "source": [
        "# Create DataFrame\n",
        "pltr_newsapi_sentiment_df = pd.DataFrame(pltr_sentiments)\n",
        "\n",
        "# Reorder DataFrame columns\n",
        "pltr_newsapi_sentiment_df=pltr_newsapi_sentiment_df.sort_values('date')\n",
        "pltr_newsapi_sentiment_df['date'] = pd.to_datetime(pltr_newsapi_sentiment_df['date']).dt.date\n",
        "pltr_newsapi_sentiment_df.set_index('date',inplace=True)\n",
        "pltr_newsapi_sentiment_df"
      ],
      "execution_count": null,
      "outputs": [
        {
          "output_type": "execute_result",
          "data": {
            "text/html": [
              "<div>\n",
              "<style scoped>\n",
              "    .dataframe tbody tr th:only-of-type {\n",
              "        vertical-align: middle;\n",
              "    }\n",
              "\n",
              "    .dataframe tbody tr th {\n",
              "        vertical-align: top;\n",
              "    }\n",
              "\n",
              "    .dataframe thead th {\n",
              "        text-align: right;\n",
              "    }\n",
              "</style>\n",
              "<table border=\"1\" class=\"dataframe\">\n",
              "  <thead>\n",
              "    <tr style=\"text-align: right;\">\n",
              "      <th></th>\n",
              "      <th>text</th>\n",
              "      <th>compound</th>\n",
              "      <th>positive</th>\n",
              "      <th>negative</th>\n",
              "      <th>neutral</th>\n",
              "      <th>Polarity Score</th>\n",
              "    </tr>\n",
              "    <tr>\n",
              "      <th>date</th>\n",
              "      <th></th>\n",
              "      <th></th>\n",
              "      <th></th>\n",
              "      <th></th>\n",
              "      <th></th>\n",
              "      <th></th>\n",
              "    </tr>\n",
              "  </thead>\n",
              "  <tbody>\n",
              "    <tr>\n",
              "      <th>2021-03-10</th>\n",
              "      <td>As we move into the vaccination phase of the C...</td>\n",
              "      <td>0.4939</td>\n",
              "      <td>0.135</td>\n",
              "      <td>0.000</td>\n",
              "      <td>0.865</td>\n",
              "      <td>1</td>\n",
              "    </tr>\n",
              "    <tr>\n",
              "      <th>2021-03-10</th>\n",
              "      <td>In this video, I will talk about the five stoc...</td>\n",
              "      <td>0.7003</td>\n",
              "      <td>0.167</td>\n",
              "      <td>0.000</td>\n",
              "      <td>0.833</td>\n",
              "      <td>1</td>\n",
              "    </tr>\n",
              "    <tr>\n",
              "      <th>2021-03-10</th>\n",
              "      <td>Overview\\r\\n After an unprecedented rally in h...</td>\n",
              "      <td>0.0000</td>\n",
              "      <td>0.000</td>\n",
              "      <td>0.000</td>\n",
              "      <td>1.000</td>\n",
              "      <td>0</td>\n",
              "    </tr>\n",
              "    <tr>\n",
              "      <th>2021-03-10</th>\n",
              "      <td>Net Asset Value of $15.14 per Share as of Dece...</td>\n",
              "      <td>0.8934</td>\n",
              "      <td>0.305</td>\n",
              "      <td>0.000</td>\n",
              "      <td>0.695</td>\n",
              "      <td>1</td>\n",
              "    </tr>\n",
              "    <tr>\n",
              "      <th>2021-03-11</th>\n",
              "      <td>Image source: The Motley Fool.\\r\\nSuRo Capital...</td>\n",
              "      <td>-0.4404</td>\n",
              "      <td>0.000</td>\n",
              "      <td>0.108</td>\n",
              "      <td>0.892</td>\n",
              "      <td>-1</td>\n",
              "    </tr>\n",
              "    <tr>\n",
              "      <th>...</th>\n",
              "      <td>...</td>\n",
              "      <td>...</td>\n",
              "      <td>...</td>\n",
              "      <td>...</td>\n",
              "      <td>...</td>\n",
              "      <td>...</td>\n",
              "    </tr>\n",
              "    <tr>\n",
              "      <th>2021-04-09</th>\n",
              "      <td>Every so often, a new technology comes along t...</td>\n",
              "      <td>0.2732</td>\n",
              "      <td>0.062</td>\n",
              "      <td>0.000</td>\n",
              "      <td>0.938</td>\n",
              "      <td>1</td>\n",
              "    </tr>\n",
              "    <tr>\n",
              "      <th>2021-04-09</th>\n",
              "      <td>Photo by Sundry Photography/iStock Editorial v...</td>\n",
              "      <td>0.2960</td>\n",
              "      <td>0.064</td>\n",
              "      <td>0.000</td>\n",
              "      <td>0.936</td>\n",
              "      <td>1</td>\n",
              "    </tr>\n",
              "    <tr>\n",
              "      <th>2021-04-09</th>\n",
              "      <td>Photo by Sundry Photography/iStock Editorial v...</td>\n",
              "      <td>0.2960</td>\n",
              "      <td>0.064</td>\n",
              "      <td>0.000</td>\n",
              "      <td>0.936</td>\n",
              "      <td>1</td>\n",
              "    </tr>\n",
              "    <tr>\n",
              "      <th>2021-04-10</th>\n",
              "      <td>As antitrust regulators and members of Congres...</td>\n",
              "      <td>0.1027</td>\n",
              "      <td>0.045</td>\n",
              "      <td>0.000</td>\n",
              "      <td>0.955</td>\n",
              "      <td>1</td>\n",
              "    </tr>\n",
              "    <tr>\n",
              "      <th>2021-04-10</th>\n",
              "      <td>For more than a year, investors have been priv...</td>\n",
              "      <td>0.4404</td>\n",
              "      <td>0.081</td>\n",
              "      <td>0.000</td>\n",
              "      <td>0.919</td>\n",
              "      <td>1</td>\n",
              "    </tr>\n",
              "  </tbody>\n",
              "</table>\n",
              "<p>100 rows × 6 columns</p>\n",
              "</div>"
            ],
            "text/plain": [
              "                                                         text  compound  \\\n",
              "date                                                                      \n",
              "2021-03-10  As we move into the vaccination phase of the C...    0.4939   \n",
              "2021-03-10  In this video, I will talk about the five stoc...    0.7003   \n",
              "2021-03-10  Overview\\r\\n After an unprecedented rally in h...    0.0000   \n",
              "2021-03-10  Net Asset Value of $15.14 per Share as of Dece...    0.8934   \n",
              "2021-03-11  Image source: The Motley Fool.\\r\\nSuRo Capital...   -0.4404   \n",
              "...                                                       ...       ...   \n",
              "2021-04-09  Every so often, a new technology comes along t...    0.2732   \n",
              "2021-04-09  Photo by Sundry Photography/iStock Editorial v...    0.2960   \n",
              "2021-04-09  Photo by Sundry Photography/iStock Editorial v...    0.2960   \n",
              "2021-04-10  As antitrust regulators and members of Congres...    0.1027   \n",
              "2021-04-10  For more than a year, investors have been priv...    0.4404   \n",
              "\n",
              "            positive  negative  neutral  Polarity Score  \n",
              "date                                                     \n",
              "2021-03-10     0.135     0.000    0.865               1  \n",
              "2021-03-10     0.167     0.000    0.833               1  \n",
              "2021-03-10     0.000     0.000    1.000               0  \n",
              "2021-03-10     0.305     0.000    0.695               1  \n",
              "2021-03-11     0.000     0.108    0.892              -1  \n",
              "...              ...       ...      ...             ...  \n",
              "2021-04-09     0.062     0.000    0.938               1  \n",
              "2021-04-09     0.064     0.000    0.936               1  \n",
              "2021-04-09     0.064     0.000    0.936               1  \n",
              "2021-04-10     0.045     0.000    0.955               1  \n",
              "2021-04-10     0.081     0.000    0.919               1  \n",
              "\n",
              "[100 rows x 6 columns]"
            ]
          },
          "metadata": {
            "tags": []
          },
          "execution_count": 88
        }
      ]
    },
    {
      "cell_type": "code",
      "metadata": {
        "id": "611lBkqE73Qn",
        "outputId": "c926ba0d-ef49-4db9-d599-827f848a613b"
      },
      "source": [
        "### CALCULATE AVERAGE BY DATE\n",
        "newsapi_sent_avg = pltr_newsapi_sentiment_df.groupby('date', as_index=True, sort=True)['compound','positive','negative','neutral','Polarity Score'].mean()\n",
        "newsapi_sent_avg"
      ],
      "execution_count": null,
      "outputs": [
        {
          "output_type": "stream",
          "text": [
            "<ipython-input-76-308ef425d7e6>:2: FutureWarning: Indexing with multiple keys (implicitly converted to a tuple of keys) will be deprecated, use a list instead.\n",
            "  newsapi_sent_avg = pltr_newsapi_sentiment_df.groupby('date', as_index=True, sort=True)['compound','positive','negative','neutral','Polarity Score'].mean()\n"
          ],
          "name": "stderr"
        },
        {
          "output_type": "execute_result",
          "data": {
            "text/html": [
              "<div>\n",
              "<style scoped>\n",
              "    .dataframe tbody tr th:only-of-type {\n",
              "        vertical-align: middle;\n",
              "    }\n",
              "\n",
              "    .dataframe tbody tr th {\n",
              "        vertical-align: top;\n",
              "    }\n",
              "\n",
              "    .dataframe thead th {\n",
              "        text-align: right;\n",
              "    }\n",
              "</style>\n",
              "<table border=\"1\" class=\"dataframe\">\n",
              "  <thead>\n",
              "    <tr style=\"text-align: right;\">\n",
              "      <th></th>\n",
              "      <th>compound</th>\n",
              "      <th>positive</th>\n",
              "      <th>negative</th>\n",
              "      <th>neutral</th>\n",
              "      <th>Polarity Score</th>\n",
              "    </tr>\n",
              "    <tr>\n",
              "      <th>date</th>\n",
              "      <th></th>\n",
              "      <th></th>\n",
              "      <th></th>\n",
              "      <th></th>\n",
              "      <th></th>\n",
              "    </tr>\n",
              "  </thead>\n",
              "  <tbody>\n",
              "    <tr>\n",
              "      <th>2021-03-10</th>\n",
              "      <td>0.521900</td>\n",
              "      <td>0.151750</td>\n",
              "      <td>0.000000</td>\n",
              "      <td>0.848250</td>\n",
              "      <td>0.750000</td>\n",
              "    </tr>\n",
              "    <tr>\n",
              "      <th>2021-03-11</th>\n",
              "      <td>-0.071825</td>\n",
              "      <td>0.019250</td>\n",
              "      <td>0.042000</td>\n",
              "      <td>0.938750</td>\n",
              "      <td>0.000000</td>\n",
              "    </tr>\n",
              "    <tr>\n",
              "      <th>2021-03-12</th>\n",
              "      <td>0.000000</td>\n",
              "      <td>0.000000</td>\n",
              "      <td>0.000000</td>\n",
              "      <td>1.000000</td>\n",
              "      <td>0.000000</td>\n",
              "    </tr>\n",
              "    <tr>\n",
              "      <th>2021-03-13</th>\n",
              "      <td>0.636900</td>\n",
              "      <td>0.144000</td>\n",
              "      <td>0.000000</td>\n",
              "      <td>0.856000</td>\n",
              "      <td>1.000000</td>\n",
              "    </tr>\n",
              "    <tr>\n",
              "      <th>2021-03-15</th>\n",
              "      <td>0.054700</td>\n",
              "      <td>0.068000</td>\n",
              "      <td>0.057667</td>\n",
              "      <td>0.874333</td>\n",
              "      <td>0.333333</td>\n",
              "    </tr>\n",
              "    <tr>\n",
              "      <th>2021-03-16</th>\n",
              "      <td>0.513567</td>\n",
              "      <td>0.145000</td>\n",
              "      <td>0.020000</td>\n",
              "      <td>0.835000</td>\n",
              "      <td>1.000000</td>\n",
              "    </tr>\n",
              "    <tr>\n",
              "      <th>2021-03-17</th>\n",
              "      <td>0.250000</td>\n",
              "      <td>0.054000</td>\n",
              "      <td>0.000000</td>\n",
              "      <td>0.946000</td>\n",
              "      <td>1.000000</td>\n",
              "    </tr>\n",
              "    <tr>\n",
              "      <th>2021-03-18</th>\n",
              "      <td>-0.090800</td>\n",
              "      <td>0.077000</td>\n",
              "      <td>0.101250</td>\n",
              "      <td>0.821750</td>\n",
              "      <td>-0.250000</td>\n",
              "    </tr>\n",
              "    <tr>\n",
              "      <th>2021-03-19</th>\n",
              "      <td>0.560950</td>\n",
              "      <td>0.127500</td>\n",
              "      <td>0.000000</td>\n",
              "      <td>0.872500</td>\n",
              "      <td>1.000000</td>\n",
              "    </tr>\n",
              "    <tr>\n",
              "      <th>2021-03-21</th>\n",
              "      <td>-0.680800</td>\n",
              "      <td>0.000000</td>\n",
              "      <td>0.162000</td>\n",
              "      <td>0.838000</td>\n",
              "      <td>-1.000000</td>\n",
              "    </tr>\n",
              "    <tr>\n",
              "      <th>2021-03-22</th>\n",
              "      <td>0.195840</td>\n",
              "      <td>0.075800</td>\n",
              "      <td>0.040800</td>\n",
              "      <td>0.883400</td>\n",
              "      <td>0.200000</td>\n",
              "    </tr>\n",
              "    <tr>\n",
              "      <th>2021-03-23</th>\n",
              "      <td>0.510600</td>\n",
              "      <td>0.168000</td>\n",
              "      <td>0.057000</td>\n",
              "      <td>0.775000</td>\n",
              "      <td>1.000000</td>\n",
              "    </tr>\n",
              "    <tr>\n",
              "      <th>2021-03-24</th>\n",
              "      <td>0.115400</td>\n",
              "      <td>0.039000</td>\n",
              "      <td>0.000000</td>\n",
              "      <td>0.961000</td>\n",
              "      <td>1.000000</td>\n",
              "    </tr>\n",
              "    <tr>\n",
              "      <th>2021-03-25</th>\n",
              "      <td>0.276125</td>\n",
              "      <td>0.111375</td>\n",
              "      <td>0.041375</td>\n",
              "      <td>0.847250</td>\n",
              "      <td>0.625000</td>\n",
              "    </tr>\n",
              "    <tr>\n",
              "      <th>2021-03-26</th>\n",
              "      <td>0.123733</td>\n",
              "      <td>0.069833</td>\n",
              "      <td>0.044833</td>\n",
              "      <td>0.885333</td>\n",
              "      <td>0.166667</td>\n",
              "    </tr>\n",
              "    <tr>\n",
              "      <th>2021-03-28</th>\n",
              "      <td>0.554525</td>\n",
              "      <td>0.130250</td>\n",
              "      <td>0.000000</td>\n",
              "      <td>0.869500</td>\n",
              "      <td>1.000000</td>\n",
              "    </tr>\n",
              "    <tr>\n",
              "      <th>2021-03-29</th>\n",
              "      <td>0.025733</td>\n",
              "      <td>0.021667</td>\n",
              "      <td>0.019333</td>\n",
              "      <td>0.959000</td>\n",
              "      <td>0.333333</td>\n",
              "    </tr>\n",
              "    <tr>\n",
              "      <th>2021-03-30</th>\n",
              "      <td>-0.195667</td>\n",
              "      <td>0.067333</td>\n",
              "      <td>0.102667</td>\n",
              "      <td>0.830000</td>\n",
              "      <td>-0.333333</td>\n",
              "    </tr>\n",
              "    <tr>\n",
              "      <th>2021-03-31</th>\n",
              "      <td>0.104050</td>\n",
              "      <td>0.073500</td>\n",
              "      <td>0.057500</td>\n",
              "      <td>0.869000</td>\n",
              "      <td>0.000000</td>\n",
              "    </tr>\n",
              "    <tr>\n",
              "      <th>2021-04-01</th>\n",
              "      <td>0.098156</td>\n",
              "      <td>0.038778</td>\n",
              "      <td>0.016556</td>\n",
              "      <td>0.944667</td>\n",
              "      <td>0.222222</td>\n",
              "    </tr>\n",
              "    <tr>\n",
              "      <th>2021-04-02</th>\n",
              "      <td>0.379033</td>\n",
              "      <td>0.121000</td>\n",
              "      <td>0.017667</td>\n",
              "      <td>0.861333</td>\n",
              "      <td>0.333333</td>\n",
              "    </tr>\n",
              "    <tr>\n",
              "      <th>2021-04-03</th>\n",
              "      <td>0.250000</td>\n",
              "      <td>0.131000</td>\n",
              "      <td>0.074000</td>\n",
              "      <td>0.795000</td>\n",
              "      <td>1.000000</td>\n",
              "    </tr>\n",
              "    <tr>\n",
              "      <th>2021-04-04</th>\n",
              "      <td>0.700300</td>\n",
              "      <td>0.182000</td>\n",
              "      <td>0.000000</td>\n",
              "      <td>0.818000</td>\n",
              "      <td>1.000000</td>\n",
              "    </tr>\n",
              "    <tr>\n",
              "      <th>2021-04-05</th>\n",
              "      <td>0.554740</td>\n",
              "      <td>0.193800</td>\n",
              "      <td>0.030400</td>\n",
              "      <td>0.775800</td>\n",
              "      <td>0.600000</td>\n",
              "    </tr>\n",
              "    <tr>\n",
              "      <th>2021-04-06</th>\n",
              "      <td>0.234817</td>\n",
              "      <td>0.082833</td>\n",
              "      <td>0.012500</td>\n",
              "      <td>0.904667</td>\n",
              "      <td>0.333333</td>\n",
              "    </tr>\n",
              "    <tr>\n",
              "      <th>2021-04-07</th>\n",
              "      <td>0.131975</td>\n",
              "      <td>0.090500</td>\n",
              "      <td>0.050000</td>\n",
              "      <td>0.859500</td>\n",
              "      <td>0.000000</td>\n",
              "    </tr>\n",
              "    <tr>\n",
              "      <th>2021-04-08</th>\n",
              "      <td>0.289550</td>\n",
              "      <td>0.085000</td>\n",
              "      <td>0.009000</td>\n",
              "      <td>0.906000</td>\n",
              "      <td>0.833333</td>\n",
              "    </tr>\n",
              "    <tr>\n",
              "      <th>2021-04-09</th>\n",
              "      <td>0.288400</td>\n",
              "      <td>0.063333</td>\n",
              "      <td>0.000000</td>\n",
              "      <td>0.936667</td>\n",
              "      <td>1.000000</td>\n",
              "    </tr>\n",
              "    <tr>\n",
              "      <th>2021-04-10</th>\n",
              "      <td>0.271550</td>\n",
              "      <td>0.063000</td>\n",
              "      <td>0.000000</td>\n",
              "      <td>0.937000</td>\n",
              "      <td>1.000000</td>\n",
              "    </tr>\n",
              "  </tbody>\n",
              "</table>\n",
              "</div>"
            ],
            "text/plain": [
              "            compound  positive  negative   neutral  Polarity Score\n",
              "date                                                              \n",
              "2021-03-10  0.521900  0.151750  0.000000  0.848250        0.750000\n",
              "2021-03-11 -0.071825  0.019250  0.042000  0.938750        0.000000\n",
              "2021-03-12  0.000000  0.000000  0.000000  1.000000        0.000000\n",
              "2021-03-13  0.636900  0.144000  0.000000  0.856000        1.000000\n",
              "2021-03-15  0.054700  0.068000  0.057667  0.874333        0.333333\n",
              "2021-03-16  0.513567  0.145000  0.020000  0.835000        1.000000\n",
              "2021-03-17  0.250000  0.054000  0.000000  0.946000        1.000000\n",
              "2021-03-18 -0.090800  0.077000  0.101250  0.821750       -0.250000\n",
              "2021-03-19  0.560950  0.127500  0.000000  0.872500        1.000000\n",
              "2021-03-21 -0.680800  0.000000  0.162000  0.838000       -1.000000\n",
              "2021-03-22  0.195840  0.075800  0.040800  0.883400        0.200000\n",
              "2021-03-23  0.510600  0.168000  0.057000  0.775000        1.000000\n",
              "2021-03-24  0.115400  0.039000  0.000000  0.961000        1.000000\n",
              "2021-03-25  0.276125  0.111375  0.041375  0.847250        0.625000\n",
              "2021-03-26  0.123733  0.069833  0.044833  0.885333        0.166667\n",
              "2021-03-28  0.554525  0.130250  0.000000  0.869500        1.000000\n",
              "2021-03-29  0.025733  0.021667  0.019333  0.959000        0.333333\n",
              "2021-03-30 -0.195667  0.067333  0.102667  0.830000       -0.333333\n",
              "2021-03-31  0.104050  0.073500  0.057500  0.869000        0.000000\n",
              "2021-04-01  0.098156  0.038778  0.016556  0.944667        0.222222\n",
              "2021-04-02  0.379033  0.121000  0.017667  0.861333        0.333333\n",
              "2021-04-03  0.250000  0.131000  0.074000  0.795000        1.000000\n",
              "2021-04-04  0.700300  0.182000  0.000000  0.818000        1.000000\n",
              "2021-04-05  0.554740  0.193800  0.030400  0.775800        0.600000\n",
              "2021-04-06  0.234817  0.082833  0.012500  0.904667        0.333333\n",
              "2021-04-07  0.131975  0.090500  0.050000  0.859500        0.000000\n",
              "2021-04-08  0.289550  0.085000  0.009000  0.906000        0.833333\n",
              "2021-04-09  0.288400  0.063333  0.000000  0.936667        1.000000\n",
              "2021-04-10  0.271550  0.063000  0.000000  0.937000        1.000000"
            ]
          },
          "metadata": {
            "tags": []
          },
          "execution_count": 76
        }
      ]
    },
    {
      "cell_type": "code",
      "metadata": {
        "id": "e5-iGnA0joVY",
        "outputId": "6800958a-e1ae-4446-8b7d-e9a0440c2b7d"
      },
      "source": [
        "# Graph tallied Polarity Score \n",
        "pltr_newsapi_sentiment_df.groupby('Polarity Score').size().plot(kind='bar')"
      ],
      "execution_count": null,
      "outputs": [
        {
          "output_type": "execute_result",
          "data": {
            "text/plain": [
              "<matplotlib.axes._subplots.AxesSubplot at 0x14f5d86d0>"
            ]
          },
          "metadata": {
            "tags": []
          },
          "execution_count": 30
        },
        {
          "output_type": "display_data",
          "data": {
            "image/png": "[encoded data removed]",
            "text/plain": [
              "<Figure size 432x288 with 1 Axes>"
            ]
          },
          "metadata": {
            "tags": [],
            "needs_background": "light"
          }
        }
      ]
    },
    {
      "cell_type": "markdown",
      "metadata": {
        "id": "nZ66H-i1SrQO"
      },
      "source": [
        "## Yahoo Finance Stock API "
      ]
    },
    {
      "cell_type": "code",
      "metadata": {
        "colab": {
          "base_uri": "https://localhost:8080/",
          "height": 235
        },
        "id": "n8aSHqmfoWk2",
        "outputId": "1a945cf3-6c3b-46b8-967f-f6c3ed2ae26f"
      },
      "source": [
        "# Load PLTR stock closing prices from YFinance\n",
        "pltr_yf = yf.download('PLTR',\n",
        "                       start='2020-01-01',\n",
        "                       end='2021-05-31',\n",
        "                       progress=False,\n",
        "                    #    index_col ='Date',\n",
        "                       infer_datetime_format= True,\n",
        "                       parse_dates = True,\n",
        "                       interval='1d'\n",
        "\n",
        ")\n",
        "# Create DataFrame\n",
        "pltr_yf_df = pd.DataFrame(pltr_yf)\n",
        "pltr_yf_df.reset_index(inplace=True)\n",
        "# Reorder DataFrame columns\n",
        "pltr_yf_df=pltr_yf_df.sort_values('Date')\n",
        "# pltr_yf_df['Date'] = pd.to_datetime(pltr_yf_df['Date']).dt.date\n",
        "pltr_yf_df.set_index('Date',inplace=True)\n",
        "# set_index(pltr_yf_df['Date']).to_datetime().dt.date\n",
        "#Drop All columsn except 'Close'\n",
        "pltr_yf_df.drop(columns=['Open','High','Low','Volume','Adj Close'],inplace=True)\n",
        "pltr_yf_df.info()\n",
        "pltr_yf_df"
      ],
      "execution_count": null,
      "outputs": [
        {
          "output_type": "stream",
          "text": [
            "<class 'pandas.core.frame.DataFrame'>\n",
            "DatetimeIndex: 134 entries, 2020-09-30 to 2021-04-13\n",
            "Data columns (total 1 columns):\n",
            " #   Column  Non-Null Count  Dtype  \n",
            "---  ------  --------------  -----  \n",
            " 0   Close   134 non-null    float64\n",
            "dtypes: float64(1)\n",
            "memory usage: 2.1 KB\n"
          ],
          "name": "stdout"
        },
        {
          "output_type": "execute_result",
          "data": {
            "text/html": [
              "<div>\n",
              "<style scoped>\n",
              "    .dataframe tbody tr th:only-of-type {\n",
              "        vertical-align: middle;\n",
              "    }\n",
              "\n",
              "    .dataframe tbody tr th {\n",
              "        vertical-align: top;\n",
              "    }\n",
              "\n",
              "    .dataframe thead th {\n",
              "        text-align: right;\n",
              "    }\n",
              "</style>\n",
              "<table border=\"1\" class=\"dataframe\">\n",
              "  <thead>\n",
              "    <tr style=\"text-align: right;\">\n",
              "      <th></th>\n",
              "      <th>Close</th>\n",
              "    </tr>\n",
              "    <tr>\n",
              "      <th>Date</th>\n",
              "      <th></th>\n",
              "    </tr>\n",
              "  </thead>\n",
              "  <tbody>\n",
              "    <tr>\n",
              "      <th>2020-09-30</th>\n",
              "      <td>9.500000</td>\n",
              "    </tr>\n",
              "    <tr>\n",
              "      <th>2020-10-01</th>\n",
              "      <td>9.460000</td>\n",
              "    </tr>\n",
              "    <tr>\n",
              "      <th>2020-10-02</th>\n",
              "      <td>9.200000</td>\n",
              "    </tr>\n",
              "    <tr>\n",
              "      <th>2020-10-05</th>\n",
              "      <td>9.030000</td>\n",
              "    </tr>\n",
              "    <tr>\n",
              "      <th>2020-10-06</th>\n",
              "      <td>9.900000</td>\n",
              "    </tr>\n",
              "    <tr>\n",
              "      <th>...</th>\n",
              "      <td>...</td>\n",
              "    </tr>\n",
              "    <tr>\n",
              "      <th>2021-04-07</th>\n",
              "      <td>22.900000</td>\n",
              "    </tr>\n",
              "    <tr>\n",
              "      <th>2021-04-08</th>\n",
              "      <td>23.410000</td>\n",
              "    </tr>\n",
              "    <tr>\n",
              "      <th>2021-04-09</th>\n",
              "      <td>24.040001</td>\n",
              "    </tr>\n",
              "    <tr>\n",
              "      <th>2021-04-12</th>\n",
              "      <td>23.340000</td>\n",
              "    </tr>\n",
              "    <tr>\n",
              "      <th>2021-04-13</th>\n",
              "      <td>25.420000</td>\n",
              "    </tr>\n",
              "  </tbody>\n",
              "</table>\n",
              "<p>134 rows × 1 columns</p>\n",
              "</div>"
            ],
            "text/plain": [
              "                Close\n",
              "Date                 \n",
              "2020-09-30   9.500000\n",
              "2020-10-01   9.460000\n",
              "2020-10-02   9.200000\n",
              "2020-10-05   9.030000\n",
              "2020-10-06   9.900000\n",
              "...               ...\n",
              "2021-04-07  22.900000\n",
              "2021-04-08  23.410000\n",
              "2021-04-09  24.040001\n",
              "2021-04-12  23.340000\n",
              "2021-04-13  25.420000\n",
              "\n",
              "[134 rows x 1 columns]"
            ]
          },
          "metadata": {
            "tags": []
          },
          "execution_count": 206
        }
      ]
    },
    {
      "cell_type": "code",
      "metadata": {
        "id": "AWhDvNPA9Asb",
        "outputId": "702d5283-cd52-42f2-a3bc-76fbbe3102a2"
      },
      "source": [
        "## Concat Close price data frame with NewsApi Vader sentiment  \n",
        "pltr_yf_newsapi = pd.concat([pltr_yf_df,newsapi_sent_avg],axis=1,join='outer')\n",
        "pltr_yf_newsapi.dropna(inplace=True)\n",
        "pltr_yf_newsapi.info()\n",
        "# combined_sent_df = pd.read_csv('/content/pltr_twitter_df.csv')"
      ],
      "execution_count": null,
      "outputs": [
        {
          "output_type": "stream",
          "text": [
            "<class 'pandas.core.frame.DataFrame'>\n",
            "DatetimeIndex: 22 entries, 2021-03-10 to 2021-04-09\n",
            "Data columns (total 6 columns):\n",
            " #   Column          Non-Null Count  Dtype  \n",
            "---  ------          --------------  -----  \n",
            " 0   Close           22 non-null     float64\n",
            " 1   compound        22 non-null     float64\n",
            " 2   positive        22 non-null     float64\n",
            " 3   negative        22 non-null     float64\n",
            " 4   neutral         22 non-null     float64\n",
            " 5   Polarity Score  22 non-null     float64\n",
            "dtypes: float64(6)\n",
            "memory usage: 1.2 KB\n"
          ],
          "name": "stdout"
        }
      ]
    },
    {
      "cell_type": "markdown",
      "metadata": {
        "id": "zs3G3UlQSrQP"
      },
      "source": [
        "## VADER COMBINED DATAFRAME"
      ]
    },
    {
      "cell_type": "code",
      "metadata": {
        "colab": {
          "base_uri": "https://localhost:8080/",
          "height": 164
        },
        "id": "W_eJ8T_7AS5h",
        "outputId": "30c8586a-ea4d-4e88-ae16-260ceccd4dd2"
      },
      "source": [
        "## WE NEED TO FIX THIS CHECK THIS (???)\n",
        "pltr_sent_df= pd.concat([pltr_yf_twitter, pltr_yf_newsapi], axis='columns', join=\"inner\", ignore_index=False)\n",
        "cols='Close','Compound (Tweets)', 'Positive (Tweets)','Negative (Tweets)','Neutral (Tweets)','Polarity Score (Tweets)','Compound Cumulative Returns (Tweets)','Compound (NewsApi)', 'Positive (NewsApi)','Negative (NewsApi)','Neutral (NewsApi)','Polarity Score (NewsApi)'\n",
        "#pltr_sent_df.drop(columns=['CumReturn'],inplace=True) # WE MAY NOT  NEED THIS AFTER A FRESH RUN\n",
        "#pltr_sent_df = pltr_sent_df.columns(cols) \n",
        "#pltr_sent_df.rename(columns=cols)## HOW DO WE CHANGE THE COLUMN NAMES?\n",
        "## WE NEED TO DROP ONLY ONE CLOSE COLUMN - CHANGE NAME TO T\n",
        "pltr_sent_df.info()"
      ],
      "execution_count": null,
      "outputs": [
        {
          "output_type": "stream",
          "text": [
            "<class 'pandas.core.frame.DataFrame'>\n",
            "DatetimeIndex: 17 entries, 2021-03-10 to 2021-04-01\n",
            "Freq: B\n",
            "Data columns (total 16 columns):\n",
            " #   Column                  Non-Null Count  Dtype  \n",
            "---  ------                  --------------  -----  \n",
            " 0   Close                   17 non-null     float64\n",
            " 1   compound                17 non-null     float64\n",
            " 2   positive                17 non-null     float64\n",
            " 3   negative                17 non-null     float64\n",
            " 4   neutral                 17 non-null     float64\n",
            " 5   Polarity Score          17 non-null     float64\n",
            " 6   Compound Returns        17 non-null     float64\n",
            " 7   Rolling 5 Day Compound  17 non-null     float64\n",
            " 8   Close                   17 non-null     float64\n",
            " 9   compound                17 non-null     float64\n",
            " 10  positive                17 non-null     float64\n",
            " 11  negative                17 non-null     float64\n",
            " 12  neutral                 17 non-null     float64\n",
            " 13  Polarity Score          17 non-null     float64\n",
            " 14  Compound Returns        2 non-null      float64\n",
            " 15  Rolling 5 Day Compound  13 non-null     float64\n",
            "dtypes: float64(16)\n",
            "memory usage: 2.3 KB\n"
          ],
          "name": "stdout"
        }
      ]
    },
    {
      "cell_type": "code",
      "metadata": {
        "id": "GaW-NMHJSrQP"
      },
      "source": [
        "pltr_yf_newsapi.info() ## OR WE RENAME CLOSE COLUMN HERE TO DROP IN COMBINED DF\n",
        "\n",
        "# THIS WILL ALLOW US TO CREATE HEATMAP OF BOTH TWITTER AND NEWSAPI V CLOSING PRICES\n"
      ],
      "execution_count": null,
      "outputs": []
    },
    {
      "cell_type": "code",
      "metadata": {
        "id": "Qrf1za6WSrQP",
        "outputId": "5ae6ba16-2c9d-4b1c-e19e-772bf17cba7f"
      },
      "source": [
        "pltr_yf_twitter = pd.concat([pltr_yf_df,twitter_sent_avg],axis=1,join='outer')\n",
        "# pltr_yf_twitter.dropna(inplace=True)\n",
        "pltr_yf_twitter.dropna(inplace=True)\n",
        "pltr_yf_twitter.head()"
      ],
      "execution_count": null,
      "outputs": [
        {
          "output_type": "execute_result",
          "data": {
            "text/html": [
              "<div>\n",
              "<style scoped>\n",
              "    .dataframe tbody tr th:only-of-type {\n",
              "        vertical-align: middle;\n",
              "    }\n",
              "\n",
              "    .dataframe tbody tr th {\n",
              "        vertical-align: top;\n",
              "    }\n",
              "\n",
              "    .dataframe thead th {\n",
              "        text-align: right;\n",
              "    }\n",
              "</style>\n",
              "<table border=\"1\" class=\"dataframe\">\n",
              "  <thead>\n",
              "    <tr style=\"text-align: right;\">\n",
              "      <th></th>\n",
              "      <th>Close</th>\n",
              "      <th>compound</th>\n",
              "      <th>positive</th>\n",
              "      <th>negative</th>\n",
              "      <th>neutral</th>\n",
              "      <th>Polarity Score</th>\n",
              "    </tr>\n",
              "  </thead>\n",
              "  <tbody>\n",
              "    <tr>\n",
              "      <th>2020-09-30</th>\n",
              "      <td>9.50</td>\n",
              "      <td>0.147594</td>\n",
              "      <td>0.094543</td>\n",
              "      <td>0.034711</td>\n",
              "      <td>0.870748</td>\n",
              "      <td>0.272287</td>\n",
              "    </tr>\n",
              "    <tr>\n",
              "      <th>2020-10-01</th>\n",
              "      <td>9.46</td>\n",
              "      <td>0.009902</td>\n",
              "      <td>0.080625</td>\n",
              "      <td>0.063405</td>\n",
              "      <td>0.855963</td>\n",
              "      <td>0.101329</td>\n",
              "    </tr>\n",
              "    <tr>\n",
              "      <th>2020-10-02</th>\n",
              "      <td>9.20</td>\n",
              "      <td>-0.000485</td>\n",
              "      <td>0.084356</td>\n",
              "      <td>0.061115</td>\n",
              "      <td>0.854532</td>\n",
              "      <td>0.108974</td>\n",
              "    </tr>\n",
              "    <tr>\n",
              "      <th>2020-10-05</th>\n",
              "      <td>9.03</td>\n",
              "      <td>0.186457</td>\n",
              "      <td>0.091758</td>\n",
              "      <td>0.033205</td>\n",
              "      <td>0.875005</td>\n",
              "      <td>0.394737</td>\n",
              "    </tr>\n",
              "    <tr>\n",
              "      <th>2020-10-06</th>\n",
              "      <td>9.90</td>\n",
              "      <td>0.197717</td>\n",
              "      <td>0.104604</td>\n",
              "      <td>0.036160</td>\n",
              "      <td>0.859233</td>\n",
              "      <td>0.363144</td>\n",
              "    </tr>\n",
              "  </tbody>\n",
              "</table>\n",
              "</div>"
            ],
            "text/plain": [
              "            Close  compound  positive  negative   neutral  Polarity Score\n",
              "2020-09-30   9.50  0.147594  0.094543  0.034711  0.870748        0.272287\n",
              "2020-10-01   9.46  0.009902  0.080625  0.063405  0.855963        0.101329\n",
              "2020-10-02   9.20 -0.000485  0.084356  0.061115  0.854532        0.108974\n",
              "2020-10-05   9.03  0.186457  0.091758  0.033205  0.875005        0.394737\n",
              "2020-10-06   9.90  0.197717  0.104604  0.036160  0.859233        0.363144"
            ]
          },
          "metadata": {
            "tags": []
          },
          "execution_count": 100
        }
      ]
    },
    {
      "cell_type": "code",
      "metadata": {
        "id": "lph9a5lVSrQQ",
        "outputId": "f291c247-cb57-485c-ff0d-6daf74deb964"
      },
      "source": [
        "pltr_yf_twitter.info()\n",
        "# Save CSV file \n",
        "pltr_yf_twitter.to_csv(\"pltr_yf_twitter_df.csv\", index=True)"
      ],
      "execution_count": null,
      "outputs": [
        {
          "output_type": "stream",
          "text": [
            "<class 'pandas.core.frame.DataFrame'>\n",
            "DatetimeIndex: 127 entries, 2020-09-30 to 2021-04-01\n",
            "Data columns (total 6 columns):\n",
            " #   Column          Non-Null Count  Dtype  \n",
            "---  ------          --------------  -----  \n",
            " 0   Close           127 non-null    float64\n",
            " 1   compound        127 non-null    float64\n",
            " 2   positive        127 non-null    float64\n",
            " 3   negative        127 non-null    float64\n",
            " 4   neutral         127 non-null    float64\n",
            " 5   Polarity Score  127 non-null    float64\n",
            "dtypes: float64(6)\n",
            "memory usage: 11.9 KB\n"
          ],
          "name": "stdout"
        }
      ]
    },
    {
      "cell_type": "code",
      "metadata": {
        "id": "97YsioAHSrQQ",
        "outputId": "e96ed353-cad5-49f5-8e6d-12ca19e0d34f"
      },
      "source": [
        "import seaborn as sns\n",
        "\n",
        "newsapi_yf_corr = pltr_yf_newsapi.corr()\n",
        "sns.heatmap(newsapi_yf_corr,vmin=-1,vmax=1,annot=True)"
      ],
      "execution_count": null,
      "outputs": [
        {
          "output_type": "execute_result",
          "data": {
            "text/plain": [
              "<matplotlib.axes._subplots.AxesSubplot at 0x15d758520>"
            ]
          },
          "metadata": {
            "tags": []
          },
          "execution_count": 203
        },
        {
          "output_type": "display_data",
          "data": {
            "image/png": "[encoded data removed]",
            "text/plain": [
              "<Figure size 432x288 with 2 Axes>"
            ]
          },
          "metadata": {
            "tags": [],
            "needs_background": "light"
          }
        }
      ]
    },
    {
      "cell_type": "code",
      "metadata": {
        "id": "escw4DtLSrQQ",
        "outputId": "df133e8b-7dac-4c23-f223-a9ceaba2cb05"
      },
      "source": [
        "twitter_yf_corr = pltr_yf_twitter.corr()\n",
        "sns.heatmap(twitter_yf_corr,vmin=-1,vmax=1,annot=True)"
      ],
      "execution_count": null,
      "outputs": [
        {
          "output_type": "execute_result",
          "data": {
            "text/plain": [
              "<matplotlib.axes._subplots.AxesSubplot at 0x15d8f8850>"
            ]
          },
          "metadata": {
            "tags": []
          },
          "execution_count": 204
        },
        {
          "output_type": "display_data",
          "data": {
            "image/png": "[encoded data removed]",
            "text/plain": [
              "<Figure size 432x288 with 2 Axes>"
            ]
          },
          "metadata": {
            "tags": [],
            "needs_background": "light"
          }
        }
      ]
    },
    {
      "cell_type": "code",
      "metadata": {
        "id": "IaOvj6uRSrQQ",
        "outputId": "e480914b-1562-4d6e-9e06-eb62e3a66815"
      },
      "source": [
        "twitter_compound_returns = pltr_yf_twitter[\"compound\"].pct_change()\n",
        "twitter_compound_returns2= (1 + twitter_compound_returns).cumprod()\n",
        "pltr_yf_twitter['Compound Returns'] = twitter_compound_returns2\n",
        "\n",
        "twitter_rolling_compound = pltr_yf_twitter[\"compound\"].rolling(5).mean()\n",
        "pltr_yf_twitter['Rolling 5 Day Compound'] = twitter_rolling_compound\n",
        "\n",
        "newsapi_compound_returns = pltr_yf_newsapi[\"compound\"].pct_change()\n",
        "newsapi_compound_returns2= (1 + newsapi_compound_returns).cumprod() # THIS DOES NOT PRODUCE VALUABLE DATA - SEE HEATMAP BELOW\n",
        "pltr_yf_newsapi['Compound Returns'] = newsapi_compound_returns2\n",
        "\n",
        "newsapi_rolling_compound = pltr_yf_newsapi[\"compound\"].rolling(5).mean()\n",
        "pltr_yf_newsapi['Rolling 5 Day Compound'] = newsapi_rolling_compound\n",
        "\n",
        "# PLOT THE CLOSING PRICE AND DATE\n",
        "fig, ax =plt.subplots()\n",
        "ax.plot(pltr_yf_twitter.index, pltr_yf_twitter.Close, color=\"red\")\n",
        "# ax.plot(pltr_yf_newsapi.index, pltr_yf_newsapi.Close, color=\"green\")\n",
        "plt.xticks(rotation=45)\n",
        "ax.set_xlabel(\"Date\")\n",
        "ax.set_ylabel(\"Close\", color='red')\n",
        "\n",
        "# PLOT THE COMPOUND SENTIMENT SCORES\n",
        "# twin object for two different y-axis on the sample plot\n",
        "ax2=ax.twinx()\n",
        "# make a plot with different y-axis using second axis object\n",
        "ax2.plot(pltr_yf_twitter.index, pltr_yf_twitter[\"compound\"],color=\"blue\",marker=\"o\")\n",
        "#ax2.plot(pltr_yf_newsapi.index, pltr_yf_newsapi[\"compound\"], color=\"purple\", marker=\"o\")\n",
        "ax2.set_ylabel(\"Compound\",color=\"blue\")\n",
        "plt.show()\n",
        "\n",
        "## PLOT THE ROLLING COMPOUND SENTIMENT SCORES\n",
        "#ax2.plot(pltr_yf_twitter.index, twitter_rolling_compound,color=\"blue\",marker=\"o\")\n",
        "# ax2.plot(pltr_yf_newsapi.index, newsapi_rolling_compound, color=\"purple\", marker=\"o\")\n",
        "#ax2.set_ylabel(\"5 Day Rolling Compound\",color=\"blue\")\n",
        "#plt.show()"
      ],
      "execution_count": null,
      "outputs": [
        {
          "output_type": "display_data",
          "data": {
            "image/png": "[encoded data removed]",
            "text/plain": [
              "<Figure size 432x288 with 2 Axes>"
            ]
          },
          "metadata": {
            "tags": [],
            "needs_background": "light"
          }
        }
      ]
    },
    {
      "cell_type": "code",
      "metadata": {
        "id": "Wvu07bDPSrQQ",
        "outputId": "54beefff-a2e9-477f-ce4a-2c09a666110a"
      },
      "source": [
        "newsapi_compound_returns"
      ],
      "execution_count": null,
      "outputs": [
        {
          "output_type": "execute_result",
          "data": {
            "text/plain": [
              "2021-03-10         NaN\n",
              "2021-03-11   -1.137622\n",
              "2021-03-12   -1.000000\n",
              "2021-03-15         inf\n",
              "2021-03-16    8.388787\n",
              "2021-03-17   -0.513208\n",
              "2021-03-18   -1.363200\n",
              "2021-03-19   -7.177863\n",
              "2021-03-22   -0.650878\n",
              "2021-03-23    1.607230\n",
              "2021-03-24   -0.773991\n",
              "2021-03-25    1.392764\n",
              "2021-03-26   -0.551894\n",
              "2021-03-29   -0.792026\n",
              "2021-03-30   -8.603627\n",
              "2021-03-31   -1.531772\n",
              "2021-04-01   -0.056650\n",
              "2021-04-05    4.651641\n",
              "2021-04-06   -0.576709\n",
              "2021-04-07   -0.437966\n",
              "2021-04-08    1.193976\n",
              "2021-04-09   -0.003972\n",
              "Name: compound, dtype: float64"
            ]
          },
          "metadata": {
            "tags": []
          },
          "execution_count": 289
        }
      ]
    },
    {
      "cell_type": "code",
      "metadata": {
        "id": "BdsIlS6MSrQR",
        "outputId": "b49a0c77-0256-4139-b2e5-875adf72e2b0"
      },
      "source": [
        "newsapi_compound_returns2"
      ],
      "execution_count": null,
      "outputs": [
        {
          "output_type": "execute_result",
          "data": {
            "text/plain": [
              "2021-03-10         NaN\n",
              "2021-03-11   -0.137622\n",
              "2021-03-12   -0.000000\n",
              "2021-03-15         NaN\n",
              "2021-03-16         NaN\n",
              "2021-03-17         NaN\n",
              "2021-03-18         NaN\n",
              "2021-03-19         NaN\n",
              "2021-03-22         NaN\n",
              "2021-03-23         NaN\n",
              "2021-03-24         NaN\n",
              "2021-03-25         NaN\n",
              "2021-03-26         NaN\n",
              "2021-03-29         NaN\n",
              "2021-03-30         NaN\n",
              "2021-03-31         NaN\n",
              "2021-04-01         NaN\n",
              "2021-04-05         NaN\n",
              "2021-04-06         NaN\n",
              "2021-04-07         NaN\n",
              "2021-04-08         NaN\n",
              "2021-04-09         NaN\n",
              "Name: compound, dtype: float64"
            ]
          },
          "metadata": {
            "tags": []
          },
          "execution_count": 290
        }
      ]
    },
    {
      "cell_type": "code",
      "metadata": {
        "id": "zJoJBXq1SrQS",
        "outputId": "3c947cf0-305f-40c8-b8e5-f87cac816050"
      },
      "source": [
        "# pltr_yf_twitter.head()\n",
        "twitter_yf_corrs = pltr_yf_twitter[['Close','compound','Compound Returns','Rolling 5 Day Compound']].corr()\n",
        "sns.heatmap(twitter_yf_corrs,vmin=-1,vmax=1,annot=True)"
      ],
      "execution_count": null,
      "outputs": [
        {
          "output_type": "execute_result",
          "data": {
            "text/plain": [
              "<matplotlib.axes._subplots.AxesSubplot at 0x171ac0430>"
            ]
          },
          "metadata": {
            "tags": []
          },
          "execution_count": 291
        },
        {
          "output_type": "display_data",
          "data": {
            "image/png": "[encoded data removed]",
            "text/plain": [
              "<Figure size 432x288 with 2 Axes>"
            ]
          },
          "metadata": {
            "tags": [],
            "needs_background": "light"
          }
        }
      ]
    },
    {
      "cell_type": "code",
      "metadata": {
        "id": "Ec15g80XSrQX",
        "outputId": "e9daf2a7-bb05-4fe4-cd28-5013455a00d1"
      },
      "source": [
        "newsapi_yf_corrs = pltr_yf_newsapi[['Close','compound','Compound Returns','Rolling 5 Day Compound']].corr()\n",
        "sns.heatmap(newsapi_yf_corrs,vmin=-1,vmax=1,annot=True)"
      ],
      "execution_count": null,
      "outputs": [
        {
          "output_type": "execute_result",
          "data": {
            "text/plain": [
              "<matplotlib.axes._subplots.AxesSubplot at 0x172655970>"
            ]
          },
          "metadata": {
            "tags": []
          },
          "execution_count": 292
        },
        {
          "output_type": "display_data",
          "data": {
            "image/png": "[encoded data removed]",
            "text/plain": [
              "<Figure size 432x288 with 2 Axes>"
            ]
          },
          "metadata": {
            "tags": [],
            "needs_background": "light"
          }
        }
      ]
    },
    {
      "cell_type": "markdown",
      "metadata": {
        "id": "lir7mM_hnHBJ"
      },
      "source": [
        "## VADER Sentiments WordCloud "
      ]
    },
    {
      "cell_type": "code",
      "metadata": {
        "id": "Kq89oq4ymhfy"
      },
      "source": [
        "df = pltr_twitter_sentiment_df[\"Polarity Score\"]  ## WHAT IS THIS LINE FOR???\n",
        "#pltr_twitter_sentiment_df[pltr_twitter_sentiment_df[\"Polarity Score\"]=='-1']\n",
        "words = ' '.join(pltr_twitter_sentiment_df['text'])\n",
        "cleaned_word = \" \".join([word for word in words.split()\n",
        "                            if 'http' not in word\n",
        "                                and not word.startswith('@')\n",
        "                                and word != 'RT'\n",
        "                            ])\n",
        "stopwords = set(STOPWORDS)\n",
        "stopwords.add(\"PLTR\")\n",
        "stopwords.add(\"Palantir\")\n",
        "\n",
        "twitter_wordcloud = WordCloud(stopwords=stopwords,\n",
        "                      background_color='black',\n",
        "                      width=3000,\n",
        "                      height=2500\n",
        "                     ).generate(cleaned_word)"
      ],
      "execution_count": null,
      "outputs": []
    },
    {
      "cell_type": "code",
      "metadata": {
        "id": "I31cg1Psmhhk",
        "outputId": "27142cd4-8193-4162-fb52-3dbe30c7135a"
      },
      "source": [
        "plt.figure(1,figsize=(5, 5))\n",
        "plt.imshow(twitter_wordcloud)\n",
        "plt.axis('off')\n",
        "plt.show()"
      ],
      "execution_count": null,
      "outputs": [
        {
          "output_type": "display_data",
          "data": {
            "image/png": "[encoded data removed]",
            "text/plain": [
              "<Figure size 360x360 with 1 Axes>"
            ]
          },
          "metadata": {
            "tags": [],
            "needs_background": "light"
          }
        }
      ]
    },
    {
      "cell_type": "code",
      "metadata": {
        "id": "zJcerPc6_HYI"
      },
      "source": [
        "### NEWSAPI WORDCLOUD\n",
        "df = pltr_newsapi_sentiment_df[\"Polarity Score\"]  ## WHAT IS THIS LINE FOR???\n",
        "#pltr_twitter_sentiment_df[pltr_twitter_sentiment_df[\"Polarity Score\"]=='-1']\n",
        "words = ' '.join(pltr_newsapi_sentiment_df['text'])\n",
        "cleaned_word = \" \".join([word for word in words.split()\n",
        "                            if 'http' not in word\n",
        "                                and not word.startswith('@')\n",
        "                                and word != 'RT'\n",
        "                            ])\n",
        "stopwords = set(STOPWORDS)\n",
        "stopwords.add(\"PLTR\")\n",
        "stopwords.add(\"Palantir\")\n",
        "\n",
        "newsapi_wordcloud = WordCloud(stopwords=stopwords,\n",
        "                      background_color='black',\n",
        "                      width=3000,\n",
        "                      height=2500\n",
        "                     ).generate(cleaned_word)"
      ],
      "execution_count": null,
      "outputs": []
    },
    {
      "cell_type": "code",
      "metadata": {
        "id": "O93Xl0UCSrQZ",
        "outputId": "402aac8d-9877-4434-a135-dfbc47db861c"
      },
      "source": [
        "plt.figure(1,figsize=(5, 5))\n",
        "plt.imshow(newsapi_wordcloud)\n",
        "plt.axis('off')\n",
        "plt.show()"
      ],
      "execution_count": null,
      "outputs": [
        {
          "output_type": "display_data",
          "data": {
            "image/png": "[encoded data removed]",
            "text/plain": [
              "<Figure size 360x360 with 1 Axes>"
            ]
          },
          "metadata": {
            "tags": [],
            "needs_background": "light"
          }
        }
      ]
    },
    {
      "cell_type": "markdown",
      "metadata": {
        "id": "FBNXosaPSrQZ"
      },
      "source": [
        "## TWITTER TEXTBLOB SENTIMENT ANALYSIS"
      ]
    },
    {
      "cell_type": "code",
      "metadata": {
        "id": "VdkgL7MsSrQa",
        "outputId": "60577946-cd51-4ef3-adf5-21ff8a780ab0"
      },
      "source": [
        "# !pip install textblob\n",
        "from textblob import TextBlob\n",
        "pltr_tb_sentiments = []\n",
        "for index, row in pltr_twitter_df.iterrows():\n",
        "    try:\n",
        "        text = row[\"Tweet\"]\n",
        "        date = row[\"Date\"]\n",
        "        analysis = TextBlob(text).sentiment\n",
        "        analysisSub= TextBlob(text).subjectivity\n",
        "        analysisPol= TextBlob(text).polarity\n",
        "        pltr_tb_sentiments.append({\n",
        "            \"text\": text,\n",
        "            \"date\": date,\n",
        "            \"TB Subjectivity Score\": analysisSub,\n",
        "            \"TB Polarity Score\":analysisPol\n",
        "        })\n",
        "    except AttributeError:\n",
        "        pass\n",
        "pltr_tb_sentiment_df = pd.DataFrame(pltr_tb_sentiments)\n",
        "pltr_tb_sentiment_df"
      ],
      "execution_count": null,
      "outputs": [
        {
          "output_type": "execute_result",
          "data": {
            "text/html": [
              "<div>\n",
              "<style scoped>\n",
              "    .dataframe tbody tr th:only-of-type {\n",
              "        vertical-align: middle;\n",
              "    }\n",
              "\n",
              "    .dataframe tbody tr th {\n",
              "        vertical-align: top;\n",
              "    }\n",
              "\n",
              "    .dataframe thead th {\n",
              "        text-align: right;\n",
              "    }\n",
              "</style>\n",
              "<table border=\"1\" class=\"dataframe\">\n",
              "  <thead>\n",
              "    <tr style=\"text-align: right;\">\n",
              "      <th></th>\n",
              "      <th>text</th>\n",
              "      <th>date</th>\n",
              "      <th>TB Subjectivity Score</th>\n",
              "      <th>TB Polarity Score</th>\n",
              "    </tr>\n",
              "  </thead>\n",
              "  <tbody>\n",
              "    <tr>\n",
              "      <th>0</th>\n",
              "      <td>Don’t forget buy $PLTR tomorrow. Don’t sleep</td>\n",
              "      <td>2020-09-29</td>\n",
              "      <td>0.000000</td>\n",
              "      <td>0.000000</td>\n",
              "    </tr>\n",
              "    <tr>\n",
              "      <th>1</th>\n",
              "      <td>Why? Why do they have to keep giving us new in...</td>\n",
              "      <td>2020-09-29</td>\n",
              "      <td>0.427273</td>\n",
              "      <td>0.118182</td>\n",
              "    </tr>\n",
              "    <tr>\n",
              "      <th>2</th>\n",
              "      <td>Got $PLTR on my radar tomorrow. It's a growing...</td>\n",
              "      <td>2020-09-29</td>\n",
              "      <td>1.000000</td>\n",
              "      <td>0.600000</td>\n",
              "    </tr>\n",
              "    <tr>\n",
              "      <th>3</th>\n",
              "      <td>The data-mining-software company Palantir Tech...</td>\n",
              "      <td>2020-09-29</td>\n",
              "      <td>0.405556</td>\n",
              "      <td>0.033333</td>\n",
              "    </tr>\n",
              "    <tr>\n",
              "      <th>4</th>\n",
              "      <td>What you need to know about about Palantir lis...</td>\n",
              "      <td>2020-09-29</td>\n",
              "      <td>0.000000</td>\n",
              "      <td>0.000000</td>\n",
              "    </tr>\n",
              "    <tr>\n",
              "      <th>...</th>\n",
              "      <td>...</td>\n",
              "      <td>...</td>\n",
              "      <td>...</td>\n",
              "      <td>...</td>\n",
              "    </tr>\n",
              "    <tr>\n",
              "      <th>234644</th>\n",
              "      <td>@thetradingchick Didn’t know you were in $PLTR...</td>\n",
              "      <td>2021-04-03</td>\n",
              "      <td>0.762963</td>\n",
              "      <td>0.208333</td>\n",
              "    </tr>\n",
              "    <tr>\n",
              "      <th>234645</th>\n",
              "      <td>@GeniusStocks @alexcutler247 @gurgavin @SpacBo...</td>\n",
              "      <td>2021-04-03</td>\n",
              "      <td>1.000000</td>\n",
              "      <td>0.000000</td>\n",
              "    </tr>\n",
              "    <tr>\n",
              "      <th>234646</th>\n",
              "      <td>@GeniusStocks @alexcutler247 @gurgavin @SpacBo...</td>\n",
              "      <td>2021-04-03</td>\n",
              "      <td>1.000000</td>\n",
              "      <td>0.000000</td>\n",
              "    </tr>\n",
              "    <tr>\n",
              "      <th>234647</th>\n",
              "      <td>$PLTR Bullish count leading into Demo day, bea...</td>\n",
              "      <td>2021-04-03</td>\n",
              "      <td>1.000000</td>\n",
              "      <td>0.850000</td>\n",
              "    </tr>\n",
              "    <tr>\n",
              "      <th>234648</th>\n",
              "      <td>$PLTR Bullish count leading into Demo day, bea...</td>\n",
              "      <td>2021-04-03</td>\n",
              "      <td>1.000000</td>\n",
              "      <td>0.850000</td>\n",
              "    </tr>\n",
              "  </tbody>\n",
              "</table>\n",
              "<p>234649 rows × 4 columns</p>\n",
              "</div>"
            ],
            "text/plain": [
              "                                                     text        date  \\\n",
              "0            Don’t forget buy $PLTR tomorrow. Don’t sleep  2020-09-29   \n",
              "1       Why? Why do they have to keep giving us new in...  2020-09-29   \n",
              "2       Got $PLTR on my radar tomorrow. It's a growing...  2020-09-29   \n",
              "3       The data-mining-software company Palantir Tech...  2020-09-29   \n",
              "4       What you need to know about about Palantir lis...  2020-09-29   \n",
              "...                                                   ...         ...   \n",
              "234644  @thetradingchick Didn’t know you were in $PLTR...  2021-04-03   \n",
              "234645  @GeniusStocks @alexcutler247 @gurgavin @SpacBo...  2021-04-03   \n",
              "234646  @GeniusStocks @alexcutler247 @gurgavin @SpacBo...  2021-04-03   \n",
              "234647  $PLTR Bullish count leading into Demo day, bea...  2021-04-03   \n",
              "234648  $PLTR Bullish count leading into Demo day, bea...  2021-04-03   \n",
              "\n",
              "        TB Subjectivity Score  TB Polarity Score  \n",
              "0                    0.000000           0.000000  \n",
              "1                    0.427273           0.118182  \n",
              "2                    1.000000           0.600000  \n",
              "3                    0.405556           0.033333  \n",
              "4                    0.000000           0.000000  \n",
              "...                       ...                ...  \n",
              "234644               0.762963           0.208333  \n",
              "234645               1.000000           0.000000  \n",
              "234646               1.000000           0.000000  \n",
              "234647               1.000000           0.850000  \n",
              "234648               1.000000           0.850000  \n",
              "\n",
              "[234649 rows x 4 columns]"
            ]
          },
          "metadata": {
            "tags": []
          },
          "execution_count": 86
        }
      ]
    },
    {
      "cell_type": "code",
      "metadata": {
        "id": "aleqZnI7SrQa"
      },
      "source": [
        "#Drop duplicates\n",
        "pltr_tb_sentiment_df.drop_duplicates(inplace=True)\n",
        "pltr_tb_sentiment_df\n",
        "#Create & Save PLTR TEXT BLOB Sentiment as CSV file\n",
        "pltr_tb_sentiment_df.to_csv(\"ptlr_tb_sentiment_df.csv\", index=True)"
      ],
      "execution_count": null,
      "outputs": []
    },
    {
      "cell_type": "code",
      "metadata": {
        "id": "NGHh7rt4SrQa",
        "outputId": "f5082df9-c6ce-47d8-90ed-b82a16210158"
      },
      "source": [
        "### CALCULATE AVERAGE BY DATE\n",
        "twitter_tb_sent_avg = pltr_tb_sentiment_df.groupby('date', as_index=True, sort=True)['TB Subjectivity Score','TB Subjectivity Score'].mean()\n",
        "twitter_tb_sent_avg.info()\n",
        "twitter_tb_sent_avg"
      ],
      "execution_count": null,
      "outputs": [
        {
          "output_type": "stream",
          "text": [
            "<class 'pandas.core.frame.DataFrame'>\n",
            "Index: 187 entries, 2020-09-29 to 2021-04-03\n",
            "Data columns (total 2 columns):\n",
            " #   Column                 Non-Null Count  Dtype  \n",
            "---  ------                 --------------  -----  \n",
            " 0   TB Subjectivity Score  187 non-null    float64\n",
            " 1   TB Subjectivity Score  187 non-null    float64\n",
            "dtypes: float64(2)\n",
            "memory usage: 4.4+ KB\n"
          ],
          "name": "stdout"
        },
        {
          "output_type": "stream",
          "text": [
            "<ipython-input-60-8d7da218e4ce>:2: FutureWarning: Indexing with multiple keys (implicitly converted to a tuple of keys) will be deprecated, use a list instead.\n",
            "  twitter_tb_sent_avg = pltr_tb_sentiment_df.groupby('date', as_index=True, sort=True)['TB Subjectivity Score','TB Subjectivity Score'].mean()\n"
          ],
          "name": "stderr"
        },
        {
          "output_type": "execute_result",
          "data": {
            "text/html": [
              "<div>\n",
              "<style scoped>\n",
              "    .dataframe tbody tr th:only-of-type {\n",
              "        vertical-align: middle;\n",
              "    }\n",
              "\n",
              "    .dataframe tbody tr th {\n",
              "        vertical-align: top;\n",
              "    }\n",
              "\n",
              "    .dataframe thead th {\n",
              "        text-align: right;\n",
              "    }\n",
              "</style>\n",
              "<table border=\"1\" class=\"dataframe\">\n",
              "  <thead>\n",
              "    <tr style=\"text-align: right;\">\n",
              "      <th></th>\n",
              "      <th>TB Subjectivity Score</th>\n",
              "      <th>TB Subjectivity Score</th>\n",
              "    </tr>\n",
              "    <tr>\n",
              "      <th>date</th>\n",
              "      <th></th>\n",
              "      <th></th>\n",
              "    </tr>\n",
              "  </thead>\n",
              "  <tbody>\n",
              "    <tr>\n",
              "      <th>2020-09-29</th>\n",
              "      <td>0.308556</td>\n",
              "      <td>0.308556</td>\n",
              "    </tr>\n",
              "    <tr>\n",
              "      <th>2020-09-30</th>\n",
              "      <td>0.330395</td>\n",
              "      <td>0.330395</td>\n",
              "    </tr>\n",
              "    <tr>\n",
              "      <th>2020-10-01</th>\n",
              "      <td>0.371022</td>\n",
              "      <td>0.371022</td>\n",
              "    </tr>\n",
              "    <tr>\n",
              "      <th>2020-10-02</th>\n",
              "      <td>0.351119</td>\n",
              "      <td>0.351119</td>\n",
              "    </tr>\n",
              "    <tr>\n",
              "      <th>2020-10-03</th>\n",
              "      <td>0.402688</td>\n",
              "      <td>0.402688</td>\n",
              "    </tr>\n",
              "    <tr>\n",
              "      <th>...</th>\n",
              "      <td>...</td>\n",
              "      <td>...</td>\n",
              "    </tr>\n",
              "    <tr>\n",
              "      <th>2021-03-30</th>\n",
              "      <td>0.344988</td>\n",
              "      <td>0.344988</td>\n",
              "    </tr>\n",
              "    <tr>\n",
              "      <th>2021-03-31</th>\n",
              "      <td>0.336835</td>\n",
              "      <td>0.336835</td>\n",
              "    </tr>\n",
              "    <tr>\n",
              "      <th>2021-04-01</th>\n",
              "      <td>0.360484</td>\n",
              "      <td>0.360484</td>\n",
              "    </tr>\n",
              "    <tr>\n",
              "      <th>2021-04-02</th>\n",
              "      <td>0.366456</td>\n",
              "      <td>0.366456</td>\n",
              "    </tr>\n",
              "    <tr>\n",
              "      <th>2021-04-03</th>\n",
              "      <td>0.375036</td>\n",
              "      <td>0.375036</td>\n",
              "    </tr>\n",
              "  </tbody>\n",
              "</table>\n",
              "<p>187 rows × 2 columns</p>\n",
              "</div>"
            ],
            "text/plain": [
              "            TB Subjectivity Score  TB Subjectivity Score\n",
              "date                                                    \n",
              "2020-09-29               0.308556               0.308556\n",
              "2020-09-30               0.330395               0.330395\n",
              "2020-10-01               0.371022               0.371022\n",
              "2020-10-02               0.351119               0.351119\n",
              "2020-10-03               0.402688               0.402688\n",
              "...                           ...                    ...\n",
              "2021-03-30               0.344988               0.344988\n",
              "2021-03-31               0.336835               0.336835\n",
              "2021-04-01               0.360484               0.360484\n",
              "2021-04-02               0.366456               0.366456\n",
              "2021-04-03               0.375036               0.375036\n",
              "\n",
              "[187 rows x 2 columns]"
            ]
          },
          "metadata": {
            "tags": []
          },
          "execution_count": 60
        }
      ]
    },
    {
      "cell_type": "markdown",
      "metadata": {
        "id": "4ZVYEPWsSrQc"
      },
      "source": [
        "# NEWSAPI TEXTBLOB SENTIMENT ANALYSIS"
      ]
    },
    {
      "cell_type": "code",
      "metadata": {
        "id": "Wihel91RSrQc",
        "outputId": "0871b674-b54c-4afe-bf1a-93667edfea65"
      },
      "source": [
        "pltr_tb_newsapi_sentiments = []\n",
        "for index, row in pltr_newsapi_df.iterrows():\n",
        "    try:\n",
        "        text = row[\"content\"]\n",
        "        date = row[\"publishedAt\"]\n",
        "        analysis = TextBlob(text).sentiment\n",
        "        analysisSub= TextBlob(text).subjectivity\n",
        "        analysisPol= TextBlob(text).polarity\n",
        "        pltr_tb_sentiments.append({\n",
        "            \"text\": text,\n",
        "            \"date\": date,\n",
        "            \"TB Subjectivity Score\": analysisSub,\n",
        "            \"TB Polarity Score\":analysisPol\n",
        "        })\n",
        "    except AttributeError:\n",
        "        pass\n",
        "pltr_tb_newsapi_sentiment_df = pd.DataFrame(pltr_tb_newsapi_sentiments)\n",
        "pltr_tb_newsapi_sentiment_df"
      ],
      "execution_count": null,
      "outputs": [
        {
          "output_type": "execute_result",
          "data": {
            "text/html": [
              "<div>\n",
              "<style scoped>\n",
              "    .dataframe tbody tr th:only-of-type {\n",
              "        vertical-align: middle;\n",
              "    }\n",
              "\n",
              "    .dataframe tbody tr th {\n",
              "        vertical-align: top;\n",
              "    }\n",
              "\n",
              "    .dataframe thead th {\n",
              "        text-align: right;\n",
              "    }\n",
              "</style>\n",
              "<table border=\"1\" class=\"dataframe\">\n",
              "  <thead>\n",
              "    <tr style=\"text-align: right;\">\n",
              "      <th></th>\n",
              "    </tr>\n",
              "  </thead>\n",
              "  <tbody>\n",
              "  </tbody>\n",
              "</table>\n",
              "</div>"
            ],
            "text/plain": [
              "Empty DataFrame\n",
              "Columns: []\n",
              "Index: []"
            ]
          },
          "metadata": {
            "tags": []
          },
          "execution_count": 65
        }
      ]
    },
    {
      "cell_type": "code",
      "metadata": {
        "id": "CmIzf9LQSrQc",
        "outputId": "1c524b4a-18bf-4845-8f3e-b9073b1a745f"
      },
      "source": [
        "#Drop duplicates\n",
        "pltr_tb_newsapi_sentiment_df.drop_duplicates(inplace=True)\n",
        "pltr_tb_newsapi_sentiment_df"
      ],
      "execution_count": null,
      "outputs": [
        {
          "output_type": "execute_result",
          "data": {
            "text/html": [
              "<div>\n",
              "<style scoped>\n",
              "    .dataframe tbody tr th:only-of-type {\n",
              "        vertical-align: middle;\n",
              "    }\n",
              "\n",
              "    .dataframe tbody tr th {\n",
              "        vertical-align: top;\n",
              "    }\n",
              "\n",
              "    .dataframe thead th {\n",
              "        text-align: right;\n",
              "    }\n",
              "</style>\n",
              "<table border=\"1\" class=\"dataframe\">\n",
              "  <thead>\n",
              "    <tr style=\"text-align: right;\">\n",
              "      <th></th>\n",
              "    </tr>\n",
              "  </thead>\n",
              "  <tbody>\n",
              "  </tbody>\n",
              "</table>\n",
              "</div>"
            ],
            "text/plain": [
              "Empty DataFrame\n",
              "Columns: []\n",
              "Index: []"
            ]
          },
          "metadata": {
            "tags": []
          },
          "execution_count": 71
        }
      ]
    },
    {
      "cell_type": "markdown",
      "metadata": {
        "id": "z209Xl2k_nwH"
      },
      "source": [
        "## IBM WATSON TONE ANALYSIS - TWITTER AND NEWSAPI"
      ]
    },
    {
      "cell_type": "code",
      "metadata": {
        "id": "42RJzYSrSrQc"
      },
      "source": [
        ""
      ],
      "execution_count": null,
      "outputs": []
    },
    {
      "cell_type": "code",
      "metadata": {
        "id": "zFQ7X9ePSrQc"
      },
      "source": [
        ""
      ],
      "execution_count": null,
      "outputs": []
    },
    {
      "cell_type": "code",
      "metadata": {
        "id": "juGVx2tESrQc"
      },
      "source": [
        ""
      ],
      "execution_count": null,
      "outputs": []
    },
    {
      "cell_type": "code",
      "metadata": {
        "id": "U_Qr_KWfSrQc",
        "outputId": "97872f09-731d-49cf-fe12-63bc5c93355a"
      },
      "source": [
        "pltr_twitter_tone_df = pltr_twitter_sentiment_df.drop(columns=['compound','positive','negative','neutral','Polarity Score'])\n",
        "pltr_twitter_tone_df.head(1)"
      ],
      "execution_count": null,
      "outputs": [
        {
          "output_type": "execute_result",
          "data": {
            "text/html": [
              "<div>\n",
              "<style scoped>\n",
              "    .dataframe tbody tr th:only-of-type {\n",
              "        vertical-align: middle;\n",
              "    }\n",
              "\n",
              "    .dataframe tbody tr th {\n",
              "        vertical-align: top;\n",
              "    }\n",
              "\n",
              "    .dataframe thead th {\n",
              "        text-align: right;\n",
              "    }\n",
              "</style>\n",
              "<table border=\"1\" class=\"dataframe\">\n",
              "  <thead>\n",
              "    <tr style=\"text-align: right;\">\n",
              "      <th></th>\n",
              "      <th>text</th>\n",
              "    </tr>\n",
              "    <tr>\n",
              "      <th>date</th>\n",
              "      <th></th>\n",
              "    </tr>\n",
              "  </thead>\n",
              "  <tbody>\n",
              "    <tr>\n",
              "      <th>2020-09-29</th>\n",
              "      <td>Don’t forget buy $PLTR tomorrow. Don’t sleep</td>\n",
              "    </tr>\n",
              "  </tbody>\n",
              "</table>\n",
              "</div>"
            ],
            "text/plain": [
              "                                                    text\n",
              "date                                                    \n",
              "2020-09-29  Don’t forget buy $PLTR tomorrow. Don’t sleep"
            ]
          },
          "metadata": {
            "tags": []
          },
          "execution_count": 189
        }
      ]
    },
    {
      "cell_type": "code",
      "metadata": {
        "id": "Mnpy3YQ3SrQc",
        "outputId": "c4c7a84e-cbe1-4a96-bbb8-921419d181b9"
      },
      "source": [
        "pltr_newsapi_tone_df = pltr_newsapi_sentiment_df.drop(columns=['compound','positive','negative','neutral','Polarity Score'])\n",
        "pltr_newsapi_tone_df.head(1)"
      ],
      "execution_count": null,
      "outputs": [
        {
          "output_type": "execute_result",
          "data": {
            "text/html": [
              "<div>\n",
              "<style scoped>\n",
              "    .dataframe tbody tr th:only-of-type {\n",
              "        vertical-align: middle;\n",
              "    }\n",
              "\n",
              "    .dataframe tbody tr th {\n",
              "        vertical-align: top;\n",
              "    }\n",
              "\n",
              "    .dataframe thead th {\n",
              "        text-align: right;\n",
              "    }\n",
              "</style>\n",
              "<table border=\"1\" class=\"dataframe\">\n",
              "  <thead>\n",
              "    <tr style=\"text-align: right;\">\n",
              "      <th></th>\n",
              "      <th>text</th>\n",
              "    </tr>\n",
              "    <tr>\n",
              "      <th>date</th>\n",
              "      <th></th>\n",
              "    </tr>\n",
              "  </thead>\n",
              "  <tbody>\n",
              "    <tr>\n",
              "      <th>2021-03-10</th>\n",
              "      <td>As we move into the vaccination phase of the C...</td>\n",
              "    </tr>\n",
              "  </tbody>\n",
              "</table>\n",
              "</div>"
            ],
            "text/plain": [
              "                                                         text\n",
              "date                                                         \n",
              "2021-03-10  As we move into the vaccination phase of the C..."
            ]
          },
          "metadata": {
            "tags": []
          },
          "execution_count": 188
        }
      ]
    },
    {
      "cell_type": "code",
      "metadata": {
        "id": "UFNz5iOB_00u"
      },
      "source": [
        "\n",
        "# COMBINE INTO PLTR_TONE_DF\n",
        "## pltr_combined_tone_df= pd.concat([pltr_twitter_tone_df, pltr_newsapi_tone_df], join=\"0\", ignore_index=True)\n",
        "\n"
      ],
      "execution_count": null,
      "outputs": []
    },
    {
      "cell_type": "code",
      "metadata": {
        "id": "EO2BZHVoSrQd",
        "outputId": "aee985f4-7217-4432-9256-886ba6bcc00a"
      },
      "source": [
        "pltr_twitter_tone_df.head(1)"
      ],
      "execution_count": null,
      "outputs": [
        {
          "output_type": "execute_result",
          "data": {
            "text/html": [
              "<div>\n",
              "<style scoped>\n",
              "    .dataframe tbody tr th:only-of-type {\n",
              "        vertical-align: middle;\n",
              "    }\n",
              "\n",
              "    .dataframe tbody tr th {\n",
              "        vertical-align: top;\n",
              "    }\n",
              "\n",
              "    .dataframe thead th {\n",
              "        text-align: right;\n",
              "    }\n",
              "</style>\n",
              "<table border=\"1\" class=\"dataframe\">\n",
              "  <thead>\n",
              "    <tr style=\"text-align: right;\">\n",
              "      <th></th>\n",
              "      <th>text</th>\n",
              "    </tr>\n",
              "    <tr>\n",
              "      <th>date</th>\n",
              "      <th></th>\n",
              "    </tr>\n",
              "  </thead>\n",
              "  <tbody>\n",
              "    <tr>\n",
              "      <th>2020-09-29</th>\n",
              "      <td>Don’t forget buy $PLTR tomorrow. Don’t sleep</td>\n",
              "    </tr>\n",
              "  </tbody>\n",
              "</table>\n",
              "</div>"
            ],
            "text/plain": [
              "                                                    text\n",
              "date                                                    \n",
              "2020-09-29  Don’t forget buy $PLTR tomorrow. Don’t sleep"
            ]
          },
          "metadata": {
            "tags": []
          },
          "execution_count": 199
        }
      ]
    },
    {
      "cell_type": "code",
      "metadata": {
        "id": "e_7Vj-nGSrQd"
      },
      "source": [
        "from __future__ import print_function"
      ],
      "execution_count": null,
      "outputs": []
    },
    {
      "cell_type": "code",
      "metadata": {
        "id": "33nkmBpzgfhE",
        "outputId": "bedaaa59-5ebe-4eaa-96f6-33a3b654f9fe"
      },
      "source": [
        "# Define text to analyze\n",
        "tweets = pltr_twitter_tone_df[\"text\"]\n",
        "news = pltr_newsapi_tone_df['text']\n",
        "\n",
        "#  E.G.\n",
        "# for row in jsonText:\n",
        "#     for tones in row['document_tone']['tones']:\n",
        "#         print(' Name: {} . Score: {}'.format(tone['tone_name'], tone['score']))\n",
        "\n",
        "\n",
        "tweet_tones = []\n",
        "\n",
        "for row in tweets:\n",
        "    for tones in row:\n",
        "        print(' Name: {} . Score: {}'.format(tone['tone_name'], tone['score']))\n",
        "    content_type = 'application/json'\n",
        "    tone = tone_analyzer.tones(row)\n",
        "    jsonText = json.dumps(tone, indent=2)\n",
        "    jsonParse = json.loads(jsonText)\n",
        "    tweet_tones = jsonParse[\"document_tones\"][\"tones\"]\n",
        "    print(t)\n",
        "\n",
        "\n",
        "# # Analyze the text's tone with the 'tone()' method.\n",
        "# for index, row in pltr_twitter_tone_df.iterrows():\n",
        "#     try:\n",
        "#         text = row[\"text\"]\n",
        "#         date = index\n",
        "#         tone_analysis = tone_analyzer.tone(    \n",
        "#             {\"text\": tweets},\n",
        "content_type=\"application/json\"\n",
        "content_language=\"en\"\n",
        "accept_language=\"en\"\n",
        "sentences=True\n",
        "#             ).get_result()\n",
        "#         # Display tone analysis results\n",
        "# print(json.dumps(tone_analysis, indent=2))\n",
        "#         compound = tone_analysis[\"compound\"]\n",
        "#         pos = tone_analysis[\"pos\"]\n",
        "#         neu = tone_analysis[\"neu\"]\n",
        "#         neg = tone_analysis[\"neg\"]\n",
        "#         pol=  get_sentiment(compound)\n",
        "        \n",
        "#         pltr_twitter_tone_df.append({\n",
        "#             \"text\": text,\n",
        "#             \"date\": date,\n",
        "#             \"compound\": compound,\n",
        "#             \"positive\": pos,\n",
        "#             \"negative\": neg,\n",
        "#             \"neutral\": neu,\n",
        "#             \"Polarity Score\":pol,\n",
        "                        \n",
        "#         },ignore_index=True)\n",
        "        \n",
        "\n",
        "for row in news:\n",
        "    tone_analysis = tone_analyzer.tone([{\"text\": row},content_type,content_language,accept_language,sentences])\n",
        "    tweet_tones.append({\n",
        "        'tone': tone_analysis.get_result()\n",
        "    },ignore_index=True)\n",
        "\n",
        "    # except AttributeError:\n",
        "    #     pass\n",
        "\n",
        "# Display tone analysis results\n",
        "# print(json.dump(tone_analysis, indent=2)) \n",
        "\n",
        "\n",
        "print(tweet_tones.head(1))"
      ],
      "execution_count": null,
      "outputs": [
        {
          "output_type": "error",
          "ename": "NameError",
          "evalue": "name 'tone' is not defined",
          "traceback": [
            "\u001b[0;31m---------------------------------------------------------------------------\u001b[0m",
            "\u001b[0;31mNameError\u001b[0m                                 Traceback (most recent call last)",
            "\u001b[0;32m<ipython-input-248-a530a78e9c40>\u001b[0m in \u001b[0;36m<module>\u001b[0;34m\u001b[0m\n\u001b[1;32m     13\u001b[0m \u001b[0;32mfor\u001b[0m \u001b[0mrow\u001b[0m \u001b[0;32min\u001b[0m \u001b[0mtweets\u001b[0m\u001b[0;34m:\u001b[0m\u001b[0;34m\u001b[0m\u001b[0;34m\u001b[0m\u001b[0m\n\u001b[1;32m     14\u001b[0m     \u001b[0;32mfor\u001b[0m \u001b[0mtones\u001b[0m \u001b[0;32min\u001b[0m \u001b[0mrow\u001b[0m\u001b[0;34m:\u001b[0m\u001b[0;34m\u001b[0m\u001b[0;34m\u001b[0m\u001b[0m\n\u001b[0;32m---> 15\u001b[0;31m         \u001b[0mprint\u001b[0m\u001b[0;34m(\u001b[0m\u001b[0;34m' Name: {} . Score: {}'\u001b[0m\u001b[0;34m.\u001b[0m\u001b[0mformat\u001b[0m\u001b[0;34m(\u001b[0m\u001b[0mtone\u001b[0m\u001b[0;34m[\u001b[0m\u001b[0;34m'tone_name'\u001b[0m\u001b[0;34m]\u001b[0m\u001b[0;34m,\u001b[0m \u001b[0mtone\u001b[0m\u001b[0;34m[\u001b[0m\u001b[0;34m'score'\u001b[0m\u001b[0;34m]\u001b[0m\u001b[0;34m)\u001b[0m\u001b[0;34m)\u001b[0m\u001b[0;34m\u001b[0m\u001b[0;34m\u001b[0m\u001b[0m\n\u001b[0m\u001b[1;32m     16\u001b[0m     \u001b[0mcontent_type\u001b[0m \u001b[0;34m=\u001b[0m \u001b[0;34m'application/json'\u001b[0m\u001b[0;34m\u001b[0m\u001b[0;34m\u001b[0m\u001b[0m\n\u001b[1;32m     17\u001b[0m     \u001b[0mtone\u001b[0m \u001b[0;34m=\u001b[0m \u001b[0mtone_analyzer\u001b[0m\u001b[0;34m.\u001b[0m\u001b[0mtones\u001b[0m\u001b[0;34m(\u001b[0m\u001b[0mrow\u001b[0m\u001b[0;34m)\u001b[0m\u001b[0;34m\u001b[0m\u001b[0;34m\u001b[0m\u001b[0m\n",
            "\u001b[0;31mNameError\u001b[0m: name 'tone' is not defined"
          ]
        }
      ]
    },
    {
      "cell_type": "code",
      "metadata": {
        "id": "adg8zZ-gSrQd"
      },
      "source": [
        "tone_analysis = tone_analyzer.tone({\"text\": tweets},content_type=\"application/json\",content_language=\"en\",accept_language=\"en\").get_result()\n",
        "        # Display tone analysis results\n",
        "print(json.dumps(tone_analysis, indent=2))"
      ],
      "execution_count": null,
      "outputs": []
    },
    {
      "cell_type": "markdown",
      "metadata": {
        "id": "YPOqUfQHSrQd"
      },
      "source": [
        "### Transform Tone Analysis json to a DataFrame"
      ]
    },
    {
      "cell_type": "code",
      "metadata": {
        "id": "LG3pD416g0NQ"
      },
      "source": [
        "# Document Tones\n",
        "doc_tone_df = json_normalize(data=tone_analysis[\"document_tone\"], record_path=[\"tones\"])\n",
        "doc_tone_df"
      ],
      "execution_count": null,
      "outputs": []
    },
    {
      "cell_type": "code",
      "metadata": {
        "id": "XSswsB4Yg_Mo"
      },
      "source": [
        " # Sentences Tones\n",
        "sentences_tone_df = json_normalize(\n",
        "    data=tone_analysis[\"sentences_tone\"],\n",
        "    record_path=[\"tones\"],\n",
        "    meta=[\"sentence_id\", \"text\"],\n",
        ")\n",
        "sentences_tone_df"
      ],
      "execution_count": null,
      "outputs": []
    },
    {
      "cell_type": "markdown",
      "metadata": {
        "id": "pyxN5H15BdjM"
      },
      "source": [
        "## WHICH MODEL PRODUCES BETTER RESULTS? VADER v WATSON\n"
      ]
    },
    {
      "cell_type": "markdown",
      "metadata": {
        "id": "wOpNdWDHoaD5"
      },
      "source": [
        "##Graph Sentiment score and Stock Price"
      ]
    },
    {
      "cell_type": "code",
      "metadata": {
        "id": "IJXfLaXy9fHL"
      },
      "source": [
        "## COMBINE CLOSING PRICES WITH DAILY POLARITY SCORES (VADER)\n",
        "\n",
        "# pltr_combined_df = Close + Polarity Scores (Index = Date)\n",
        "\n",
        "\n",
        "## CHECK CORRELATIONS OF COMPOUND / POS / NEG / NEUTRAL / POLARITY SCORES (VADER)"
      ],
      "execution_count": null,
      "outputs": []
    },
    {
      "cell_type": "markdown",
      "metadata": {
        "id": "0ZJfZkp2BHRZ"
      },
      "source": [
        "##Graph Tone analysis score and Stock Price"
      ]
    },
    {
      "cell_type": "code",
      "metadata": {
        "id": "srcoB4sxBNbC"
      },
      "source": [
        "## COMBINE CLOSING PRICES WITH DAILY POLARITY SCORES (WATSON)\n",
        "\n",
        "# pltr_combined_df = Close + Polarity Scores (Index = Date)\n",
        "\n",
        "\n",
        "## CHECK CORRELATIONS OF COMPOUND / POS / NEG / NEUTRAL / POLARITY SCORES (WATSON)"
      ],
      "execution_count": null,
      "outputs": []
    },
    {
      "cell_type": "markdown",
      "metadata": {
        "id": "AqP6G3MwSrQe"
      },
      "source": [
        "## ARIMA MODEL"
      ]
    },
    {
      "cell_type": "code",
      "metadata": {
        "id": "68B5FlMaSrQe",
        "outputId": "729a538d-40d2-4678-b822-c810b624449c"
      },
      "source": [
        "pltr_yf_twitter['Close'].plot()"
      ],
      "execution_count": null,
      "outputs": [
        {
          "output_type": "execute_result",
          "data": {
            "text/plain": [
              "<matplotlib.axes._subplots.AxesSubplot at 0x171a19520>"
            ]
          },
          "metadata": {
            "tags": []
          },
          "execution_count": 282
        },
        {
          "output_type": "display_data",
          "data": {
            "image/png": "[encoded data removed]",
            "text/plain": [
              "<Figure size 432x288 with 1 Axes>"
            ]
          },
          "metadata": {
            "tags": [],
            "needs_background": "light"
          }
        }
      ]
    },
    {
      "cell_type": "code",
      "metadata": {
        "id": "dxvL442sSrQf",
        "outputId": "cb32d559-9ae8-43b2-88df-8f3f66cd3c09"
      },
      "source": [
        "from statsmodels.tsa.arima_model import ARIMA\n",
        "model = ARIMA(pltr_yf_twitter['Close'], order=(2, 1, 2))"
      ],
      "execution_count": null,
      "outputs": [
        {
          "output_type": "stream",
          "text": [
            "/opt/anaconda3/lib/python3.8/site-packages/statsmodels/tsa/base/tsa_model.py:216: ValueWarning: A date index has been provided, but it has no associated frequency information and so will be ignored when e.g. forecasting.\n",
            "  warnings.warn('A date index has been provided, but it has no'\n",
            "/opt/anaconda3/lib/python3.8/site-packages/statsmodels/tsa/base/tsa_model.py:216: ValueWarning: A date index has been provided, but it has no associated frequency information and so will be ignored when e.g. forecasting.\n",
            "  warnings.warn('A date index has been provided, but it has no'\n"
          ],
          "name": "stderr"
        }
      ]
    },
    {
      "cell_type": "code",
      "metadata": {
        "id": "PmWD7b7pSrQf",
        "outputId": "e6ced0f4-5c47-4cb6-9de0-50888c7fe030"
      },
      "source": [
        " results = model.fit()"
      ],
      "execution_count": null,
      "outputs": [
        {
          "output_type": "stream",
          "text": [
            "/opt/anaconda3/lib/python3.8/site-packages/statsmodels/base/model.py:547: HessianInversionWarning: Inverting hessian failed, no bse or cov_params available\n",
            "  warn('Inverting hessian failed, no bse or cov_params '\n"
          ],
          "name": "stderr"
        }
      ]
    },
    {
      "cell_type": "code",
      "metadata": {
        "id": "cBzaC1WYSrQf",
        "outputId": "21aacc4f-0c3d-4f5e-d5b5-01d220b8ee9b"
      },
      "source": [
        "results.summary()"
      ],
      "execution_count": null,
      "outputs": [
        {
          "output_type": "stream",
          "text": [
            "/opt/anaconda3/lib/python3.8/site-packages/statsmodels/tsa/arima_model.py:1490: RuntimeWarning: invalid value encountered in sqrt\n",
            "  return np.sqrt(np.diag(-inv(hess)))\n"
          ],
          "name": "stderr"
        },
        {
          "output_type": "execute_result",
          "data": {
            "text/html": [
              "<table class=\"simpletable\">\n",
              "<caption>ARIMA Model Results</caption>\n",
              "<tr>\n",
              "  <th>Dep. Variable:</th>      <td>D.Close</td>     <th>  No. Observations:  </th>    <td>126</td>  \n",
              "</tr>\n",
              "<tr>\n",
              "  <th>Model:</th>          <td>ARIMA(2, 1, 2)</td>  <th>  Log Likelihood     </th> <td>-233.080</td>\n",
              "</tr>\n",
              "<tr>\n",
              "  <th>Method:</th>             <td>css-mle</td>     <th>  S.D. of innovations</th>   <td>1.513</td> \n",
              "</tr>\n",
              "<tr>\n",
              "  <th>Date:</th>          <td>Tue, 13 Apr 2021</td> <th>  AIC                </th>  <td>478.160</td>\n",
              "</tr>\n",
              "<tr>\n",
              "  <th>Time:</th>              <td>20:07:22</td>     <th>  BIC                </th>  <td>495.178</td>\n",
              "</tr>\n",
              "<tr>\n",
              "  <th>Sample:</th>                <td>1</td>        <th>  HQIC               </th>  <td>485.074</td>\n",
              "</tr>\n",
              "<tr>\n",
              "  <th></th>                       <td> </td>        <th>                     </th>     <td> </td>   \n",
              "</tr>\n",
              "</table>\n",
              "<table class=\"simpletable\">\n",
              "<tr>\n",
              "        <td></td>           <th>coef</th>     <th>std err</th>      <th>z</th>      <th>P>|z|</th>  <th>[0.025</th>    <th>0.975]</th>  \n",
              "</tr>\n",
              "<tr>\n",
              "  <th>const</th>         <td>    0.1073</td> <td>    0.157</td> <td>    0.685</td> <td> 0.494</td> <td>   -0.200</td> <td>    0.414</td>\n",
              "</tr>\n",
              "<tr>\n",
              "  <th>ar.L1.D.Close</th> <td>    0.6937</td> <td>    0.063</td> <td>   11.003</td> <td> 0.000</td> <td>    0.570</td> <td>    0.817</td>\n",
              "</tr>\n",
              "<tr>\n",
              "  <th>ar.L2.D.Close</th> <td>   -0.8393</td> <td>    0.053</td> <td>  -15.873</td> <td> 0.000</td> <td>   -0.943</td> <td>   -0.736</td>\n",
              "</tr>\n",
              "<tr>\n",
              "  <th>ma.L1.D.Close</th> <td>   -0.6673</td> <td>    0.016</td> <td>  -41.803</td> <td> 0.000</td> <td>   -0.699</td> <td>   -0.636</td>\n",
              "</tr>\n",
              "<tr>\n",
              "  <th>ma.L2.D.Close</th> <td>    1.0000</td> <td>      nan</td> <td>      nan</td> <td>   nan</td> <td>      nan</td> <td>      nan</td>\n",
              "</tr>\n",
              "</table>\n",
              "<table class=\"simpletable\">\n",
              "<caption>Roots</caption>\n",
              "<tr>\n",
              "    <td></td>   <th>            Real</th>  <th>         Imaginary</th> <th>         Modulus</th>  <th>        Frequency</th>\n",
              "</tr>\n",
              "<tr>\n",
              "  <th>AR.1</th> <td>           0.4133</td> <td>          -1.0103j</td> <td>           1.0916</td> <td>          -0.1882</td>\n",
              "</tr>\n",
              "<tr>\n",
              "  <th>AR.2</th> <td>           0.4133</td> <td>          +1.0103j</td> <td>           1.0916</td> <td>           0.1882</td>\n",
              "</tr>\n",
              "<tr>\n",
              "  <th>MA.1</th> <td>           0.3337</td> <td>          -0.9427j</td> <td>           1.0000</td> <td>          -0.1959</td>\n",
              "</tr>\n",
              "<tr>\n",
              "  <th>MA.2</th> <td>           0.3337</td> <td>          +0.9427j</td> <td>           1.0000</td> <td>           0.1959</td>\n",
              "</tr>\n",
              "</table>"
            ],
            "text/plain": [
              "<class 'statsmodels.iolib.summary.Summary'>\n",
              "\"\"\"\n",
              "                             ARIMA Model Results                              \n",
              "==============================================================================\n",
              "Dep. Variable:                D.Close   No. Observations:                  126\n",
              "Model:                 ARIMA(2, 1, 2)   Log Likelihood                -233.080\n",
              "Method:                       css-mle   S.D. of innovations              1.513\n",
              "Date:                Tue, 13 Apr 2021   AIC                            478.160\n",
              "Time:                        20:07:22   BIC                            495.178\n",
              "Sample:                             1   HQIC                           485.074\n",
              "                                                                              \n",
              "=================================================================================\n",
              "                    coef    std err          z      P>|z|      [0.025      0.975]\n",
              "---------------------------------------------------------------------------------\n",
              "const             0.1073      0.157      0.685      0.494      -0.200       0.414\n",
              "ar.L1.D.Close     0.6937      0.063     11.003      0.000       0.570       0.817\n",
              "ar.L2.D.Close    -0.8393      0.053    -15.873      0.000      -0.943      -0.736\n",
              "ma.L1.D.Close    -0.6673      0.016    -41.803      0.000      -0.699      -0.636\n",
              "ma.L2.D.Close     1.0000        nan        nan        nan         nan         nan\n",
              "                                    Roots                                    \n",
              "=============================================================================\n",
              "                  Real          Imaginary           Modulus         Frequency\n",
              "-----------------------------------------------------------------------------\n",
              "AR.1            0.4133           -1.0103j            1.0916           -0.1882\n",
              "AR.2            0.4133           +1.0103j            1.0916            0.1882\n",
              "MA.1            0.3337           -0.9427j            1.0000           -0.1959\n",
              "MA.2            0.3337           +0.9427j            1.0000            0.1959\n",
              "-----------------------------------------------------------------------------\n",
              "\"\"\""
            ]
          },
          "metadata": {
            "tags": []
          },
          "execution_count": 279
        }
      ]
    },
    {
      "cell_type": "code",
      "metadata": {
        "id": "if1hwi7_SrQf",
        "outputId": "9587e1ac-9848-4e67-f1fc-ecd772b72d15"
      },
      "source": [
        "# Visualize the forecast\n",
        "pd.DataFrame(results.forecast(steps=3)[0]).plot(title=\"Close Forecast\") "
      ],
      "execution_count": null,
      "outputs": [
        {
          "output_type": "execute_result",
          "data": {
            "text/plain": [
              "<matplotlib.axes._subplots.AxesSubplot at 0x1719aa370>"
            ]
          },
          "metadata": {
            "tags": []
          },
          "execution_count": 281
        },
        {
          "output_type": "display_data",
          "data": {
            "image/png": "[encoded data removed]",
            "text/plain": [
              "<Figure size 432x288 with 1 Axes>"
            ]
          },
          "metadata": {
            "tags": [],
            "needs_background": "light"
          }
        }
      ]
    },
    {
      "cell_type": "markdown",
      "metadata": {
        "id": "MFb2LKehoqft"
      },
      "source": [
        "## ML and LSTM Model "
      ]
    },
    {
      "cell_type": "code",
      "metadata": {
        "id": "1FmE7m9iSrQf"
      },
      "source": [
        ""
      ],
      "execution_count": null,
      "outputs": []
    },
    {
      "cell_type": "code",
      "metadata": {
        "id": "2oyIX-ZUSrQf"
      },
      "source": [
        ""
      ],
      "execution_count": null,
      "outputs": []
    },
    {
      "cell_type": "markdown",
      "metadata": {
        "id": "BSBR39uKSrQf"
      },
      "source": [
        "DATA PREPARATION"
      ]
    },
    {
      "cell_type": "code",
      "metadata": {
        "id": "xIHvBtbDSrQf"
      },
      "source": [
        "# Set the random seed for reproducibility\n",
        "# Note: This is used for model prototyping, but it is good practice to comment this out and run multiple experiments to evaluate your model.\n",
        "#from numpy.random import seed\n",
        "\n",
        "#seed(1)\n",
        "from tensorflow import random\n",
        "\n",
        "#random.set_seed(2)"
      ],
      "execution_count": null,
      "outputs": []
    },
    {
      "cell_type": "code",
      "metadata": {
        "id": "tdevcwYdSrQf",
        "outputId": "e3d6759e-124e-47d5-fb5e-193c3a90fd85"
      },
      "source": [
        "# Load the stocks data\n",
        "df =pltr_yf_twitter\n",
        "\n",
        "df.head()\n",
        "df.info()"
      ],
      "execution_count": null,
      "outputs": [
        {
          "output_type": "stream",
          "text": [
            "<class 'pandas.core.frame.DataFrame'>\n",
            "DatetimeIndex: 127 entries, 2020-09-30 to 2021-04-01\n",
            "Data columns (total 8 columns):\n",
            " #   Column                  Non-Null Count  Dtype  \n",
            "---  ------                  --------------  -----  \n",
            " 0   Close                   127 non-null    float64\n",
            " 1   compound                127 non-null    float64\n",
            " 2   positive                127 non-null    float64\n",
            " 3   negative                127 non-null    float64\n",
            " 4   neutral                 127 non-null    float64\n",
            " 5   Polarity Score          127 non-null    float64\n",
            " 6   Compound Returns        126 non-null    float64\n",
            " 7   Rolling 5 Day Compound  123 non-null    float64\n",
            "dtypes: float64(8)\n",
            "memory usage: 13.9 KB\n"
          ],
          "name": "stdout"
        }
      ]
    },
    {
      "cell_type": "markdown",
      "metadata": {
        "id": "L2JBOCO2SrQf"
      },
      "source": [
        "## Creating the Features X and Target y Data\n",
        "The first step towards preparing the data is to create the input features vectors X and the target vector y. We will use the window_data() function to create these vectors.This function chunks the data up with a rolling window of Xt - window to predict Xt.The function returns two numpy arrays:\n",
        "X: The input features vectors.y: The target vector.\n",
        "The function has the following parameters:\n",
        "df: The original DataFrame with the time series data.window: The window size in days of previous closing prices that will be used for the prediction.feature_col_number: The column number from the original DataFrame where the features are located.target_col_number: The column number from the original DataFrame where the target is located."
      ]
    },
    {
      "cell_type": "code",
      "metadata": {
        "id": "YlZ8j0cGSrQf"
      },
      "source": [
        "def window_data(df, window, feature_col_number, target_col_number):\n",
        "    \"\"\"\n",
        "    This function accepts the column number for the features (X) and the target (y).\n",
        "    It chunks the data up with a rolling window of Xt - window to predict Xt.\n",
        "    It returns two numpy arrays of X and y.\n",
        "    \"\"\"\n",
        "    X = []\n",
        "    y = []\n",
        "    for i in range(len(df) - window):\n",
        "        features = df.iloc[i : (i + window), feature_col_number]\n",
        "        target = df.iloc[(i + window), target_col_number]\n",
        "        X.append(features)\n",
        "        y.append(target)\n",
        "    return np.array(X), np.array(y).reshape(-1, 1)"
      ],
      "execution_count": null,
      "outputs": []
    },
    {
      "cell_type": "code",
      "metadata": {
        "id": "V37JQF3oSrQf",
        "outputId": "a9444a1a-51d4-428a-eafa-181420d89997"
      },
      "source": [
        "# Creating the features (X) and target (y) data using the window_data() function.\n",
        "window_size = 120\n",
        "\n",
        "feature_column = 1\n",
        "target_column = 0\n",
        "X, y = window_data(df, window_size, feature_column, target_column)\n",
        "print (f\"X sample values:\\n{X[:120]} \\n\")\n",
        "print (f\"y sample values:\\n{y[:120]}\") "
      ],
      "execution_count": null,
      "outputs": [
        {
          "output_type": "stream",
          "text": [
            "X sample values:\n",
            "[[ 0.1475944   0.00990249 -0.00048462  0.18645737  0.1977168   0.21753883\n",
            "   0.25677612  0.2672227   0.21431333  0.22229048  0.2113217   0.19835278\n",
            "   0.20755682  0.12833636  0.11675606  0.24131887  0.19730506  0.20661339\n",
            "   0.14902125  0.18904964  0.18424925  0.18976963  0.11033462  0.19209341\n",
            "   0.15127969  0.19768085  0.20663358  0.220375    0.24057968  0.30226188\n",
            "   0.22522065  0.18304893  0.24337393  0.23017512  0.21640369  0.21488835\n",
            "   0.22088409  0.20899207  0.19214351  0.20234602  0.19457663  0.15268566\n",
            "   0.18762497  0.15933802  0.14774989  0.19790076  0.20535888  0.21669083\n",
            "   0.21494345  0.2196225   0.20721026  0.17887345  0.21104125  0.19710227\n",
            "   0.16178099  0.24351584  0.19941092  0.21308867  0.19040539  0.2109\n",
            "   0.27711481  0.18245189  0.10063616  0.17768564  0.1930488   0.15890746\n",
            "   0.19140885  0.14018198  0.21144762  0.21396865  0.18415591  0.20001872\n",
            "   0.195117    0.21064899  0.18187953  0.18802862  0.18625221  0.151379\n",
            "   0.1929494   0.19782421  0.19673792  0.17389311  0.13477757  0.1390579\n",
            "   0.19372777  0.18758761  0.18783812  0.19796725  0.22403385  0.23799522\n",
            "   0.24113564  0.19985612  0.19545343  0.17318901  0.17351718  0.20736965\n",
            "   0.20559764  0.21474107  0.21664614  0.18262673  0.21655382  0.14953921\n",
            "   0.17217602  0.22034748  0.20593991  0.17691283  0.19425308  0.1561262\n",
            "   0.16934954  0.19822535  0.190444    0.20181293  0.23207527  0.22936777\n",
            "   0.18464895  0.21304497  0.17956329  0.19712711  0.2040399   0.18521265]\n",
            " [ 0.00990249 -0.00048462  0.18645737  0.1977168   0.21753883  0.25677612\n",
            "   0.2672227   0.21431333  0.22229048  0.2113217   0.19835278  0.20755682\n",
            "   0.12833636  0.11675606  0.24131887  0.19730506  0.20661339  0.14902125\n",
            "   0.18904964  0.18424925  0.18976963  0.11033462  0.19209341  0.15127969\n",
            "   0.19768085  0.20663358  0.220375    0.24057968  0.30226188  0.22522065\n",
            "   0.18304893  0.24337393  0.23017512  0.21640369  0.21488835  0.22088409\n",
            "   0.20899207  0.19214351  0.20234602  0.19457663  0.15268566  0.18762497\n",
            "   0.15933802  0.14774989  0.19790076  0.20535888  0.21669083  0.21494345\n",
            "   0.2196225   0.20721026  0.17887345  0.21104125  0.19710227  0.16178099\n",
            "   0.24351584  0.19941092  0.21308867  0.19040539  0.2109      0.27711481\n",
            "   0.18245189  0.10063616  0.17768564  0.1930488   0.15890746  0.19140885\n",
            "   0.14018198  0.21144762  0.21396865  0.18415591  0.20001872  0.195117\n",
            "   0.21064899  0.18187953  0.18802862  0.18625221  0.151379    0.1929494\n",
            "   0.19782421  0.19673792  0.17389311  0.13477757  0.1390579   0.19372777\n",
            "   0.18758761  0.18783812  0.19796725  0.22403385  0.23799522  0.24113564\n",
            "   0.19985612  0.19545343  0.17318901  0.17351718  0.20736965  0.20559764\n",
            "   0.21474107  0.21664614  0.18262673  0.21655382  0.14953921  0.17217602\n",
            "   0.22034748  0.20593991  0.17691283  0.19425308  0.1561262   0.16934954\n",
            "   0.19822535  0.190444    0.20181293  0.23207527  0.22936777  0.18464895\n",
            "   0.21304497  0.17956329  0.19712711  0.2040399   0.18521265  0.18533173]\n",
            " [-0.00048462  0.18645737  0.1977168   0.21753883  0.25677612  0.2672227\n",
            "   0.21431333  0.22229048  0.2113217   0.19835278  0.20755682  0.12833636\n",
            "   0.11675606  0.24131887  0.19730506  0.20661339  0.14902125  0.18904964\n",
            "   0.18424925  0.18976963  0.11033462  0.19209341  0.15127969  0.19768085\n",
            "   0.20663358  0.220375    0.24057968  0.30226188  0.22522065  0.18304893\n",
            "   0.24337393  0.23017512  0.21640369  0.21488835  0.22088409  0.20899207\n",
            "   0.19214351  0.20234602  0.19457663  0.15268566  0.18762497  0.15933802\n",
            "   0.14774989  0.19790076  0.20535888  0.21669083  0.21494345  0.2196225\n",
            "   0.20721026  0.17887345  0.21104125  0.19710227  0.16178099  0.24351584\n",
            "   0.19941092  0.21308867  0.19040539  0.2109      0.27711481  0.18245189\n",
            "   0.10063616  0.17768564  0.1930488   0.15890746  0.19140885  0.14018198\n",
            "   0.21144762  0.21396865  0.18415591  0.20001872  0.195117    0.21064899\n",
            "   0.18187953  0.18802862  0.18625221  0.151379    0.1929494   0.19782421\n",
            "   0.19673792  0.17389311  0.13477757  0.1390579   0.19372777  0.18758761\n",
            "   0.18783812  0.19796725  0.22403385  0.23799522  0.24113564  0.19985612\n",
            "   0.19545343  0.17318901  0.17351718  0.20736965  0.20559764  0.21474107\n",
            "   0.21664614  0.18262673  0.21655382  0.14953921  0.17217602  0.22034748\n",
            "   0.20593991  0.17691283  0.19425308  0.1561262   0.16934954  0.19822535\n",
            "   0.190444    0.20181293  0.23207527  0.22936777  0.18464895  0.21304497\n",
            "   0.17956329  0.19712711  0.2040399   0.18521265  0.18533173  0.16717891]\n",
            " [ 0.18645737  0.1977168   0.21753883  0.25677612  0.2672227   0.21431333\n",
            "   0.22229048  0.2113217   0.19835278  0.20755682  0.12833636  0.11675606\n",
            "   0.24131887  0.19730506  0.20661339  0.14902125  0.18904964  0.18424925\n",
            "   0.18976963  0.11033462  0.19209341  0.15127969  0.19768085  0.20663358\n",
            "   0.220375    0.24057968  0.30226188  0.22522065  0.18304893  0.24337393\n",
            "   0.23017512  0.21640369  0.21488835  0.22088409  0.20899207  0.19214351\n",
            "   0.20234602  0.19457663  0.15268566  0.18762497  0.15933802  0.14774989\n",
            "   0.19790076  0.20535888  0.21669083  0.21494345  0.2196225   0.20721026\n",
            "   0.17887345  0.21104125  0.19710227  0.16178099  0.24351584  0.19941092\n",
            "   0.21308867  0.19040539  0.2109      0.27711481  0.18245189  0.10063616\n",
            "   0.17768564  0.1930488   0.15890746  0.19140885  0.14018198  0.21144762\n",
            "   0.21396865  0.18415591  0.20001872  0.195117    0.21064899  0.18187953\n",
            "   0.18802862  0.18625221  0.151379    0.1929494   0.19782421  0.19673792\n",
            "   0.17389311  0.13477757  0.1390579   0.19372777  0.18758761  0.18783812\n",
            "   0.19796725  0.22403385  0.23799522  0.24113564  0.19985612  0.19545343\n",
            "   0.17318901  0.17351718  0.20736965  0.20559764  0.21474107  0.21664614\n",
            "   0.18262673  0.21655382  0.14953921  0.17217602  0.22034748  0.20593991\n",
            "   0.17691283  0.19425308  0.1561262   0.16934954  0.19822535  0.190444\n",
            "   0.20181293  0.23207527  0.22936777  0.18464895  0.21304497  0.17956329\n",
            "   0.19712711  0.2040399   0.18521265  0.18533173  0.16717891  0.21478615]\n",
            " [ 0.1977168   0.21753883  0.25677612  0.2672227   0.21431333  0.22229048\n",
            "   0.2113217   0.19835278  0.20755682  0.12833636  0.11675606  0.24131887\n",
            "   0.19730506  0.20661339  0.14902125  0.18904964  0.18424925  0.18976963\n",
            "   0.11033462  0.19209341  0.15127969  0.19768085  0.20663358  0.220375\n",
            "   0.24057968  0.30226188  0.22522065  0.18304893  0.24337393  0.23017512\n",
            "   0.21640369  0.21488835  0.22088409  0.20899207  0.19214351  0.20234602\n",
            "   0.19457663  0.15268566  0.18762497  0.15933802  0.14774989  0.19790076\n",
            "   0.20535888  0.21669083  0.21494345  0.2196225   0.20721026  0.17887345\n",
            "   0.21104125  0.19710227  0.16178099  0.24351584  0.19941092  0.21308867\n",
            "   0.19040539  0.2109      0.27711481  0.18245189  0.10063616  0.17768564\n",
            "   0.1930488   0.15890746  0.19140885  0.14018198  0.21144762  0.21396865\n",
            "   0.18415591  0.20001872  0.195117    0.21064899  0.18187953  0.18802862\n",
            "   0.18625221  0.151379    0.1929494   0.19782421  0.19673792  0.17389311\n",
            "   0.13477757  0.1390579   0.19372777  0.18758761  0.18783812  0.19796725\n",
            "   0.22403385  0.23799522  0.24113564  0.19985612  0.19545343  0.17318901\n",
            "   0.17351718  0.20736965  0.20559764  0.21474107  0.21664614  0.18262673\n",
            "   0.21655382  0.14953921  0.17217602  0.22034748  0.20593991  0.17691283\n",
            "   0.19425308  0.1561262   0.16934954  0.19822535  0.190444    0.20181293\n",
            "   0.23207527  0.22936777  0.18464895  0.21304497  0.17956329  0.19712711\n",
            "   0.2040399   0.18521265  0.18533173  0.16717891  0.21478615  0.19990926]\n",
            " [ 0.21753883  0.25677612  0.2672227   0.21431333  0.22229048  0.2113217\n",
            "   0.19835278  0.20755682  0.12833636  0.11675606  0.24131887  0.19730506\n",
            "   0.20661339  0.14902125  0.18904964  0.18424925  0.18976963  0.11033462\n",
            "   0.19209341  0.15127969  0.19768085  0.20663358  0.220375    0.24057968\n",
            "   0.30226188  0.22522065  0.18304893  0.24337393  0.23017512  0.21640369\n",
            "   0.21488835  0.22088409  0.20899207  0.19214351  0.20234602  0.19457663\n",
            "   0.15268566  0.18762497  0.15933802  0.14774989  0.19790076  0.20535888\n",
            "   0.21669083  0.21494345  0.2196225   0.20721026  0.17887345  0.21104125\n",
            "   0.19710227  0.16178099  0.24351584  0.19941092  0.21308867  0.19040539\n",
            "   0.2109      0.27711481  0.18245189  0.10063616  0.17768564  0.1930488\n",
            "   0.15890746  0.19140885  0.14018198  0.21144762  0.21396865  0.18415591\n",
            "   0.20001872  0.195117    0.21064899  0.18187953  0.18802862  0.18625221\n",
            "   0.151379    0.1929494   0.19782421  0.19673792  0.17389311  0.13477757\n",
            "   0.1390579   0.19372777  0.18758761  0.18783812  0.19796725  0.22403385\n",
            "   0.23799522  0.24113564  0.19985612  0.19545343  0.17318901  0.17351718\n",
            "   0.20736965  0.20559764  0.21474107  0.21664614  0.18262673  0.21655382\n",
            "   0.14953921  0.17217602  0.22034748  0.20593991  0.17691283  0.19425308\n",
            "   0.1561262   0.16934954  0.19822535  0.190444    0.20181293  0.23207527\n",
            "   0.22936777  0.18464895  0.21304497  0.17956329  0.19712711  0.2040399\n",
            "   0.18521265  0.18533173  0.16717891  0.21478615  0.19990926  0.19212296]\n",
            " [ 0.25677612  0.2672227   0.21431333  0.22229048  0.2113217   0.19835278\n",
            "   0.20755682  0.12833636  0.11675606  0.24131887  0.19730506  0.20661339\n",
            "   0.14902125  0.18904964  0.18424925  0.18976963  0.11033462  0.19209341\n",
            "   0.15127969  0.19768085  0.20663358  0.220375    0.24057968  0.30226188\n",
            "   0.22522065  0.18304893  0.24337393  0.23017512  0.21640369  0.21488835\n",
            "   0.22088409  0.20899207  0.19214351  0.20234602  0.19457663  0.15268566\n",
            "   0.18762497  0.15933802  0.14774989  0.19790076  0.20535888  0.21669083\n",
            "   0.21494345  0.2196225   0.20721026  0.17887345  0.21104125  0.19710227\n",
            "   0.16178099  0.24351584  0.19941092  0.21308867  0.19040539  0.2109\n",
            "   0.27711481  0.18245189  0.10063616  0.17768564  0.1930488   0.15890746\n",
            "   0.19140885  0.14018198  0.21144762  0.21396865  0.18415591  0.20001872\n",
            "   0.195117    0.21064899  0.18187953  0.18802862  0.18625221  0.151379\n",
            "   0.1929494   0.19782421  0.19673792  0.17389311  0.13477757  0.1390579\n",
            "   0.19372777  0.18758761  0.18783812  0.19796725  0.22403385  0.23799522\n",
            "   0.24113564  0.19985612  0.19545343  0.17318901  0.17351718  0.20736965\n",
            "   0.20559764  0.21474107  0.21664614  0.18262673  0.21655382  0.14953921\n",
            "   0.17217602  0.22034748  0.20593991  0.17691283  0.19425308  0.1561262\n",
            "   0.16934954  0.19822535  0.190444    0.20181293  0.23207527  0.22936777\n",
            "   0.18464895  0.21304497  0.17956329  0.19712711  0.2040399   0.18521265\n",
            "   0.18533173  0.16717891  0.21478615  0.19990926  0.19212296  0.23714781]] \n",
            "\n",
            "y sample values:\n",
            "[[21.87999916]\n",
            " [22.57999992]\n",
            " [22.57999992]\n",
            " [21.72999954]\n",
            " [22.04000092]\n",
            " [23.29000092]\n",
            " [23.06999969]]\n"
          ],
          "name": "stdout"
        }
      ]
    },
    {
      "cell_type": "code",
      "metadata": {
        "id": "XY5paT6JSrQf",
        "outputId": "8f555034-1458-4d57-d612-a7ccb733ebcb"
      },
      "source": [
        "print(X.shape)"
      ],
      "execution_count": null,
      "outputs": [
        {
          "output_type": "stream",
          "text": [
            "(7, 120)\n"
          ],
          "name": "stdout"
        }
      ]
    },
    {
      "cell_type": "markdown",
      "metadata": {
        "id": "nQiPiSxASrQg"
      },
      "source": [
        "## Splitting Data Between Training and Testing Sets\n",
        "To avoid the dataset being randomized, we will manually split the data using array slicing."
      ]
    },
    {
      "cell_type": "code",
      "metadata": {
        "id": "9jEEACGlSrQg"
      },
      "source": [
        "# Use 70% of the data for training and the remainder for testing\n",
        "split = int(0.7 * len(X))\n",
        "X_train = X[: split]\n",
        "X_test = X[split:]\n",
        "y_train = y[: split]\n",
        "y_test = y[split:]"
      ],
      "execution_count": null,
      "outputs": []
    },
    {
      "cell_type": "markdown",
      "metadata": {
        "id": "Xy1fyyuPSrQg"
      },
      "source": [
        "## Scaling Data with MinMaxScaler\n",
        "Once the training and test datasets are created, we need to scale the data before training the LSTM model. We will use the MinMaxScaler from sklearn to scale all values between 0 and 1.Note that we scale both features and target sets."
      ]
    },
    {
      "cell_type": "code",
      "metadata": {
        "id": "dmc58JuoSrQg"
      },
      "source": [
        "# Use the MinMaxScaler to scale data between 0 and 1.\n",
        "from sklearn.preprocessing import MinMaxScaler\n",
        "\n",
        "scaler = MinMaxScaler()\n",
        "scaler.fit(X)\n",
        "X_train = scaler.transform(X_train)\n",
        "X_test = scaler.transform(X_test)\n",
        "scaler.fit(y)\n",
        "y_train = scaler.transform(y_train)\n",
        "y_test = scaler.transform(y_test)"
      ],
      "execution_count": null,
      "outputs": []
    },
    {
      "cell_type": "markdown",
      "metadata": {
        "id": "ZaBj-ETjSrQg"
      },
      "source": [
        " ## Reshape Features Data for the LSTM Model\n",
        "The LSTM API from Keras needs to receive the features data as a vertical vector, so that we need to reshape the X data in the form reshape((X_train.shape[0], X_train.shape[1], 1)).Both sets, training, and testing are reshaped."
      ]
    },
    {
      "cell_type": "code",
      "metadata": {
        "id": "6Fj2e3UXSrQg",
        "outputId": "7303aab9-cc4f-455c-fd28-150e118233f4"
      },
      "source": [
        "# Reshape the features for the model\n",
        "X_train = X_train.reshape((X_train.shape[0], X_train.shape[1], 1))\n",
        "X_test = X_test.reshape((X_test.shape[0], X_test.shape[1], 1))\n",
        "print (f\"X_train sample values:\\n{X_train[:5]} \\n\")\n",
        "print (f\"X_test sample values:\\n{X_test[:5]}\") "
      ],
      "execution_count": null,
      "outputs": [
        {
          "output_type": "stream",
          "text": [
            "X_train sample values:\n",
            "[[[0.57559898]\n",
            "  [0.03880024]\n",
            "  [0.        ]\n",
            "  [0.        ]\n",
            "  [0.        ]\n",
            "  [0.27858395]\n",
            "  [0.84831439]\n",
            "  [1.        ]\n",
            "  [0.92441193]\n",
            "  [0.84723858]\n",
            "  [0.75918036]\n",
            "  [0.65506485]\n",
            "  [0.72895561]\n",
            "  [0.09296758]\n",
            "  [0.        ]\n",
            "  [1.        ]\n",
            "  [0.90331891]\n",
            "  [1.        ]\n",
            "  [0.47318017]\n",
            "  [0.90118396]\n",
            "  [0.76755381]\n",
            "  [0.72187147]\n",
            "  [0.        ]\n",
            "  [0.2703214 ]\n",
            "  [0.        ]\n",
            "  [0.12273768]\n",
            "  [0.19783632]\n",
            "  [0.31310415]\n",
            "  [0.48258805]\n",
            "  [1.        ]\n",
            "  [0.6990753 ]\n",
            "  [0.        ]\n",
            "  [1.        ]\n",
            "  [1.        ]\n",
            "  [0.8441089 ]\n",
            "  [0.91208387]\n",
            "  [1.        ]\n",
            "  [1.        ]\n",
            "  [0.81312767]\n",
            "  [1.        ]\n",
            "  [0.81283733]\n",
            "  [0.0715941 ]\n",
            "  [0.57839479]\n",
            "  [0.16123149]\n",
            "  [0.        ]\n",
            "  [0.46693858]\n",
            "  [0.64996425]\n",
            "  [0.92805559]\n",
            "  [0.91910572]\n",
            "  [0.70767254]\n",
            "  [0.55581268]\n",
            "  [0.20912088]\n",
            "  [0.60268364]\n",
            "  [0.43214464]\n",
            "  [0.        ]\n",
            "  [0.64506731]\n",
            "  [0.55969809]\n",
            "  [0.63720178]\n",
            "  [0.50866908]\n",
            "  [0.6247999 ]\n",
            "  [1.        ]\n",
            "  [0.88533046]\n",
            "  [0.        ]\n",
            "  [0.50827148]\n",
            "  [0.71648198]\n",
            "  [0.25377867]\n",
            "  [0.69425644]\n",
            "  [0.        ]\n",
            "  [0.92143647]\n",
            "  [1.        ]\n",
            "  [0.07912485]\n",
            "  [0.8206467 ]\n",
            "  [0.73794514]\n",
            "  [1.        ]\n",
            "  [0.65669912]\n",
            "  [0.78909362]\n",
            "  [0.81645337]\n",
            "  [0.26331985]\n",
            "  [0.92267932]\n",
            "  [1.        ]\n",
            "  [1.        ]\n",
            "  [0.61901784]\n",
            "  [0.        ]\n",
            "  [0.        ]\n",
            "  [0.11466644]\n",
            "  [0.        ]\n",
            "  [0.        ]\n",
            "  [0.36467213]\n",
            "  [0.74830554]\n",
            "  [0.95378106]\n",
            "  [1.        ]\n",
            "  [0.64177591]\n",
            "  [0.51233057]\n",
            "  [0.        ]\n",
            "  [0.        ]\n",
            "  [0.86176546]\n",
            "  [0.83535978]\n",
            "  [0.92082262]\n",
            "  [0.9477273 ]\n",
            "  [0.46728333]\n",
            "  [0.94642342]\n",
            "  [0.        ]\n",
            "  [0.24991432]\n",
            "  [1.        ]\n",
            "  [1.        ]\n",
            "  [0.4549818 ]\n",
            "  [0.50200586]\n",
            "  [0.        ]\n",
            "  [0.        ]\n",
            "  [0.28626299]\n",
            "  [0.20720423]\n",
            "  [0.42370595]\n",
            "  [1.        ]\n",
            "  [1.        ]\n",
            "  [0.15189371]\n",
            "  [1.        ]\n",
            "  [0.26013659]\n",
            "  [0.62906812]\n",
            "  [0.77427274]\n",
            "  [0.25773945]]\n",
            "\n",
            " [[0.0403758 ]\n",
            "  [0.        ]\n",
            "  [0.69830735]\n",
            "  [0.13940925]\n",
            "  [0.28518488]\n",
            "  [0.84831439]\n",
            "  [1.        ]\n",
            "  [0.61904558]\n",
            "  [1.        ]\n",
            "  [0.75918036]\n",
            "  [0.65506485]\n",
            "  [0.72895561]\n",
            "  [0.09296758]\n",
            "  [0.        ]\n",
            "  [1.        ]\n",
            "  [0.52313164]\n",
            "  [1.        ]\n",
            "  [0.40181897]\n",
            "  [0.9627714 ]\n",
            "  [0.8462258 ]\n",
            "  [0.8248792 ]\n",
            "  [0.        ]\n",
            "  [0.62773045]\n",
            "  [0.        ]\n",
            "  [0.30732871]\n",
            "  [0.19783632]\n",
            "  [0.31310415]\n",
            "  [0.48258805]\n",
            "  [1.        ]\n",
            "  [0.35375116]\n",
            "  [0.        ]\n",
            "  [1.        ]\n",
            "  [0.74236375]\n",
            "  [0.63789517]\n",
            "  [0.79138408]\n",
            "  [1.        ]\n",
            "  [0.82562624]\n",
            "  [0.70077012]\n",
            "  [1.        ]\n",
            "  [0.85769338]\n",
            "  [0.085677  ]\n",
            "  [0.57839479]\n",
            "  [0.16808775]\n",
            "  [0.        ]\n",
            "  [0.69777436]\n",
            "  [0.64996425]\n",
            "  [0.92805559]\n",
            "  [0.88517406]\n",
            "  [1.        ]\n",
            "  [0.55581268]\n",
            "  [0.20912088]\n",
            "  [0.60268364]\n",
            "  [0.43214464]\n",
            "  [0.        ]\n",
            "  [0.70868072]\n",
            "  [0.17915181]\n",
            "  [0.63720178]\n",
            "  [0.50866908]\n",
            "  [0.6247999 ]\n",
            "  [1.        ]\n",
            "  [0.46360129]\n",
            "  [0.        ]\n",
            "  [0.69532052]\n",
            "  [0.71648198]\n",
            "  [0.25377867]\n",
            "  [0.69425644]\n",
            "  [0.        ]\n",
            "  [0.96583347]\n",
            "  [1.        ]\n",
            "  [0.07093927]\n",
            "  [0.63050163]\n",
            "  [0.73794514]\n",
            "  [1.        ]\n",
            "  [0.51460327]\n",
            "  [0.78909362]\n",
            "  [0.75084625]\n",
            "  [0.26331985]\n",
            "  [0.92267932]\n",
            "  [1.        ]\n",
            "  [0.98277004]\n",
            "  [0.63129954]\n",
            "  [0.        ]\n",
            "  [0.04795552]\n",
            "  [0.55257075]\n",
            "  [0.        ]\n",
            "  [0.00467821]\n",
            "  [0.1900489 ]\n",
            "  [0.74830554]\n",
            "  [0.95378106]\n",
            "  [1.        ]\n",
            "  [0.39247142]\n",
            "  [0.53581984]\n",
            "  [0.        ]\n",
            "  [0.0075515 ]\n",
            "  [0.78491262]\n",
            "  [0.83535978]\n",
            "  [0.97161137]\n",
            "  [0.9477273 ]\n",
            "  [0.46728333]\n",
            "  [0.94642342]\n",
            "  [0.        ]\n",
            "  [0.31969163]\n",
            "  [1.        ]\n",
            "  [0.77565729]\n",
            "  [0.41728737]\n",
            "  [0.83452851]\n",
            "  [0.        ]\n",
            "  [0.17410802]\n",
            "  [0.46035027]\n",
            "  [0.12219055]\n",
            "  [0.42370595]\n",
            "  [1.        ]\n",
            "  [0.94844036]\n",
            "  [0.10211242]\n",
            "  [1.        ]\n",
            "  [0.27001201]\n",
            "  [0.62906812]\n",
            "  [0.77427274]\n",
            "  [0.37880256]\n",
            "  [0.25944137]]\n",
            "\n",
            " [[0.        ]\n",
            "  [0.69830735]\n",
            "  [0.7403661 ]\n",
            "  [0.38483672]\n",
            "  [0.8497023 ]\n",
            "  [1.        ]\n",
            "  [0.23174931]\n",
            "  [0.67648207]\n",
            "  [0.89606444]\n",
            "  [0.65506485]\n",
            "  [0.72895561]\n",
            "  [0.09296758]\n",
            "  [0.        ]\n",
            "  [1.        ]\n",
            "  [0.64665366]\n",
            "  [0.62398296]\n",
            "  [0.40181897]\n",
            "  [0.81757401]\n",
            "  [0.90405738]\n",
            "  [0.90942688]\n",
            "  [0.        ]\n",
            "  [0.74298896]\n",
            "  [0.31436948]\n",
            "  [0.30732871]\n",
            "  [0.36662531]\n",
            "  [0.31310415]\n",
            "  [0.48258805]\n",
            "  [1.        ]\n",
            "  [0.35375116]\n",
            "  [0.        ]\n",
            "  [1.        ]\n",
            "  [0.78120492]\n",
            "  [0.47355025]\n",
            "  [0.59805089]\n",
            "  [1.        ]\n",
            "  [0.82562624]\n",
            "  [0.57857419]\n",
            "  [0.88196624]\n",
            "  [0.85769338]\n",
            "  [0.09040504]\n",
            "  [0.69216776]\n",
            "  [0.16808775]\n",
            "  [0.        ]\n",
            "  [0.69777436]\n",
            "  [0.80154299]\n",
            "  [0.92805559]\n",
            "  [0.88517406]\n",
            "  [1.        ]\n",
            "  [0.78540942]\n",
            "  [0.20912088]\n",
            "  [0.60268364]\n",
            "  [0.43214464]\n",
            "  [0.        ]\n",
            "  [1.        ]\n",
            "  [0.32626971]\n",
            "  [0.32364077]\n",
            "  [0.50866908]\n",
            "  [0.6247999 ]\n",
            "  [1.        ]\n",
            "  [0.46360129]\n",
            "  [0.        ]\n",
            "  [0.83375477]\n",
            "  [0.83396287]\n",
            "  [0.25377867]\n",
            "  [0.69425644]\n",
            "  [0.        ]\n",
            "  [0.96583347]\n",
            "  [1.        ]\n",
            "  [0.07093927]\n",
            "  [0.56527529]\n",
            "  [0.46012233]\n",
            "  [1.        ]\n",
            "  [0.51460327]\n",
            "  [0.61835039]\n",
            "  [0.75084625]\n",
            "  [0.        ]\n",
            "  [0.92267932]\n",
            "  [1.        ]\n",
            "  [0.98277004]\n",
            "  [0.62042227]\n",
            "  [0.        ]\n",
            "  [0.06773782]\n",
            "  [0.66045997]\n",
            "  [0.49050962]\n",
            "  [0.00467821]\n",
            "  [0.19383802]\n",
            "  [0.67912598]\n",
            "  [0.95378106]\n",
            "  [1.        ]\n",
            "  [0.39247142]\n",
            "  [0.32767508]\n",
            "  [0.        ]\n",
            "  [0.0075515 ]\n",
            "  [0.78653686]\n",
            "  [0.74382644]\n",
            "  [0.97161137]\n",
            "  [1.        ]\n",
            "  [0.46728333]\n",
            "  [0.94642342]\n",
            "  [0.        ]\n",
            "  [0.31969163]\n",
            "  [1.        ]\n",
            "  [0.77565729]\n",
            "  [0.32367199]\n",
            "  [0.76538932]\n",
            "  [0.        ]\n",
            "  [0.17410802]\n",
            "  [0.55430762]\n",
            "  [0.33629667]\n",
            "  [0.36190834]\n",
            "  [1.        ]\n",
            "  [0.94844036]\n",
            "  [0.09684754]\n",
            "  [0.67226229]\n",
            "  [0.        ]\n",
            "  [0.65294909]\n",
            "  [0.77427274]\n",
            "  [0.37880256]\n",
            "  [0.38130389]\n",
            "  [0.        ]]\n",
            "\n",
            " [[0.72666349]\n",
            "  [0.7403661 ]\n",
            "  [0.81440976]\n",
            "  [0.87065519]\n",
            "  [1.        ]\n",
            "  [0.23174931]\n",
            "  [0.34757844]\n",
            "  [0.59750541]\n",
            "  [0.77317638]\n",
            "  [0.72895561]\n",
            "  [0.09296758]\n",
            "  [0.        ]\n",
            "  [1.        ]\n",
            "  [0.64665366]\n",
            "  [0.72138172]\n",
            "  [0.        ]\n",
            "  [0.81757401]\n",
            "  [0.76771476]\n",
            "  [0.97157765]\n",
            "  [0.        ]\n",
            "  [0.84901006]\n",
            "  [0.37209132]\n",
            "  [0.67062992]\n",
            "  [0.36662531]\n",
            "  [0.45763881]\n",
            "  [0.48258805]\n",
            "  [1.        ]\n",
            "  [0.35375116]\n",
            "  [0.        ]\n",
            "  [0.50602726]\n",
            "  [0.78120492]\n",
            "  [0.55291767]\n",
            "  [0.4439713 ]\n",
            "  [0.75570245]\n",
            "  [0.58622903]\n",
            "  [0.57857419]\n",
            "  [0.72817447]\n",
            "  [0.74398215]\n",
            "  [0.09040504]\n",
            "  [0.73036471]\n",
            "  [0.2011514 ]\n",
            "  [0.        ]\n",
            "  [0.72744674]\n",
            "  [0.80154299]\n",
            "  [0.95921024]\n",
            "  [0.88517406]\n",
            "  [1.        ]\n",
            "  [0.69539794]\n",
            "  [0.29550515]\n",
            "  [0.60268364]\n",
            "  [0.43214464]\n",
            "  [0.        ]\n",
            "  [1.        ]\n",
            "  [0.46039028]\n",
            "  [0.44486239]\n",
            "  [0.08401921]\n",
            "  [0.6247999 ]\n",
            "  [1.        ]\n",
            "  [0.46360129]\n",
            "  [0.        ]\n",
            "  [0.43659379]\n",
            "  [1.        ]\n",
            "  [0.5258599 ]\n",
            "  [0.69425644]\n",
            "  [0.        ]\n",
            "  [0.96583347]\n",
            "  [1.        ]\n",
            "  [0.59596031]\n",
            "  [0.56527529]\n",
            "  [0.41252198]\n",
            "  [1.        ]\n",
            "  [0.51460327]\n",
            "  [0.61835039]\n",
            "  [0.58837895]\n",
            "  [0.        ]\n",
            "  [0.89504172]\n",
            "  [1.        ]\n",
            "  [0.98277004]\n",
            "  [0.62042227]\n",
            "  [0.        ]\n",
            "  [0.06908178]\n",
            "  [0.93290863]\n",
            "  [0.59166747]\n",
            "  [0.49304161]\n",
            "  [0.19383802]\n",
            "  [0.68062709]\n",
            "  [0.94107754]\n",
            "  [1.        ]\n",
            "  [0.39247142]\n",
            "  [0.32767508]\n",
            "  [0.        ]\n",
            "  [0.00789772]\n",
            "  [0.78653686]\n",
            "  [0.74576093]\n",
            "  [0.95582844]\n",
            "  [1.        ]\n",
            "  [0.49305673]\n",
            "  [0.94642342]\n",
            "  [0.        ]\n",
            "  [0.31969163]\n",
            "  [1.        ]\n",
            "  [0.79652695]\n",
            "  [0.32367199]\n",
            "  [0.59367981]\n",
            "  [0.        ]\n",
            "  [0.28943509]\n",
            "  [0.55430762]\n",
            "  [0.45185274]\n",
            "  [0.517545  ]\n",
            "  [1.        ]\n",
            "  [0.94844036]\n",
            "  [0.09684754]\n",
            "  [0.63760069]\n",
            "  [0.        ]\n",
            "  [0.52457997]\n",
            "  [0.80366603]\n",
            "  [0.37880256]\n",
            "  [0.38130389]\n",
            "  [0.        ]\n",
            "  [0.68040577]]] \n",
            "\n",
            "X_test sample values:\n",
            "[[[0.77043012]\n",
            "  [0.81440976]\n",
            "  [0.96097762]\n",
            "  [1.        ]\n",
            "  [0.23877876]\n",
            "  [0.34757844]\n",
            "  [0.18831038]\n",
            "  [0.50412746]\n",
            "  [0.86039002]\n",
            "  [0.09296758]\n",
            "  [0.        ]\n",
            "  [1.        ]\n",
            "  [0.64665366]\n",
            "  [0.72138172]\n",
            "  [0.25902751]\n",
            "  [0.43368821]\n",
            "  [0.76771476]\n",
            "  [0.82505217]\n",
            "  [0.        ]\n",
            "  [0.93603108]\n",
            "  [0.42518703]\n",
            "  [0.79376527]\n",
            "  [0.73936751]\n",
            "  [0.45763881]\n",
            "  [0.59146039]\n",
            "  [1.        ]\n",
            "  [0.35375116]\n",
            "  [0.        ]\n",
            "  [0.50602726]\n",
            "  [0.39531098]\n",
            "  [0.55291767]\n",
            "  [0.52779803]\n",
            "  [0.56100611]\n",
            "  [0.44301472]\n",
            "  [0.        ]\n",
            "  [0.72817447]\n",
            "  [0.61425118]\n",
            "  [0.        ]\n",
            "  [0.73036471]\n",
            "  [0.21225184]\n",
            "  [0.        ]\n",
            "  [0.72744674]\n",
            "  [0.83562805]\n",
            "  [0.95921024]\n",
            "  [0.93489804]\n",
            "  [1.        ]\n",
            "  [0.69539794]\n",
            "  [0.        ]\n",
            "  [0.85164197]\n",
            "  [0.43214464]\n",
            "  [0.        ]\n",
            "  [1.        ]\n",
            "  [0.46039028]\n",
            "  [0.62773317]\n",
            "  [0.24818741]\n",
            "  [0.30052013]\n",
            "  [1.        ]\n",
            "  [0.46360129]\n",
            "  [0.        ]\n",
            "  [0.43659379]\n",
            "  [0.52364773]\n",
            "  [0.63055554]\n",
            "  [0.81916342]\n",
            "  [0.        ]\n",
            "  [0.96583347]\n",
            "  [1.        ]\n",
            "  [0.59596031]\n",
            "  [0.81094235]\n",
            "  [0.41252198]\n",
            "  [0.89654849]\n",
            "  [0.        ]\n",
            "  [0.61835039]\n",
            "  [0.58837895]\n",
            "  [0.        ]\n",
            "  [0.89504172]\n",
            "  [1.        ]\n",
            "  [0.98277004]\n",
            "  [0.62042227]\n",
            "  [0.        ]\n",
            "  [0.0678915 ]\n",
            "  [0.95141812]\n",
            "  [0.8357383 ]\n",
            "  [0.5944741 ]\n",
            "  [0.59542094]\n",
            "  [0.68062709]\n",
            "  [0.94135319]\n",
            "  [1.        ]\n",
            "  [0.39247142]\n",
            "  [0.32767508]\n",
            "  [0.        ]\n",
            "  [0.00482977]\n",
            "  [0.8225979 ]\n",
            "  [0.74576093]\n",
            "  [0.956162  ]\n",
            "  [1.        ]\n",
            "  [0.49305673]\n",
            "  [0.9986242 ]\n",
            "  [0.        ]\n",
            "  [0.31969163]\n",
            "  [1.        ]\n",
            "  [0.79652695]\n",
            "  [0.38658794]\n",
            "  [0.59367981]\n",
            "  [0.        ]\n",
            "  [0.26545591]\n",
            "  [0.92147433]\n",
            "  [0.45185274]\n",
            "  [0.60154429]\n",
            "  [1.        ]\n",
            "  [0.94291148]\n",
            "  [0.09684754]\n",
            "  [0.63760069]\n",
            "  [0.        ]\n",
            "  [0.35265533]\n",
            "  [0.73104494]\n",
            "  [0.39318283]\n",
            "  [0.38130389]\n",
            "  [0.        ]\n",
            "  [1.        ]\n",
            "  [0.4677843 ]]\n",
            "\n",
            " [[0.84748046]\n",
            "  [0.96097762]\n",
            "  [1.        ]\n",
            "  [0.34490005]\n",
            "  [0.35354807]\n",
            "  [0.18831038]\n",
            "  [0.        ]\n",
            "  [0.57039778]\n",
            "  [0.10973011]\n",
            "  [0.        ]\n",
            "  [1.        ]\n",
            "  [0.64665366]\n",
            "  [0.72138172]\n",
            "  [0.25902751]\n",
            "  [0.58037855]\n",
            "  [0.38167833]\n",
            "  [0.82505217]\n",
            "  [0.        ]\n",
            "  [1.        ]\n",
            "  [0.46876745]\n",
            "  [0.90703191]\n",
            "  [0.87512387]\n",
            "  [0.84487184]\n",
            "  [0.59146039]\n",
            "  [1.        ]\n",
            "  [0.35375116]\n",
            "  [0.        ]\n",
            "  [0.50602726]\n",
            "  [0.39531098]\n",
            "  [0.27979141]\n",
            "  [0.52779803]\n",
            "  [0.62718871]\n",
            "  [0.32887807]\n",
            "  [0.        ]\n",
            "  [0.35498603]\n",
            "  [0.61425118]\n",
            "  [0.        ]\n",
            "  [0.62052106]\n",
            "  [0.21225184]\n",
            "  [0.        ]\n",
            "  [0.87053892]\n",
            "  [0.83562805]\n",
            "  [1.        ]\n",
            "  [0.93489804]\n",
            "  [1.        ]\n",
            "  [0.69539794]\n",
            "  [0.        ]\n",
            "  [0.78941219]\n",
            "  [0.61065622]\n",
            "  [0.        ]\n",
            "  [1.        ]\n",
            "  [0.46039028]\n",
            "  [0.62773317]\n",
            "  [0.35021048]\n",
            "  [0.42588559]\n",
            "  [1.        ]\n",
            "  [0.46360129]\n",
            "  [0.        ]\n",
            "  [0.43659379]\n",
            "  [0.52364773]\n",
            "  [0.33018897]\n",
            "  [0.98225407]\n",
            "  [0.35687481]\n",
            "  [0.96583347]\n",
            "  [1.        ]\n",
            "  [0.59596031]\n",
            "  [0.81094235]\n",
            "  [0.74451139]\n",
            "  [0.89654849]\n",
            "  [0.        ]\n",
            "  [0.21373676]\n",
            "  [0.58837895]\n",
            "  [0.        ]\n",
            "  [0.70137356]\n",
            "  [1.        ]\n",
            "  [0.97661134]\n",
            "  [0.62042227]\n",
            "  [0.        ]\n",
            "  [0.0678915 ]\n",
            "  [0.93502522]\n",
            "  [0.85231987]\n",
            "  [0.8397027 ]\n",
            "  [0.70795783]\n",
            "  [0.85888672]\n",
            "  [0.94135319]\n",
            "  [1.        ]\n",
            "  [0.22548896]\n",
            "  [0.32767508]\n",
            "  [0.        ]\n",
            "  [0.00482977]\n",
            "  [0.50305124]\n",
            "  [0.77995249]\n",
            "  [0.956162  ]\n",
            "  [1.        ]\n",
            "  [0.21121669]\n",
            "  [0.9986242 ]\n",
            "  [0.        ]\n",
            "  [0.31969163]\n",
            "  [1.        ]\n",
            "  [0.79652695]\n",
            "  [0.38658794]\n",
            "  [0.63147807]\n",
            "  [0.        ]\n",
            "  [0.20590281]\n",
            "  [0.84513183]\n",
            "  [0.75115458]\n",
            "  [0.60154429]\n",
            "  [1.        ]\n",
            "  [0.95683592]\n",
            "  [0.        ]\n",
            "  [0.63760069]\n",
            "  [0.        ]\n",
            "  [0.33447255]\n",
            "  [0.49145394]\n",
            "  [0.16872993]\n",
            "  [0.39577912]\n",
            "  [0.        ]\n",
            "  [1.        ]\n",
            "  [0.68750783]\n",
            "  [0.35650193]]\n",
            "\n",
            " [[1.        ]\n",
            "  [1.        ]\n",
            "  [0.80236116]\n",
            "  [0.44366945]\n",
            "  [0.1957373 ]\n",
            "  [0.        ]\n",
            "  [0.13364384]\n",
            "  [0.        ]\n",
            "  [0.        ]\n",
            "  [1.        ]\n",
            "  [0.64665366]\n",
            "  [0.72138172]\n",
            "  [0.25902751]\n",
            "  [0.58037855]\n",
            "  [0.54184066]\n",
            "  [0.44148894]\n",
            "  [0.        ]\n",
            "  [0.84918809]\n",
            "  [0.5008033 ]\n",
            "  [1.        ]\n",
            "  [1.        ]\n",
            "  [1.        ]\n",
            "  [1.        ]\n",
            "  [1.        ]\n",
            "  [0.48973299]\n",
            "  [0.        ]\n",
            "  [0.50602726]\n",
            "  [0.39531098]\n",
            "  [0.27979141]\n",
            "  [0.26708019]\n",
            "  [0.62718871]\n",
            "  [0.43005622]\n",
            "  [0.        ]\n",
            "  [0.26826382]\n",
            "  [0.08465781]\n",
            "  [0.        ]\n",
            "  [0.51231846]\n",
            "  [0.11814573]\n",
            "  [0.        ]\n",
            "  [0.9185792 ]\n",
            "  [1.        ]\n",
            "  [1.        ]\n",
            "  [0.97465394]\n",
            "  [1.        ]\n",
            "  [0.82730217]\n",
            "  [0.        ]\n",
            "  [0.78941219]\n",
            "  [0.44734333]\n",
            "  [0.        ]\n",
            "  [1.        ]\n",
            "  [0.46039028]\n",
            "  [0.62773317]\n",
            "  [0.35021048]\n",
            "  [0.60095552]\n",
            "  [1.        ]\n",
            "  [0.        ]\n",
            "  [0.        ]\n",
            "  [0.43659379]\n",
            "  [0.52364773]\n",
            "  [0.33018897]\n",
            "  [0.51435511]\n",
            "  [0.4279265 ]\n",
            "  [1.        ]\n",
            "  [1.        ]\n",
            "  [0.59596031]\n",
            "  [0.81094235]\n",
            "  [0.74451139]\n",
            "  [0.95500992]\n",
            "  [0.        ]\n",
            "  [0.19162537]\n",
            "  [0.15199047]\n",
            "  [0.        ]\n",
            "  [0.70137356]\n",
            "  [0.78362108]\n",
            "  [0.97661134]\n",
            "  [0.48474555]\n",
            "  [0.        ]\n",
            "  [0.0678915 ]\n",
            "  [0.93502522]\n",
            "  [0.83763443]\n",
            "  [0.85636292]\n",
            "  [1.        ]\n",
            "  [1.        ]\n",
            "  [1.        ]\n",
            "  [1.        ]\n",
            "  [0.22911229]\n",
            "  [0.14288301]\n",
            "  [0.        ]\n",
            "  [0.00482977]\n",
            "  [0.50305124]\n",
            "  [0.47697188]\n",
            "  [1.        ]\n",
            "  [1.        ]\n",
            "  [0.21717318]\n",
            "  [0.99785931]\n",
            "  [0.        ]\n",
            "  [0.33732449]\n",
            "  [1.        ]\n",
            "  [0.79652695]\n",
            "  [0.38658794]\n",
            "  [0.63147807]\n",
            "  [0.09302579]\n",
            "  [0.20590281]\n",
            "  [0.65553267]\n",
            "  [0.68892277]\n",
            "  [1.        ]\n",
            "  [1.        ]\n",
            "  [0.96435113]\n",
            "  [0.24390957]\n",
            "  [0.5987396 ]\n",
            "  [0.        ]\n",
            "  [0.33447255]\n",
            "  [0.46611475]\n",
            "  [0.11343077]\n",
            "  [0.17228655]\n",
            "  [0.        ]\n",
            "  [1.        ]\n",
            "  [0.68750783]\n",
            "  [0.52395489]\n",
            "  [1.        ]]]\n"
          ],
          "name": "stdout"
        }
      ]
    },
    {
      "cell_type": "markdown",
      "metadata": {
        "id": "uF1YZzG7SrQg"
      },
      "source": [
        " \n",
        "## Build and Train the LSTM RNN\n",
        "In this section, we will design a custom LSTM RNN in Keras and fit (train) it using the training data we defined.We will need to:\n",
        "Define the model architecture in Keras.Compile the model.Fit the model to the training data."
      ]
    },
    {
      "cell_type": "markdown",
      "metadata": {
        "id": "BRiDli7uSrQg"
      },
      "source": [
        "## Importing the Keras Modules\n",
        "The LSTM RNN model in Keras uses the Sequential model and the LSTM layer as we did before. However, there is a new type of layer called Dropout.\n",
        "Dropout: Dropout is a regularization technique for reducing overfitting in neural networks. This type of layer applies the dropout technique to the input."
      ]
    },
    {
      "cell_type": "code",
      "metadata": {
        "id": "JLm99TzOSrQg"
      },
      "source": [
        "# Import required Keras modules\n",
        "from tensorflow.keras.models import Sequential\n",
        "from tensorflow.keras.layers import LSTM, Dense, Dropout "
      ],
      "execution_count": null,
      "outputs": []
    },
    {
      "cell_type": "markdown",
      "metadata": {
        "id": "X07FAKHVSrQg"
      },
      "source": [
        "## Defining the LSTM RNN Model Structure\n",
        "To create an LSTM RNN model, we will add LSTM layers. The return_sequences parameter needs to set to True every time we add a new LSTM layer, excluding the final layer. The input_shape is the number of time steps and the number of indicatorsAfter each LSTM layer, we add a Dropout layer to prevent overfitting. The parameter passed to the Dropout layer is the fraction of nodes that will be drop on each epoch, for this demo, we will use a dropout value of 0.2, it means that on each epoch we will randomly drop 20% of the units.The number of units in each LSTM layers, is equal to the size of the time window, in this demo, we are taking five previous T-Bons closing price to predict the next closing price."
      ]
    },
    {
      "cell_type": "code",
      "metadata": {
        "id": "RG9V6evcSrQg"
      },
      "source": [
        "# Define the LSTM RNN model.\n",
        "model = Sequential()\n",
        "\n",
        "number_units = 5\n",
        "dropout_fraction = 0.2\n",
        "\n",
        "# Layer 1\n",
        "model.add(LSTM(\n",
        "    units=number_units,\n",
        "    return_sequences=True,\n",
        "    input_shape=(X_train.shape[1], 1))\n",
        "    )\n",
        "model.add(Dropout(dropout_fraction))\n",
        "# Layer 2\n",
        "model.add(LSTM(units=number_units, return_sequences=True))\n",
        "model.add(Dropout(dropout_fraction))\n",
        "# Layer 3\n",
        "model.add(LSTM(units=number_units))\n",
        "model.add(Dropout(dropout_fraction))\n",
        "# Output layer\n",
        "model.add(Dense(1))"
      ],
      "execution_count": null,
      "outputs": []
    },
    {
      "cell_type": "markdown",
      "metadata": {
        "id": "R3L0bByKSrQg"
      },
      "source": [
        "## Compiling the LSTM RNN Model\n",
        "We will compile the model, using the adam optimizer, as loss function, we will use mean_square_error since the value we want to predict is continuous."
      ]
    },
    {
      "cell_type": "code",
      "metadata": {
        "id": "gwIJtn-zSrQg"
      },
      "source": [
        "# Compile the model\n",
        "model.compile(optimizer=\"adam\", loss=\"mean_squared_error\")"
      ],
      "execution_count": null,
      "outputs": []
    },
    {
      "cell_type": "code",
      "metadata": {
        "id": "fUTwx9JySrQg",
        "outputId": "4cff8ba6-9c4f-4299-b7b4-4dcfc56c4069"
      },
      "source": [
        "# Summarize the model\n",
        "model.summary() "
      ],
      "execution_count": null,
      "outputs": [
        {
          "output_type": "stream",
          "text": [
            "Model: \"sequential_8\"\n",
            "_________________________________________________________________\n",
            "Layer (type)                 Output Shape              Param #   \n",
            "=================================================================\n",
            "lstm_24 (LSTM)               (None, 120, 5)            140       \n",
            "_________________________________________________________________\n",
            "dropout_24 (Dropout)         (None, 120, 5)            0         \n",
            "_________________________________________________________________\n",
            "lstm_25 (LSTM)               (None, 120, 5)            220       \n",
            "_________________________________________________________________\n",
            "dropout_25 (Dropout)         (None, 120, 5)            0         \n",
            "_________________________________________________________________\n",
            "lstm_26 (LSTM)               (None, 5)                 220       \n",
            "_________________________________________________________________\n",
            "dropout_26 (Dropout)         (None, 5)                 0         \n",
            "_________________________________________________________________\n",
            "dense_8 (Dense)              (None, 1)                 6         \n",
            "=================================================================\n",
            "Total params: 586\n",
            "Trainable params: 586\n",
            "Non-trainable params: 0\n",
            "_________________________________________________________________\n"
          ],
          "name": "stdout"
        }
      ]
    },
    {
      "cell_type": "markdown",
      "metadata": {
        "id": "rg1izLdnSrQg"
      },
      "source": [
        "## Training the Model\n",
        "Once the model is defined, we train (fit) the model using 10 epochs. Since we are working with time-series data, it's important to set shuffle=False since it's necessary to keep the sequential order of the data.We can experiment with the batch_size parameter; however, smaller batch size is recommended; in this demo, we will use a batch_size=1."
      ]
    },
    {
      "cell_type": "code",
      "metadata": {
        "id": "JgWuUJfISrQg",
        "outputId": "eaceac27-20e1-4c0c-dd55-94149d1a820c"
      },
      "source": [
        "# Train the model\n",
        "model.fit(X_train, y_train, epochs=10, shuffle=False, batch_size=1, verbose=1)"
      ],
      "execution_count": null,
      "outputs": [
        {
          "output_type": "stream",
          "text": [
            "Epoch 1/10\n",
            "4/4 [==============================] - 6s 76ms/step - loss: 0.1405\n",
            "Epoch 2/10\n",
            "4/4 [==============================] - 0s 74ms/step - loss: 0.1062\n",
            "Epoch 3/10\n",
            "4/4 [==============================] - 0s 86ms/step - loss: 0.1124\n",
            "Epoch 4/10\n",
            "4/4 [==============================] - 0s 80ms/step - loss: 0.0644\n",
            "Epoch 5/10\n",
            "4/4 [==============================] - 0s 83ms/step - loss: 0.1267\n",
            "Epoch 6/10\n",
            "4/4 [==============================] - 0s 97ms/step - loss: 0.1002\n",
            "Epoch 7/10\n",
            "4/4 [==============================] - 0s 72ms/step - loss: 0.0543\n",
            "Epoch 8/10\n",
            "4/4 [==============================] - 0s 88ms/step - loss: 0.0717\n",
            "Epoch 9/10\n",
            "4/4 [==============================] - 0s 72ms/step - loss: 0.0914\n",
            "Epoch 10/10\n",
            "4/4 [==============================] - 0s 81ms/step - loss: 0.0676\n"
          ],
          "name": "stdout"
        },
        {
          "output_type": "execute_result",
          "data": {
            "text/plain": [
              "<tensorflow.python.keras.callbacks.History at 0x16f9a6130>"
            ]
          },
          "metadata": {
            "tags": []
          },
          "execution_count": 271
        }
      ]
    },
    {
      "cell_type": "markdown",
      "metadata": {
        "id": "_is9zQzSSrQh"
      },
      "source": [
        "## Model Performance\n",
        "In this section, we will evaluate the model using the test data. We will need to:\n",
        "Evaluate the model using the X_test and y_test data.Use the X_test data to make predictions.Create a DataFrame of real (y_test) vs predicted values.Plot the Real vs predicted values as a line chart."
      ]
    },
    {
      "cell_type": "markdown",
      "metadata": {
        "id": "T22b56RKSrQh"
      },
      "source": [
        " ## Evaluate the Model\n",
        "It's time to evaluate our model to assess its performance. We will use the evaluate method using the testing data."
      ]
    },
    {
      "cell_type": "code",
      "metadata": {
        "id": "YiDp89DDSrQh",
        "outputId": "073b8f11-6cef-49b7-c748-cc6e5e0f05d6"
      },
      "source": [
        "# Evaluate the model\n",
        "model.evaluate(X_test, y_test)"
      ],
      "execution_count": null,
      "outputs": [
        {
          "output_type": "stream",
          "text": [
            "WARNING:tensorflow:8 out of the last 12 calls to <function Model.make_test_function.<locals>.test_function at 0x16fa42c10> triggered tf.function retracing. Tracing is expensive and the excessive number of tracings could be due to (1) creating @tf.function repeatedly in a loop, (2) passing tensors with different shapes, (3) passing Python objects instead of tensors. For (1), please define your @tf.function outside of the loop. For (2), @tf.function has experimental_relax_shapes=True option that relaxes argument shapes that can avoid unnecessary retracing. For (3), please refer to https://www.tensorflow.org/guide/function#controlling_retracing and https://www.tensorflow.org/api_docs/python/tf/function for  more details.\n",
            "1/1 [==============================] - 1s 1s/step - loss: 0.3300\n"
          ],
          "name": "stdout"
        },
        {
          "output_type": "execute_result",
          "data": {
            "text/plain": [
              "0.3300303816795349"
            ]
          },
          "metadata": {
            "tags": []
          },
          "execution_count": 272
        }
      ]
    },
    {
      "cell_type": "markdown",
      "metadata": {
        "id": "E1LPMwKrSrQh"
      },
      "source": [
        "## Making Predictions\n",
        "We will make some closing price predictions using our brand new LSTM RNN model and our testing data."
      ]
    },
    {
      "cell_type": "code",
      "metadata": {
        "id": "7DPvYW13SrQh",
        "outputId": "b08b1bae-9e44-4897-cdb2-1fadfc5f49fa"
      },
      "source": [
        "# Make some predictions\n",
        "predicted = model.predict(X_test)"
      ],
      "execution_count": null,
      "outputs": [
        {
          "output_type": "stream",
          "text": [
            "WARNING:tensorflow:8 out of the last 12 calls to <function Model.make_predict_function.<locals>.predict_function at 0x170c440d0> triggered tf.function retracing. Tracing is expensive and the excessive number of tracings could be due to (1) creating @tf.function repeatedly in a loop, (2) passing tensors with different shapes, (3) passing Python objects instead of tensors. For (1), please define your @tf.function outside of the loop. For (2), @tf.function has experimental_relax_shapes=True option that relaxes argument shapes that can avoid unnecessary retracing. For (3), please refer to https://www.tensorflow.org/guide/function#controlling_retracing and https://www.tensorflow.org/api_docs/python/tf/function for  more details.\n"
          ],
          "name": "stdout"
        }
      ]
    },
    {
      "cell_type": "markdown",
      "metadata": {
        "id": "ZbMVoZ7NSrQh"
      },
      "source": [
        "Since we scaled the original values using the MinMaxScaler, we need to recover the original prices to better understand the predictions.We will use the inverse_transform() method of the scaler to decode the scaled values to their original scale."
      ]
    },
    {
      "cell_type": "code",
      "metadata": {
        "id": "lzU3qkKESrQh"
      },
      "source": [
        " # Recover the original prices instead of the scaled version\n",
        "predicted_prices = scaler.inverse_transform(predicted)\n",
        "real_prices = scaler.inverse_transform(y_test.reshape(-1, 1)) "
      ],
      "execution_count": null,
      "outputs": []
    },
    {
      "cell_type": "markdown",
      "metadata": {
        "id": "AdZ8jToTSrQh"
      },
      "source": [
        "## Plotting Predicted Vs. Real Prices\n",
        "To plot the predicted vs. the real values, we will create a DataFrame."
      ]
    },
    {
      "cell_type": "code",
      "metadata": {
        "id": "FHd7TV_ZSrQh",
        "outputId": "284d42a4-644c-4065-b53c-4c9995907ac2"
      },
      "source": [
        "# Create a DataFrame of Real and Predicted values\n",
        "stocks = pd.DataFrame({\n",
        "    \"Real\": real_prices.ravel(),\n",
        "    \"Predicted\": predicted_prices.ravel()\n",
        "    }, index = df.index[-len(real_prices): ])\n",
        "stocks"
      ],
      "execution_count": null,
      "outputs": [
        {
          "output_type": "execute_result",
          "data": {
            "text/html": [
              "<div>\n",
              "<style scoped>\n",
              "    .dataframe tbody tr th:only-of-type {\n",
              "        vertical-align: middle;\n",
              "    }\n",
              "\n",
              "    .dataframe tbody tr th {\n",
              "        vertical-align: top;\n",
              "    }\n",
              "\n",
              "    .dataframe thead th {\n",
              "        text-align: right;\n",
              "    }\n",
              "</style>\n",
              "<table border=\"1\" class=\"dataframe\">\n",
              "  <thead>\n",
              "    <tr style=\"text-align: right;\">\n",
              "      <th></th>\n",
              "      <th>Real</th>\n",
              "      <th>Predicted</th>\n",
              "    </tr>\n",
              "  </thead>\n",
              "  <tbody>\n",
              "    <tr>\n",
              "      <th>2021-03-30</th>\n",
              "      <td>22.040001</td>\n",
              "      <td>22.088583</td>\n",
              "    </tr>\n",
              "    <tr>\n",
              "      <th>2021-03-31</th>\n",
              "      <td>23.290001</td>\n",
              "      <td>22.089062</td>\n",
              "    </tr>\n",
              "    <tr>\n",
              "      <th>2021-04-01</th>\n",
              "      <td>23.070000</td>\n",
              "      <td>22.087719</td>\n",
              "    </tr>\n",
              "  </tbody>\n",
              "</table>\n",
              "</div>"
            ],
            "text/plain": [
              "                 Real  Predicted\n",
              "2021-03-30  22.040001  22.088583\n",
              "2021-03-31  23.290001  22.089062\n",
              "2021-04-01  23.070000  22.087719"
            ]
          },
          "metadata": {
            "tags": []
          },
          "execution_count": 275
        }
      ]
    },
    {
      "cell_type": "code",
      "metadata": {
        "id": "ycJtgcYmSrQh",
        "outputId": "0fe1c7af-f880-4ea3-8682-e1231fbf6e68"
      },
      "source": [
        "stocks.plot()"
      ],
      "execution_count": null,
      "outputs": [
        {
          "output_type": "execute_result",
          "data": {
            "text/plain": [
              "<matplotlib.axes._subplots.AxesSubplot at 0x170e780a0>"
            ]
          },
          "metadata": {
            "tags": []
          },
          "execution_count": 276
        },
        {
          "output_type": "display_data",
          "data": {
            "image/png": "[encoded data removed]",
            "text/plain": [
              "<Figure size 432x288 with 1 Axes>"
            ]
          },
          "metadata": {
            "tags": [],
            "needs_background": "light"
          }
        }
      ]
    },
    {
      "cell_type": "code",
      "metadata": {
        "id": "DxQQ9rr0SrQh"
      },
      "source": [
        ""
      ],
      "execution_count": null,
      "outputs": []
    }
  ]
}