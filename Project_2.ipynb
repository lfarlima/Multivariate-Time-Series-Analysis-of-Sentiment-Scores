{
 "cells": [
  {
   "cell_type": "markdown",
   "metadata": {
    "colab_type": "text",
    "id": "view-in-github"
   },
   "source": [
    "<a href=\"https://colab.research.google.com/github/lfarlima/Project-2/blob/main/Project_2.ipynb\" target=\"_parent\"><img src=\"https://colab.research.google.com/assets/colab-badge.svg\" alt=\"Open In Colab\"/></a>"
   ]
  },
  {
   "cell_type": "markdown",
   "metadata": {
    "id": "JaVkHMLGVW4u"
   },
   "source": [
    "##Imports and Dependencies "
   ]
  },
  {
   "cell_type": "code",
   "execution_count": 1,
   "metadata": {
    "colab": {
     "base_uri": "https://localhost:8080/"
    },
    "id": "Rs2pBM-Sunff",
    "outputId": "6612843c-f4b5-4ac5-faf9-5c057ecc2757"
   },
   "outputs": [],
   "source": [
    "# !pip install yfinance # ONLY FOR COLAB RUNS"
   ]
  },
  {
   "cell_type": "code",
   "execution_count": 2,
   "metadata": {
    "colab": {
     "base_uri": "https://localhost:8080/"
    },
    "id": "66LePzZ6-uEa",
    "outputId": "bf2d3e49-e39c-4c43-a0f7-4ece379d47ab"
   },
   "outputs": [],
   "source": [
    "# !pip install ibm_watson # ONLY FOR COLAB RUNS"
   ]
  },
  {
   "cell_type": "code",
   "execution_count": 3,
   "metadata": {
    "colab": {
     "base_uri": "https://localhost:8080/"
    },
    "id": "T5ra-jqchjzO",
    "outputId": "572c69e7-0efa-466b-8328-bc649f4b154c"
   },
   "outputs": [
    {
     "name": "stderr",
     "output_type": "stream",
     "text": [
      "[nltk_data] Downloading package wordnet to\n",
      "[nltk_data]     /Users/vinayanupindi/nltk_data...\n",
      "[nltk_data]   Package wordnet is already up-to-date!\n",
      "[nltk_data] Downloading package reuters to\n",
      "[nltk_data]     /Users/vinayanupindi/nltk_data...\n",
      "[nltk_data]   Package reuters is already up-to-date!\n",
      "[nltk_data] Downloading package stopwords to\n",
      "[nltk_data]     /Users/vinayanupindi/nltk_data...\n",
      "[nltk_data]   Package stopwords is already up-to-date!\n",
      "[nltk_data] Downloading package punkt to\n",
      "[nltk_data]     /Users/vinayanupindi/nltk_data...\n",
      "[nltk_data]   Package punkt is already up-to-date!\n",
      "[nltk_data] Downloading package vader_lexicon to\n",
      "[nltk_data]     /Users/vinayanupindi/nltk_data...\n",
      "[nltk_data]   Package vader_lexicon is already up-to-date!\n"
     ]
    }
   ],
   "source": [
    "#imports\n",
    "import os\n",
    "import pandas as pd\n",
    "import matplotlib.pyplot as plt\n",
    "import numpy as np\n",
    "import nltk\n",
    "from nltk.sentiment.vader import SentimentIntensityAnalyzer\n",
    "analyzer=SentimentIntensityAnalyzer\n",
    "from datetime import datetime, date, time, timezone\n",
    "import yfinance as yf # Stock data\n",
    "from numpy.random import seed\n",
    "seed (1)\n",
    "from tensorflow import random\n",
    "random.set_seed(2)\n",
    "import newsapi as NewsApiClient\n",
    "\n",
    "## NLTK IMPORTS\n",
    "from nltk.corpus import stopwords, reuters\n",
    "from nltk.tokenize import word_tokenize\n",
    "from nltk.stem import WordNetLemmatizer\n",
    "from wordcloud import WordCloud, STOPWORDS\n",
    "\n",
    "# Code to download corpora\n",
    "import nltk\n",
    "nltk.download('wordnet')\n",
    "nltk.download('reuters')\n",
    "nltk.download('stopwords')\n",
    "nltk.download('punkt')\n",
    "\n",
    "\n",
    "lemmatizer = WordNetLemmatizer()\n",
    "\n",
    "api_key = \"0ef1c61926f54984abcca4338225fd66\"\n",
    "\n",
    "# Download/Update the VADER Lexicon\n",
    "nltk.download('vader_lexicon')\n",
    "\n",
    "# Initialize the VADER sentiment analyzer\n",
    "analyzer = SentimentIntensityAnalyzer()\n",
    "\n",
    "## IBM WATSON IMPORTS\n",
    "import json\n",
    "from pandas import json_normalize\n",
    "from ibm_watson import ToneAnalyzerV3\n",
    "from ibm_cloud_sdk_core.authenticators import IAMAuthenticator\n",
    "from dotenv import load_dotenv\n",
    "load_dotenv()\n",
    "\n",
    "tone_api = \"zFumggLvdanjWjbKKqYfOetZc3Nu1PAaVJHVmc5FRt8t\"\n",
    "\n",
    "tone_url = \"https://api.us-south.tone-analyzer.watson.cloud.ibm.com/instances/300fde5a-3dd1-4864-8a3d-1b8b626f35a9\"\n",
    "\n",
    "# Initialize Tone Analyser Client\n",
    "# Create authentication object\n",
    "from ibm_cloud_sdk_core.authenticators import IAMAuthenticator\n",
    "authenticator = IAMAuthenticator(tone_api)\n",
    "from ibm_watson import ToneAnalyzerV3\n",
    "\n",
    "# Create tone_analyzer instance\n",
    "tone_analyzer = ToneAnalyzerV3(\n",
    "    version=\"2017-09-21\",\n",
    "    authenticator=authenticator\n",
    ")\n",
    "\n",
    "# Set the service endpoint\n",
    "tone_analyzer.set_service_url(tone_url)"
   ]
  },
  {
   "cell_type": "markdown",
   "metadata": {
    "id": "qRKKpH4gkKjZ"
   },
   "source": [
    "## Twitter Tweet's VADER sentiment analysis "
   ]
  },
  {
   "cell_type": "code",
   "execution_count": 7,
   "metadata": {},
   "outputs": [
    {
     "ename": "TypeError",
     "evalue": "'module' object is not callable",
     "output_type": "error",
     "traceback": [
      "\u001b[0;31m---------------------------------------------------------------------------\u001b[0m",
      "\u001b[0;31mTypeError\u001b[0m                                 Traceback (most recent call last)",
      "\u001b[0;32m<ipython-input-7-5ad738618a11>\u001b[0m in \u001b[0;36m<module>\u001b[0;34m\u001b[0m\n\u001b[1;32m      1\u001b[0m \u001b[0mapi_key\u001b[0m \u001b[0;34m=\u001b[0m \u001b[0;34m'0ef1c61926f54984abcca4338225fd66'\u001b[0m\u001b[0;34m\u001b[0m\u001b[0;34m\u001b[0m\u001b[0m\n\u001b[0;32m----> 2\u001b[0;31m \u001b[0mnewsapi\u001b[0m \u001b[0;34m=\u001b[0m \u001b[0mNewsApiClient\u001b[0m\u001b[0;34m(\u001b[0m\u001b[0mapi_key\u001b[0m\u001b[0;34m=\u001b[0m\u001b[0mapi_key\u001b[0m\u001b[0;34m)\u001b[0m\u001b[0;34m\u001b[0m\u001b[0;34m\u001b[0m\u001b[0m\n\u001b[0m",
      "\u001b[0;31mTypeError\u001b[0m: 'module' object is not callable"
     ]
    }
   ],
   "source": [
    "api_key = '0ef1c61926f54984abcca4338225fd66'\n",
    "newsapi = NewsApiClient(api_key=api_key)"
   ]
  },
  {
   "cell_type": "code",
   "execution_count": 8,
   "metadata": {
    "id": "zsnkthtwiIW1"
   },
   "outputs": [],
   "source": [
    "## This section is for proof of work. Not meant to be run\n",
    "\n",
    "# pip install nest_asyncio\n",
    "\n",
    "# pip install --upgrade git+https://github.com/twintproject/twint.git@origin/master#egg=twint\n",
    "\n",
    "# import twint\n",
    "# import nest_asyncio\n",
    "# nest_asyncio.apply()\n",
    "# c= twint.Config()\n",
    "# c.Search= \"$DOT\" or \"DOT.X\"\n",
    "# c.Since= \"2020-09-29\"\n",
    "# c.Until = '2021-04-04'\n",
    "# # c.Limit= 1000\n",
    "# c.Lang= \"en\"\n",
    "# c.Store_csv= True\n",
    "# c.Output= \"Search.csv\"\n",
    "\n",
    "# twint.run.Search(c)\n",
    "\n",
    "\n",
    "# df = pd.read_csv('Search.csv', encoding=\"utf-8-sig\")\n",
    "# df= df[[\"id\", \"created_at\", \"tweet\", \"language\"]]\n",
    "# df=df.loc[df[\"language\"]==\"en\"]\n",
    "# df=df.rename(columns={\"id\": \"ID\", \"created_at\": \"Date\", \"tweet\": \"Tweet\"})\n",
    "# df=df.drop([\"language\"], axis=1)\n",
    "# #need to standardize time \n",
    "# # df=df.set_index(\"Date\")\n",
    "# df.shape"
   ]
  },
  {
   "cell_type": "code",
   "execution_count": 9,
   "metadata": {
    "colab": {
     "base_uri": "https://localhost:8080/"
    },
    "id": "kFJ5gAXxgjqt",
    "outputId": "a28d3e2f-6d6d-4663-d3aa-614e4d36e370"
   },
   "outputs": [
    {
     "name": "stderr",
     "output_type": "stream",
     "text": [
      "/opt/anaconda3/lib/python3.8/site-packages/IPython/core/interactiveshell.py:3071: DtypeWarning: Columns (1) have mixed types.Specify dtype option on import or set low_memory=False.\n",
      "  has_raised = await self.run_ast_nodes(code_ast.body, cell_name,\n"
     ]
    }
   ],
   "source": [
    "## NEED TO UPLOAD FILES INSTEAD\n",
    "# import local csv to colab\n",
    "# from google.colab import files\n",
    "# uploaded = files.upload()\n",
    "\n",
    "\n",
    "#Meant to be used for jupyter notebook \n",
    "pltr_twitter_df = pd.read_csv('pltr_twitter_df.csv', parse_dates=True, infer_datetime_format=True)"
   ]
  },
  {
   "cell_type": "code",
   "execution_count": 10,
   "metadata": {
    "colab": {
     "base_uri": "https://localhost:8080/",
     "height": 204
    },
    "id": "iErUOtzFlXU_",
    "outputId": "28f51c33-55d1-4c89-af9c-5c30ac82395f"
   },
   "outputs": [],
   "source": [
    "pltr_twitter_df=pltr_twitter_df.sort_values('Date')\n",
    "pltr_twitter_df['Date'] = pd.to_datetime(pltr_twitter_df['Date']).dt.date\n",
    "pltr_twitter_df=pltr_twitter_df.drop_duplicates()\n",
    "pltr_twitter_df=pltr_twitter_df.dropna()"
   ]
  },
  {
   "cell_type": "code",
   "execution_count": 11,
   "metadata": {
    "id": "1VpZBawplgKD"
   },
   "outputs": [],
   "source": [
    "# Function to calculate sentiment based on compound score\n",
    "def get_sentiment(score):\n",
    "    \"\"\"\n",
    "    Calculates the sentiment based on the compound score.\n",
    "    \"\"\"\n",
    "    result = 0  # Neutral by default\n",
    "    if score >= 0.05:  # Positive\n",
    "        result = 1\n",
    "    elif score <= -0.05:  # Negative\n",
    "        result = -1\n",
    "    return result"
   ]
  },
  {
   "cell_type": "code",
   "execution_count": 12,
   "metadata": {
    "id": "5fvvRErflkCz"
   },
   "outputs": [],
   "source": [
    "## FOR PROOF OF WORK\n",
    "\n",
    "# pltr_twtr_sentiments = []\n",
    "\n",
    "# for index, row in pltr_twitter_df.iterrows():\n",
    "#     try:\n",
    "#         text = row[\"Tweet\"]\n",
    "#         date = row[\"Date\"]\n",
    "#         sentiment = analyzer.polarity_scores(text)\n",
    "#         compound = sentiment[\"compound\"]\n",
    "#         pos = sentiment[\"pos\"]\n",
    "#         neu = sentiment[\"neu\"]\n",
    "#         neg = sentiment[\"neg\"]\n",
    "#         pol=  get_sentiment(compound)\n",
    "        \n",
    "#         pltr_twtr_sentiments.append({\n",
    "#             \"text\": text,\n",
    "#             \"date\": date,\n",
    "#             \"compound\": compound,\n",
    "#             \"positive\": pos,\n",
    "#             \"negative\": neg,\n",
    "#             \"neutral\": neu,\n",
    "#             \"Polarity Score\":pol\n",
    "            \n",
    "#         })\n",
    "        \n",
    "#     except AttributeError:\n",
    "#         pass\n",
    "\n"
   ]
  },
  {
   "cell_type": "code",
   "execution_count": 39,
   "metadata": {
    "id": "QfL5wXD6lne5",
    "outputId": "33de3271-0b9d-4393-d047-8a4916a2d887"
   },
   "outputs": [
    {
     "name": "stdout",
     "output_type": "stream",
     "text": [
      "<class 'pandas.core.frame.DataFrame'>\n",
      "Int64Index: 136203 entries, 0 to 441533\n",
      "Data columns (total 7 columns):\n",
      " #   Column          Non-Null Count   Dtype  \n",
      "---  ------          --------------   -----  \n",
      " 0   date            136203 non-null  object \n",
      " 1   text            136203 non-null  object \n",
      " 2   compound        136203 non-null  float64\n",
      " 3   positive        136203 non-null  float64\n",
      " 4   negative        136203 non-null  float64\n",
      " 5   neutral         136203 non-null  float64\n",
      " 6   Polarity Score  136203 non-null  int64  \n",
      "dtypes: float64(4), int64(1), object(2)\n",
      "memory usage: 8.3+ MB\n"
     ]
    }
   ],
   "source": [
    "pltr_twitter_sentiment_df = pd.read_csv('pltr_twitter_sentiment_df.csv', parse_dates=True, infer_datetime_format=True)\n",
    "pltr_twitter_sentiment_df.drop_duplicates(inplace=True)\n",
    "pltr_twitter_sentiment_df.info()"
   ]
  },
  {
   "cell_type": "code",
   "execution_count": 41,
   "metadata": {},
   "outputs": [
    {
     "name": "stdout",
     "output_type": "stream",
     "text": [
      "<class 'pandas.core.frame.DataFrame'>\n",
      "Index: 136203 entries, 2020-09-29 to 2021-04-03\n",
      "Data columns (total 6 columns):\n",
      " #   Column          Non-Null Count   Dtype  \n",
      "---  ------          --------------   -----  \n",
      " 0   text            136203 non-null  object \n",
      " 1   compound        136203 non-null  float64\n",
      " 2   positive        136203 non-null  float64\n",
      " 3   negative        136203 non-null  float64\n",
      " 4   neutral         136203 non-null  float64\n",
      " 5   Polarity Score  136203 non-null  int64  \n",
      "dtypes: float64(4), int64(1), object(1)\n",
      "memory usage: 7.3+ MB\n"
     ]
    }
   ],
   "source": [
    "pltr_twitter_sentiment_df=pltr_twitter_sentiment_df.sort_values('date')\n",
    "pltr_twitter_sentiment_df['date'] = pd.to_datetime(pltr_twitter_sentiment_df['date']).dt.date\n",
    "pltr_twitter_sentiment_df.set_index('date',inplace=True)\n",
    "pltr_twitter_sentiment_df.info()"
   ]
  },
  {
   "cell_type": "code",
   "execution_count": null,
   "metadata": {
    "colab": {
     "base_uri": "https://localhost:8080/",
     "height": 204
    },
    "id": "14-YB6xMlzKY",
    "outputId": "71aecd19-3f92-4383-ccfb-f8d38538b20e"
   },
   "outputs": [],
   "source": [
    "# import pltr_twitter_sentiment_df csv to colab\n",
    "# pltr_twitter_sentiment_df = pd.DataFrame(pltr_twtr_sentiments)\n",
    "# pltr_twitter_sentiment_df.info()\n"
   ]
  },
  {
   "cell_type": "code",
   "execution_count": 42,
   "metadata": {},
   "outputs": [
    {
     "name": "stdout",
     "output_type": "stream",
     "text": [
      "<class 'pandas.core.frame.DataFrame'>\n",
      "Index: 187 entries, 2020-09-29 to 2021-04-03\n",
      "Data columns (total 5 columns):\n",
      " #   Column          Non-Null Count  Dtype  \n",
      "---  ------          --------------  -----  \n",
      " 0   compound        187 non-null    float64\n",
      " 1   positive        187 non-null    float64\n",
      " 2   negative        187 non-null    float64\n",
      " 3   neutral         187 non-null    float64\n",
      " 4   Polarity Score  187 non-null    float64\n",
      "dtypes: float64(5)\n",
      "memory usage: 8.8+ KB\n"
     ]
    },
    {
     "name": "stderr",
     "output_type": "stream",
     "text": [
      "<ipython-input-42-5eb92d7a8b51>:2: FutureWarning: Indexing with multiple keys (implicitly converted to a tuple of keys) will be deprecated, use a list instead.\n",
      "  twitter_sent_avg = pltr_twitter_sentiment_df.groupby('date', as_index=True, sort=True)['compound','positive','negative','neutral','Polarity Score'].mean()\n"
     ]
    }
   ],
   "source": [
    "#CALCULATE AVERAGE\n",
    "twitter_sent_avg = pltr_twitter_sentiment_df.groupby('date', as_index=True, sort=True)['compound','positive','negative','neutral','Polarity Score'].mean()\n",
    "twitter_sent_avg.info()"
   ]
  },
  {
   "cell_type": "code",
   "execution_count": 17,
   "metadata": {
    "id": "gijTbZCXl21O",
    "outputId": "8633d197-c4ca-463a-f549-cd7b31f6937d"
   },
   "outputs": [
    {
     "data": {
      "text/plain": [
       "<matplotlib.axes._subplots.AxesSubplot at 0x159c79940>"
      ]
     },
     "execution_count": 17,
     "metadata": {},
     "output_type": "execute_result"
    },
    {
     "data": {
      "image/png": "[encoded data removed]",
      "text/plain": [
       "<Figure size 432x288 with 1 Axes>"
      ]
     },
     "metadata": {
      "needs_background": "light"
     },
     "output_type": "display_data"
    }
   ],
   "source": [
    "# Graph tallied Polarity Score \n",
    "pltr_twitter_sentiment_df.groupby('Polarity Score').size().plot(kind='bar')"
   ]
  },
  {
   "cell_type": "markdown",
   "metadata": {
    "id": "BQs6NKuliK8g"
   },
   "source": [
    "## Pull data from Newsapi and run VADER analysis"
   ]
  },
  {
   "cell_type": "code",
   "execution_count": 66,
   "metadata": {
    "id": "ehZvPpnDilMU"
   },
   "outputs": [
    {
     "ename": "NameError",
     "evalue": "name 'newsapi' is not defined",
     "output_type": "error",
     "traceback": [
      "\u001b[0;31m---------------------------------------------------------------------------\u001b[0m",
      "\u001b[0;31mNameError\u001b[0m                                 Traceback (most recent call last)",
      "\u001b[0;32m<ipython-input-66-617426821941>\u001b[0m in \u001b[0;36m<module>\u001b[0;34m\u001b[0m\n\u001b[1;32m      1\u001b[0m \u001b[0;31m# ## THIS IS FOR PROOF OF WORK. DOES NOT RUN ON COLAB\u001b[0m\u001b[0;34m\u001b[0m\u001b[0;34m\u001b[0m\u001b[0;34m\u001b[0m\u001b[0m\n\u001b[1;32m      2\u001b[0m \u001b[0;34m\u001b[0m\u001b[0m\n\u001b[0;32m----> 3\u001b[0;31m pltr_headlines = newsapi.get_everything(\n\u001b[0m\u001b[1;32m      4\u001b[0m     \u001b[0mq\u001b[0m\u001b[0;34m=\u001b[0m\u001b[0;34m\"PLTR\"\u001b[0m\u001b[0;34m,\u001b[0m\u001b[0;34m\u001b[0m\u001b[0;34m\u001b[0m\u001b[0m\n\u001b[1;32m      5\u001b[0m     \u001b[0mlanguage\u001b[0m\u001b[0;34m=\u001b[0m\u001b[0;34m\"en\"\u001b[0m\u001b[0;34m,\u001b[0m\u001b[0;34m\u001b[0m\u001b[0;34m\u001b[0m\u001b[0m\n",
      "\u001b[0;31mNameError\u001b[0m: name 'newsapi' is not defined"
     ]
    }
   ],
   "source": [
    "# ## THIS IS FOR PROOF OF WORK. DOES NOT RUN ON COLAB\n",
    "\n",
    "pltr_headlines = newsapi.get_everything(\n",
    "    q=\"PLTR\",\n",
    "    language=\"en\",\n",
    "    page_size=10,\n",
    "    sort_by=\"relevancy\",\n",
    "    from_param=\"2021-02-29\"\n",
    ")\n",
    "\n",
    "pltr_newsapi_df = pd.DataFrame.from_dict(pltr_headlines[\"articles\"])\n",
    "pltr_newsapi_df.head()"
   ]
  },
  {
   "cell_type": "code",
   "execution_count": 67,
   "metadata": {
    "id": "kI66fxdMithr",
    "outputId": "43db6a19-01aa-4387-eb26-095d5dd88d0a"
   },
   "outputs": [
    {
     "data": {
      "text/html": [
       "<div>\n",
       "<style scoped>\n",
       "    .dataframe tbody tr th:only-of-type {\n",
       "        vertical-align: middle;\n",
       "    }\n",
       "\n",
       "    .dataframe tbody tr th {\n",
       "        vertical-align: top;\n",
       "    }\n",
       "\n",
       "    .dataframe thead th {\n",
       "        text-align: right;\n",
       "    }\n",
       "</style>\n",
       "<table border=\"1\" class=\"dataframe\">\n",
       "  <thead>\n",
       "    <tr style=\"text-align: right;\">\n",
       "      <th></th>\n",
       "      <th>Unnamed: 0</th>\n",
       "      <th>source</th>\n",
       "      <th>author</th>\n",
       "      <th>title</th>\n",
       "      <th>description</th>\n",
       "      <th>url</th>\n",
       "      <th>urlToImage</th>\n",
       "      <th>publishedAt</th>\n",
       "      <th>content</th>\n",
       "    </tr>\n",
       "  </thead>\n",
       "  <tbody>\n",
       "    <tr>\n",
       "      <th>0</th>\n",
       "      <td>0</td>\n",
       "      <td>{'id': None, 'name': 'Benzinga'}</td>\n",
       "      <td>Tyler Bundy</td>\n",
       "      <td>Palantir Stock Trades Higher: A Technical Anal...</td>\n",
       "      <td>Palantir Technology Inc. (NYSE:PLTR) shares we...</td>\n",
       "      <td>https://www.benzinga.com/trading-ideas/long-id...</td>\n",
       "      <td>https://cdn2.benzinga.com/files/imagecache/og_...</td>\n",
       "      <td>2021-03-25T19:06:00Z</td>\n",
       "      <td>Palantir Technology Inc. (NYSE:PLTR) shares we...</td>\n",
       "    </tr>\n",
       "    <tr>\n",
       "      <th>1</th>\n",
       "      <td>1</td>\n",
       "      <td>{'id': 'business-insider', 'name': 'Business I...</td>\n",
       "      <td>Emily Graffeo</td>\n",
       "      <td>Palantir jumps after securing 5-year contract ...</td>\n",
       "      <td>Summary List PlacementShares of Palantir gaine...</td>\n",
       "      <td>https://www.businessinsider.com/palantir-stock...</td>\n",
       "      <td>https://i.insider.com/605213680347cb00184b63a3...</td>\n",
       "      <td>2021-04-05T13:16:57Z</td>\n",
       "      <td>Shares of Palantir gained 3.47% early Monday a...</td>\n",
       "    </tr>\n",
       "    <tr>\n",
       "      <th>2</th>\n",
       "      <td>2</td>\n",
       "      <td>{'id': 'reuters', 'name': 'Reuters'}</td>\n",
       "      <td>Reuters Staff</td>\n",
       "      <td>Former Credit Suisse exec backed SPAC to take ...</td>\n",
       "      <td>Sarcos Robotics Inc said on Tuesday it will go...</td>\n",
       "      <td>https://www.reuters.com/article/us-sarcos-m-a-...</td>\n",
       "      <td>https://s1.reutersmedia.net/resources_v2/image...</td>\n",
       "      <td>2021-04-06T10:53:00Z</td>\n",
       "      <td>By Reuters Staff\\r\\n(Reuters) - Sarcos Robotic...</td>\n",
       "    </tr>\n",
       "    <tr>\n",
       "      <th>3</th>\n",
       "      <td>3</td>\n",
       "      <td>{'id': None, 'name': 'Slashdot.org'}</td>\n",
       "      <td>BeauHD</td>\n",
       "      <td>Coinbase Sets Direct Listing For April 14</td>\n",
       "      <td>Coinbase, the largest U.S. cryptocurrency exch...</td>\n",
       "      <td>https://slashdot.org/story/21/04/01/2124242/co...</td>\n",
       "      <td>https://a.fsdn.com/sd/topics/bitcoin_64.png</td>\n",
       "      <td>2021-04-02T01:25:00Z</td>\n",
       "      <td>The company's registration statement for the l...</td>\n",
       "    </tr>\n",
       "    <tr>\n",
       "      <th>4</th>\n",
       "      <td>4</td>\n",
       "      <td>{'id': 'reuters', 'name': 'Reuters'}</td>\n",
       "      <td>Reuters Staff</td>\n",
       "      <td>Breakingviews - Capital Calls - Cellebrite goo...</td>\n",
       "      <td>SOMETHING TO CELLEBRITE. Controversy over cops...</td>\n",
       "      <td>https://www.reuters.com/article/us-global-fina...</td>\n",
       "      <td>https://static.reuters.com/resources/r/?m=02&amp;d...</td>\n",
       "      <td>2021-04-08T19:41:00Z</td>\n",
       "      <td>By Reuters Staff\\r\\nA Cellebrite forensic devi...</td>\n",
       "    </tr>\n",
       "  </tbody>\n",
       "</table>\n",
       "</div>"
      ],
      "text/plain": [
       "   Unnamed: 0                                             source  \\\n",
       "0           0                   {'id': None, 'name': 'Benzinga'}   \n",
       "1           1  {'id': 'business-insider', 'name': 'Business I...   \n",
       "2           2               {'id': 'reuters', 'name': 'Reuters'}   \n",
       "3           3               {'id': None, 'name': 'Slashdot.org'}   \n",
       "4           4               {'id': 'reuters', 'name': 'Reuters'}   \n",
       "\n",
       "          author                                              title  \\\n",
       "0    Tyler Bundy  Palantir Stock Trades Higher: A Technical Anal...   \n",
       "1  Emily Graffeo  Palantir jumps after securing 5-year contract ...   \n",
       "2  Reuters Staff  Former Credit Suisse exec backed SPAC to take ...   \n",
       "3         BeauHD          Coinbase Sets Direct Listing For April 14   \n",
       "4  Reuters Staff  Breakingviews - Capital Calls - Cellebrite goo...   \n",
       "\n",
       "                                         description  \\\n",
       "0  Palantir Technology Inc. (NYSE:PLTR) shares we...   \n",
       "1  Summary List PlacementShares of Palantir gaine...   \n",
       "2  Sarcos Robotics Inc said on Tuesday it will go...   \n",
       "3  Coinbase, the largest U.S. cryptocurrency exch...   \n",
       "4  SOMETHING TO CELLEBRITE. Controversy over cops...   \n",
       "\n",
       "                                                 url  \\\n",
       "0  https://www.benzinga.com/trading-ideas/long-id...   \n",
       "1  https://www.businessinsider.com/palantir-stock...   \n",
       "2  https://www.reuters.com/article/us-sarcos-m-a-...   \n",
       "3  https://slashdot.org/story/21/04/01/2124242/co...   \n",
       "4  https://www.reuters.com/article/us-global-fina...   \n",
       "\n",
       "                                          urlToImage           publishedAt  \\\n",
       "0  https://cdn2.benzinga.com/files/imagecache/og_...  2021-03-25T19:06:00Z   \n",
       "1  https://i.insider.com/605213680347cb00184b63a3...  2021-04-05T13:16:57Z   \n",
       "2  https://s1.reutersmedia.net/resources_v2/image...  2021-04-06T10:53:00Z   \n",
       "3        https://a.fsdn.com/sd/topics/bitcoin_64.png  2021-04-02T01:25:00Z   \n",
       "4  https://static.reuters.com/resources/r/?m=02&d...  2021-04-08T19:41:00Z   \n",
       "\n",
       "                                             content  \n",
       "0  Palantir Technology Inc. (NYSE:PLTR) shares we...  \n",
       "1  Shares of Palantir gained 3.47% early Monday a...  \n",
       "2  By Reuters Staff\\r\\n(Reuters) - Sarcos Robotic...  \n",
       "3  The company's registration statement for the l...  \n",
       "4  By Reuters Staff\\r\\nA Cellebrite forensic devi...  "
      ]
     },
     "execution_count": 67,
     "metadata": {},
     "output_type": "execute_result"
    }
   ],
   "source": [
    " # Transform the response dictionary to a DataFrame\n",
    "pltr_newsapi_df = pd.read_csv('Newsapi.csv')\n",
    "\n",
    "pltr_newsapi_df.head()"
   ]
  },
  {
   "cell_type": "code",
   "execution_count": 27,
   "metadata": {
    "id": "2BX4KddTiyqj"
   },
   "outputs": [],
   "source": [
    "\n",
    "pltr_sentiments = []\n",
    "\n",
    "for index, row in pltr_newsapi_df.iterrows():\n",
    "    try:\n",
    "        text = row[\"content\"]\n",
    "        date = row[\"publishedAt\"]\n",
    "        sentiment = analyzer.polarity_scores(text)\n",
    "        compound = sentiment[\"compound\"]\n",
    "        pos = sentiment[\"pos\"]\n",
    "        neu = sentiment[\"neu\"]\n",
    "        neg = sentiment[\"neg\"]\n",
    "        pol=  get_sentiment(compound)\n",
    "        \n",
    "        pltr_sentiments.append({\n",
    "            \"text\": text,\n",
    "            \"date\": date,\n",
    "            \"compound\": compound,\n",
    "            \"positive\": pos,\n",
    "            \"negative\": neg,\n",
    "            \"neutral\": neu,\n",
    "            \"Polarity Score\":pol\n",
    "            \n",
    "        })\n",
    "        \n",
    "    except AttributeError:\n",
    "        pass"
   ]
  },
  {
   "cell_type": "code",
   "execution_count": 88,
   "metadata": {},
   "outputs": [
    {
     "data": {
      "text/html": [
       "<div>\n",
       "<style scoped>\n",
       "    .dataframe tbody tr th:only-of-type {\n",
       "        vertical-align: middle;\n",
       "    }\n",
       "\n",
       "    .dataframe tbody tr th {\n",
       "        vertical-align: top;\n",
       "    }\n",
       "\n",
       "    .dataframe thead th {\n",
       "        text-align: right;\n",
       "    }\n",
       "</style>\n",
       "<table border=\"1\" class=\"dataframe\">\n",
       "  <thead>\n",
       "    <tr style=\"text-align: right;\">\n",
       "      <th></th>\n",
       "      <th>text</th>\n",
       "      <th>compound</th>\n",
       "      <th>positive</th>\n",
       "      <th>negative</th>\n",
       "      <th>neutral</th>\n",
       "      <th>Polarity Score</th>\n",
       "    </tr>\n",
       "    <tr>\n",
       "      <th>date</th>\n",
       "      <th></th>\n",
       "      <th></th>\n",
       "      <th></th>\n",
       "      <th></th>\n",
       "      <th></th>\n",
       "      <th></th>\n",
       "    </tr>\n",
       "  </thead>\n",
       "  <tbody>\n",
       "    <tr>\n",
       "      <th>2021-03-10</th>\n",
       "      <td>As we move into the vaccination phase of the C...</td>\n",
       "      <td>0.4939</td>\n",
       "      <td>0.135</td>\n",
       "      <td>0.000</td>\n",
       "      <td>0.865</td>\n",
       "      <td>1</td>\n",
       "    </tr>\n",
       "    <tr>\n",
       "      <th>2021-03-10</th>\n",
       "      <td>In this video, I will talk about the five stoc...</td>\n",
       "      <td>0.7003</td>\n",
       "      <td>0.167</td>\n",
       "      <td>0.000</td>\n",
       "      <td>0.833</td>\n",
       "      <td>1</td>\n",
       "    </tr>\n",
       "    <tr>\n",
       "      <th>2021-03-10</th>\n",
       "      <td>Overview\\r\\n After an unprecedented rally in h...</td>\n",
       "      <td>0.0000</td>\n",
       "      <td>0.000</td>\n",
       "      <td>0.000</td>\n",
       "      <td>1.000</td>\n",
       "      <td>0</td>\n",
       "    </tr>\n",
       "    <tr>\n",
       "      <th>2021-03-10</th>\n",
       "      <td>Net Asset Value of $15.14 per Share as of Dece...</td>\n",
       "      <td>0.8934</td>\n",
       "      <td>0.305</td>\n",
       "      <td>0.000</td>\n",
       "      <td>0.695</td>\n",
       "      <td>1</td>\n",
       "    </tr>\n",
       "    <tr>\n",
       "      <th>2021-03-11</th>\n",
       "      <td>Image source: The Motley Fool.\\r\\nSuRo Capital...</td>\n",
       "      <td>-0.4404</td>\n",
       "      <td>0.000</td>\n",
       "      <td>0.108</td>\n",
       "      <td>0.892</td>\n",
       "      <td>-1</td>\n",
       "    </tr>\n",
       "    <tr>\n",
       "      <th>...</th>\n",
       "      <td>...</td>\n",
       "      <td>...</td>\n",
       "      <td>...</td>\n",
       "      <td>...</td>\n",
       "      <td>...</td>\n",
       "      <td>...</td>\n",
       "    </tr>\n",
       "    <tr>\n",
       "      <th>2021-04-09</th>\n",
       "      <td>Every so often, a new technology comes along t...</td>\n",
       "      <td>0.2732</td>\n",
       "      <td>0.062</td>\n",
       "      <td>0.000</td>\n",
       "      <td>0.938</td>\n",
       "      <td>1</td>\n",
       "    </tr>\n",
       "    <tr>\n",
       "      <th>2021-04-09</th>\n",
       "      <td>Photo by Sundry Photography/iStock Editorial v...</td>\n",
       "      <td>0.2960</td>\n",
       "      <td>0.064</td>\n",
       "      <td>0.000</td>\n",
       "      <td>0.936</td>\n",
       "      <td>1</td>\n",
       "    </tr>\n",
       "    <tr>\n",
       "      <th>2021-04-09</th>\n",
       "      <td>Photo by Sundry Photography/iStock Editorial v...</td>\n",
       "      <td>0.2960</td>\n",
       "      <td>0.064</td>\n",
       "      <td>0.000</td>\n",
       "      <td>0.936</td>\n",
       "      <td>1</td>\n",
       "    </tr>\n",
       "    <tr>\n",
       "      <th>2021-04-10</th>\n",
       "      <td>As antitrust regulators and members of Congres...</td>\n",
       "      <td>0.1027</td>\n",
       "      <td>0.045</td>\n",
       "      <td>0.000</td>\n",
       "      <td>0.955</td>\n",
       "      <td>1</td>\n",
       "    </tr>\n",
       "    <tr>\n",
       "      <th>2021-04-10</th>\n",
       "      <td>For more than a year, investors have been priv...</td>\n",
       "      <td>0.4404</td>\n",
       "      <td>0.081</td>\n",
       "      <td>0.000</td>\n",
       "      <td>0.919</td>\n",
       "      <td>1</td>\n",
       "    </tr>\n",
       "  </tbody>\n",
       "</table>\n",
       "<p>100 rows × 6 columns</p>\n",
       "</div>"
      ],
      "text/plain": [
       "                                                         text  compound  \\\n",
       "date                                                                      \n",
       "2021-03-10  As we move into the vaccination phase of the C...    0.4939   \n",
       "2021-03-10  In this video, I will talk about the five stoc...    0.7003   \n",
       "2021-03-10  Overview\\r\\n After an unprecedented rally in h...    0.0000   \n",
       "2021-03-10  Net Asset Value of $15.14 per Share as of Dece...    0.8934   \n",
       "2021-03-11  Image source: The Motley Fool.\\r\\nSuRo Capital...   -0.4404   \n",
       "...                                                       ...       ...   \n",
       "2021-04-09  Every so often, a new technology comes along t...    0.2732   \n",
       "2021-04-09  Photo by Sundry Photography/iStock Editorial v...    0.2960   \n",
       "2021-04-09  Photo by Sundry Photography/iStock Editorial v...    0.2960   \n",
       "2021-04-10  As antitrust regulators and members of Congres...    0.1027   \n",
       "2021-04-10  For more than a year, investors have been priv...    0.4404   \n",
       "\n",
       "            positive  negative  neutral  Polarity Score  \n",
       "date                                                     \n",
       "2021-03-10     0.135     0.000    0.865               1  \n",
       "2021-03-10     0.167     0.000    0.833               1  \n",
       "2021-03-10     0.000     0.000    1.000               0  \n",
       "2021-03-10     0.305     0.000    0.695               1  \n",
       "2021-03-11     0.000     0.108    0.892              -1  \n",
       "...              ...       ...      ...             ...  \n",
       "2021-04-09     0.062     0.000    0.938               1  \n",
       "2021-04-09     0.064     0.000    0.936               1  \n",
       "2021-04-09     0.064     0.000    0.936               1  \n",
       "2021-04-10     0.045     0.000    0.955               1  \n",
       "2021-04-10     0.081     0.000    0.919               1  \n",
       "\n",
       "[100 rows x 6 columns]"
      ]
     },
     "execution_count": 88,
     "metadata": {},
     "output_type": "execute_result"
    }
   ],
   "source": [
    "# Create DataFrame\n",
    "pltr_newsapi_sentiment_df = pd.DataFrame(pltr_sentiments)\n",
    "\n",
    "# Reorder DataFrame columns\n",
    "pltr_newsapi_sentiment_df=pltr_newsapi_sentiment_df.sort_values('date')\n",
    "pltr_newsapi_sentiment_df['date'] = pd.to_datetime(pltr_newsapi_sentiment_df['date']).dt.date\n",
    "pltr_newsapi_sentiment_df.set_index('date',inplace=True)\n",
    "pltr_newsapi_sentiment_df"
   ]
  },
  {
   "cell_type": "code",
   "execution_count": 76,
   "metadata": {
    "id": "611lBkqE73Qn"
   },
   "outputs": [
    {
     "name": "stderr",
     "output_type": "stream",
     "text": [
      "<ipython-input-76-308ef425d7e6>:2: FutureWarning: Indexing with multiple keys (implicitly converted to a tuple of keys) will be deprecated, use a list instead.\n",
      "  newsapi_sent_avg = pltr_newsapi_sentiment_df.groupby('date', as_index=True, sort=True)['compound','positive','negative','neutral','Polarity Score'].mean()\n"
     ]
    },
    {
     "data": {
      "text/html": [
       "<div>\n",
       "<style scoped>\n",
       "    .dataframe tbody tr th:only-of-type {\n",
       "        vertical-align: middle;\n",
       "    }\n",
       "\n",
       "    .dataframe tbody tr th {\n",
       "        vertical-align: top;\n",
       "    }\n",
       "\n",
       "    .dataframe thead th {\n",
       "        text-align: right;\n",
       "    }\n",
       "</style>\n",
       "<table border=\"1\" class=\"dataframe\">\n",
       "  <thead>\n",
       "    <tr style=\"text-align: right;\">\n",
       "      <th></th>\n",
       "      <th>compound</th>\n",
       "      <th>positive</th>\n",
       "      <th>negative</th>\n",
       "      <th>neutral</th>\n",
       "      <th>Polarity Score</th>\n",
       "    </tr>\n",
       "    <tr>\n",
       "      <th>date</th>\n",
       "      <th></th>\n",
       "      <th></th>\n",
       "      <th></th>\n",
       "      <th></th>\n",
       "      <th></th>\n",
       "    </tr>\n",
       "  </thead>\n",
       "  <tbody>\n",
       "    <tr>\n",
       "      <th>2021-03-10</th>\n",
       "      <td>0.521900</td>\n",
       "      <td>0.151750</td>\n",
       "      <td>0.000000</td>\n",
       "      <td>0.848250</td>\n",
       "      <td>0.750000</td>\n",
       "    </tr>\n",
       "    <tr>\n",
       "      <th>2021-03-11</th>\n",
       "      <td>-0.071825</td>\n",
       "      <td>0.019250</td>\n",
       "      <td>0.042000</td>\n",
       "      <td>0.938750</td>\n",
       "      <td>0.000000</td>\n",
       "    </tr>\n",
       "    <tr>\n",
       "      <th>2021-03-12</th>\n",
       "      <td>0.000000</td>\n",
       "      <td>0.000000</td>\n",
       "      <td>0.000000</td>\n",
       "      <td>1.000000</td>\n",
       "      <td>0.000000</td>\n",
       "    </tr>\n",
       "    <tr>\n",
       "      <th>2021-03-13</th>\n",
       "      <td>0.636900</td>\n",
       "      <td>0.144000</td>\n",
       "      <td>0.000000</td>\n",
       "      <td>0.856000</td>\n",
       "      <td>1.000000</td>\n",
       "    </tr>\n",
       "    <tr>\n",
       "      <th>2021-03-15</th>\n",
       "      <td>0.054700</td>\n",
       "      <td>0.068000</td>\n",
       "      <td>0.057667</td>\n",
       "      <td>0.874333</td>\n",
       "      <td>0.333333</td>\n",
       "    </tr>\n",
       "    <tr>\n",
       "      <th>2021-03-16</th>\n",
       "      <td>0.513567</td>\n",
       "      <td>0.145000</td>\n",
       "      <td>0.020000</td>\n",
       "      <td>0.835000</td>\n",
       "      <td>1.000000</td>\n",
       "    </tr>\n",
       "    <tr>\n",
       "      <th>2021-03-17</th>\n",
       "      <td>0.250000</td>\n",
       "      <td>0.054000</td>\n",
       "      <td>0.000000</td>\n",
       "      <td>0.946000</td>\n",
       "      <td>1.000000</td>\n",
       "    </tr>\n",
       "    <tr>\n",
       "      <th>2021-03-18</th>\n",
       "      <td>-0.090800</td>\n",
       "      <td>0.077000</td>\n",
       "      <td>0.101250</td>\n",
       "      <td>0.821750</td>\n",
       "      <td>-0.250000</td>\n",
       "    </tr>\n",
       "    <tr>\n",
       "      <th>2021-03-19</th>\n",
       "      <td>0.560950</td>\n",
       "      <td>0.127500</td>\n",
       "      <td>0.000000</td>\n",
       "      <td>0.872500</td>\n",
       "      <td>1.000000</td>\n",
       "    </tr>\n",
       "    <tr>\n",
       "      <th>2021-03-21</th>\n",
       "      <td>-0.680800</td>\n",
       "      <td>0.000000</td>\n",
       "      <td>0.162000</td>\n",
       "      <td>0.838000</td>\n",
       "      <td>-1.000000</td>\n",
       "    </tr>\n",
       "    <tr>\n",
       "      <th>2021-03-22</th>\n",
       "      <td>0.195840</td>\n",
       "      <td>0.075800</td>\n",
       "      <td>0.040800</td>\n",
       "      <td>0.883400</td>\n",
       "      <td>0.200000</td>\n",
       "    </tr>\n",
       "    <tr>\n",
       "      <th>2021-03-23</th>\n",
       "      <td>0.510600</td>\n",
       "      <td>0.168000</td>\n",
       "      <td>0.057000</td>\n",
       "      <td>0.775000</td>\n",
       "      <td>1.000000</td>\n",
       "    </tr>\n",
       "    <tr>\n",
       "      <th>2021-03-24</th>\n",
       "      <td>0.115400</td>\n",
       "      <td>0.039000</td>\n",
       "      <td>0.000000</td>\n",
       "      <td>0.961000</td>\n",
       "      <td>1.000000</td>\n",
       "    </tr>\n",
       "    <tr>\n",
       "      <th>2021-03-25</th>\n",
       "      <td>0.276125</td>\n",
       "      <td>0.111375</td>\n",
       "      <td>0.041375</td>\n",
       "      <td>0.847250</td>\n",
       "      <td>0.625000</td>\n",
       "    </tr>\n",
       "    <tr>\n",
       "      <th>2021-03-26</th>\n",
       "      <td>0.123733</td>\n",
       "      <td>0.069833</td>\n",
       "      <td>0.044833</td>\n",
       "      <td>0.885333</td>\n",
       "      <td>0.166667</td>\n",
       "    </tr>\n",
       "    <tr>\n",
       "      <th>2021-03-28</th>\n",
       "      <td>0.554525</td>\n",
       "      <td>0.130250</td>\n",
       "      <td>0.000000</td>\n",
       "      <td>0.869500</td>\n",
       "      <td>1.000000</td>\n",
       "    </tr>\n",
       "    <tr>\n",
       "      <th>2021-03-29</th>\n",
       "      <td>0.025733</td>\n",
       "      <td>0.021667</td>\n",
       "      <td>0.019333</td>\n",
       "      <td>0.959000</td>\n",
       "      <td>0.333333</td>\n",
       "    </tr>\n",
       "    <tr>\n",
       "      <th>2021-03-30</th>\n",
       "      <td>-0.195667</td>\n",
       "      <td>0.067333</td>\n",
       "      <td>0.102667</td>\n",
       "      <td>0.830000</td>\n",
       "      <td>-0.333333</td>\n",
       "    </tr>\n",
       "    <tr>\n",
       "      <th>2021-03-31</th>\n",
       "      <td>0.104050</td>\n",
       "      <td>0.073500</td>\n",
       "      <td>0.057500</td>\n",
       "      <td>0.869000</td>\n",
       "      <td>0.000000</td>\n",
       "    </tr>\n",
       "    <tr>\n",
       "      <th>2021-04-01</th>\n",
       "      <td>0.098156</td>\n",
       "      <td>0.038778</td>\n",
       "      <td>0.016556</td>\n",
       "      <td>0.944667</td>\n",
       "      <td>0.222222</td>\n",
       "    </tr>\n",
       "    <tr>\n",
       "      <th>2021-04-02</th>\n",
       "      <td>0.379033</td>\n",
       "      <td>0.121000</td>\n",
       "      <td>0.017667</td>\n",
       "      <td>0.861333</td>\n",
       "      <td>0.333333</td>\n",
       "    </tr>\n",
       "    <tr>\n",
       "      <th>2021-04-03</th>\n",
       "      <td>0.250000</td>\n",
       "      <td>0.131000</td>\n",
       "      <td>0.074000</td>\n",
       "      <td>0.795000</td>\n",
       "      <td>1.000000</td>\n",
       "    </tr>\n",
       "    <tr>\n",
       "      <th>2021-04-04</th>\n",
       "      <td>0.700300</td>\n",
       "      <td>0.182000</td>\n",
       "      <td>0.000000</td>\n",
       "      <td>0.818000</td>\n",
       "      <td>1.000000</td>\n",
       "    </tr>\n",
       "    <tr>\n",
       "      <th>2021-04-05</th>\n",
       "      <td>0.554740</td>\n",
       "      <td>0.193800</td>\n",
       "      <td>0.030400</td>\n",
       "      <td>0.775800</td>\n",
       "      <td>0.600000</td>\n",
       "    </tr>\n",
       "    <tr>\n",
       "      <th>2021-04-06</th>\n",
       "      <td>0.234817</td>\n",
       "      <td>0.082833</td>\n",
       "      <td>0.012500</td>\n",
       "      <td>0.904667</td>\n",
       "      <td>0.333333</td>\n",
       "    </tr>\n",
       "    <tr>\n",
       "      <th>2021-04-07</th>\n",
       "      <td>0.131975</td>\n",
       "      <td>0.090500</td>\n",
       "      <td>0.050000</td>\n",
       "      <td>0.859500</td>\n",
       "      <td>0.000000</td>\n",
       "    </tr>\n",
       "    <tr>\n",
       "      <th>2021-04-08</th>\n",
       "      <td>0.289550</td>\n",
       "      <td>0.085000</td>\n",
       "      <td>0.009000</td>\n",
       "      <td>0.906000</td>\n",
       "      <td>0.833333</td>\n",
       "    </tr>\n",
       "    <tr>\n",
       "      <th>2021-04-09</th>\n",
       "      <td>0.288400</td>\n",
       "      <td>0.063333</td>\n",
       "      <td>0.000000</td>\n",
       "      <td>0.936667</td>\n",
       "      <td>1.000000</td>\n",
       "    </tr>\n",
       "    <tr>\n",
       "      <th>2021-04-10</th>\n",
       "      <td>0.271550</td>\n",
       "      <td>0.063000</td>\n",
       "      <td>0.000000</td>\n",
       "      <td>0.937000</td>\n",
       "      <td>1.000000</td>\n",
       "    </tr>\n",
       "  </tbody>\n",
       "</table>\n",
       "</div>"
      ],
      "text/plain": [
       "            compound  positive  negative   neutral  Polarity Score\n",
       "date                                                              \n",
       "2021-03-10  0.521900  0.151750  0.000000  0.848250        0.750000\n",
       "2021-03-11 -0.071825  0.019250  0.042000  0.938750        0.000000\n",
       "2021-03-12  0.000000  0.000000  0.000000  1.000000        0.000000\n",
       "2021-03-13  0.636900  0.144000  0.000000  0.856000        1.000000\n",
       "2021-03-15  0.054700  0.068000  0.057667  0.874333        0.333333\n",
       "2021-03-16  0.513567  0.145000  0.020000  0.835000        1.000000\n",
       "2021-03-17  0.250000  0.054000  0.000000  0.946000        1.000000\n",
       "2021-03-18 -0.090800  0.077000  0.101250  0.821750       -0.250000\n",
       "2021-03-19  0.560950  0.127500  0.000000  0.872500        1.000000\n",
       "2021-03-21 -0.680800  0.000000  0.162000  0.838000       -1.000000\n",
       "2021-03-22  0.195840  0.075800  0.040800  0.883400        0.200000\n",
       "2021-03-23  0.510600  0.168000  0.057000  0.775000        1.000000\n",
       "2021-03-24  0.115400  0.039000  0.000000  0.961000        1.000000\n",
       "2021-03-25  0.276125  0.111375  0.041375  0.847250        0.625000\n",
       "2021-03-26  0.123733  0.069833  0.044833  0.885333        0.166667\n",
       "2021-03-28  0.554525  0.130250  0.000000  0.869500        1.000000\n",
       "2021-03-29  0.025733  0.021667  0.019333  0.959000        0.333333\n",
       "2021-03-30 -0.195667  0.067333  0.102667  0.830000       -0.333333\n",
       "2021-03-31  0.104050  0.073500  0.057500  0.869000        0.000000\n",
       "2021-04-01  0.098156  0.038778  0.016556  0.944667        0.222222\n",
       "2021-04-02  0.379033  0.121000  0.017667  0.861333        0.333333\n",
       "2021-04-03  0.250000  0.131000  0.074000  0.795000        1.000000\n",
       "2021-04-04  0.700300  0.182000  0.000000  0.818000        1.000000\n",
       "2021-04-05  0.554740  0.193800  0.030400  0.775800        0.600000\n",
       "2021-04-06  0.234817  0.082833  0.012500  0.904667        0.333333\n",
       "2021-04-07  0.131975  0.090500  0.050000  0.859500        0.000000\n",
       "2021-04-08  0.289550  0.085000  0.009000  0.906000        0.833333\n",
       "2021-04-09  0.288400  0.063333  0.000000  0.936667        1.000000\n",
       "2021-04-10  0.271550  0.063000  0.000000  0.937000        1.000000"
      ]
     },
     "execution_count": 76,
     "metadata": {},
     "output_type": "execute_result"
    }
   ],
   "source": [
    "### CALCULATE AVERAGE BY DATE\n",
    "newsapi_sent_avg = pltr_newsapi_sentiment_df.groupby('date', as_index=True, sort=True)['compound','positive','negative','neutral','Polarity Score'].mean()\n",
    "newsapi_sent_avg"
   ]
  },
  {
   "cell_type": "code",
   "execution_count": 30,
   "metadata": {
    "id": "e5-iGnA0joVY",
    "outputId": "6800958a-e1ae-4446-8b7d-e9a0440c2b7d"
   },
   "outputs": [
    {
     "data": {
      "text/plain": [
       "<matplotlib.axes._subplots.AxesSubplot at 0x14f5d86d0>"
      ]
     },
     "execution_count": 30,
     "metadata": {},
     "output_type": "execute_result"
    },
    {
     "data": {
      "image/png": "[encoded data removed]",
      "text/plain": [
       "<Figure size 432x288 with 1 Axes>"
      ]
     },
     "metadata": {
      "needs_background": "light"
     },
     "output_type": "display_data"
    }
   ],
   "source": [
    "# Graph tallied Polarity Score \n",
    "pltr_newsapi_sentiment_df.groupby('Polarity Score').size().plot(kind='bar')"
   ]
  },
  {
   "cell_type": "markdown",
   "metadata": {},
   "source": [
    "## Yahoo Finance Stock API "
   ]
  },
  {
   "cell_type": "code",
   "execution_count": 43,
   "metadata": {
    "colab": {
     "base_uri": "https://localhost:8080/",
     "height": 235
    },
    "id": "n8aSHqmfoWk2",
    "outputId": "1a945cf3-6c3b-46b8-967f-f6c3ed2ae26f"
   },
   "outputs": [
    {
     "name": "stdout",
     "output_type": "stream",
     "text": [
      "<class 'pandas.core.frame.DataFrame'>\n",
      "DatetimeIndex: 132 entries, 2020-09-30 to 2021-04-09\n",
      "Data columns (total 1 columns):\n",
      " #   Column  Non-Null Count  Dtype  \n",
      "---  ------  --------------  -----  \n",
      " 0   Close   132 non-null    float64\n",
      "dtypes: float64(1)\n",
      "memory usage: 2.1 KB\n"
     ]
    }
   ],
   "source": [
    "# Load PLTR stock closing prices from YFinance\n",
    "pltr_yf = yf.download('PLTR',\n",
    "                       start='2020-01-01',\n",
    "                       end='2021-05-31',\n",
    "                       progress=False,\n",
    "                    #    index_col ='Date',\n",
    "                       infer_datetime_format= True,\n",
    "                       parse_dates = True,\n",
    "                       interval='1d'\n",
    "\n",
    ")\n",
    "# Create DataFrame\n",
    "pltr_yf_df = pd.DataFrame(pltr_yf)\n",
    "pltr_yf_df.reset_index(inplace=True)\n",
    "# Reorder DataFrame columns\n",
    "pltr_yf_df=pltr_yf_df.sort_values('Date')\n",
    "# pltr_yf_df['Date'] = pd.to_datetime(pltr_yf_df['Date']).dt.date\n",
    "pltr_yf_df.set_index('Date',inplace=True)\n",
    "pltr_yf_df.head()\n",
    "\n",
    "\n",
    "# set_index(pltr_yf_df['Date']).to_datetime().dt.date\n",
    "pltr_yf_df.drop(columns=['Open','High','Low','Volume','Adj Close'],inplace=True)\n",
    "pltr_yf_df.info()"
   ]
  },
  {
   "cell_type": "code",
   "execution_count": 89,
   "metadata": {
    "id": "AWhDvNPA9Asb"
   },
   "outputs": [
    {
     "data": {
      "text/html": [
       "<div>\n",
       "<style scoped>\n",
       "    .dataframe tbody tr th:only-of-type {\n",
       "        vertical-align: middle;\n",
       "    }\n",
       "\n",
       "    .dataframe tbody tr th {\n",
       "        vertical-align: top;\n",
       "    }\n",
       "\n",
       "    .dataframe thead th {\n",
       "        text-align: right;\n",
       "    }\n",
       "</style>\n",
       "<table border=\"1\" class=\"dataframe\">\n",
       "  <thead>\n",
       "    <tr style=\"text-align: right;\">\n",
       "      <th></th>\n",
       "      <th>Close</th>\n",
       "      <th>compound</th>\n",
       "      <th>positive</th>\n",
       "      <th>negative</th>\n",
       "      <th>neutral</th>\n",
       "      <th>Polarity Score</th>\n",
       "    </tr>\n",
       "  </thead>\n",
       "  <tbody>\n",
       "    <tr>\n",
       "      <th>2021-03-10</th>\n",
       "      <td>24.750000</td>\n",
       "      <td>0.521900</td>\n",
       "      <td>0.151750</td>\n",
       "      <td>0.000000</td>\n",
       "      <td>0.848250</td>\n",
       "      <td>0.750000</td>\n",
       "    </tr>\n",
       "    <tr>\n",
       "      <th>2021-03-11</th>\n",
       "      <td>26.730000</td>\n",
       "      <td>-0.071825</td>\n",
       "      <td>0.019250</td>\n",
       "      <td>0.042000</td>\n",
       "      <td>0.938750</td>\n",
       "      <td>0.000000</td>\n",
       "    </tr>\n",
       "    <tr>\n",
       "      <th>2021-03-12</th>\n",
       "      <td>26.920000</td>\n",
       "      <td>0.000000</td>\n",
       "      <td>0.000000</td>\n",
       "      <td>0.000000</td>\n",
       "      <td>1.000000</td>\n",
       "      <td>0.000000</td>\n",
       "    </tr>\n",
       "    <tr>\n",
       "      <th>2021-03-15</th>\n",
       "      <td>26.790001</td>\n",
       "      <td>0.054700</td>\n",
       "      <td>0.068000</td>\n",
       "      <td>0.057667</td>\n",
       "      <td>0.874333</td>\n",
       "      <td>0.333333</td>\n",
       "    </tr>\n",
       "    <tr>\n",
       "      <th>2021-03-16</th>\n",
       "      <td>25.610001</td>\n",
       "      <td>0.513567</td>\n",
       "      <td>0.145000</td>\n",
       "      <td>0.020000</td>\n",
       "      <td>0.835000</td>\n",
       "      <td>1.000000</td>\n",
       "    </tr>\n",
       "    <tr>\n",
       "      <th>2021-03-17</th>\n",
       "      <td>25.209999</td>\n",
       "      <td>0.250000</td>\n",
       "      <td>0.054000</td>\n",
       "      <td>0.000000</td>\n",
       "      <td>0.946000</td>\n",
       "      <td>1.000000</td>\n",
       "    </tr>\n",
       "    <tr>\n",
       "      <th>2021-03-18</th>\n",
       "      <td>23.980000</td>\n",
       "      <td>-0.090800</td>\n",
       "      <td>0.077000</td>\n",
       "      <td>0.101250</td>\n",
       "      <td>0.821750</td>\n",
       "      <td>-0.250000</td>\n",
       "    </tr>\n",
       "    <tr>\n",
       "      <th>2021-03-19</th>\n",
       "      <td>24.320000</td>\n",
       "      <td>0.560950</td>\n",
       "      <td>0.127500</td>\n",
       "      <td>0.000000</td>\n",
       "      <td>0.872500</td>\n",
       "      <td>1.000000</td>\n",
       "    </tr>\n",
       "    <tr>\n",
       "      <th>2021-03-22</th>\n",
       "      <td>24.219999</td>\n",
       "      <td>0.195840</td>\n",
       "      <td>0.075800</td>\n",
       "      <td>0.040800</td>\n",
       "      <td>0.883400</td>\n",
       "      <td>0.200000</td>\n",
       "    </tr>\n",
       "    <tr>\n",
       "      <th>2021-03-23</th>\n",
       "      <td>23.260000</td>\n",
       "      <td>0.510600</td>\n",
       "      <td>0.168000</td>\n",
       "      <td>0.057000</td>\n",
       "      <td>0.775000</td>\n",
       "      <td>1.000000</td>\n",
       "    </tr>\n",
       "    <tr>\n",
       "      <th>2021-03-24</th>\n",
       "      <td>21.879999</td>\n",
       "      <td>0.115400</td>\n",
       "      <td>0.039000</td>\n",
       "      <td>0.000000</td>\n",
       "      <td>0.961000</td>\n",
       "      <td>1.000000</td>\n",
       "    </tr>\n",
       "    <tr>\n",
       "      <th>2021-03-25</th>\n",
       "      <td>22.580000</td>\n",
       "      <td>0.276125</td>\n",
       "      <td>0.111375</td>\n",
       "      <td>0.041375</td>\n",
       "      <td>0.847250</td>\n",
       "      <td>0.625000</td>\n",
       "    </tr>\n",
       "    <tr>\n",
       "      <th>2021-03-26</th>\n",
       "      <td>22.580000</td>\n",
       "      <td>0.123733</td>\n",
       "      <td>0.069833</td>\n",
       "      <td>0.044833</td>\n",
       "      <td>0.885333</td>\n",
       "      <td>0.166667</td>\n",
       "    </tr>\n",
       "    <tr>\n",
       "      <th>2021-03-29</th>\n",
       "      <td>21.730000</td>\n",
       "      <td>0.025733</td>\n",
       "      <td>0.021667</td>\n",
       "      <td>0.019333</td>\n",
       "      <td>0.959000</td>\n",
       "      <td>0.333333</td>\n",
       "    </tr>\n",
       "    <tr>\n",
       "      <th>2021-03-30</th>\n",
       "      <td>22.040001</td>\n",
       "      <td>-0.195667</td>\n",
       "      <td>0.067333</td>\n",
       "      <td>0.102667</td>\n",
       "      <td>0.830000</td>\n",
       "      <td>-0.333333</td>\n",
       "    </tr>\n",
       "    <tr>\n",
       "      <th>2021-03-31</th>\n",
       "      <td>23.290001</td>\n",
       "      <td>0.104050</td>\n",
       "      <td>0.073500</td>\n",
       "      <td>0.057500</td>\n",
       "      <td>0.869000</td>\n",
       "      <td>0.000000</td>\n",
       "    </tr>\n",
       "    <tr>\n",
       "      <th>2021-04-01</th>\n",
       "      <td>23.070000</td>\n",
       "      <td>0.098156</td>\n",
       "      <td>0.038778</td>\n",
       "      <td>0.016556</td>\n",
       "      <td>0.944667</td>\n",
       "      <td>0.222222</td>\n",
       "    </tr>\n",
       "    <tr>\n",
       "      <th>2021-04-05</th>\n",
       "      <td>23.440001</td>\n",
       "      <td>0.554740</td>\n",
       "      <td>0.193800</td>\n",
       "      <td>0.030400</td>\n",
       "      <td>0.775800</td>\n",
       "      <td>0.600000</td>\n",
       "    </tr>\n",
       "    <tr>\n",
       "      <th>2021-04-06</th>\n",
       "      <td>23.270000</td>\n",
       "      <td>0.234817</td>\n",
       "      <td>0.082833</td>\n",
       "      <td>0.012500</td>\n",
       "      <td>0.904667</td>\n",
       "      <td>0.333333</td>\n",
       "    </tr>\n",
       "    <tr>\n",
       "      <th>2021-04-07</th>\n",
       "      <td>22.900000</td>\n",
       "      <td>0.131975</td>\n",
       "      <td>0.090500</td>\n",
       "      <td>0.050000</td>\n",
       "      <td>0.859500</td>\n",
       "      <td>0.000000</td>\n",
       "    </tr>\n",
       "    <tr>\n",
       "      <th>2021-04-08</th>\n",
       "      <td>23.410000</td>\n",
       "      <td>0.289550</td>\n",
       "      <td>0.085000</td>\n",
       "      <td>0.009000</td>\n",
       "      <td>0.906000</td>\n",
       "      <td>0.833333</td>\n",
       "    </tr>\n",
       "    <tr>\n",
       "      <th>2021-04-09</th>\n",
       "      <td>24.040001</td>\n",
       "      <td>0.288400</td>\n",
       "      <td>0.063333</td>\n",
       "      <td>0.000000</td>\n",
       "      <td>0.936667</td>\n",
       "      <td>1.000000</td>\n",
       "    </tr>\n",
       "  </tbody>\n",
       "</table>\n",
       "</div>"
      ],
      "text/plain": [
       "                Close  compound  positive  negative   neutral  Polarity Score\n",
       "2021-03-10  24.750000  0.521900  0.151750  0.000000  0.848250        0.750000\n",
       "2021-03-11  26.730000 -0.071825  0.019250  0.042000  0.938750        0.000000\n",
       "2021-03-12  26.920000  0.000000  0.000000  0.000000  1.000000        0.000000\n",
       "2021-03-15  26.790001  0.054700  0.068000  0.057667  0.874333        0.333333\n",
       "2021-03-16  25.610001  0.513567  0.145000  0.020000  0.835000        1.000000\n",
       "2021-03-17  25.209999  0.250000  0.054000  0.000000  0.946000        1.000000\n",
       "2021-03-18  23.980000 -0.090800  0.077000  0.101250  0.821750       -0.250000\n",
       "2021-03-19  24.320000  0.560950  0.127500  0.000000  0.872500        1.000000\n",
       "2021-03-22  24.219999  0.195840  0.075800  0.040800  0.883400        0.200000\n",
       "2021-03-23  23.260000  0.510600  0.168000  0.057000  0.775000        1.000000\n",
       "2021-03-24  21.879999  0.115400  0.039000  0.000000  0.961000        1.000000\n",
       "2021-03-25  22.580000  0.276125  0.111375  0.041375  0.847250        0.625000\n",
       "2021-03-26  22.580000  0.123733  0.069833  0.044833  0.885333        0.166667\n",
       "2021-03-29  21.730000  0.025733  0.021667  0.019333  0.959000        0.333333\n",
       "2021-03-30  22.040001 -0.195667  0.067333  0.102667  0.830000       -0.333333\n",
       "2021-03-31  23.290001  0.104050  0.073500  0.057500  0.869000        0.000000\n",
       "2021-04-01  23.070000  0.098156  0.038778  0.016556  0.944667        0.222222\n",
       "2021-04-05  23.440001  0.554740  0.193800  0.030400  0.775800        0.600000\n",
       "2021-04-06  23.270000  0.234817  0.082833  0.012500  0.904667        0.333333\n",
       "2021-04-07  22.900000  0.131975  0.090500  0.050000  0.859500        0.000000\n",
       "2021-04-08  23.410000  0.289550  0.085000  0.009000  0.906000        0.833333\n",
       "2021-04-09  24.040001  0.288400  0.063333  0.000000  0.936667        1.000000"
      ]
     },
     "execution_count": 89,
     "metadata": {},
     "output_type": "execute_result"
    }
   ],
   "source": [
    "## Add another combined df here \n",
    "pltr_yf_newsapi = pd.concat([pltr_yf_df,newsapi_sent_avg],axis=1,join='outer')\n",
    "pltr_yf_newsapi.dropna(inplace=True)\n",
    "pltr_yf_newsapi\n",
    "# combined_sent_df = pd.read_csv('/content/pltr_twitter_df.csv')"
   ]
  },
  {
   "cell_type": "markdown",
   "metadata": {},
   "source": [
    "## VADER COMBINED DATAFRAME"
   ]
  },
  {
   "cell_type": "code",
   "execution_count": 72,
   "metadata": {
    "colab": {
     "base_uri": "https://localhost:8080/",
     "height": 164
    },
    "id": "W_eJ8T_7AS5h",
    "outputId": "30c8586a-ea4d-4e88-ae16-260ceccd4dd2"
   },
   "outputs": [
    {
     "data": {
      "text/html": [
       "<div>\n",
       "<style scoped>\n",
       "    .dataframe tbody tr th:only-of-type {\n",
       "        vertical-align: middle;\n",
       "    }\n",
       "\n",
       "    .dataframe tbody tr th {\n",
       "        vertical-align: top;\n",
       "    }\n",
       "\n",
       "    .dataframe thead th {\n",
       "        text-align: right;\n",
       "    }\n",
       "</style>\n",
       "<table border=\"1\" class=\"dataframe\">\n",
       "  <thead>\n",
       "    <tr style=\"text-align: right;\">\n",
       "      <th></th>\n",
       "      <th>Close</th>\n",
       "      <th>compound</th>\n",
       "      <th>positive</th>\n",
       "      <th>negative</th>\n",
       "      <th>neutral</th>\n",
       "      <th>Polarity Score</th>\n",
       "      <th>Close</th>\n",
       "      <th>compound</th>\n",
       "      <th>positive</th>\n",
       "      <th>negative</th>\n",
       "      <th>neutral</th>\n",
       "      <th>Polarity Score</th>\n",
       "    </tr>\n",
       "  </thead>\n",
       "  <tbody>\n",
       "    <tr>\n",
       "      <th>2021-03-25</th>\n",
       "      <td>22.58</td>\n",
       "      <td>0.28414</td>\n",
       "      <td>0.1556</td>\n",
       "      <td>0.0142</td>\n",
       "      <td>0.8302</td>\n",
       "      <td>0.2</td>\n",
       "      <td>22.58</td>\n",
       "      <td>0.276125</td>\n",
       "      <td>0.111375</td>\n",
       "      <td>0.041375</td>\n",
       "      <td>0.84725</td>\n",
       "      <td>0.625</td>\n",
       "    </tr>\n",
       "  </tbody>\n",
       "</table>\n",
       "</div>"
      ],
      "text/plain": [
       "            Close  compound  positive  negative  neutral  Polarity Score  \\\n",
       "2021-03-25  22.58   0.28414    0.1556    0.0142   0.8302             0.2   \n",
       "\n",
       "            Close  compound  positive  negative  neutral  Polarity Score  \n",
       "2021-03-25  22.58  0.276125  0.111375  0.041375  0.84725           0.625  "
      ]
     },
     "execution_count": 72,
     "metadata": {},
     "output_type": "execute_result"
    }
   ],
   "source": [
    "## WE NEED TO FIX THIS CHECK THIS (???)\n",
    "pltr_sent_df= pd.concat([pltr_yf_twitter, pltr_yf_newsapi], axis='columns', join=\"inner\", ignore_index=False)\n",
    "cols='Close','Compound (Tweets)', 'Positive (Tweets)','Negative (Tweets)','Neutral (Tweets)','Polarity Score (Tweets)','Compound Cumulative Returns (Tweets)','Compound (NewsApi)', 'Positive (NewsApi)','Negative (NewsApi)','Neutral (NewsApi)','Polarity Score (NewsApi)'\n",
    "#pltr_sent_df.drop(columns=['CumReturn'],inplace=True) # WE MAY NOT  NEED THIS AFTER A FRESH RUN\n",
    "#pltr_sent_df = pltr_sent_df.columns(cols) \n",
    "#pltr_sent_df.rename(columns=cols)## HOW DO WE CHANGE THE COLUMN NAMES?\n",
    "## WE NEED TO DROP ONLY ONE CLOSE COLUMN - CHANGE NAME TO T\n",
    "pltr_sent_df.head()"
   ]
  },
  {
   "cell_type": "code",
   "execution_count": null,
   "metadata": {},
   "outputs": [],
   "source": [
    "pltr_yf_newsapi.info() ## OR WE RENAME CLOSE COLUMN HERE TO DROP IN COMBINED DF\n",
    "\n",
    "# THIS WILL ALLOW US TO CREATE HEATMAP OF BOTH TWITTER AND NEWSAPI V CLOSING PRICES\n"
   ]
  },
  {
   "cell_type": "code",
   "execution_count": 100,
   "metadata": {},
   "outputs": [
    {
     "data": {
      "text/html": [
       "<div>\n",
       "<style scoped>\n",
       "    .dataframe tbody tr th:only-of-type {\n",
       "        vertical-align: middle;\n",
       "    }\n",
       "\n",
       "    .dataframe tbody tr th {\n",
       "        vertical-align: top;\n",
       "    }\n",
       "\n",
       "    .dataframe thead th {\n",
       "        text-align: right;\n",
       "    }\n",
       "</style>\n",
       "<table border=\"1\" class=\"dataframe\">\n",
       "  <thead>\n",
       "    <tr style=\"text-align: right;\">\n",
       "      <th></th>\n",
       "      <th>Close</th>\n",
       "      <th>compound</th>\n",
       "      <th>positive</th>\n",
       "      <th>negative</th>\n",
       "      <th>neutral</th>\n",
       "      <th>Polarity Score</th>\n",
       "    </tr>\n",
       "  </thead>\n",
       "  <tbody>\n",
       "    <tr>\n",
       "      <th>2020-09-30</th>\n",
       "      <td>9.50</td>\n",
       "      <td>0.147594</td>\n",
       "      <td>0.094543</td>\n",
       "      <td>0.034711</td>\n",
       "      <td>0.870748</td>\n",
       "      <td>0.272287</td>\n",
       "    </tr>\n",
       "    <tr>\n",
       "      <th>2020-10-01</th>\n",
       "      <td>9.46</td>\n",
       "      <td>0.009902</td>\n",
       "      <td>0.080625</td>\n",
       "      <td>0.063405</td>\n",
       "      <td>0.855963</td>\n",
       "      <td>0.101329</td>\n",
       "    </tr>\n",
       "    <tr>\n",
       "      <th>2020-10-02</th>\n",
       "      <td>9.20</td>\n",
       "      <td>-0.000485</td>\n",
       "      <td>0.084356</td>\n",
       "      <td>0.061115</td>\n",
       "      <td>0.854532</td>\n",
       "      <td>0.108974</td>\n",
       "    </tr>\n",
       "    <tr>\n",
       "      <th>2020-10-05</th>\n",
       "      <td>9.03</td>\n",
       "      <td>0.186457</td>\n",
       "      <td>0.091758</td>\n",
       "      <td>0.033205</td>\n",
       "      <td>0.875005</td>\n",
       "      <td>0.394737</td>\n",
       "    </tr>\n",
       "    <tr>\n",
       "      <th>2020-10-06</th>\n",
       "      <td>9.90</td>\n",
       "      <td>0.197717</td>\n",
       "      <td>0.104604</td>\n",
       "      <td>0.036160</td>\n",
       "      <td>0.859233</td>\n",
       "      <td>0.363144</td>\n",
       "    </tr>\n",
       "  </tbody>\n",
       "</table>\n",
       "</div>"
      ],
      "text/plain": [
       "            Close  compound  positive  negative   neutral  Polarity Score\n",
       "2020-09-30   9.50  0.147594  0.094543  0.034711  0.870748        0.272287\n",
       "2020-10-01   9.46  0.009902  0.080625  0.063405  0.855963        0.101329\n",
       "2020-10-02   9.20 -0.000485  0.084356  0.061115  0.854532        0.108974\n",
       "2020-10-05   9.03  0.186457  0.091758  0.033205  0.875005        0.394737\n",
       "2020-10-06   9.90  0.197717  0.104604  0.036160  0.859233        0.363144"
      ]
     },
     "execution_count": 100,
     "metadata": {},
     "output_type": "execute_result"
    }
   ],
   "source": [
    "pltr_yf_twitter = pd.concat([pltr_yf_df,twitter_sent_avg],axis=1,join='outer')\n",
    "# pltr_yf_twitter.dropna(inplace=True)\n",
    "pltr_yf_twitter.dropna(inplace=True)\n",
    "pltr_yf_twitter.head()"
   ]
  },
  {
   "cell_type": "code",
   "execution_count": null,
   "metadata": {},
   "outputs": [],
   "source": [
    "pltr_yf_twitter.info()"
   ]
  },
  {
   "cell_type": "code",
   "execution_count": null,
   "metadata": {},
   "outputs": [],
   "source": [
    "import seaborn as sns\n",
    "\n",
    "newsapi_yf_corr = pltr_yf_newsapi.corr()\n",
    "sns.heatmap(newsapi_yf_corr,vmin=-1,vmax=1,annot=True)"
   ]
  },
  {
   "cell_type": "code",
   "execution_count": null,
   "metadata": {},
   "outputs": [],
   "source": [
    "twitter_yf_corr = pltr_yf_twitter.corr()\n",
    "sns.heatmap(twitter_yf_corr,vmin=-1,vmax=1,annot=True)"
   ]
  },
  {
   "cell_type": "code",
   "execution_count": null,
   "metadata": {},
   "outputs": [],
   "source": [
    "twitter_compound_returns = pltr_yf_twitter[\"compound\"].pct_change()\n",
    "twitter_compound_returns2= (1 + twitter_compound_returns).cumprod()\n",
    "pltr_yf_twitter['Compound Returns'] = twitter_compound_returns2\n",
    "\n",
    "twitter_rolling_compound = pltr_yf_twitter[\"compound\"].rolling(5).mean()\n",
    "pltr_yf_twitter['Rolling 5 Day Compound'] = twitter_rolling_compound\n",
    "\n",
    "newsapi_compound_returns = pltr_yf_newsapi[\"compound\"].pct_change()\n",
    "newsapi_compound_returns2= (1 + newsapi_compound_returns).cumprod() # THIS DOES NOT PRODUCE VALUABLE DATA - SEE HEATMAP BELOW\n",
    "pltr_yf_newsapi['Compound Returns'] = newsapi_compound_returns2\n",
    "\n",
    "newsapi_rolling_compound = pltr_yf_newsapi[\"compound\"].rolling(5).mean()\n",
    "pltr_yf_newsapi['Rolling 5 Day Compound'] = newsapi_rolling_compound\n",
    "\n",
    "# PLOT THE CLOSING PRICE AND DATE\n",
    "fig, ax =plt.subplots()\n",
    "ax.plot(pltr_yf_twitter.index, pltr_yf_twitter.Close, color=\"red\")\n",
    "# ax.plot(pltr_yf_newsapi.index, pltr_yf_newsapi.Close, color=\"green\")\n",
    "plt.xticks(rotation=45)\n",
    "ax.set_xlabel(\"Date\")\n",
    "ax.set_ylabel(\"Close\", color='red')\n",
    "\n",
    "# PLOT THE COMPOUND SENTIMENT SCORES\n",
    "# twin object for two different y-axis on the sample plot\n",
    "ax2=ax.twinx()\n",
    "# make a plot with different y-axis using second axis object\n",
    "# ax2.plot(pltr_yf_twitter.index, pltr_yf_twitter[\"compound\"],color=\"blue\",marker=\"o\")\n",
    "ax2.plot(pltr_yf_newsapi.index, pltr_yf_newsapi[\"compound\"], color=\"purple\", marker=\"o\")\n",
    "ax2.set_ylabel(\"Compound\",color=\"blue\")\n",
    "plt.show()\n",
    "\n",
    "## PLOT THE ROLLING COMPOUND SENTIMENT SCORES\n",
    "# ax2.plot(pltr_yf_twitter.index, twitter_rolling_compound,color=\"blue\",marker=\"o\")\n",
    "# ax2.plot(pltr_yf_newsapi.index, newsapi_rolling_compound, color=\"purple\", marker=\"o\")\n",
    "# ax2.set_ylabel(\"5 Day Rolling Compound\",color=\"blue\")\n",
    "# plt.show()"
   ]
  },
  {
   "cell_type": "code",
   "execution_count": null,
   "metadata": {},
   "outputs": [],
   "source": [
    "newsapi_compound_returns"
   ]
  },
  {
   "cell_type": "code",
   "execution_count": null,
   "metadata": {},
   "outputs": [],
   "source": [
    "newsapi_compound_returns2"
   ]
  },
  {
   "cell_type": "code",
   "execution_count": null,
   "metadata": {},
   "outputs": [],
   "source": [
    "# pltr_yf_twitter.head()\n",
    "twitter_yf_corrs = pltr_yf_twitter[['Close','compound','Compound Returns','Rolling 5 Day Compound']].corr()\n",
    "sns.heatmap(twitter_yf_corrs,vmin=-1,vmax=1,annot=True)"
   ]
  },
  {
   "cell_type": "code",
   "execution_count": null,
   "metadata": {},
   "outputs": [],
   "source": [
    "newsapi_yf_corrs = pltr_yf_newsapi[['Close','compound','Compound Returns','Rolling 5 Day Compound']].corr()\n",
    "sns.heatmap(newsapi_yf_corrs,vmin=-1,vmax=1,annot=True)"
   ]
  },
  {
   "cell_type": "markdown",
   "metadata": {
    "id": "lir7mM_hnHBJ"
   },
   "source": [
    "## VADER Sentiments WordCloud "
   ]
  },
  {
   "cell_type": "code",
   "execution_count": null,
   "metadata": {
    "id": "Kq89oq4ymhfy"
   },
   "outputs": [],
   "source": [
    "df = pltr_twitter_sentiment_df[\"Polarity Score\"]  ## WHAT IS THIS LINE FOR???\n",
    "#pltr_twitter_sentiment_df[pltr_twitter_sentiment_df[\"Polarity Score\"]=='-1']\n",
    "words = ' '.join(pltr_twitter_sentiment_df['text'])\n",
    "cleaned_word = \" \".join([word for word in words.split()\n",
    "                            if 'http' not in word\n",
    "                                and not word.startswith('@')\n",
    "                                and word != 'RT'\n",
    "                            ])\n",
    "stopwords = set(STOPWORDS)\n",
    "stopwords.add(\"PLTR\")\n",
    "stopwords.add(\"Palantir\")\n",
    "\n",
    "twitter_wordcloud = WordCloud(stopwords=stopwords,\n",
    "                      background_color='black',\n",
    "                      width=3000,\n",
    "                      height=2500\n",
    "                     ).generate(cleaned_word)"
   ]
  },
  {
   "cell_type": "code",
   "execution_count": null,
   "metadata": {
    "id": "I31cg1Psmhhk",
    "outputId": "27142cd4-8193-4162-fb52-3dbe30c7135a"
   },
   "outputs": [],
   "source": [
    "plt.figure(1,figsize=(5, 5))\n",
    "plt.imshow(twitter_wordcloud)\n",
    "plt.axis('off')\n",
    "plt.show()"
   ]
  },
  {
   "cell_type": "code",
   "execution_count": null,
   "metadata": {
    "id": "zJcerPc6_HYI"
   },
   "outputs": [],
   "source": [
    "### NEWSAPI WORDCLOUD\n",
    "df = pltr_newsapi_sentiment_df[\"Polarity Score\"]  ## WHAT IS THIS LINE FOR???\n",
    "#pltr_twitter_sentiment_df[pltr_twitter_sentiment_df[\"Polarity Score\"]=='-1']\n",
    "words = ' '.join(pltr_newsapi_sentiment_df['text'])\n",
    "cleaned_word = \" \".join([word for word in words.split()\n",
    "                            if 'http' not in word\n",
    "                                and not word.startswith('@')\n",
    "                                and word != 'RT'\n",
    "                            ])\n",
    "stopwords = set(STOPWORDS)\n",
    "stopwords.add(\"PLTR\")\n",
    "stopwords.add(\"Palantir\")\n",
    "\n",
    "newsapi_wordcloud = WordCloud(stopwords=stopwords,\n",
    "                      background_color='black',\n",
    "                      width=3000,\n",
    "                      height=2500\n",
    "                     ).generate(cleaned_word)"
   ]
  },
  {
   "cell_type": "code",
   "execution_count": null,
   "metadata": {},
   "outputs": [],
   "source": [
    "plt.figure(1,figsize=(5, 5))\n",
    "plt.imshow(newsapi_wordcloud)\n",
    "plt.axis('off')\n",
    "plt.show()"
   ]
  },
  {
   "cell_type": "markdown",
   "metadata": {},
   "source": [
    "## TWITTER TEXTBLOB SENTIMENT ANALYSIS"
   ]
  },
  {
   "cell_type": "code",
   "execution_count": 86,
   "metadata": {},
   "outputs": [
    {
     "data": {
      "text/html": [
       "<div>\n",
       "<style scoped>\n",
       "    .dataframe tbody tr th:only-of-type {\n",
       "        vertical-align: middle;\n",
       "    }\n",
       "\n",
       "    .dataframe tbody tr th {\n",
       "        vertical-align: top;\n",
       "    }\n",
       "\n",
       "    .dataframe thead th {\n",
       "        text-align: right;\n",
       "    }\n",
       "</style>\n",
       "<table border=\"1\" class=\"dataframe\">\n",
       "  <thead>\n",
       "    <tr style=\"text-align: right;\">\n",
       "      <th></th>\n",
       "      <th>text</th>\n",
       "      <th>date</th>\n",
       "      <th>TB Subjectivity Score</th>\n",
       "      <th>TB Polarity Score</th>\n",
       "    </tr>\n",
       "  </thead>\n",
       "  <tbody>\n",
       "    <tr>\n",
       "      <th>0</th>\n",
       "      <td>Don’t forget buy $PLTR tomorrow. Don’t sleep</td>\n",
       "      <td>2020-09-29</td>\n",
       "      <td>0.000000</td>\n",
       "      <td>0.000000</td>\n",
       "    </tr>\n",
       "    <tr>\n",
       "      <th>1</th>\n",
       "      <td>Why? Why do they have to keep giving us new in...</td>\n",
       "      <td>2020-09-29</td>\n",
       "      <td>0.427273</td>\n",
       "      <td>0.118182</td>\n",
       "    </tr>\n",
       "    <tr>\n",
       "      <th>2</th>\n",
       "      <td>Got $PLTR on my radar tomorrow. It's a growing...</td>\n",
       "      <td>2020-09-29</td>\n",
       "      <td>1.000000</td>\n",
       "      <td>0.600000</td>\n",
       "    </tr>\n",
       "    <tr>\n",
       "      <th>3</th>\n",
       "      <td>The data-mining-software company Palantir Tech...</td>\n",
       "      <td>2020-09-29</td>\n",
       "      <td>0.405556</td>\n",
       "      <td>0.033333</td>\n",
       "    </tr>\n",
       "    <tr>\n",
       "      <th>4</th>\n",
       "      <td>What you need to know about about Palantir lis...</td>\n",
       "      <td>2020-09-29</td>\n",
       "      <td>0.000000</td>\n",
       "      <td>0.000000</td>\n",
       "    </tr>\n",
       "    <tr>\n",
       "      <th>...</th>\n",
       "      <td>...</td>\n",
       "      <td>...</td>\n",
       "      <td>...</td>\n",
       "      <td>...</td>\n",
       "    </tr>\n",
       "    <tr>\n",
       "      <th>234644</th>\n",
       "      <td>@thetradingchick Didn’t know you were in $PLTR...</td>\n",
       "      <td>2021-04-03</td>\n",
       "      <td>0.762963</td>\n",
       "      <td>0.208333</td>\n",
       "    </tr>\n",
       "    <tr>\n",
       "      <th>234645</th>\n",
       "      <td>@GeniusStocks @alexcutler247 @gurgavin @SpacBo...</td>\n",
       "      <td>2021-04-03</td>\n",
       "      <td>1.000000</td>\n",
       "      <td>0.000000</td>\n",
       "    </tr>\n",
       "    <tr>\n",
       "      <th>234646</th>\n",
       "      <td>@GeniusStocks @alexcutler247 @gurgavin @SpacBo...</td>\n",
       "      <td>2021-04-03</td>\n",
       "      <td>1.000000</td>\n",
       "      <td>0.000000</td>\n",
       "    </tr>\n",
       "    <tr>\n",
       "      <th>234647</th>\n",
       "      <td>$PLTR Bullish count leading into Demo day, bea...</td>\n",
       "      <td>2021-04-03</td>\n",
       "      <td>1.000000</td>\n",
       "      <td>0.850000</td>\n",
       "    </tr>\n",
       "    <tr>\n",
       "      <th>234648</th>\n",
       "      <td>$PLTR Bullish count leading into Demo day, bea...</td>\n",
       "      <td>2021-04-03</td>\n",
       "      <td>1.000000</td>\n",
       "      <td>0.850000</td>\n",
       "    </tr>\n",
       "  </tbody>\n",
       "</table>\n",
       "<p>234649 rows × 4 columns</p>\n",
       "</div>"
      ],
      "text/plain": [
       "                                                     text        date  \\\n",
       "0            Don’t forget buy $PLTR tomorrow. Don’t sleep  2020-09-29   \n",
       "1       Why? Why do they have to keep giving us new in...  2020-09-29   \n",
       "2       Got $PLTR on my radar tomorrow. It's a growing...  2020-09-29   \n",
       "3       The data-mining-software company Palantir Tech...  2020-09-29   \n",
       "4       What you need to know about about Palantir lis...  2020-09-29   \n",
       "...                                                   ...         ...   \n",
       "234644  @thetradingchick Didn’t know you were in $PLTR...  2021-04-03   \n",
       "234645  @GeniusStocks @alexcutler247 @gurgavin @SpacBo...  2021-04-03   \n",
       "234646  @GeniusStocks @alexcutler247 @gurgavin @SpacBo...  2021-04-03   \n",
       "234647  $PLTR Bullish count leading into Demo day, bea...  2021-04-03   \n",
       "234648  $PLTR Bullish count leading into Demo day, bea...  2021-04-03   \n",
       "\n",
       "        TB Subjectivity Score  TB Polarity Score  \n",
       "0                    0.000000           0.000000  \n",
       "1                    0.427273           0.118182  \n",
       "2                    1.000000           0.600000  \n",
       "3                    0.405556           0.033333  \n",
       "4                    0.000000           0.000000  \n",
       "...                       ...                ...  \n",
       "234644               0.762963           0.208333  \n",
       "234645               1.000000           0.000000  \n",
       "234646               1.000000           0.000000  \n",
       "234647               1.000000           0.850000  \n",
       "234648               1.000000           0.850000  \n",
       "\n",
       "[234649 rows x 4 columns]"
      ]
     },
     "execution_count": 86,
     "metadata": {},
     "output_type": "execute_result"
    }
   ],
   "source": [
    "# !pip install textblob\n",
    "from textblob import TextBlob\n",
    "pltr_tb_sentiments = []\n",
    "for index, row in pltr_twitter_df.iterrows():\n",
    "    try:\n",
    "        text = row[\"Tweet\"]\n",
    "        date = row[\"Date\"]\n",
    "        analysis = TextBlob(text).sentiment\n",
    "        analysisSub= TextBlob(text).subjectivity\n",
    "        analysisPol= TextBlob(text).polarity\n",
    "        pltr_tb_sentiments.append({\n",
    "            \"text\": text,\n",
    "            \"date\": date,\n",
    "            \"TB Subjectivity Score\": analysisSub,\n",
    "            \"TB Polarity Score\":analysisPol\n",
    "        })\n",
    "    except AttributeError:\n",
    "        pass\n",
    "pltr_tb_sentiment_df = pd.DataFrame(pltr_tb_sentiments)\n",
    "pltr_tb_sentiment_df"
   ]
  },
  {
   "cell_type": "code",
   "execution_count": 87,
   "metadata": {},
   "outputs": [],
   "source": [
    "#Drop duplicates\n",
    "pltr_tb_sentiment_df.drop_duplicates(inplace=True)\n",
    "pltr_tb_sentiment_df\n",
    "pltr_tb_sentiment_df.to_csv(\"ptlr_tb_sentiment_df.csv\", index=True)"
   ]
  },
  {
   "cell_type": "code",
   "execution_count": 60,
   "metadata": {},
   "outputs": [
    {
     "name": "stdout",
     "output_type": "stream",
     "text": [
      "<class 'pandas.core.frame.DataFrame'>\n",
      "Index: 187 entries, 2020-09-29 to 2021-04-03\n",
      "Data columns (total 2 columns):\n",
      " #   Column                 Non-Null Count  Dtype  \n",
      "---  ------                 --------------  -----  \n",
      " 0   TB Subjectivity Score  187 non-null    float64\n",
      " 1   TB Subjectivity Score  187 non-null    float64\n",
      "dtypes: float64(2)\n",
      "memory usage: 4.4+ KB\n"
     ]
    },
    {
     "name": "stderr",
     "output_type": "stream",
     "text": [
      "<ipython-input-60-8d7da218e4ce>:2: FutureWarning: Indexing with multiple keys (implicitly converted to a tuple of keys) will be deprecated, use a list instead.\n",
      "  twitter_tb_sent_avg = pltr_tb_sentiment_df.groupby('date', as_index=True, sort=True)['TB Subjectivity Score','TB Subjectivity Score'].mean()\n"
     ]
    },
    {
     "data": {
      "text/html": [
       "<div>\n",
       "<style scoped>\n",
       "    .dataframe tbody tr th:only-of-type {\n",
       "        vertical-align: middle;\n",
       "    }\n",
       "\n",
       "    .dataframe tbody tr th {\n",
       "        vertical-align: top;\n",
       "    }\n",
       "\n",
       "    .dataframe thead th {\n",
       "        text-align: right;\n",
       "    }\n",
       "</style>\n",
       "<table border=\"1\" class=\"dataframe\">\n",
       "  <thead>\n",
       "    <tr style=\"text-align: right;\">\n",
       "      <th></th>\n",
       "      <th>TB Subjectivity Score</th>\n",
       "      <th>TB Subjectivity Score</th>\n",
       "    </tr>\n",
       "    <tr>\n",
       "      <th>date</th>\n",
       "      <th></th>\n",
       "      <th></th>\n",
       "    </tr>\n",
       "  </thead>\n",
       "  <tbody>\n",
       "    <tr>\n",
       "      <th>2020-09-29</th>\n",
       "      <td>0.308556</td>\n",
       "      <td>0.308556</td>\n",
       "    </tr>\n",
       "    <tr>\n",
       "      <th>2020-09-30</th>\n",
       "      <td>0.330395</td>\n",
       "      <td>0.330395</td>\n",
       "    </tr>\n",
       "    <tr>\n",
       "      <th>2020-10-01</th>\n",
       "      <td>0.371022</td>\n",
       "      <td>0.371022</td>\n",
       "    </tr>\n",
       "    <tr>\n",
       "      <th>2020-10-02</th>\n",
       "      <td>0.351119</td>\n",
       "      <td>0.351119</td>\n",
       "    </tr>\n",
       "    <tr>\n",
       "      <th>2020-10-03</th>\n",
       "      <td>0.402688</td>\n",
       "      <td>0.402688</td>\n",
       "    </tr>\n",
       "    <tr>\n",
       "      <th>...</th>\n",
       "      <td>...</td>\n",
       "      <td>...</td>\n",
       "    </tr>\n",
       "    <tr>\n",
       "      <th>2021-03-30</th>\n",
       "      <td>0.344988</td>\n",
       "      <td>0.344988</td>\n",
       "    </tr>\n",
       "    <tr>\n",
       "      <th>2021-03-31</th>\n",
       "      <td>0.336835</td>\n",
       "      <td>0.336835</td>\n",
       "    </tr>\n",
       "    <tr>\n",
       "      <th>2021-04-01</th>\n",
       "      <td>0.360484</td>\n",
       "      <td>0.360484</td>\n",
       "    </tr>\n",
       "    <tr>\n",
       "      <th>2021-04-02</th>\n",
       "      <td>0.366456</td>\n",
       "      <td>0.366456</td>\n",
       "    </tr>\n",
       "    <tr>\n",
       "      <th>2021-04-03</th>\n",
       "      <td>0.375036</td>\n",
       "      <td>0.375036</td>\n",
       "    </tr>\n",
       "  </tbody>\n",
       "</table>\n",
       "<p>187 rows × 2 columns</p>\n",
       "</div>"
      ],
      "text/plain": [
       "            TB Subjectivity Score  TB Subjectivity Score\n",
       "date                                                    \n",
       "2020-09-29               0.308556               0.308556\n",
       "2020-09-30               0.330395               0.330395\n",
       "2020-10-01               0.371022               0.371022\n",
       "2020-10-02               0.351119               0.351119\n",
       "2020-10-03               0.402688               0.402688\n",
       "...                           ...                    ...\n",
       "2021-03-30               0.344988               0.344988\n",
       "2021-03-31               0.336835               0.336835\n",
       "2021-04-01               0.360484               0.360484\n",
       "2021-04-02               0.366456               0.366456\n",
       "2021-04-03               0.375036               0.375036\n",
       "\n",
       "[187 rows x 2 columns]"
      ]
     },
     "execution_count": 60,
     "metadata": {},
     "output_type": "execute_result"
    }
   ],
   "source": [
    "### CALCULATE AVERAGE BY DATE\n",
    "twitter_tb_sent_avg = pltr_tb_sentiment_df.groupby('date', as_index=True, sort=True)['TB Subjectivity Score','TB Subjectivity Score'].mean()\n",
    "twitter_tb_sent_avg.info()\n",
    "twitter_tb_sent_avg"
   ]
  },
  {
   "cell_type": "markdown",
   "metadata": {},
   "source": [
    "# NEWSAPI TEXTBLOB SENTIMENT ANALYSIS"
   ]
  },
  {
   "cell_type": "code",
   "execution_count": 65,
   "metadata": {},
   "outputs": [
    {
     "data": {
      "text/html": [
       "<div>\n",
       "<style scoped>\n",
       "    .dataframe tbody tr th:only-of-type {\n",
       "        vertical-align: middle;\n",
       "    }\n",
       "\n",
       "    .dataframe tbody tr th {\n",
       "        vertical-align: top;\n",
       "    }\n",
       "\n",
       "    .dataframe thead th {\n",
       "        text-align: right;\n",
       "    }\n",
       "</style>\n",
       "<table border=\"1\" class=\"dataframe\">\n",
       "  <thead>\n",
       "    <tr style=\"text-align: right;\">\n",
       "      <th></th>\n",
       "    </tr>\n",
       "  </thead>\n",
       "  <tbody>\n",
       "  </tbody>\n",
       "</table>\n",
       "</div>"
      ],
      "text/plain": [
       "Empty DataFrame\n",
       "Columns: []\n",
       "Index: []"
      ]
     },
     "execution_count": 65,
     "metadata": {},
     "output_type": "execute_result"
    }
   ],
   "source": [
    "pltr_tb_newsapi_sentiments = []\n",
    "for index, row in pltr_newsapi_df.iterrows():\n",
    "    try:\n",
    "        text = row[\"content\"]\n",
    "        date = row[\"publishedAt\"]\n",
    "        analysis = TextBlob(text).sentiment\n",
    "        analysisSub= TextBlob(text).subjectivity\n",
    "        analysisPol= TextBlob(text).polarity\n",
    "        pltr_tb_sentiments.append({\n",
    "            \"text\": text,\n",
    "            \"date\": date,\n",
    "            \"TB Subjectivity Score\": analysisSub,\n",
    "            \"TB Polarity Score\":analysisPol\n",
    "        })\n",
    "    except AttributeError:\n",
    "        pass\n",
    "pltr_tb_newsapi_sentiment_df = pd.DataFrame(pltr_tb_newsapi_sentiments)\n",
    "pltr_tb_newsapi_sentiment_df"
   ]
  },
  {
   "cell_type": "code",
   "execution_count": 71,
   "metadata": {},
   "outputs": [
    {
     "data": {
      "text/html": [
       "<div>\n",
       "<style scoped>\n",
       "    .dataframe tbody tr th:only-of-type {\n",
       "        vertical-align: middle;\n",
       "    }\n",
       "\n",
       "    .dataframe tbody tr th {\n",
       "        vertical-align: top;\n",
       "    }\n",
       "\n",
       "    .dataframe thead th {\n",
       "        text-align: right;\n",
       "    }\n",
       "</style>\n",
       "<table border=\"1\" class=\"dataframe\">\n",
       "  <thead>\n",
       "    <tr style=\"text-align: right;\">\n",
       "      <th></th>\n",
       "    </tr>\n",
       "  </thead>\n",
       "  <tbody>\n",
       "  </tbody>\n",
       "</table>\n",
       "</div>"
      ],
      "text/plain": [
       "Empty DataFrame\n",
       "Columns: []\n",
       "Index: []"
      ]
     },
     "execution_count": 71,
     "metadata": {},
     "output_type": "execute_result"
    }
   ],
   "source": [
    "#Drop duplicates\n",
    "pltr_tb_newsapi_sentiment_df.drop_duplicates(inplace=True)\n",
    "pltr_tb_newsapi_sentiment_df"
   ]
  },
  {
   "cell_type": "markdown",
   "metadata": {
    "id": "z209Xl2k_nwH"
   },
   "source": [
    "## IBM WATSON TONE ANALYSIS - TWITTER AND NEWSAPI"
   ]
  },
  {
   "cell_type": "code",
   "execution_count": null,
   "metadata": {},
   "outputs": [],
   "source": []
  },
  {
   "cell_type": "code",
   "execution_count": null,
   "metadata": {},
   "outputs": [],
   "source": []
  },
  {
   "cell_type": "code",
   "execution_count": null,
   "metadata": {},
   "outputs": [],
   "source": []
  },
  {
   "cell_type": "code",
   "execution_count": 189,
   "metadata": {},
   "outputs": [
    {
     "data": {
      "text/html": [
       "<div>\n",
       "<style scoped>\n",
       "    .dataframe tbody tr th:only-of-type {\n",
       "        vertical-align: middle;\n",
       "    }\n",
       "\n",
       "    .dataframe tbody tr th {\n",
       "        vertical-align: top;\n",
       "    }\n",
       "\n",
       "    .dataframe thead th {\n",
       "        text-align: right;\n",
       "    }\n",
       "</style>\n",
       "<table border=\"1\" class=\"dataframe\">\n",
       "  <thead>\n",
       "    <tr style=\"text-align: right;\">\n",
       "      <th></th>\n",
       "      <th>text</th>\n",
       "    </tr>\n",
       "    <tr>\n",
       "      <th>date</th>\n",
       "      <th></th>\n",
       "    </tr>\n",
       "  </thead>\n",
       "  <tbody>\n",
       "    <tr>\n",
       "      <th>2020-09-29</th>\n",
       "      <td>Don’t forget buy $PLTR tomorrow. Don’t sleep</td>\n",
       "    </tr>\n",
       "  </tbody>\n",
       "</table>\n",
       "</div>"
      ],
      "text/plain": [
       "                                                    text\n",
       "date                                                    \n",
       "2020-09-29  Don’t forget buy $PLTR tomorrow. Don’t sleep"
      ]
     },
     "execution_count": 189,
     "metadata": {},
     "output_type": "execute_result"
    }
   ],
   "source": [
    "pltr_twitter_tone_df = pltr_twitter_sentiment_df.drop(columns=['compound','positive','negative','neutral','Polarity Score'])\n",
    "pltr_twitter_tone_df.head(1)"
   ]
  },
  {
   "cell_type": "code",
   "execution_count": 188,
   "metadata": {},
   "outputs": [
    {
     "data": {
      "text/html": [
       "<div>\n",
       "<style scoped>\n",
       "    .dataframe tbody tr th:only-of-type {\n",
       "        vertical-align: middle;\n",
       "    }\n",
       "\n",
       "    .dataframe tbody tr th {\n",
       "        vertical-align: top;\n",
       "    }\n",
       "\n",
       "    .dataframe thead th {\n",
       "        text-align: right;\n",
       "    }\n",
       "</style>\n",
       "<table border=\"1\" class=\"dataframe\">\n",
       "  <thead>\n",
       "    <tr style=\"text-align: right;\">\n",
       "      <th></th>\n",
       "      <th>text</th>\n",
       "    </tr>\n",
       "    <tr>\n",
       "      <th>date</th>\n",
       "      <th></th>\n",
       "    </tr>\n",
       "  </thead>\n",
       "  <tbody>\n",
       "    <tr>\n",
       "      <th>2021-03-10</th>\n",
       "      <td>As we move into the vaccination phase of the C...</td>\n",
       "    </tr>\n",
       "  </tbody>\n",
       "</table>\n",
       "</div>"
      ],
      "text/plain": [
       "                                                         text\n",
       "date                                                         \n",
       "2021-03-10  As we move into the vaccination phase of the C..."
      ]
     },
     "execution_count": 188,
     "metadata": {},
     "output_type": "execute_result"
    }
   ],
   "source": [
    "pltr_newsapi_tone_df = pltr_newsapi_sentiment_df.drop(columns=['compound','positive','negative','neutral','Polarity Score'])\n",
    "pltr_newsapi_tone_df.head(1)"
   ]
  },
  {
   "cell_type": "code",
   "execution_count": 201,
   "metadata": {
    "id": "UFNz5iOB_00u"
   },
   "outputs": [],
   "source": [
    "\n",
    "# COMBINE INTO PLTR_TONE_DF\n",
    "## pltr_combined_tone_df= pd.concat([pltr_twitter_tone_df, pltr_newsapi_tone_df], join=\"0\", ignore_index=True)\n",
    "\n"
   ]
  },
  {
   "cell_type": "code",
   "execution_count": 199,
   "metadata": {},
   "outputs": [
    {
     "data": {
      "text/html": [
       "<div>\n",
       "<style scoped>\n",
       "    .dataframe tbody tr th:only-of-type {\n",
       "        vertical-align: middle;\n",
       "    }\n",
       "\n",
       "    .dataframe tbody tr th {\n",
       "        vertical-align: top;\n",
       "    }\n",
       "\n",
       "    .dataframe thead th {\n",
       "        text-align: right;\n",
       "    }\n",
       "</style>\n",
       "<table border=\"1\" class=\"dataframe\">\n",
       "  <thead>\n",
       "    <tr style=\"text-align: right;\">\n",
       "      <th></th>\n",
       "      <th>text</th>\n",
       "    </tr>\n",
       "    <tr>\n",
       "      <th>date</th>\n",
       "      <th></th>\n",
       "    </tr>\n",
       "  </thead>\n",
       "  <tbody>\n",
       "    <tr>\n",
       "      <th>2020-09-29</th>\n",
       "      <td>Don’t forget buy $PLTR tomorrow. Don’t sleep</td>\n",
       "    </tr>\n",
       "  </tbody>\n",
       "</table>\n",
       "</div>"
      ],
      "text/plain": [
       "                                                    text\n",
       "date                                                    \n",
       "2020-09-29  Don’t forget buy $PLTR tomorrow. Don’t sleep"
      ]
     },
     "execution_count": 199,
     "metadata": {},
     "output_type": "execute_result"
    }
   ],
   "source": [
    "pltr_twitter_tone_df.head(1)"
   ]
  },
  {
   "cell_type": "code",
   "execution_count": 217,
   "metadata": {},
   "outputs": [],
   "source": [
    "from __future__ import print_function"
   ]
  },
  {
   "cell_type": "code",
   "execution_count": 248,
   "metadata": {
    "id": "33nkmBpzgfhE"
   },
   "outputs": [
    {
     "ename": "NameError",
     "evalue": "name 'tone' is not defined",
     "output_type": "error",
     "traceback": [
      "\u001b[0;31m---------------------------------------------------------------------------\u001b[0m",
      "\u001b[0;31mNameError\u001b[0m                                 Traceback (most recent call last)",
      "\u001b[0;32m<ipython-input-248-a530a78e9c40>\u001b[0m in \u001b[0;36m<module>\u001b[0;34m\u001b[0m\n\u001b[1;32m     13\u001b[0m \u001b[0;32mfor\u001b[0m \u001b[0mrow\u001b[0m \u001b[0;32min\u001b[0m \u001b[0mtweets\u001b[0m\u001b[0;34m:\u001b[0m\u001b[0;34m\u001b[0m\u001b[0;34m\u001b[0m\u001b[0m\n\u001b[1;32m     14\u001b[0m     \u001b[0;32mfor\u001b[0m \u001b[0mtones\u001b[0m \u001b[0;32min\u001b[0m \u001b[0mrow\u001b[0m\u001b[0;34m:\u001b[0m\u001b[0;34m\u001b[0m\u001b[0;34m\u001b[0m\u001b[0m\n\u001b[0;32m---> 15\u001b[0;31m         \u001b[0mprint\u001b[0m\u001b[0;34m(\u001b[0m\u001b[0;34m' Name: {} . Score: {}'\u001b[0m\u001b[0;34m.\u001b[0m\u001b[0mformat\u001b[0m\u001b[0;34m(\u001b[0m\u001b[0mtone\u001b[0m\u001b[0;34m[\u001b[0m\u001b[0;34m'tone_name'\u001b[0m\u001b[0;34m]\u001b[0m\u001b[0;34m,\u001b[0m \u001b[0mtone\u001b[0m\u001b[0;34m[\u001b[0m\u001b[0;34m'score'\u001b[0m\u001b[0;34m]\u001b[0m\u001b[0;34m)\u001b[0m\u001b[0;34m)\u001b[0m\u001b[0;34m\u001b[0m\u001b[0;34m\u001b[0m\u001b[0m\n\u001b[0m\u001b[1;32m     16\u001b[0m     \u001b[0mcontent_type\u001b[0m \u001b[0;34m=\u001b[0m \u001b[0;34m'application/json'\u001b[0m\u001b[0;34m\u001b[0m\u001b[0;34m\u001b[0m\u001b[0m\n\u001b[1;32m     17\u001b[0m     \u001b[0mtone\u001b[0m \u001b[0;34m=\u001b[0m \u001b[0mtone_analyzer\u001b[0m\u001b[0;34m.\u001b[0m\u001b[0mtones\u001b[0m\u001b[0;34m(\u001b[0m\u001b[0mrow\u001b[0m\u001b[0;34m)\u001b[0m\u001b[0;34m\u001b[0m\u001b[0;34m\u001b[0m\u001b[0m\n",
      "\u001b[0;31mNameError\u001b[0m: name 'tone' is not defined"
     ]
    }
   ],
   "source": [
    "# Define text to analyze\n",
    "tweets = pltr_twitter_tone_df[\"text\"]\n",
    "news = pltr_newsapi_tone_df['text']\n",
    "\n",
    "#  E.G.\n",
    "# for row in jsonText:\n",
    "#     for tones in row['document_tone']['tones']:\n",
    "#         print(' Name: {} . Score: {}'.format(tone['tone_name'], tone['score']))\n",
    "\n",
    "\n",
    "tweet_tones = []\n",
    "\n",
    "for row in tweets:\n",
    "    for tones in row:\n",
    "        print(' Name: {} . Score: {}'.format(tone['tone_name'], tone['score']))\n",
    "    content_type = 'application/json'\n",
    "    tone = tone_analyzer.tones(row)\n",
    "    jsonText = json.dumps(tone, indent=2)\n",
    "    jsonParse = json.loads(jsonText)\n",
    "    tweet_tones = jsonParse[\"document_tones\"][\"tones\"]\n",
    "    print(t)\n",
    "\n",
    "\n",
    "# # Analyze the text's tone with the 'tone()' method.\n",
    "# for index, row in pltr_twitter_tone_df.iterrows():\n",
    "#     try:\n",
    "#         text = row[\"text\"]\n",
    "#         date = index\n",
    "#         tone_analysis = tone_analyzer.tone(    \n",
    "#             {\"text\": tweets},\n",
    "content_type=\"application/json\"\n",
    "content_language=\"en\"\n",
    "accept_language=\"en\"\n",
    "sentences=True\n",
    "#             ).get_result()\n",
    "#         # Display tone analysis results\n",
    "# print(json.dumps(tone_analysis, indent=2))\n",
    "#         compound = tone_analysis[\"compound\"]\n",
    "#         pos = tone_analysis[\"pos\"]\n",
    "#         neu = tone_analysis[\"neu\"]\n",
    "#         neg = tone_analysis[\"neg\"]\n",
    "#         pol=  get_sentiment(compound)\n",
    "        \n",
    "#         pltr_twitter_tone_df.append({\n",
    "#             \"text\": text,\n",
    "#             \"date\": date,\n",
    "#             \"compound\": compound,\n",
    "#             \"positive\": pos,\n",
    "#             \"negative\": neg,\n",
    "#             \"neutral\": neu,\n",
    "#             \"Polarity Score\":pol,\n",
    "                        \n",
    "#         },ignore_index=True)\n",
    "        \n",
    "\n",
    "for row in news:\n",
    "    tone_analysis = tone_analyzer.tone([{\"text\": row},content_type,content_language,accept_language,sentences])\n",
    "    tweet_tones.append({\n",
    "        'tone': tone_analysis.get_result()\n",
    "    },ignore_index=True)\n",
    "\n",
    "    # except AttributeError:\n",
    "    #     pass\n",
    "\n",
    "# Display tone analysis results\n",
    "# print(json.dump(tone_analysis, indent=2)) \n",
    "\n",
    "\n",
    "print(tweet_tones.head(1))"
   ]
  },
  {
   "cell_type": "code",
   "execution_count": 221,
   "metadata": {},
   "outputs": [],
   "source": [
    "tone_analysis = tone_analyzer.tone({\"text\": tweets},content_type=\"application/json\",content_language=\"en\",accept_language=\"en\").get_result()\n",
    "        # Display tone analysis results\n",
    "print(json.dumps(tone_analysis, indent=2))"
   ]
  },
  {
   "cell_type": "markdown",
   "metadata": {},
   "source": [
    "### Transform Tone Analysis json to a DataFrame"
   ]
  },
  {
   "cell_type": "code",
   "execution_count": null,
   "metadata": {
    "id": "LG3pD416g0NQ"
   },
   "outputs": [],
   "source": [
    "# Document Tones\n",
    "doc_tone_df = json_normalize(data=tone_analysis[\"document_tone\"], record_path=[\"tones\"])\n",
    "doc_tone_df"
   ]
  },
  {
   "cell_type": "code",
   "execution_count": null,
   "metadata": {
    "id": "XSswsB4Yg_Mo"
   },
   "outputs": [],
   "source": [
    " # Sentences Tones\n",
    "sentences_tone_df = json_normalize(\n",
    "    data=tone_analysis[\"sentences_tone\"],\n",
    "    record_path=[\"tones\"],\n",
    "    meta=[\"sentence_id\", \"text\"],\n",
    ")\n",
    "sentences_tone_df"
   ]
  },
  {
   "cell_type": "markdown",
   "metadata": {
    "id": "N_8KmdzToSQY"
   },
   "source": []
  },
  {
   "cell_type": "markdown",
   "metadata": {
    "id": "pyxN5H15BdjM"
   },
   "source": [
    "## WHICH MODEL PRODUCES BETTER RESULTS? VADER v WATSON\n"
   ]
  },
  {
   "cell_type": "markdown",
   "metadata": {
    "id": "wOpNdWDHoaD5"
   },
   "source": [
    "##Graph Sentiment score and Stock Price"
   ]
  },
  {
   "cell_type": "code",
   "execution_count": null,
   "metadata": {
    "colab": {
     "base_uri": "https://localhost:8080/",
     "height": 295
    },
    "id": "PoeRLUPKogmt",
    "outputId": "69d7471b-c4fe-4e29-e020-76bf91e28f0b"
   },
   "outputs": [
    {
     "data": {
      "text/plain": [
       "<matplotlib.axes._subplots.AxesSubplot at 0x7f3f7d941f90>"
      ]
     },
     "execution_count": 27,
     "metadata": {
      "tags": []
     },
     "output_type": "execute_result"
    },
    {
     "data": {
      "image/png": "[encoded data removed]",
      "text/plain": [
       "<Figure size 432x288 with 1 Axes>"
      ]
     },
     "metadata": {
      "needs_background": "light",
      "tags": []
     },
     "output_type": "display_data"
    }
   ],
   "source": [
    "pltr_yf_df[\"Close\"].plot() "
   ]
  },
  {
   "cell_type": "code",
   "execution_count": null,
   "metadata": {
    "id": "IJXfLaXy9fHL"
   },
   "outputs": [],
   "source": [
    "## COMBINE CLOSING PRICES WITH DAILY POLARITY SCORES (VADER)\n",
    "\n",
    "# pltr_combined_df = Close + Polarity Scores (Index = Date)\n",
    "\n",
    "\n",
    "## CHECK CORRELATIONS OF COMPOUND / POS / NEG / NEUTRAL / POLARITY SCORES (VADER)"
   ]
  },
  {
   "cell_type": "markdown",
   "metadata": {
    "id": "0ZJfZkp2BHRZ"
   },
   "source": [
    "##Graph Tone analysis score and Stock Price"
   ]
  },
  {
   "cell_type": "code",
   "execution_count": null,
   "metadata": {
    "id": "srcoB4sxBNbC"
   },
   "outputs": [],
   "source": [
    "## COMBINE CLOSING PRICES WITH DAILY POLARITY SCORES (WATSON)\n",
    "\n",
    "# pltr_combined_df = Close + Polarity Scores (Index = Date)\n",
    "\n",
    "\n",
    "## CHECK CORRELATIONS OF COMPOUND / POS / NEG / NEUTRAL / POLARITY SCORES (WATSON)"
   ]
  },
  {
   "cell_type": "markdown",
   "metadata": {
    "id": "MFb2LKehoqft"
   },
   "source": [
    "## ML and LSTM Model "
   ]
  },
  {
   "cell_type": "markdown",
   "metadata": {},
   "source": [
    "DATA PREPARATION"
   ]
  },
  {
   "cell_type": "code",
   "execution_count": 91,
   "metadata": {},
   "outputs": [],
   "source": [
    "# Set the random seed for reproducibility\n",
    "# Note: This is used for model prototyping, but it is good practice to comment this out and run multiple experiments to evaluate your model.\n",
    "#from numpy.random import seed\n",
    "\n",
    "#seed(1)\n",
    "from tensorflow import random\n",
    "\n",
    "#random.set_seed(2)"
   ]
  },
  {
   "cell_type": "code",
   "execution_count": 181,
   "metadata": {},
   "outputs": [
    {
     "data": {
      "text/html": [
       "<div>\n",
       "<style scoped>\n",
       "    .dataframe tbody tr th:only-of-type {\n",
       "        vertical-align: middle;\n",
       "    }\n",
       "\n",
       "    .dataframe tbody tr th {\n",
       "        vertical-align: top;\n",
       "    }\n",
       "\n",
       "    .dataframe thead th {\n",
       "        text-align: right;\n",
       "    }\n",
       "</style>\n",
       "<table border=\"1\" class=\"dataframe\">\n",
       "  <thead>\n",
       "    <tr style=\"text-align: right;\">\n",
       "      <th></th>\n",
       "      <th>Close</th>\n",
       "      <th>compound</th>\n",
       "      <th>positive</th>\n",
       "      <th>negative</th>\n",
       "      <th>neutral</th>\n",
       "      <th>Polarity Score</th>\n",
       "    </tr>\n",
       "  </thead>\n",
       "  <tbody>\n",
       "    <tr>\n",
       "      <th>2020-09-30</th>\n",
       "      <td>9.50</td>\n",
       "      <td>0.147594</td>\n",
       "      <td>0.094543</td>\n",
       "      <td>0.034711</td>\n",
       "      <td>0.870748</td>\n",
       "      <td>0.272287</td>\n",
       "    </tr>\n",
       "    <tr>\n",
       "      <th>2020-10-01</th>\n",
       "      <td>9.46</td>\n",
       "      <td>0.009902</td>\n",
       "      <td>0.080625</td>\n",
       "      <td>0.063405</td>\n",
       "      <td>0.855963</td>\n",
       "      <td>0.101329</td>\n",
       "    </tr>\n",
       "    <tr>\n",
       "      <th>2020-10-02</th>\n",
       "      <td>9.20</td>\n",
       "      <td>-0.000485</td>\n",
       "      <td>0.084356</td>\n",
       "      <td>0.061115</td>\n",
       "      <td>0.854532</td>\n",
       "      <td>0.108974</td>\n",
       "    </tr>\n",
       "    <tr>\n",
       "      <th>2020-10-05</th>\n",
       "      <td>9.03</td>\n",
       "      <td>0.186457</td>\n",
       "      <td>0.091758</td>\n",
       "      <td>0.033205</td>\n",
       "      <td>0.875005</td>\n",
       "      <td>0.394737</td>\n",
       "    </tr>\n",
       "    <tr>\n",
       "      <th>2020-10-06</th>\n",
       "      <td>9.90</td>\n",
       "      <td>0.197717</td>\n",
       "      <td>0.104604</td>\n",
       "      <td>0.036160</td>\n",
       "      <td>0.859233</td>\n",
       "      <td>0.363144</td>\n",
       "    </tr>\n",
       "  </tbody>\n",
       "</table>\n",
       "</div>"
      ],
      "text/plain": [
       "            Close  compound  positive  negative   neutral  Polarity Score\n",
       "2020-09-30   9.50  0.147594  0.094543  0.034711  0.870748        0.272287\n",
       "2020-10-01   9.46  0.009902  0.080625  0.063405  0.855963        0.101329\n",
       "2020-10-02   9.20 -0.000485  0.084356  0.061115  0.854532        0.108974\n",
       "2020-10-05   9.03  0.186457  0.091758  0.033205  0.875005        0.394737\n",
       "2020-10-06   9.90  0.197717  0.104604  0.036160  0.859233        0.363144"
      ]
     },
     "execution_count": 181,
     "metadata": {},
     "output_type": "execute_result"
    }
   ],
   "source": [
    "# Load the stocks data\n",
    "df =pltr_yf_twitter\n",
    "\n",
    "df.head()"
   ]
  },
  {
   "cell_type": "markdown",
   "metadata": {},
   "source": [
    "## Creating the Features X and Target y Data\n",
    "The first step towards preparing the data is to create the input features vectors X and the target vector y. We will use the window_data() function to create these vectors.This function chunks the data up with a rolling window of Xt - window to predict Xt.The function returns two numpy arrays:\n",
    "X: The input features vectors.y: The target vector.\n",
    "The function has the following parameters:\n",
    "df: The original DataFrame with the time series data.window: The window size in days of previous closing prices that will be used for the prediction.feature_col_number: The column number from the original DataFrame where the features are located.target_col_number: The column number from the original DataFrame where the target is located."
   ]
  },
  {
   "cell_type": "code",
   "execution_count": 93,
   "metadata": {},
   "outputs": [],
   "source": [
    "def window_data(df, window, feature_col_number, target_col_number):\n",
    "    \"\"\"\n",
    "    This function accepts the column number for the features (X) and the target (y).\n",
    "    It chunks the data up with a rolling window of Xt - window to predict Xt.\n",
    "    It returns two numpy arrays of X and y.\n",
    "    \"\"\"\n",
    "    X = []\n",
    "    y = []\n",
    "    for i in range(len(df) - window):\n",
    "        features = df.iloc[i : (i + window), feature_col_number]\n",
    "        target = df.iloc[(i + window), target_col_number]\n",
    "        X.append(features)\n",
    "        y.append(target)\n",
    "    return np.array(X), np.array(y).reshape(-1, 1)"
   ]
  },
  {
   "cell_type": "code",
   "execution_count": 182,
   "metadata": {},
   "outputs": [
    {
     "name": "stdout",
     "output_type": "stream",
     "text": [
      "X sample values:\n",
      "[[ 0.1475944   0.00990249 -0.00048462  0.18645737  0.1977168   0.21753883\n",
      "   0.25677612  0.2672227   0.21431333  0.22229048  0.2113217   0.19835278\n",
      "   0.20755682  0.12833636  0.11675606]\n",
      " [ 0.00990249 -0.00048462  0.18645737  0.1977168   0.21753883  0.25677612\n",
      "   0.2672227   0.21431333  0.22229048  0.2113217   0.19835278  0.20755682\n",
      "   0.12833636  0.11675606  0.24131887]\n",
      " [-0.00048462  0.18645737  0.1977168   0.21753883  0.25677612  0.2672227\n",
      "   0.21431333  0.22229048  0.2113217   0.19835278  0.20755682  0.12833636\n",
      "   0.11675606  0.24131887  0.19730506]\n",
      " [ 0.18645737  0.1977168   0.21753883  0.25677612  0.2672227   0.21431333\n",
      "   0.22229048  0.2113217   0.19835278  0.20755682  0.12833636  0.11675606\n",
      "   0.24131887  0.19730506  0.20661339]\n",
      " [ 0.1977168   0.21753883  0.25677612  0.2672227   0.21431333  0.22229048\n",
      "   0.2113217   0.19835278  0.20755682  0.12833636  0.11675606  0.24131887\n",
      "   0.19730506  0.20661339  0.14902125]] \n",
      "\n",
      "y sample values:\n",
      "[[ 9.19999981]\n",
      " [ 9.68000031]\n",
      " [ 9.48999977]\n",
      " [ 9.94999981]\n",
      " [10.94999981]]\n"
     ]
    }
   ],
   "source": [
    "# Creating the features (X) and target (y) data using the window_data() function.\n",
    "window_size = 15\n",
    "\n",
    "feature_column = 1\n",
    "target_column = 0\n",
    "X, y = window_data(df, window_size, feature_column, target_column)\n",
    "print (f\"X sample values:\\n{X[:5]} \\n\")\n",
    "print (f\"y sample values:\\n{y[:5]}\") "
   ]
  },
  {
   "cell_type": "code",
   "execution_count": 197,
   "metadata": {},
   "outputs": [
    {
     "name": "stdout",
     "output_type": "stream",
     "text": [
      "(112, 15)\n"
     ]
    }
   ],
   "source": [
    "print(X.shape)"
   ]
  },
  {
   "cell_type": "markdown",
   "metadata": {},
   "source": [
    "## Splitting Data Between Training and Testing Sets\n",
    "To avoid the dataset being randomized, we will manually split the data using array slicing."
   ]
  },
  {
   "cell_type": "code",
   "execution_count": 183,
   "metadata": {},
   "outputs": [],
   "source": [
    "# Use 70% of the data for training and the remainder for testing\n",
    "split = int(0.7 * len(X))\n",
    "X_train = X[: split]\n",
    "X_test = X[split:]\n",
    "y_train = y[: split]\n",
    "y_test = y[split:]"
   ]
  },
  {
   "cell_type": "markdown",
   "metadata": {},
   "source": [
    "## Scaling Data with MinMaxScaler\n",
    "Once the training and test datasets are created, we need to scale the data before training the LSTM model. We will use the MinMaxScaler from sklearn to scale all values between 0 and 1.Note that we scale both features and target sets."
   ]
  },
  {
   "cell_type": "code",
   "execution_count": 184,
   "metadata": {},
   "outputs": [],
   "source": [
    "# Use the MinMaxScaler to scale data between 0 and 1.\n",
    "from sklearn.preprocessing import MinMaxScaler\n",
    "\n",
    "scaler = MinMaxScaler()\n",
    "scaler.fit(X)\n",
    "X_train = scaler.transform(X_train)\n",
    "X_test = scaler.transform(X_test)\n",
    "scaler.fit(y)\n",
    "y_train = scaler.transform(y_train)\n",
    "y_test = scaler.transform(y_test)"
   ]
  },
  {
   "cell_type": "markdown",
   "metadata": {},
   "source": [
    " ## Reshape Features Data for the LSTM Model\n",
    "The LSTM API from Keras needs to receive the features data as a vertical vector, so that we need to reshape the X data in the form reshape((X_train.shape[0], X_train.shape[1], 1)).Both sets, training, and testing are reshaped."
   ]
  },
  {
   "cell_type": "code",
   "execution_count": 185,
   "metadata": {},
   "outputs": [
    {
     "name": "stdout",
     "output_type": "stream",
     "text": [
      "X_train sample values:\n",
      "[[[0.48911884]\n",
      "  [0.03430959]\n",
      "  [0.        ]\n",
      "  [0.42564613]\n",
      "  [0.48148937]\n",
      "  [0.57980038]\n",
      "  [0.77440496]\n",
      "  [0.82621668]\n",
      "  [0.56380293]\n",
      "  [0.60336704]\n",
      "  [0.54896536]\n",
      "  [0.48464361]\n",
      "  [0.53029275]\n",
      "  [0.13738428]\n",
      "  [0.07994963]]\n",
      "\n",
      " [[0.03430959]\n",
      "  [0.        ]\n",
      "  [0.61748686]\n",
      "  [0.48148937]\n",
      "  [0.57980038]\n",
      "  [0.77440496]\n",
      "  [0.82621668]\n",
      "  [0.56380293]\n",
      "  [0.60336704]\n",
      "  [0.54896536]\n",
      "  [0.48464361]\n",
      "  [0.53029275]\n",
      "  [0.13738428]\n",
      "  [0.07994963]\n",
      "  [0.69774186]]\n",
      "\n",
      " [[0.        ]\n",
      "  [0.61748686]\n",
      "  [0.65467782]\n",
      "  [0.57980038]\n",
      "  [0.77440496]\n",
      "  [0.82621668]\n",
      "  [0.56380293]\n",
      "  [0.60336704]\n",
      "  [0.54896536]\n",
      "  [0.48464361]\n",
      "  [0.53029275]\n",
      "  [0.13738428]\n",
      "  [0.07994963]\n",
      "  [0.69774186]\n",
      "  [0.47944724]]\n",
      "\n",
      " [[0.61748686]\n",
      "  [0.65467782]\n",
      "  [0.72015184]\n",
      "  [0.77440496]\n",
      "  [0.82621668]\n",
      "  [0.56380293]\n",
      "  [0.60336704]\n",
      "  [0.54896536]\n",
      "  [0.48464361]\n",
      "  [0.53029275]\n",
      "  [0.13738428]\n",
      "  [0.07994963]\n",
      "  [0.69774186]\n",
      "  [0.47944724]\n",
      "  [0.52561365]]\n",
      "\n",
      " [[0.65467782]\n",
      "  [0.72015184]\n",
      "  [0.84975627]\n",
      "  [0.82621668]\n",
      "  [0.56380293]\n",
      "  [0.60336704]\n",
      "  [0.54896536]\n",
      "  [0.48464361]\n",
      "  [0.53029275]\n",
      "  [0.13738428]\n",
      "  [0.07994963]\n",
      "  [0.69774186]\n",
      "  [0.47944724]\n",
      "  [0.52561365]\n",
      "  [0.23997481]]] \n",
      "\n",
      "X_test sample values:\n",
      "[[[0.63893065]\n",
      "  [0.6550326 ]\n",
      "  [0.65144448]\n",
      "  [0.36333137]\n",
      "  [0.16933063]\n",
      "  [0.19055972]\n",
      "  [0.46170502]\n",
      "  [0.43125176]\n",
      "  [0.4324942 ]\n",
      "  [0.48273152]\n",
      "  [0.61201362]\n",
      "  [0.68125761]\n",
      "  [0.69683311]\n",
      "  [0.49209971]\n",
      "  [0.47026374]]\n",
      "\n",
      " [[0.6550326 ]\n",
      "  [0.65144448]\n",
      "  [0.57598594]\n",
      "  [0.16933063]\n",
      "  [0.19055972]\n",
      "  [0.46170502]\n",
      "  [0.43125176]\n",
      "  [0.4324942 ]\n",
      "  [0.48273152]\n",
      "  [0.61201362]\n",
      "  [0.68125761]\n",
      "  [0.69683311]\n",
      "  [0.49209971]\n",
      "  [0.47026374]\n",
      "  [0.35983925]]\n",
      "\n",
      " [[0.65144448]\n",
      "  [0.57598594]\n",
      "  [0.44678365]\n",
      "  [0.19055972]\n",
      "  [0.46170502]\n",
      "  [0.43125176]\n",
      "  [0.4324942 ]\n",
      "  [0.48273152]\n",
      "  [0.61201362]\n",
      "  [0.68125761]\n",
      "  [0.69683311]\n",
      "  [0.49209971]\n",
      "  [0.47026374]\n",
      "  [0.35983925]\n",
      "  [0.36146685]]\n",
      "\n",
      " [[0.57598594]\n",
      "  [0.44678365]\n",
      "  [0.46092198]\n",
      "  [0.46170502]\n",
      "  [0.43125176]\n",
      "  [0.4324942 ]\n",
      "  [0.48273152]\n",
      "  [0.61201362]\n",
      "  [0.68125761]\n",
      "  [0.69683311]\n",
      "  [0.49209971]\n",
      "  [0.47026374]\n",
      "  [0.35983925]\n",
      "  [0.36146685]\n",
      "  [0.52936443]]\n",
      "\n",
      " [[0.44678365]\n",
      "  [0.46092198]\n",
      "  [0.64150167]\n",
      "  [0.43125176]\n",
      "  [0.4324942 ]\n",
      "  [0.48273152]\n",
      "  [0.61201362]\n",
      "  [0.68125761]\n",
      "  [0.69683311]\n",
      "  [0.49209971]\n",
      "  [0.47026374]\n",
      "  [0.35983925]\n",
      "  [0.36146685]\n",
      "  [0.52936443]\n",
      "  [0.52057585]]]\n"
     ]
    }
   ],
   "source": [
    "# Reshape the features for the model\n",
    "X_train = X_train.reshape((X_train.shape[0], X_train.shape[1], 1))\n",
    "X_test = X_test.reshape((X_test.shape[0], X_test.shape[1], 1))\n",
    "print (f\"X_train sample values:\\n{X_train[:5]} \\n\")\n",
    "print (f\"X_test sample values:\\n{X_test[:5]}\") "
   ]
  },
  {
   "cell_type": "markdown",
   "metadata": {},
   "source": [
    " \n",
    "## Build and Train the LSTM RNN\n",
    "In this section, we will design a custom LSTM RNN in Keras and fit (train) it using the training data we defined.We will need to:\n",
    "Define the model architecture in Keras.Compile the model.Fit the model to the training data."
   ]
  },
  {
   "cell_type": "markdown",
   "metadata": {},
   "source": [
    "## Importing the Keras Modules\n",
    "The LSTM RNN model in Keras uses the Sequential model and the LSTM layer as we did before. However, there is a new type of layer called Dropout.\n",
    "Dropout: Dropout is a regularization technique for reducing overfitting in neural networks. This type of layer applies the dropout technique to the input."
   ]
  },
  {
   "cell_type": "code",
   "execution_count": 186,
   "metadata": {},
   "outputs": [],
   "source": [
    "# Import required Keras modules\n",
    "from tensorflow.keras.models import Sequential\n",
    "from tensorflow.keras.layers import LSTM, Dense, Dropout "
   ]
  },
  {
   "cell_type": "markdown",
   "metadata": {},
   "source": [
    "## Defining the LSTM RNN Model Structure\n",
    "To create an LSTM RNN model, we will add LSTM layers. The return_sequences parameter needs to set to True every time we add a new LSTM layer, excluding the final layer. The input_shape is the number of time steps and the number of indicatorsAfter each LSTM layer, we add a Dropout layer to prevent overfitting. The parameter passed to the Dropout layer is the fraction of nodes that will be drop on each epoch, for this demo, we will use a dropout value of 0.2, it means that on each epoch we will randomly drop 20% of the units.The number of units in each LSTM layers, is equal to the size of the time window, in this demo, we are taking five previous T-Bons closing price to predict the next closing price."
   ]
  },
  {
   "cell_type": "code",
   "execution_count": 187,
   "metadata": {},
   "outputs": [],
   "source": [
    "# Define the LSTM RNN model.\n",
    "model = Sequential()\n",
    "\n",
    "number_units = 5\n",
    "dropout_fraction = 0.2\n",
    "\n",
    "# Layer 1\n",
    "model.add(LSTM(\n",
    "    units=number_units,\n",
    "    return_sequences=True,\n",
    "    input_shape=(X_train.shape[1], 1))\n",
    "    )\n",
    "model.add(Dropout(dropout_fraction))\n",
    "# Layer 2\n",
    "model.add(LSTM(units=number_units, return_sequences=True))\n",
    "model.add(Dropout(dropout_fraction))\n",
    "# Layer 3\n",
    "model.add(LSTM(units=number_units))\n",
    "model.add(Dropout(dropout_fraction))\n",
    "# Output layer\n",
    "model.add(Dense(1))"
   ]
  },
  {
   "cell_type": "markdown",
   "metadata": {},
   "source": [
    "## Compiling the LSTM RNN Model\n",
    "We will compile the model, using the adam optimizer, as loss function, we will use mean_square_error since the value we want to predict is continuous."
   ]
  },
  {
   "cell_type": "code",
   "execution_count": 188,
   "metadata": {},
   "outputs": [],
   "source": [
    "# Compile the model\n",
    "model.compile(optimizer=\"adam\", loss=\"mean_squared_error\")"
   ]
  },
  {
   "cell_type": "code",
   "execution_count": 189,
   "metadata": {},
   "outputs": [
    {
     "name": "stdout",
     "output_type": "stream",
     "text": [
      "Model: \"sequential_4\"\n",
      "_________________________________________________________________\n",
      "Layer (type)                 Output Shape              Param #   \n",
      "=================================================================\n",
      "lstm_12 (LSTM)               (None, 15, 5)             140       \n",
      "_________________________________________________________________\n",
      "dropout_12 (Dropout)         (None, 15, 5)             0         \n",
      "_________________________________________________________________\n",
      "lstm_13 (LSTM)               (None, 15, 5)             220       \n",
      "_________________________________________________________________\n",
      "dropout_13 (Dropout)         (None, 15, 5)             0         \n",
      "_________________________________________________________________\n",
      "lstm_14 (LSTM)               (None, 5)                 220       \n",
      "_________________________________________________________________\n",
      "dropout_14 (Dropout)         (None, 5)                 0         \n",
      "_________________________________________________________________\n",
      "dense_4 (Dense)              (None, 1)                 6         \n",
      "=================================================================\n",
      "Total params: 586\n",
      "Trainable params: 586\n",
      "Non-trainable params: 0\n",
      "_________________________________________________________________\n"
     ]
    }
   ],
   "source": [
    "# Summarize the model\n",
    "model.summary() "
   ]
  },
  {
   "cell_type": "markdown",
   "metadata": {},
   "source": [
    "## Training the Model\n",
    "Once the model is defined, we train (fit) the model using 10 epochs. Since we are working with time-series data, it's important to set shuffle=False since it's necessary to keep the sequential order of the data.We can experiment with the batch_size parameter; however, smaller batch size is recommended; in this demo, we will use a batch_size=1."
   ]
  },
  {
   "cell_type": "code",
   "execution_count": 190,
   "metadata": {},
   "outputs": [
    {
     "name": "stdout",
     "output_type": "stream",
     "text": [
      "Epoch 1/10\n",
      "78/78 [==============================] - 6s 14ms/step - loss: 0.0491\n",
      "Epoch 2/10\n",
      "78/78 [==============================] - 1s 11ms/step - loss: 0.2633\n",
      "Epoch 3/10\n",
      "78/78 [==============================] - 1s 11ms/step - loss: 0.1510\n",
      "Epoch 4/10\n",
      "78/78 [==============================] - 1s 12ms/step - loss: 0.1329\n",
      "Epoch 5/10\n",
      "78/78 [==============================] - 1s 10ms/step - loss: 0.1464\n",
      "Epoch 6/10\n",
      "78/78 [==============================] - 1s 11ms/step - loss: 0.1685\n",
      "Epoch 7/10\n",
      "78/78 [==============================] - 1s 11ms/step - loss: 0.1574\n",
      "Epoch 8/10\n",
      "78/78 [==============================] - 1s 10ms/step - loss: 0.1407\n",
      "Epoch 9/10\n",
      "78/78 [==============================] - 1s 11ms/step - loss: 0.1397\n",
      "Epoch 10/10\n",
      "78/78 [==============================] - 1s 11ms/step - loss: 0.1439\n"
     ]
    },
    {
     "data": {
      "text/plain": [
       "<tensorflow.python.keras.callbacks.History at 0x14f97d550>"
      ]
     },
     "execution_count": 190,
     "metadata": {},
     "output_type": "execute_result"
    }
   ],
   "source": [
    "# Train the model\n",
    "model.fit(X_train, y_train, epochs=10, shuffle=False, batch_size=1, verbose=1)"
   ]
  },
  {
   "cell_type": "markdown",
   "metadata": {},
   "source": [
    "## Model Performance\n",
    "In this section, we will evaluate the model using the test data. We will need to:\n",
    "Evaluate the model using the X_test and y_test data.Use the X_test data to make predictions.Create a DataFrame of real (y_test) vs predicted values.Plot the Real vs predicted values as a line chart."
   ]
  },
  {
   "cell_type": "markdown",
   "metadata": {},
   "source": [
    " ## Evaluate the Model\n",
    "It's time to evaluate our model to assess its performance. We will use the evaluate method using the testing data."
   ]
  },
  {
   "cell_type": "code",
   "execution_count": 191,
   "metadata": {},
   "outputs": [
    {
     "name": "stdout",
     "output_type": "stream",
     "text": [
      "WARNING:tensorflow:5 out of the last 9 calls to <function Model.make_test_function.<locals>.test_function at 0x161bfe940> triggered tf.function retracing. Tracing is expensive and the excessive number of tracings could be due to (1) creating @tf.function repeatedly in a loop, (2) passing tensors with different shapes, (3) passing Python objects instead of tensors. For (1), please define your @tf.function outside of the loop. For (2), @tf.function has experimental_relax_shapes=True option that relaxes argument shapes that can avoid unnecessary retracing. For (3), please refer to https://www.tensorflow.org/guide/function#controlling_retracing and https://www.tensorflow.org/api_docs/python/tf/function for  more details.\n",
      "2/2 [==============================] - 1s 6ms/step - loss: 0.0057\n"
     ]
    },
    {
     "data": {
      "text/plain": [
       "0.005730403587222099"
      ]
     },
     "execution_count": 191,
     "metadata": {},
     "output_type": "execute_result"
    }
   ],
   "source": [
    "# Evaluate the model\n",
    "model.evaluate(X_test, y_test)"
   ]
  },
  {
   "cell_type": "markdown",
   "metadata": {},
   "source": [
    "## Making Predictions\n",
    "We will make some closing price predictions using our brand new LSTM RNN model and our testing data."
   ]
  },
  {
   "cell_type": "code",
   "execution_count": 192,
   "metadata": {},
   "outputs": [
    {
     "name": "stdout",
     "output_type": "stream",
     "text": [
      "WARNING:tensorflow:5 out of the last 9 calls to <function Model.make_predict_function.<locals>.predict_function at 0x162154a60> triggered tf.function retracing. Tracing is expensive and the excessive number of tracings could be due to (1) creating @tf.function repeatedly in a loop, (2) passing tensors with different shapes, (3) passing Python objects instead of tensors. For (1), please define your @tf.function outside of the loop. For (2), @tf.function has experimental_relax_shapes=True option that relaxes argument shapes that can avoid unnecessary retracing. For (3), please refer to https://www.tensorflow.org/guide/function#controlling_retracing and https://www.tensorflow.org/api_docs/python/tf/function for  more details.\n"
     ]
    }
   ],
   "source": [
    "# Make some predictions\n",
    "predicted = model.predict(X_test)"
   ]
  },
  {
   "cell_type": "markdown",
   "metadata": {},
   "source": [
    "Since we scaled the original values using the MinMaxScaler, we need to recover the original prices to better understand the predictions.We will use the inverse_transform() method of the scaler to decode the scaled values to their original scale."
   ]
  },
  {
   "cell_type": "code",
   "execution_count": 193,
   "metadata": {},
   "outputs": [],
   "source": [
    " # Recover the original prices instead of the scaled version\n",
    "predicted_prices = scaler.inverse_transform(predicted)\n",
    "real_prices = scaler.inverse_transform(y_test.reshape(-1, 1)) "
   ]
  },
  {
   "cell_type": "markdown",
   "metadata": {},
   "source": [
    "## Plotting Predicted Vs. Real Prices\n",
    "To plot the predicted vs. the real values, we will create a DataFrame."
   ]
  },
  {
   "cell_type": "code",
   "execution_count": 194,
   "metadata": {},
   "outputs": [
    {
     "data": {
      "text/html": [
       "<div>\n",
       "<style scoped>\n",
       "    .dataframe tbody tr th:only-of-type {\n",
       "        vertical-align: middle;\n",
       "    }\n",
       "\n",
       "    .dataframe tbody tr th {\n",
       "        vertical-align: top;\n",
       "    }\n",
       "\n",
       "    .dataframe thead th {\n",
       "        text-align: right;\n",
       "    }\n",
       "</style>\n",
       "<table border=\"1\" class=\"dataframe\">\n",
       "  <thead>\n",
       "    <tr style=\"text-align: right;\">\n",
       "      <th></th>\n",
       "      <th>Real</th>\n",
       "      <th>Predicted</th>\n",
       "    </tr>\n",
       "  </thead>\n",
       "  <tbody>\n",
       "    <tr>\n",
       "      <th>2021-02-12</th>\n",
       "      <td>31.910000</td>\n",
       "      <td>25.207985</td>\n",
       "    </tr>\n",
       "    <tr>\n",
       "      <th>2021-02-16</th>\n",
       "      <td>27.840000</td>\n",
       "      <td>25.214903</td>\n",
       "    </tr>\n",
       "    <tr>\n",
       "      <th>2021-02-17</th>\n",
       "      <td>27.080000</td>\n",
       "      <td>25.231892</td>\n",
       "    </tr>\n",
       "    <tr>\n",
       "      <th>2021-02-18</th>\n",
       "      <td>25.170000</td>\n",
       "      <td>25.250509</td>\n",
       "    </tr>\n",
       "    <tr>\n",
       "      <th>2021-02-19</th>\n",
       "      <td>29.000000</td>\n",
       "      <td>25.266737</td>\n",
       "    </tr>\n",
       "    <tr>\n",
       "      <th>2021-02-22</th>\n",
       "      <td>28.000000</td>\n",
       "      <td>25.314734</td>\n",
       "    </tr>\n",
       "    <tr>\n",
       "      <th>2021-02-23</th>\n",
       "      <td>26.750000</td>\n",
       "      <td>25.359873</td>\n",
       "    </tr>\n",
       "    <tr>\n",
       "      <th>2021-02-24</th>\n",
       "      <td>26.389999</td>\n",
       "      <td>25.364981</td>\n",
       "    </tr>\n",
       "    <tr>\n",
       "      <th>2021-02-25</th>\n",
       "      <td>23.959999</td>\n",
       "      <td>25.370113</td>\n",
       "    </tr>\n",
       "    <tr>\n",
       "      <th>2021-02-26</th>\n",
       "      <td>23.900000</td>\n",
       "      <td>25.364496</td>\n",
       "    </tr>\n",
       "    <tr>\n",
       "      <th>2021-03-01</th>\n",
       "      <td>24.809999</td>\n",
       "      <td>25.350821</td>\n",
       "    </tr>\n",
       "    <tr>\n",
       "      <th>2021-03-02</th>\n",
       "      <td>24.480000</td>\n",
       "      <td>25.337175</td>\n",
       "    </tr>\n",
       "    <tr>\n",
       "      <th>2021-03-03</th>\n",
       "      <td>23.590000</td>\n",
       "      <td>25.314791</td>\n",
       "    </tr>\n",
       "    <tr>\n",
       "      <th>2021-03-04</th>\n",
       "      <td>24.730000</td>\n",
       "      <td>25.291224</td>\n",
       "    </tr>\n",
       "    <tr>\n",
       "      <th>2021-03-05</th>\n",
       "      <td>23.950001</td>\n",
       "      <td>25.293158</td>\n",
       "    </tr>\n",
       "    <tr>\n",
       "      <th>2021-03-08</th>\n",
       "      <td>22.520000</td>\n",
       "      <td>25.281942</td>\n",
       "    </tr>\n",
       "    <tr>\n",
       "      <th>2021-03-09</th>\n",
       "      <td>24.260000</td>\n",
       "      <td>25.284830</td>\n",
       "    </tr>\n",
       "    <tr>\n",
       "      <th>2021-03-10</th>\n",
       "      <td>24.750000</td>\n",
       "      <td>25.287895</td>\n",
       "    </tr>\n",
       "    <tr>\n",
       "      <th>2021-03-11</th>\n",
       "      <td>26.730000</td>\n",
       "      <td>25.268263</td>\n",
       "    </tr>\n",
       "    <tr>\n",
       "      <th>2021-03-12</th>\n",
       "      <td>26.920000</td>\n",
       "      <td>25.261086</td>\n",
       "    </tr>\n",
       "    <tr>\n",
       "      <th>2021-03-15</th>\n",
       "      <td>26.790001</td>\n",
       "      <td>25.240490</td>\n",
       "    </tr>\n",
       "    <tr>\n",
       "      <th>2021-03-16</th>\n",
       "      <td>25.610001</td>\n",
       "      <td>25.243567</td>\n",
       "    </tr>\n",
       "    <tr>\n",
       "      <th>2021-03-17</th>\n",
       "      <td>25.209999</td>\n",
       "      <td>25.258701</td>\n",
       "    </tr>\n",
       "    <tr>\n",
       "      <th>2021-03-18</th>\n",
       "      <td>23.980000</td>\n",
       "      <td>25.237007</td>\n",
       "    </tr>\n",
       "    <tr>\n",
       "      <th>2021-03-19</th>\n",
       "      <td>24.320000</td>\n",
       "      <td>25.264679</td>\n",
       "    </tr>\n",
       "    <tr>\n",
       "      <th>2021-03-22</th>\n",
       "      <td>24.219999</td>\n",
       "      <td>25.287685</td>\n",
       "    </tr>\n",
       "    <tr>\n",
       "      <th>2021-03-23</th>\n",
       "      <td>23.260000</td>\n",
       "      <td>25.273413</td>\n",
       "    </tr>\n",
       "    <tr>\n",
       "      <th>2021-03-24</th>\n",
       "      <td>21.879999</td>\n",
       "      <td>25.279169</td>\n",
       "    </tr>\n",
       "    <tr>\n",
       "      <th>2021-03-25</th>\n",
       "      <td>22.580000</td>\n",
       "      <td>25.298811</td>\n",
       "    </tr>\n",
       "    <tr>\n",
       "      <th>2021-03-26</th>\n",
       "      <td>22.580000</td>\n",
       "      <td>25.294247</td>\n",
       "    </tr>\n",
       "    <tr>\n",
       "      <th>2021-03-29</th>\n",
       "      <td>21.730000</td>\n",
       "      <td>25.321976</td>\n",
       "    </tr>\n",
       "    <tr>\n",
       "      <th>2021-03-30</th>\n",
       "      <td>22.040001</td>\n",
       "      <td>25.338137</td>\n",
       "    </tr>\n",
       "    <tr>\n",
       "      <th>2021-03-31</th>\n",
       "      <td>23.290001</td>\n",
       "      <td>25.327774</td>\n",
       "    </tr>\n",
       "    <tr>\n",
       "      <th>2021-04-01</th>\n",
       "      <td>23.070000</td>\n",
       "      <td>25.327929</td>\n",
       "    </tr>\n",
       "  </tbody>\n",
       "</table>\n",
       "</div>"
      ],
      "text/plain": [
       "                 Real  Predicted\n",
       "2021-02-12  31.910000  25.207985\n",
       "2021-02-16  27.840000  25.214903\n",
       "2021-02-17  27.080000  25.231892\n",
       "2021-02-18  25.170000  25.250509\n",
       "2021-02-19  29.000000  25.266737\n",
       "2021-02-22  28.000000  25.314734\n",
       "2021-02-23  26.750000  25.359873\n",
       "2021-02-24  26.389999  25.364981\n",
       "2021-02-25  23.959999  25.370113\n",
       "2021-02-26  23.900000  25.364496\n",
       "2021-03-01  24.809999  25.350821\n",
       "2021-03-02  24.480000  25.337175\n",
       "2021-03-03  23.590000  25.314791\n",
       "2021-03-04  24.730000  25.291224\n",
       "2021-03-05  23.950001  25.293158\n",
       "2021-03-08  22.520000  25.281942\n",
       "2021-03-09  24.260000  25.284830\n",
       "2021-03-10  24.750000  25.287895\n",
       "2021-03-11  26.730000  25.268263\n",
       "2021-03-12  26.920000  25.261086\n",
       "2021-03-15  26.790001  25.240490\n",
       "2021-03-16  25.610001  25.243567\n",
       "2021-03-17  25.209999  25.258701\n",
       "2021-03-18  23.980000  25.237007\n",
       "2021-03-19  24.320000  25.264679\n",
       "2021-03-22  24.219999  25.287685\n",
       "2021-03-23  23.260000  25.273413\n",
       "2021-03-24  21.879999  25.279169\n",
       "2021-03-25  22.580000  25.298811\n",
       "2021-03-26  22.580000  25.294247\n",
       "2021-03-29  21.730000  25.321976\n",
       "2021-03-30  22.040001  25.338137\n",
       "2021-03-31  23.290001  25.327774\n",
       "2021-04-01  23.070000  25.327929"
      ]
     },
     "execution_count": 194,
     "metadata": {},
     "output_type": "execute_result"
    }
   ],
   "source": [
    "# Create a DataFrame of Real and Predicted values\n",
    "stocks = pd.DataFrame({\n",
    "    \"Real\": real_prices.ravel(),\n",
    "    \"Predicted\": predicted_prices.ravel()\n",
    "    }, index = df.index[-len(real_prices): ])\n",
    "stocks"
   ]
  },
  {
   "cell_type": "code",
   "execution_count": 195,
   "metadata": {},
   "outputs": [
    {
     "data": {
      "text/plain": [
       "<matplotlib.axes._subplots.AxesSubplot at 0x1624c5280>"
      ]
     },
     "execution_count": 195,
     "metadata": {},
     "output_type": "execute_result"
    },
    {
     "data": {
      "image/png": "[encoded data removed]",
      "text/plain": [
       "<Figure size 432x288 with 1 Axes>"
      ]
     },
     "metadata": {
      "needs_background": "light"
     },
     "output_type": "display_data"
    }
   ],
   "source": [
    "stocks.plot()"
   ]
  },
  {
   "cell_type": "code",
   "execution_count": null,
   "metadata": {},
   "outputs": [],
   "source": []
  }
 ],
 "metadata": {
  "colab": {
   "collapsed_sections": [],
   "include_colab_link": true,
   "name": "Fintech Project 2 Notebook",
   "provenance": []
  },
  "kernelspec": {
   "display_name": "Python 3",
   "language": "python",
   "name": "python3"
  },
  "language_info": {
   "codemirror_mode": {
    "name": "ipython",
    "version": 3
   },
   "file_extension": ".py",
   "mimetype": "text/x-python",
   "name": "python",
   "nbconvert_exporter": "python",
   "pygments_lexer": "ipython3",
   "version": "3.8.3"
  },
  "metadata": {
   "interpreter": {
    "hash": "aee8b7b246df8f9039afb4144a1f6fd8d2ca17a180786b69acc140d282b71a49"
   }
  }
 },
 "nbformat": 4,
 "nbformat_minor": 4
}
